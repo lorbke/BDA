{
 "cells": [
  {
   "cell_type": "code",
   "execution_count": 30,
   "id": "0b9c99e7-8874-4b56-92c8-ea28c0d8752d",
   "metadata": {},
   "outputs": [],
   "source": [
    "import pandas as pd\n",
    "import numpy as np\n",
    "# import seaborn as sns\n",
    "# import matplotlib.pyplot as plt\n",
    "from scipy.stats import shapiro, normaltest, anderson, spearmanr, kendalltau\n",
    "import pycountry\n",
    "import plotly.express as px\n",
    "import nbformat\n"
   ]
  },
  {
   "cell_type": "markdown",
   "id": "27c1f7f0-df7d-459e-a06c-c0ee43e9eaa2",
   "metadata": {},
   "source": [
    "# Daten einlesen und Ergebnis überprüfem"
   ]
  },
  {
   "cell_type": "code",
   "execution_count": 31,
   "id": "d0c588ea",
   "metadata": {},
   "outputs": [
    {
     "data": {
      "text/html": [
       "<div>\n",
       "<style scoped>\n",
       "    .dataframe tbody tr th:only-of-type {\n",
       "        vertical-align: middle;\n",
       "    }\n",
       "\n",
       "    .dataframe tbody tr th {\n",
       "        vertical-align: top;\n",
       "    }\n",
       "\n",
       "    .dataframe thead th {\n",
       "        text-align: right;\n",
       "    }\n",
       "</style>\n",
       "<table border=\"1\" class=\"dataframe\">\n",
       "  <thead>\n",
       "    <tr style=\"text-align: right;\">\n",
       "      <th></th>\n",
       "      <th>Country Name</th>\n",
       "      <th>Country Code</th>\n",
       "      <th>1960</th>\n",
       "      <th>1961</th>\n",
       "      <th>1962</th>\n",
       "      <th>1963</th>\n",
       "      <th>1964</th>\n",
       "      <th>1965</th>\n",
       "      <th>1966</th>\n",
       "      <th>1967</th>\n",
       "      <th>...</th>\n",
       "      <th>2014</th>\n",
       "      <th>2015</th>\n",
       "      <th>2016</th>\n",
       "      <th>2017</th>\n",
       "      <th>2018</th>\n",
       "      <th>2019</th>\n",
       "      <th>2020</th>\n",
       "      <th>2021</th>\n",
       "      <th>2022</th>\n",
       "      <th>2023</th>\n",
       "    </tr>\n",
       "  </thead>\n",
       "  <tbody>\n",
       "    <tr>\n",
       "      <th>0</th>\n",
       "      <td>Aruba</td>\n",
       "      <td>ABW</td>\n",
       "      <td>NaN</td>\n",
       "      <td>NaN</td>\n",
       "      <td>NaN</td>\n",
       "      <td>NaN</td>\n",
       "      <td>NaN</td>\n",
       "      <td>NaN</td>\n",
       "      <td>NaN</td>\n",
       "      <td>NaN</td>\n",
       "      <td>...</td>\n",
       "      <td>2.184551e+09</td>\n",
       "      <td>2.158564e+09</td>\n",
       "      <td>2.142860e+09</td>\n",
       "      <td>2.243517e+09</td>\n",
       "      <td>2.367134e+09</td>\n",
       "      <td>2.486899e+09</td>\n",
       "      <td>1.315201e+09</td>\n",
       "      <td>2.072292e+09</td>\n",
       "      <td>2.871730e+09</td>\n",
       "      <td>3.223288e+09</td>\n",
       "    </tr>\n",
       "    <tr>\n",
       "      <th>1</th>\n",
       "      <td>Africa Eastern and Southern</td>\n",
       "      <td>AFE</td>\n",
       "      <td>NaN</td>\n",
       "      <td>NaN</td>\n",
       "      <td>NaN</td>\n",
       "      <td>NaN</td>\n",
       "      <td>NaN</td>\n",
       "      <td>NaN</td>\n",
       "      <td>NaN</td>\n",
       "      <td>NaN</td>\n",
       "      <td>...</td>\n",
       "      <td>2.808857e+11</td>\n",
       "      <td>2.167307e+11</td>\n",
       "      <td>1.932475e+11</td>\n",
       "      <td>2.243787e+11</td>\n",
       "      <td>2.571488e+11</td>\n",
       "      <td>2.421184e+11</td>\n",
       "      <td>2.063635e+11</td>\n",
       "      <td>2.824632e+11</td>\n",
       "      <td>3.292074e+11</td>\n",
       "      <td>3.032518e+11</td>\n",
       "    </tr>\n",
       "    <tr>\n",
       "      <th>2</th>\n",
       "      <td>Afghanistan</td>\n",
       "      <td>AFG</td>\n",
       "      <td>2.222223e+07</td>\n",
       "      <td>2.444446e+07</td>\n",
       "      <td>26666680.0</td>\n",
       "      <td>6.888892e+07</td>\n",
       "      <td>7.111114e+07</td>\n",
       "      <td>113333340.0</td>\n",
       "      <td>120000000.0</td>\n",
       "      <td>113333340.0</td>\n",
       "      <td>...</td>\n",
       "      <td>NaN</td>\n",
       "      <td>NaN</td>\n",
       "      <td>NaN</td>\n",
       "      <td>NaN</td>\n",
       "      <td>NaN</td>\n",
       "      <td>NaN</td>\n",
       "      <td>2.079571e+09</td>\n",
       "      <td>2.045190e+09</td>\n",
       "      <td>2.664600e+09</td>\n",
       "      <td>2.890868e+09</td>\n",
       "    </tr>\n",
       "    <tr>\n",
       "      <th>3</th>\n",
       "      <td>Africa Western and Central</td>\n",
       "      <td>AFW</td>\n",
       "      <td>NaN</td>\n",
       "      <td>NaN</td>\n",
       "      <td>NaN</td>\n",
       "      <td>NaN</td>\n",
       "      <td>NaN</td>\n",
       "      <td>NaN</td>\n",
       "      <td>NaN</td>\n",
       "      <td>NaN</td>\n",
       "      <td>...</td>\n",
       "      <td>NaN</td>\n",
       "      <td>NaN</td>\n",
       "      <td>NaN</td>\n",
       "      <td>NaN</td>\n",
       "      <td>NaN</td>\n",
       "      <td>NaN</td>\n",
       "      <td>NaN</td>\n",
       "      <td>NaN</td>\n",
       "      <td>NaN</td>\n",
       "      <td>NaN</td>\n",
       "    </tr>\n",
       "    <tr>\n",
       "      <th>4</th>\n",
       "      <td>Angola</td>\n",
       "      <td>AGO</td>\n",
       "      <td>NaN</td>\n",
       "      <td>NaN</td>\n",
       "      <td>NaN</td>\n",
       "      <td>NaN</td>\n",
       "      <td>NaN</td>\n",
       "      <td>NaN</td>\n",
       "      <td>NaN</td>\n",
       "      <td>NaN</td>\n",
       "      <td>...</td>\n",
       "      <td>6.077040e+10</td>\n",
       "      <td>2.692685e+10</td>\n",
       "      <td>1.483893e+10</td>\n",
       "      <td>2.137317e+10</td>\n",
       "      <td>3.244471e+10</td>\n",
       "      <td>2.891981e+10</td>\n",
       "      <td>1.858315e+10</td>\n",
       "      <td>3.175306e+10</td>\n",
       "      <td>4.634476e+10</td>\n",
       "      <td>3.465662e+10</td>\n",
       "    </tr>\n",
       "  </tbody>\n",
       "</table>\n",
       "<p>5 rows × 66 columns</p>\n",
       "</div>"
      ],
      "text/plain": [
       "                  Country Name Country Code          1960          1961  \\\n",
       "0                        Aruba          ABW           NaN           NaN   \n",
       "1  Africa Eastern and Southern          AFE           NaN           NaN   \n",
       "2                  Afghanistan          AFG  2.222223e+07  2.444446e+07   \n",
       "3   Africa Western and Central          AFW           NaN           NaN   \n",
       "4                       Angola          AGO           NaN           NaN   \n",
       "\n",
       "         1962          1963          1964         1965         1966  \\\n",
       "0         NaN           NaN           NaN          NaN          NaN   \n",
       "1         NaN           NaN           NaN          NaN          NaN   \n",
       "2  26666680.0  6.888892e+07  7.111114e+07  113333340.0  120000000.0   \n",
       "3         NaN           NaN           NaN          NaN          NaN   \n",
       "4         NaN           NaN           NaN          NaN          NaN   \n",
       "\n",
       "          1967  ...          2014          2015          2016          2017  \\\n",
       "0          NaN  ...  2.184551e+09  2.158564e+09  2.142860e+09  2.243517e+09   \n",
       "1          NaN  ...  2.808857e+11  2.167307e+11  1.932475e+11  2.243787e+11   \n",
       "2  113333340.0  ...           NaN           NaN           NaN           NaN   \n",
       "3          NaN  ...           NaN           NaN           NaN           NaN   \n",
       "4          NaN  ...  6.077040e+10  2.692685e+10  1.483893e+10  2.137317e+10   \n",
       "\n",
       "           2018          2019          2020          2021          2022  \\\n",
       "0  2.367134e+09  2.486899e+09  1.315201e+09  2.072292e+09  2.871730e+09   \n",
       "1  2.571488e+11  2.421184e+11  2.063635e+11  2.824632e+11  3.292074e+11   \n",
       "2           NaN           NaN  2.079571e+09  2.045190e+09  2.664600e+09   \n",
       "3           NaN           NaN           NaN           NaN           NaN   \n",
       "4  3.244471e+10  2.891981e+10  1.858315e+10  3.175306e+10  4.634476e+10   \n",
       "\n",
       "           2023  \n",
       "0  3.223288e+09  \n",
       "1  3.032518e+11  \n",
       "2  2.890868e+09  \n",
       "3           NaN  \n",
       "4  3.465662e+10  \n",
       "\n",
       "[5 rows x 66 columns]"
      ]
     },
     "execution_count": 31,
     "metadata": {},
     "output_type": "execute_result"
    }
   ],
   "source": [
    "df_export = pd.read_csv(\"data/exports.csv\", sep=',', skiprows=4)\n",
    "df_export = df_export.drop(columns=[\"Indicator Name\", \"Indicator Code\", \"2024\", \"Unnamed: 69\"])\n",
    "df_export.head()\n"
   ]
  },
  {
   "cell_type": "code",
   "execution_count": 32,
   "id": "d389e940-c736-4785-a6f3-4f855f05185b",
   "metadata": {},
   "outputs": [
    {
     "data": {
      "text/html": [
       "<div>\n",
       "<style scoped>\n",
       "    .dataframe tbody tr th:only-of-type {\n",
       "        vertical-align: middle;\n",
       "    }\n",
       "\n",
       "    .dataframe tbody tr th {\n",
       "        vertical-align: top;\n",
       "    }\n",
       "\n",
       "    .dataframe thead th {\n",
       "        text-align: right;\n",
       "    }\n",
       "</style>\n",
       "<table border=\"1\" class=\"dataframe\">\n",
       "  <thead>\n",
       "    <tr style=\"text-align: right;\">\n",
       "      <th></th>\n",
       "      <th>Country Name</th>\n",
       "      <th>Country Code</th>\n",
       "      <th>1960</th>\n",
       "      <th>1961</th>\n",
       "      <th>1962</th>\n",
       "      <th>1963</th>\n",
       "      <th>1964</th>\n",
       "      <th>1965</th>\n",
       "      <th>1966</th>\n",
       "      <th>1967</th>\n",
       "      <th>...</th>\n",
       "      <th>2014</th>\n",
       "      <th>2015</th>\n",
       "      <th>2016</th>\n",
       "      <th>2017</th>\n",
       "      <th>2018</th>\n",
       "      <th>2019</th>\n",
       "      <th>2020</th>\n",
       "      <th>2021</th>\n",
       "      <th>2022</th>\n",
       "      <th>2023</th>\n",
       "    </tr>\n",
       "  </thead>\n",
       "  <tbody>\n",
       "    <tr>\n",
       "      <th>0</th>\n",
       "      <td>Aruba</td>\n",
       "      <td>ABW</td>\n",
       "      <td>NaN</td>\n",
       "      <td>NaN</td>\n",
       "      <td>NaN</td>\n",
       "      <td>NaN</td>\n",
       "      <td>NaN</td>\n",
       "      <td>NaN</td>\n",
       "      <td>NaN</td>\n",
       "      <td>NaN</td>\n",
       "      <td>...</td>\n",
       "      <td>NaN</td>\n",
       "      <td>NaN</td>\n",
       "      <td>NaN</td>\n",
       "      <td>NaN</td>\n",
       "      <td>NaN</td>\n",
       "      <td>NaN</td>\n",
       "      <td>NaN</td>\n",
       "      <td>NaN</td>\n",
       "      <td>NaN</td>\n",
       "      <td>NaN</td>\n",
       "    </tr>\n",
       "    <tr>\n",
       "      <th>1</th>\n",
       "      <td>Africa Eastern and Southern</td>\n",
       "      <td>AFE</td>\n",
       "      <td>NaN</td>\n",
       "      <td>NaN</td>\n",
       "      <td>NaN</td>\n",
       "      <td>3.219951e+08</td>\n",
       "      <td>4.398005e+08</td>\n",
       "      <td>5.239918e+08</td>\n",
       "      <td>5.631079e+08</td>\n",
       "      <td>5.992006e+08</td>\n",
       "      <td>...</td>\n",
       "      <td>1.682935e+10</td>\n",
       "      <td>1.538332e+10</td>\n",
       "      <td>1.365941e+10</td>\n",
       "      <td>1.617268e+10</td>\n",
       "      <td>1.227049e+10</td>\n",
       "      <td>1.169172e+10</td>\n",
       "      <td>1.119335e+10</td>\n",
       "      <td>1.143168e+10</td>\n",
       "      <td>1.212065e+10</td>\n",
       "      <td>1.337060e+10</td>\n",
       "    </tr>\n",
       "    <tr>\n",
       "      <th>2</th>\n",
       "      <td>Afghanistan</td>\n",
       "      <td>AFG</td>\n",
       "      <td>NaN</td>\n",
       "      <td>NaN</td>\n",
       "      <td>NaN</td>\n",
       "      <td>NaN</td>\n",
       "      <td>NaN</td>\n",
       "      <td>NaN</td>\n",
       "      <td>NaN</td>\n",
       "      <td>NaN</td>\n",
       "      <td>...</td>\n",
       "      <td>2.682388e+08</td>\n",
       "      <td>1.995171e+08</td>\n",
       "      <td>1.858783e+08</td>\n",
       "      <td>1.914071e+08</td>\n",
       "      <td>1.980747e+08</td>\n",
       "      <td>2.263062e+08</td>\n",
       "      <td>2.795770e+08</td>\n",
       "      <td>2.782508e+08</td>\n",
       "      <td>NaN</td>\n",
       "      <td>NaN</td>\n",
       "    </tr>\n",
       "    <tr>\n",
       "      <th>3</th>\n",
       "      <td>Africa Western and Central</td>\n",
       "      <td>AFW</td>\n",
       "      <td>NaN</td>\n",
       "      <td>6.573052e+07</td>\n",
       "      <td>9.002825e+07</td>\n",
       "      <td>1.005711e+08</td>\n",
       "      <td>1.188867e+08</td>\n",
       "      <td>1.456340e+08</td>\n",
       "      <td>1.507266e+08</td>\n",
       "      <td>2.794051e+08</td>\n",
       "      <td>...</td>\n",
       "      <td>6.451565e+09</td>\n",
       "      <td>5.016333e+09</td>\n",
       "      <td>5.575535e+09</td>\n",
       "      <td>5.510401e+09</td>\n",
       "      <td>6.325122e+09</td>\n",
       "      <td>6.166715e+09</td>\n",
       "      <td>7.186733e+09</td>\n",
       "      <td>9.697806e+09</td>\n",
       "      <td>8.472734e+09</td>\n",
       "      <td>9.463191e+09</td>\n",
       "    </tr>\n",
       "    <tr>\n",
       "      <th>4</th>\n",
       "      <td>Angola</td>\n",
       "      <td>AGO</td>\n",
       "      <td>NaN</td>\n",
       "      <td>NaN</td>\n",
       "      <td>NaN</td>\n",
       "      <td>NaN</td>\n",
       "      <td>NaN</td>\n",
       "      <td>NaN</td>\n",
       "      <td>NaN</td>\n",
       "      <td>NaN</td>\n",
       "      <td>...</td>\n",
       "      <td>6.846249e+09</td>\n",
       "      <td>3.608299e+09</td>\n",
       "      <td>2.764055e+09</td>\n",
       "      <td>3.062873e+09</td>\n",
       "      <td>1.983614e+09</td>\n",
       "      <td>1.470939e+09</td>\n",
       "      <td>9.935944e+08</td>\n",
       "      <td>9.814510e+08</td>\n",
       "      <td>1.622764e+09</td>\n",
       "      <td>1.270158e+09</td>\n",
       "    </tr>\n",
       "  </tbody>\n",
       "</table>\n",
       "<p>5 rows × 66 columns</p>\n",
       "</div>"
      ],
      "text/plain": [
       "                  Country Name Country Code  1960          1961          1962  \\\n",
       "0                        Aruba          ABW   NaN           NaN           NaN   \n",
       "1  Africa Eastern and Southern          AFE   NaN           NaN           NaN   \n",
       "2                  Afghanistan          AFG   NaN           NaN           NaN   \n",
       "3   Africa Western and Central          AFW   NaN  6.573052e+07  9.002825e+07   \n",
       "4                       Angola          AGO   NaN           NaN           NaN   \n",
       "\n",
       "           1963          1964          1965          1966          1967  ...  \\\n",
       "0           NaN           NaN           NaN           NaN           NaN  ...   \n",
       "1  3.219951e+08  4.398005e+08  5.239918e+08  5.631079e+08  5.992006e+08  ...   \n",
       "2           NaN           NaN           NaN           NaN           NaN  ...   \n",
       "3  1.005711e+08  1.188867e+08  1.456340e+08  1.507266e+08  2.794051e+08  ...   \n",
       "4           NaN           NaN           NaN           NaN           NaN  ...   \n",
       "\n",
       "           2014          2015          2016          2017          2018  \\\n",
       "0           NaN           NaN           NaN           NaN           NaN   \n",
       "1  1.682935e+10  1.538332e+10  1.365941e+10  1.617268e+10  1.227049e+10   \n",
       "2  2.682388e+08  1.995171e+08  1.858783e+08  1.914071e+08  1.980747e+08   \n",
       "3  6.451565e+09  5.016333e+09  5.575535e+09  5.510401e+09  6.325122e+09   \n",
       "4  6.846249e+09  3.608299e+09  2.764055e+09  3.062873e+09  1.983614e+09   \n",
       "\n",
       "           2019          2020          2021          2022          2023  \n",
       "0           NaN           NaN           NaN           NaN           NaN  \n",
       "1  1.169172e+10  1.119335e+10  1.143168e+10  1.212065e+10  1.337060e+10  \n",
       "2  2.263062e+08  2.795770e+08  2.782508e+08           NaN           NaN  \n",
       "3  6.166715e+09  7.186733e+09  9.697806e+09  8.472734e+09  9.463191e+09  \n",
       "4  1.470939e+09  9.935944e+08  9.814510e+08  1.622764e+09  1.270158e+09  \n",
       "\n",
       "[5 rows x 66 columns]"
      ]
     },
     "execution_count": 32,
     "metadata": {},
     "output_type": "execute_result"
    }
   ],
   "source": [
    "df_military = pd.read_csv(\"data/military_expenditure.csv\", sep=',', skiprows=4)\n",
    "df_military = df_military.drop(columns=[\"Indicator Name\", \"Indicator Code\", \"2024\", \"Unnamed: 69\"])\n",
    "df_military.head()"
   ]
  },
  {
   "cell_type": "markdown",
   "id": "cd84803e",
   "metadata": {},
   "source": [
    "# Länder filtern\n",
    "#### nicht Länder werden aussortiert und fälschlich aussortierte wieder einsortiert\n",
    "#### Länder ohne Daten werden auch rausgefiltert"
   ]
  },
  {
   "cell_type": "code",
   "execution_count": 33,
   "id": "44f4d84b-b77e-44b1-8fe2-a93d0e178166",
   "metadata": {},
   "outputs": [],
   "source": [
    "non_country_keywords = [\n",
    "    \"Africa\", \"Europe\", \"America\", \"Asia\", \"Oceania\", \"Arab\", \"World\",\n",
    "    \"High income\", \"Low income\", \"Middle income\", \"Euro area\", \"OECD\", \"IDA\",\n",
    "    \"IBRD\", \"G7\", \"G20\", \"Least developed\", \"Landlocked\", \"Small states\", \"Sub-Saharan\",\n",
    "    \"Heavily indebted\", \"demographic dividend\", \"middle income\", \"Other\"\n",
    "]\n",
    "\n",
    "allowlist = {\n",
    "    \"Egypt, Arab Rep.\", \"Saudi Arabia\", \"South Africa\",\n",
    "    \"Syrian Arab Republic\", \"United Arab Emirates\", \"Central African Republic\"\n",
    "}"
   ]
  },
  {
   "cell_type": "code",
   "execution_count": 34,
   "id": "4df2273a",
   "metadata": {},
   "outputs": [],
   "source": [
    "def is_region_or_group(name):\n",
    "    return (\n",
    "        any(keyword in str(name) for keyword in non_country_keywords)\n",
    "        and name not in allowlist\n",
    "    )"
   ]
  },
  {
   "cell_type": "code",
   "execution_count": 35,
   "id": "17e3a6ae-2397-4f4a-bbea-dd2fec2e0b05",
   "metadata": {},
   "outputs": [],
   "source": [
    "def clean_df(df):\n",
    "    df = df[~df[\"Country Name\"].apply(is_region_or_group)]\n",
    "    mask = (df.iloc[:, 3:].fillna(0) != 0).any(axis=1)\n",
    "    df = df[mask].reset_index(drop=True)\n",
    "    return df"
   ]
  },
  {
   "cell_type": "markdown",
   "id": "31d1ee00",
   "metadata": {},
   "source": [
    "#### Überprüfen ob nach dem Bereinigen des Datensatzes die übrigen Länder in beiden Datensätzen vorkommen, falls nicht werden sie aussortiert"
   ]
  },
  {
   "cell_type": "code",
   "execution_count": 36,
   "id": "a36c2f78",
   "metadata": {},
   "outputs": [],
   "source": [
    "def filter_for_same_columns(df1, df2):\n",
    "    set1 = set(df1[\"Country Name\"])\n",
    "    set2 = set(df2[\"Country Name\"])\n",
    "\n",
    "    common = set1 & set2\n",
    "\n",
    "    df1_clean = df1[df1[\"Country Name\"].isin(common)].reset_index(drop=True)\n",
    "    df2_clean = df2[df2[\"Country Name\"].isin(common)].reset_index(drop=True)\n",
    "    return df1_clean, df2_clean\n"
   ]
  },
  {
   "cell_type": "code",
   "execution_count": 37,
   "id": "21e9e29b",
   "metadata": {},
   "outputs": [],
   "source": [
    "df_export = clean_df(df_export)\n"
   ]
  },
  {
   "cell_type": "code",
   "execution_count": 38,
   "id": "cbdaa7ee",
   "metadata": {},
   "outputs": [],
   "source": [
    "df_military = clean_df(df_military)\n"
   ]
  },
  {
   "cell_type": "code",
   "execution_count": 39,
   "id": "67e3c5b9",
   "metadata": {},
   "outputs": [],
   "source": [
    "df_export, df_military = filter_for_same_columns(df_export, df_military)"
   ]
  },
  {
   "cell_type": "markdown",
   "id": "66383ef0",
   "metadata": {},
   "source": [
    "# Spearman Korrelation Export-Militärausgaben"
   ]
  },
  {
   "cell_type": "code",
   "execution_count": 40,
   "id": "f0c12b5f",
   "metadata": {},
   "outputs": [
    {
     "name": "stdout",
     "output_type": "stream",
     "text": [
      "               Country Name  n Jahre  Spearman ρ  p-Spearman  Kendall τ_b  \\\n",
      "0                 Singapore       54       0.992       0.000        0.950   \n",
      "1                     China       35       0.991       0.000        0.946   \n",
      "2                 Australia       64       0.991       0.000        0.937   \n",
      "3                Bangladesh       51       0.991       0.000        0.944   \n",
      "4                    Mexico       64       0.991       0.000        0.933   \n",
      "..                      ...      ...         ...         ...          ...   \n",
      "152                  Guyana       30      -0.160       0.398       -0.076   \n",
      "153             South Sudan        8      -0.262       0.531       -0.071   \n",
      "154                 Lao PDR       22      -0.412       0.057       -0.177   \n",
      "155  Bosnia and Herzegovina       22      -0.486       0.022       -0.333   \n",
      "156                 Eritrea       11      -0.755       0.007       -0.600   \n",
      "\n",
      "     p-Kendall  \n",
      "0        0.000  \n",
      "1        0.000  \n",
      "2        0.000  \n",
      "3        0.000  \n",
      "4        0.000  \n",
      "..         ...  \n",
      "152      0.571  \n",
      "153      0.905  \n",
      "154      0.263  \n",
      "155      0.031  \n",
      "156      0.010  \n",
      "\n",
      "[157 rows x 6 columns]\n"
     ]
    }
   ],
   "source": [
    "df = df_export.merge(df_military, on=\"Country Name\", suffixes=(\"_exp\", \"_mil\"))\n",
    "\n",
    "years = [c for c in df_export.columns if c.isdigit() and c in df_military.columns]\n",
    "\n",
    "results = []\n",
    "for _, row in df.iterrows():\n",
    "    country = row[\"Country Name\"]\n",
    "\n",
    "    x = pd.to_numeric(row[[f\"{y}_exp\" for y in years]], errors=\"coerce\").to_numpy()\n",
    "    y = pd.to_numeric(row[[f\"{y}_mil\" for y in years]], errors=\"coerce\").to_numpy()\n",
    "    \n",
    "    mask = (~np.isnan(x)) & (x != 0) & (~np.isnan(y)) & (y != 0)\n",
    "    x_valid = x[mask]\n",
    "    y_valid = y[mask]\n",
    "    if len(x_valid) < 3:\n",
    "        continue\n",
    "    \n",
    "    # Spearman ρ\n",
    "    rho, p_s = spearmanr(x_valid, y_valid)\n",
    "    # Kendall's τ_b\n",
    "    tau, p_k = kendalltau(x_valid, y_valid)\n",
    "    \n",
    "    results.append({\n",
    "        \"Country Name\": country,\n",
    "        \"n Jahre\": len(x_valid),\n",
    "        \"Spearman ρ\": round(rho, 3),\n",
    "        \"p-Spearman\": round(p_s, 3),\n",
    "        \"Kendall τ_b\": round(tau, 3),\n",
    "        \"p-Kendall\": round(p_k, 3)\n",
    "    })\n",
    "\n",
    "df_country_corr = pd.DataFrame(results) \\\n",
    "    .sort_values(\"Spearman ρ\", ascending=False) \\\n",
    "    .reset_index(drop=True)\n",
    "\n",
    "print(df_country_corr)\n",
    "df_country_corr.to_csv(\"results/spearman_export_correlations.csv\", index=False)\n"
   ]
  },
  {
   "cell_type": "markdown",
   "id": "d48a45a0",
   "metadata": {},
   "source": [
    "# Interaktive Weltkarte\n",
    "#### auf dieser Weltkarte sind für alle Länder welche genügend Daten haben die Korrealtion zwischen ihren Exporten und Militärausgaben aufgezeigt"
   ]
  },
  {
   "cell_type": "code",
   "execution_count": 41,
   "id": "543a78f8",
   "metadata": {},
   "outputs": [
    {
     "data": {
      "application/vnd.plotly.v1+json": {
       "config": {
        "plotlyServerURL": "https://plot.ly"
       },
       "data": [
        {
         "coloraxis": "coloraxis",
         "geo": "geo",
         "hovertemplate": "<b>%{hovertext}</b><br><br>iso_a3=%{location}<br>Spearman ρ=%{z}<extra></extra>",
         "hovertext": [
          "Singapore",
          "China",
          "Australia",
          "Bangladesh",
          "Mexico",
          "Luxembourg",
          "India",
          "Poland",
          "Morocco",
          "Pakistan",
          "Estonia",
          "Ecuador",
          "Colombia",
          "Israel",
          "Nepal",
          "Denmark",
          "Afghanistan",
          "Sri Lanka",
          "Mali",
          "Burkina Faso",
          "Greece",
          "France",
          "United Arab Emirates",
          "Austria",
          "Malaysia",
          "Qatar",
          "Norway",
          "New Zealand",
          "Brazil",
          "Malta",
          "Benin",
          "Canada",
          "Thailand",
          "Armenia",
          "Oman",
          "United States",
          "Netherlands",
          "Philippines",
          "Sweden",
          "Azerbaijan",
          "Portugal",
          "Tunisia",
          "Tanzania",
          "Finland",
          "Italy",
          "Gabon",
          "Bolivia",
          "Chile",
          "Moldova",
          "Belize",
          "United Kingdom",
          "Spain",
          "Japan",
          "Bahrain",
          "Lithuania",
          "Honduras",
          "Ireland",
          "Togo",
          "Mauritius",
          "Dominican Republic",
          "Botswana",
          "Peru",
          "Romania",
          "Germany",
          "Belarus",
          "Switzerland",
          "Cameroon",
          "Sudan",
          "Algeria",
          "Latvia",
          "Saudi Arabia",
          "Kenya",
          "Kyrgyz Republic",
          "Belgium",
          "Fiji",
          "Uruguay",
          "Albania",
          "Uganda",
          "Guinea",
          "Russian Federation",
          "Viet Nam",
          "Slovak Republic",
          "Jamaica",
          "Mozambique",
          "Paraguay",
          "Mongolia",
          "Somalia",
          "Cabo Verde",
          "Hungary",
          "Senegal",
          "Jordan",
          "Ukraine",
          "Czechia",
          "Madagascar",
          "Guatemala",
          "Iraq",
          "Kazakhstan",
          "Zambia",
          "Bulgaria",
          "Lebanon",
          "Niger",
          "Mauritania",
          "Cambodia",
          "Indonesia",
          "Slovenia",
          "Brunei Darussalam",
          "El Salvador",
          "Timor-Leste",
          "Ethiopia",
          "South Africa",
          "Namibia",
          "Angola",
          "Central African Republic",
          "Serbia",
          "Chad",
          "Burundi",
          "Lesotho",
          "Guinea-Bissau",
          "Sierra Leone",
          "Nicaragua",
          "Tajikistan",
          "Haiti",
          "Argentina",
          "Kuwait",
          "Georgia",
          "Ghana",
          "Rwanda",
          "Cyprus",
          "Syrian Arab Republic",
          "Montenegro",
          "Uzbekistan",
          "Seychelles",
          "Cuba",
          "Papua New Guinea",
          "North Macedonia",
          "Equatorial Guinea",
          "Panama",
          "Croatia",
          "Zimbabwe",
          "Libya",
          "Turkmenistan",
          "Guyana",
          "South Sudan",
          "Bosnia and Herzegovina",
          "Eritrea"
         ],
         "locations": [
          "SGP",
          "CHN",
          "AUS",
          "BGD",
          "MEX",
          "LUX",
          "IND",
          "POL",
          "MAR",
          "PAK",
          "EST",
          "ECU",
          "COL",
          "ISR",
          "NPL",
          "DNK",
          "AFG",
          "LKA",
          "MLI",
          "BFA",
          "GRC",
          "FRA",
          "ARE",
          "AUT",
          "MYS",
          "QAT",
          "NOR",
          "NZL",
          "BRA",
          "MLT",
          "BEN",
          "CAN",
          "THA",
          "ARM",
          "OMN",
          "USA",
          "NLD",
          "PHL",
          "SWE",
          "AZE",
          "PRT",
          "TUN",
          "TZA",
          "FIN",
          "ITA",
          "GAB",
          "BOL",
          "CHL",
          "MDA",
          "BLZ",
          "GBR",
          "ESP",
          "JPN",
          "BHR",
          "LTU",
          "HND",
          "IRL",
          "TGO",
          "MUS",
          "DOM",
          "BWA",
          "PER",
          "ROU",
          "DEU",
          "BLR",
          "CHE",
          "CMR",
          "SDN",
          "DZA",
          "LVA",
          "SAU",
          "KEN",
          "KGZ",
          "BEL",
          "FJI",
          "URY",
          "ALB",
          "UGA",
          "GIN",
          "RUS",
          "VNM",
          "SVK",
          "JAM",
          "MOZ",
          "PRY",
          "MNG",
          "SOM",
          "CPV",
          "HUN",
          "SEN",
          "JOR",
          "UKR",
          "CZE",
          "MDG",
          "GTM",
          "IRQ",
          "KAZ",
          "ZMB",
          "BGR",
          "LBN",
          "NER",
          "MRT",
          "KHM",
          "IDN",
          "SVN",
          "BRN",
          "SLV",
          "TLS",
          "ETH",
          "ZAF",
          "NAM",
          "AGO",
          "CAF",
          "SRB",
          "TCD",
          "BDI",
          "LSO",
          "GNB",
          "SLE",
          "NIC",
          "TJK",
          "HTI",
          "ARG",
          "KWT",
          "GEO",
          "GHA",
          "RWA",
          "CYP",
          "SYR",
          "MNE",
          "UZB",
          "SYC",
          "CUB",
          "PNG",
          "MKD",
          "GNQ",
          "PAN",
          "HRV",
          "ZWE",
          "LBY",
          "TKM",
          "GUY",
          "SSD",
          "BIH",
          "ERI"
         ],
         "name": "",
         "type": "choropleth",
         "z": {
          "bdata": "WDm0yHa+7z+DwMqhRbbvP4PAyqFFtu8/g8DKoUW27z+DwMqhRbbvP9nO91Pjpe8/2c73U+Ol7z+F61G4HoXvP7ByaJHtfO8/BoGVQ4ts7z8GgZVDi2zvPzEIrBxaZO8/XI/C9Shc7z+HFtnO91PvP7Kd76fGS+8/3SQGgZVD7z8IrBxaZDvvP4lBYOXQIu8/iUFg5dAi7z/fT42XbhLvPzVeukkMAu8/NV66SQwC7z81XrpJDALvP4ts5/up8e4/4XoUrkfh7j8MAiuHFtnuPwwCK4cW2e4/DAIrhxbZ7j8MAiuHFtnuPzm0yHa+n+4/ZDvfT42X7j9kO99PjZfuP2Q730+Nl+4/j8L1KFyP7j+6SQwCK4fuPzvfT42Xbu4/O99PjZdu7j9mZmZmZmbuP2ZmZmZmZu4/ke18PzVe7j+R7Xw/NV7uP5HtfD81Xu4/ke18PzVe7j+R7Xw/NV7uP7x0kxgEVu4/vHSTGARW7j/n+6nx0k3uP+f7qfHSTe4/PQrXo3A97j89CtejcD3uP5MYBFYOLe4/kxgEVg4t7j++nxov3STuP+kmMQisHO4/wcqhRbbz7T8X2c73U+PtP23n+6nx0u0/bef7qfHS7T+YbhKDwMrtP8UgsHJoke0/8KfGSzeJ7T8bL90kBoHtP8dLN4lBYO0/8tJNYhBY7T8dWmQ730/tP0jhehSuR+0/SOF6FK5H7T/0/dR46SbtP3WTGARWDu0/IbByaJHt7D8hsHJoke3sP3e+nxov3ew/+FPjpZvE7D8lBoGVQ4vsP1CNl24Sg+w/UI2XbhKD7D/8qfHSTWLsP6jGSzeJQew//tR46SYx7D8pXI/C9SjsP6rx0k1iEOw/AAAAAAAA7D+BlUOLbOfrPwIrhxbZzus/WDm0yHa+6z/ZzvdT46XrP9v5fmq8dOs/BoGVQ4ts6z/dJAaBlUPrPwisHFpkO+s/MzMzMzMz6z9eukkMAivrP7TIdr6fGus/CtejcD0K6z+LbOf7qfHqPwwCK4cW2eo/N4lBYOXQ6j+Nl24Sg8DqP5HtfD81Xuo/PzVeukkM6j8X2c73U+PpP23n+6nx0uk/RIts5/up6T+amZmZmZnpP/YoXI/C9eg/IbByaJHt6D+iRbbz/dToP83MzMzMzOg/zczMzMzM6D8nMQisHFroP1K4HoXrUeg/f2q8dJMY6D9aZDvfT43nP4lBYOXQIuc/tMh2vp8a5z83iUFg5dDmP2Q730+Nl+Y/5dAi2/l+5j/n+6nx0k3mP0SLbOf7qeU/bxKDwMqh5T/FILByaJHlP8/3U+Olm+Q/LbKd76fG4z8K16NwPQrjPzeJQWDl0OI/N4lBYOXQ4j8Sg8DKoUXiPxfZzvdT4+E/QmDl0CLb4T/0/dR46SbhPyUGgZVDi+A/AAAAAAAA4D+4HoXrUbjeP8l2vp8aL90/KVyPwvUo3D+oxks3iUHYPylcj8L1KLw/g8DKoUW2sz/8qfHSTWJwv+f7qfHSTcK/exSuR+F6xL/4U+Olm8TQv7TIdr6fGt+/KVyPwvUo6L8=",
          "dtype": "f8"
         }
        }
       ],
       "layout": {
        "coloraxis": {
         "colorbar": {
          "title": {
           "text": "Spearman ρ"
          }
         },
         "colorscale": [
          [
           0,
           "rgb(255,247,236)"
          ],
          [
           0.125,
           "rgb(254,232,200)"
          ],
          [
           0.25,
           "rgb(253,212,158)"
          ],
          [
           0.375,
           "rgb(253,187,132)"
          ],
          [
           0.5,
           "rgb(252,141,89)"
          ],
          [
           0.625,
           "rgb(239,101,72)"
          ],
          [
           0.75,
           "rgb(215,48,31)"
          ],
          [
           0.875,
           "rgb(179,0,0)"
          ],
          [
           1,
           "rgb(127,0,0)"
          ]
         ]
        },
        "geo": {
         "center": {},
         "domain": {
          "x": [
           0,
           1
          ],
          "y": [
           0,
           1
          ]
         },
         "fitbounds": "locations",
         "projection": {
          "type": "natural earth"
         },
         "showcoastlines": true,
         "showland": true
        },
        "legend": {
         "tracegroupgap": 0
        },
        "margin": {
         "b": 0,
         "l": 0,
         "r": 0,
         "t": 40
        },
        "template": {
         "data": {
          "bar": [
           {
            "error_x": {
             "color": "#2a3f5f"
            },
            "error_y": {
             "color": "#2a3f5f"
            },
            "marker": {
             "line": {
              "color": "#E5ECF6",
              "width": 0.5
             },
             "pattern": {
              "fillmode": "overlay",
              "size": 10,
              "solidity": 0.2
             }
            },
            "type": "bar"
           }
          ],
          "barpolar": [
           {
            "marker": {
             "line": {
              "color": "#E5ECF6",
              "width": 0.5
             },
             "pattern": {
              "fillmode": "overlay",
              "size": 10,
              "solidity": 0.2
             }
            },
            "type": "barpolar"
           }
          ],
          "carpet": [
           {
            "aaxis": {
             "endlinecolor": "#2a3f5f",
             "gridcolor": "white",
             "linecolor": "white",
             "minorgridcolor": "white",
             "startlinecolor": "#2a3f5f"
            },
            "baxis": {
             "endlinecolor": "#2a3f5f",
             "gridcolor": "white",
             "linecolor": "white",
             "minorgridcolor": "white",
             "startlinecolor": "#2a3f5f"
            },
            "type": "carpet"
           }
          ],
          "choropleth": [
           {
            "colorbar": {
             "outlinewidth": 0,
             "ticks": ""
            },
            "type": "choropleth"
           }
          ],
          "contour": [
           {
            "colorbar": {
             "outlinewidth": 0,
             "ticks": ""
            },
            "colorscale": [
             [
              0,
              "#0d0887"
             ],
             [
              0.1111111111111111,
              "#46039f"
             ],
             [
              0.2222222222222222,
              "#7201a8"
             ],
             [
              0.3333333333333333,
              "#9c179e"
             ],
             [
              0.4444444444444444,
              "#bd3786"
             ],
             [
              0.5555555555555556,
              "#d8576b"
             ],
             [
              0.6666666666666666,
              "#ed7953"
             ],
             [
              0.7777777777777778,
              "#fb9f3a"
             ],
             [
              0.8888888888888888,
              "#fdca26"
             ],
             [
              1,
              "#f0f921"
             ]
            ],
            "type": "contour"
           }
          ],
          "contourcarpet": [
           {
            "colorbar": {
             "outlinewidth": 0,
             "ticks": ""
            },
            "type": "contourcarpet"
           }
          ],
          "heatmap": [
           {
            "colorbar": {
             "outlinewidth": 0,
             "ticks": ""
            },
            "colorscale": [
             [
              0,
              "#0d0887"
             ],
             [
              0.1111111111111111,
              "#46039f"
             ],
             [
              0.2222222222222222,
              "#7201a8"
             ],
             [
              0.3333333333333333,
              "#9c179e"
             ],
             [
              0.4444444444444444,
              "#bd3786"
             ],
             [
              0.5555555555555556,
              "#d8576b"
             ],
             [
              0.6666666666666666,
              "#ed7953"
             ],
             [
              0.7777777777777778,
              "#fb9f3a"
             ],
             [
              0.8888888888888888,
              "#fdca26"
             ],
             [
              1,
              "#f0f921"
             ]
            ],
            "type": "heatmap"
           }
          ],
          "histogram": [
           {
            "marker": {
             "pattern": {
              "fillmode": "overlay",
              "size": 10,
              "solidity": 0.2
             }
            },
            "type": "histogram"
           }
          ],
          "histogram2d": [
           {
            "colorbar": {
             "outlinewidth": 0,
             "ticks": ""
            },
            "colorscale": [
             [
              0,
              "#0d0887"
             ],
             [
              0.1111111111111111,
              "#46039f"
             ],
             [
              0.2222222222222222,
              "#7201a8"
             ],
             [
              0.3333333333333333,
              "#9c179e"
             ],
             [
              0.4444444444444444,
              "#bd3786"
             ],
             [
              0.5555555555555556,
              "#d8576b"
             ],
             [
              0.6666666666666666,
              "#ed7953"
             ],
             [
              0.7777777777777778,
              "#fb9f3a"
             ],
             [
              0.8888888888888888,
              "#fdca26"
             ],
             [
              1,
              "#f0f921"
             ]
            ],
            "type": "histogram2d"
           }
          ],
          "histogram2dcontour": [
           {
            "colorbar": {
             "outlinewidth": 0,
             "ticks": ""
            },
            "colorscale": [
             [
              0,
              "#0d0887"
             ],
             [
              0.1111111111111111,
              "#46039f"
             ],
             [
              0.2222222222222222,
              "#7201a8"
             ],
             [
              0.3333333333333333,
              "#9c179e"
             ],
             [
              0.4444444444444444,
              "#bd3786"
             ],
             [
              0.5555555555555556,
              "#d8576b"
             ],
             [
              0.6666666666666666,
              "#ed7953"
             ],
             [
              0.7777777777777778,
              "#fb9f3a"
             ],
             [
              0.8888888888888888,
              "#fdca26"
             ],
             [
              1,
              "#f0f921"
             ]
            ],
            "type": "histogram2dcontour"
           }
          ],
          "mesh3d": [
           {
            "colorbar": {
             "outlinewidth": 0,
             "ticks": ""
            },
            "type": "mesh3d"
           }
          ],
          "parcoords": [
           {
            "line": {
             "colorbar": {
              "outlinewidth": 0,
              "ticks": ""
             }
            },
            "type": "parcoords"
           }
          ],
          "pie": [
           {
            "automargin": true,
            "type": "pie"
           }
          ],
          "scatter": [
           {
            "fillpattern": {
             "fillmode": "overlay",
             "size": 10,
             "solidity": 0.2
            },
            "type": "scatter"
           }
          ],
          "scatter3d": [
           {
            "line": {
             "colorbar": {
              "outlinewidth": 0,
              "ticks": ""
             }
            },
            "marker": {
             "colorbar": {
              "outlinewidth": 0,
              "ticks": ""
             }
            },
            "type": "scatter3d"
           }
          ],
          "scattercarpet": [
           {
            "marker": {
             "colorbar": {
              "outlinewidth": 0,
              "ticks": ""
             }
            },
            "type": "scattercarpet"
           }
          ],
          "scattergeo": [
           {
            "marker": {
             "colorbar": {
              "outlinewidth": 0,
              "ticks": ""
             }
            },
            "type": "scattergeo"
           }
          ],
          "scattergl": [
           {
            "marker": {
             "colorbar": {
              "outlinewidth": 0,
              "ticks": ""
             }
            },
            "type": "scattergl"
           }
          ],
          "scattermap": [
           {
            "marker": {
             "colorbar": {
              "outlinewidth": 0,
              "ticks": ""
             }
            },
            "type": "scattermap"
           }
          ],
          "scattermapbox": [
           {
            "marker": {
             "colorbar": {
              "outlinewidth": 0,
              "ticks": ""
             }
            },
            "type": "scattermapbox"
           }
          ],
          "scatterpolar": [
           {
            "marker": {
             "colorbar": {
              "outlinewidth": 0,
              "ticks": ""
             }
            },
            "type": "scatterpolar"
           }
          ],
          "scatterpolargl": [
           {
            "marker": {
             "colorbar": {
              "outlinewidth": 0,
              "ticks": ""
             }
            },
            "type": "scatterpolargl"
           }
          ],
          "scatterternary": [
           {
            "marker": {
             "colorbar": {
              "outlinewidth": 0,
              "ticks": ""
             }
            },
            "type": "scatterternary"
           }
          ],
          "surface": [
           {
            "colorbar": {
             "outlinewidth": 0,
             "ticks": ""
            },
            "colorscale": [
             [
              0,
              "#0d0887"
             ],
             [
              0.1111111111111111,
              "#46039f"
             ],
             [
              0.2222222222222222,
              "#7201a8"
             ],
             [
              0.3333333333333333,
              "#9c179e"
             ],
             [
              0.4444444444444444,
              "#bd3786"
             ],
             [
              0.5555555555555556,
              "#d8576b"
             ],
             [
              0.6666666666666666,
              "#ed7953"
             ],
             [
              0.7777777777777778,
              "#fb9f3a"
             ],
             [
              0.8888888888888888,
              "#fdca26"
             ],
             [
              1,
              "#f0f921"
             ]
            ],
            "type": "surface"
           }
          ],
          "table": [
           {
            "cells": {
             "fill": {
              "color": "#EBF0F8"
             },
             "line": {
              "color": "white"
             }
            },
            "header": {
             "fill": {
              "color": "#C8D4E3"
             },
             "line": {
              "color": "white"
             }
            },
            "type": "table"
           }
          ]
         },
         "layout": {
          "annotationdefaults": {
           "arrowcolor": "#2a3f5f",
           "arrowhead": 0,
           "arrowwidth": 1
          },
          "autotypenumbers": "strict",
          "coloraxis": {
           "colorbar": {
            "outlinewidth": 0,
            "ticks": ""
           }
          },
          "colorscale": {
           "diverging": [
            [
             0,
             "#8e0152"
            ],
            [
             0.1,
             "#c51b7d"
            ],
            [
             0.2,
             "#de77ae"
            ],
            [
             0.3,
             "#f1b6da"
            ],
            [
             0.4,
             "#fde0ef"
            ],
            [
             0.5,
             "#f7f7f7"
            ],
            [
             0.6,
             "#e6f5d0"
            ],
            [
             0.7,
             "#b8e186"
            ],
            [
             0.8,
             "#7fbc41"
            ],
            [
             0.9,
             "#4d9221"
            ],
            [
             1,
             "#276419"
            ]
           ],
           "sequential": [
            [
             0,
             "#0d0887"
            ],
            [
             0.1111111111111111,
             "#46039f"
            ],
            [
             0.2222222222222222,
             "#7201a8"
            ],
            [
             0.3333333333333333,
             "#9c179e"
            ],
            [
             0.4444444444444444,
             "#bd3786"
            ],
            [
             0.5555555555555556,
             "#d8576b"
            ],
            [
             0.6666666666666666,
             "#ed7953"
            ],
            [
             0.7777777777777778,
             "#fb9f3a"
            ],
            [
             0.8888888888888888,
             "#fdca26"
            ],
            [
             1,
             "#f0f921"
            ]
           ],
           "sequentialminus": [
            [
             0,
             "#0d0887"
            ],
            [
             0.1111111111111111,
             "#46039f"
            ],
            [
             0.2222222222222222,
             "#7201a8"
            ],
            [
             0.3333333333333333,
             "#9c179e"
            ],
            [
             0.4444444444444444,
             "#bd3786"
            ],
            [
             0.5555555555555556,
             "#d8576b"
            ],
            [
             0.6666666666666666,
             "#ed7953"
            ],
            [
             0.7777777777777778,
             "#fb9f3a"
            ],
            [
             0.8888888888888888,
             "#fdca26"
            ],
            [
             1,
             "#f0f921"
            ]
           ]
          },
          "colorway": [
           "#636efa",
           "#EF553B",
           "#00cc96",
           "#ab63fa",
           "#FFA15A",
           "#19d3f3",
           "#FF6692",
           "#B6E880",
           "#FF97FF",
           "#FECB52"
          ],
          "font": {
           "color": "#2a3f5f"
          },
          "geo": {
           "bgcolor": "white",
           "lakecolor": "white",
           "landcolor": "#E5ECF6",
           "showlakes": true,
           "showland": true,
           "subunitcolor": "white"
          },
          "hoverlabel": {
           "align": "left"
          },
          "hovermode": "closest",
          "mapbox": {
           "style": "light"
          },
          "paper_bgcolor": "white",
          "plot_bgcolor": "#E5ECF6",
          "polar": {
           "angularaxis": {
            "gridcolor": "white",
            "linecolor": "white",
            "ticks": ""
           },
           "bgcolor": "#E5ECF6",
           "radialaxis": {
            "gridcolor": "white",
            "linecolor": "white",
            "ticks": ""
           }
          },
          "scene": {
           "xaxis": {
            "backgroundcolor": "#E5ECF6",
            "gridcolor": "white",
            "gridwidth": 2,
            "linecolor": "white",
            "showbackground": true,
            "ticks": "",
            "zerolinecolor": "white"
           },
           "yaxis": {
            "backgroundcolor": "#E5ECF6",
            "gridcolor": "white",
            "gridwidth": 2,
            "linecolor": "white",
            "showbackground": true,
            "ticks": "",
            "zerolinecolor": "white"
           },
           "zaxis": {
            "backgroundcolor": "#E5ECF6",
            "gridcolor": "white",
            "gridwidth": 2,
            "linecolor": "white",
            "showbackground": true,
            "ticks": "",
            "zerolinecolor": "white"
           }
          },
          "shapedefaults": {
           "line": {
            "color": "#2a3f5f"
           }
          },
          "ternary": {
           "aaxis": {
            "gridcolor": "white",
            "linecolor": "white",
            "ticks": ""
           },
           "baxis": {
            "gridcolor": "white",
            "linecolor": "white",
            "ticks": ""
           },
           "bgcolor": "#E5ECF6",
           "caxis": {
            "gridcolor": "white",
            "linecolor": "white",
            "ticks": ""
           }
          },
          "title": {
           "x": 0.05
          },
          "xaxis": {
           "automargin": true,
           "gridcolor": "white",
           "linecolor": "white",
           "ticks": "",
           "title": {
            "standoff": 15
           },
           "zerolinecolor": "white",
           "zerolinewidth": 2
          },
          "yaxis": {
           "automargin": true,
           "gridcolor": "white",
           "linecolor": "white",
           "ticks": "",
           "title": {
            "standoff": 15
           },
           "zerolinecolor": "white",
           "zerolinewidth": 2
          }
         }
        },
        "title": {
         "text": "Interaktive Spearman-ρ Karte: Export vs. Militär"
        }
       }
      }
     },
     "metadata": {},
     "output_type": "display_data"
    }
   ],
   "source": [
    "df_corr = pd.read_csv('results/spearman_export_correlations.csv')\n",
    "\n",
    "def iso3(name):\n",
    "    try:\n",
    "        return pycountry.countries.lookup(name).alpha_3\n",
    "    except LookupError:\n",
    "        return None\n",
    "\n",
    "df_corr['iso_a3'] = df_corr['Country Name'].apply(iso3)\n",
    "\n",
    "df_map = df_corr.dropna(subset=['iso_a3'])\n",
    "\n",
    "fig = px.choropleth(\n",
    "    df_map,\n",
    "    locations='iso_a3',\n",
    "    color='Spearman ρ',\n",
    "    hover_name='Country Name',\n",
    "    color_continuous_scale='OrRd',\n",
    "    projection='natural earth',\n",
    "    title='Interaktive Spearman-ρ Karte: Export vs. Militär'\n",
    ")\n",
    "\n",
    "fig.update_geos(showcoastlines=True, showland=True, fitbounds='locations')\n",
    "fig.update_layout(margin={'r':0,'t':40,'l':0,'b':0})\n",
    "fig.show()"
   ]
  },
  {
   "cell_type": "markdown",
   "id": "a6c4c28b",
   "metadata": {},
   "source": [
    "# Korrelation BIP - Militärausgaben"
   ]
  },
  {
   "cell_type": "code",
   "execution_count": 42,
   "id": "f876034a",
   "metadata": {},
   "outputs": [],
   "source": [
    "df_military = pd.read_csv(\"data/military_expenditure.csv\", sep=',', skiprows=4)\n",
    "df_military = df_military.drop(columns=[\"Indicator Name\", \"Indicator Code\", \"2024\", \"Unnamed: 69\"])\n",
    "df_military = clean_df(df_military)"
   ]
  },
  {
   "cell_type": "code",
   "execution_count": 43,
   "id": "b6741e9d",
   "metadata": {},
   "outputs": [],
   "source": [
    "df_gdp = pd.read_csv(\"data/gdp.csv\", sep=',', skiprows=4)\n",
    "df_gdp = df_gdp.drop(columns=[\"Indicator Name\", \"Indicator Code\", \"2024\", \"Unnamed: 69\"])\n",
    "df_gdp = clean_df(df_gdp)"
   ]
  },
  {
   "cell_type": "code",
   "execution_count": 44,
   "id": "2db6c4dd",
   "metadata": {},
   "outputs": [],
   "source": [
    "df_gdp, df_military = filter_for_same_columns(df_gdp, df_military)\n"
   ]
  },
  {
   "cell_type": "code",
   "execution_count": 45,
   "id": "86535811",
   "metadata": {},
   "outputs": [
    {
     "name": "stdout",
     "output_type": "stream",
     "text": [
      "               Country Name  n Jahre  Spearman ρ  p-Spearman  Kendall τ_b  \\\n",
      "0                Uzbekistan       10       1.000       0.000        1.000   \n",
      "1               Korea, Rep.       64       0.997       0.000        0.970   \n",
      "2                   Estonia       31       0.996       0.000        0.970   \n",
      "3                     India       64       0.995       0.000        0.959   \n",
      "4                     China       35       0.995       0.000        0.970   \n",
      "..                      ...      ...         ...         ...          ...   \n",
      "160                 Croatia       32       0.339       0.057        0.383   \n",
      "161            Turkmenistan        6       0.143       0.787        0.200   \n",
      "162             South Sudan        8      -0.167       0.693       -0.071   \n",
      "163  Bosnia and Herzegovina       22      -0.203       0.366       -0.143   \n",
      "164                 Lao PDR       22      -0.309       0.162       -0.108   \n",
      "\n",
      "     p-Kendall  \n",
      "0        0.000  \n",
      "1        0.000  \n",
      "2        0.000  \n",
      "3        0.000  \n",
      "4        0.000  \n",
      "..         ...  \n",
      "160      0.002  \n",
      "161      0.719  \n",
      "162      0.905  \n",
      "163      0.371  \n",
      "164      0.503  \n",
      "\n",
      "[165 rows x 6 columns]\n"
     ]
    }
   ],
   "source": [
    "df = df_gdp.merge(df_military, on=\"Country Name\", suffixes=(\"_gdp\", \"_mil\"))\n",
    "\n",
    "years = [c for c in df_gdp.columns if c.isdigit() and c in df_military.columns]\n",
    "\n",
    "results = []\n",
    "for _, row in df.iterrows():\n",
    "    country = row[\"Country Name\"]\n",
    "\n",
    "    x = pd.to_numeric(row[[f\"{y}_gdp\" for y in years]], errors=\"coerce\").to_numpy()\n",
    "    y = pd.to_numeric(row[[f\"{y}_mil\" for y in years]], errors=\"coerce\").to_numpy()\n",
    "    \n",
    "    mask = (~np.isnan(x)) & (x != 0) & (~np.isnan(y)) & (y != 0)\n",
    "    x_valid = x[mask]\n",
    "    y_valid = y[mask]\n",
    "    \n",
    "    if len(x_valid) < 3:\n",
    "        continue\n",
    "    \n",
    "    rho, p_s = spearmanr(x_valid, y_valid)\n",
    "    tau, p_k = kendalltau(x_valid, y_valid)\n",
    "    \n",
    "    results.append({\n",
    "        \"Country Name\": country,\n",
    "        \"n Jahre\": len(x_valid),\n",
    "        \"Spearman ρ\": round(rho, 3),\n",
    "        \"p-Spearman\": round(p_s, 3),\n",
    "        \"Kendall τ_b\": round(tau, 3),\n",
    "        \"p-Kendall\": round(p_k, 3)\n",
    "    })\n",
    "\n",
    "df_country_corr = pd.DataFrame(results) \\\n",
    "    .sort_values(\"Spearman ρ\", ascending=False) \\\n",
    "    .reset_index(drop=True)\n",
    "\n",
    "print(df_country_corr)\n",
    "df_country_corr.to_csv(\"results/spearman_gdp_correlations.csv\", index=False)"
   ]
  },
  {
   "cell_type": "code",
   "execution_count": 46,
   "id": "c126eb16",
   "metadata": {},
   "outputs": [
    {
     "data": {
      "application/vnd.plotly.v1+json": {
       "config": {
        "plotlyServerURL": "https://plot.ly"
       },
       "data": [
        {
         "coloraxis": "coloraxis",
         "geo": "geo",
         "hovertemplate": "<b>%{hovertext}</b><br><br>iso_a3=%{location}<br>Spearman ρ=%{z}<extra></extra>",
         "hovertext": [
          "Uzbekistan",
          "Estonia",
          "India",
          "China",
          "Singapore",
          "Nepal",
          "Mexico",
          "Denmark",
          "Brazil",
          "Australia",
          "Poland",
          "Spain",
          "Luxembourg",
          "Bangladesh",
          "Austria",
          "Morocco",
          "Pakistan",
          "Israel",
          "Philippines",
          "Greece",
          "France",
          "Colombia",
          "Portugal",
          "Italy",
          "Togo",
          "Ecuador",
          "Netherlands",
          "Norway",
          "Kyrgyz Republic",
          "Mali",
          "New Zealand",
          "Finland",
          "Azerbaijan",
          "Belize",
          "Bahrain",
          "Cameroon",
          "Japan",
          "Burkina Faso",
          "Thailand",
          "Armenia",
          "United Kingdom",
          "United States",
          "Niger",
          "Sri Lanka",
          "United Arab Emirates",
          "Mauritius",
          "Germany",
          "Eswatini",
          "Sweden",
          "Botswana",
          "Benin",
          "Ireland",
          "Bolivia",
          "Fiji",
          "Lithuania",
          "Switzerland",
          "Malta",
          "Canada",
          "Tunisia",
          "Malaysia",
          "Chile",
          "Jordan",
          "Honduras",
          "Oman",
          "Viet Nam",
          "Gabon",
          "Saudi Arabia",
          "Lesotho",
          "Latvia",
          "Algeria",
          "Belarus",
          "Belgium",
          "Iraq",
          "Moldova",
          "Trinidad and Tobago",
          "Dominican Republic",
          "Uruguay",
          "Peru",
          "Sudan",
          "Russian Federation",
          "Jamaica",
          "Kenya",
          "Senegal",
          "Czechia",
          "Tajikistan",
          "Albania",
          "Slovak Republic",
          "Central African Republic",
          "Madagascar",
          "Libya",
          "Mongolia",
          "Hungary",
          "Romania",
          "Ukraine",
          "Cabo Verde",
          "Uganda",
          "Zambia",
          "Slovenia",
          "Guatemala",
          "Serbia",
          "Paraguay",
          "Haiti",
          "Kazakhstan",
          "Sierra Leone",
          "El Salvador",
          "Mozambique",
          "Myanmar",
          "Cambodia",
          "Tanzania",
          "Bulgaria",
          "Lebanon",
          "Indonesia",
          "Namibia",
          "Brunei Darussalam",
          "Burundi",
          "Rwanda",
          "Papua New Guinea",
          "Ethiopia",
          "South Africa",
          "Mauritania",
          "Guyana",
          "Argentina",
          "Timor-Leste",
          "Chad",
          "Somalia",
          "Montenegro",
          "Angola",
          "Malawi",
          "Kuwait",
          "Nicaragua",
          "Guinea-Bissau",
          "Guinea",
          "Ghana",
          "Equatorial Guinea",
          "Syrian Arab Republic",
          "Zimbabwe",
          "Georgia",
          "Eritrea",
          "Cyprus",
          "Nigeria",
          "Cuba",
          "Seychelles",
          "Qatar",
          "Panama",
          "North Macedonia",
          "Djibouti",
          "Afghanistan",
          "Liberia",
          "Croatia",
          "Turkmenistan",
          "South Sudan",
          "Bosnia and Herzegovina"
         ],
         "locations": [
          "UZB",
          "EST",
          "IND",
          "CHN",
          "SGP",
          "NPL",
          "MEX",
          "DNK",
          "BRA",
          "AUS",
          "POL",
          "ESP",
          "LUX",
          "BGD",
          "AUT",
          "MAR",
          "PAK",
          "ISR",
          "PHL",
          "GRC",
          "FRA",
          "COL",
          "PRT",
          "ITA",
          "TGO",
          "ECU",
          "NLD",
          "NOR",
          "KGZ",
          "MLI",
          "NZL",
          "FIN",
          "AZE",
          "BLZ",
          "BHR",
          "CMR",
          "JPN",
          "BFA",
          "THA",
          "ARM",
          "GBR",
          "USA",
          "NER",
          "LKA",
          "ARE",
          "MUS",
          "DEU",
          "SWZ",
          "SWE",
          "BWA",
          "BEN",
          "IRL",
          "BOL",
          "FJI",
          "LTU",
          "CHE",
          "MLT",
          "CAN",
          "TUN",
          "MYS",
          "CHL",
          "JOR",
          "HND",
          "OMN",
          "VNM",
          "GAB",
          "SAU",
          "LSO",
          "LVA",
          "DZA",
          "BLR",
          "BEL",
          "IRQ",
          "MDA",
          "TTO",
          "DOM",
          "URY",
          "PER",
          "SDN",
          "RUS",
          "JAM",
          "KEN",
          "SEN",
          "CZE",
          "TJK",
          "ALB",
          "SVK",
          "CAF",
          "MDG",
          "LBY",
          "MNG",
          "HUN",
          "ROU",
          "UKR",
          "CPV",
          "UGA",
          "ZMB",
          "SVN",
          "GTM",
          "SRB",
          "PRY",
          "HTI",
          "KAZ",
          "SLE",
          "SLV",
          "MOZ",
          "MMR",
          "KHM",
          "TZA",
          "BGR",
          "LBN",
          "IDN",
          "NAM",
          "BRN",
          "BDI",
          "RWA",
          "PNG",
          "ETH",
          "ZAF",
          "MRT",
          "GUY",
          "ARG",
          "TLS",
          "TCD",
          "SOM",
          "MNE",
          "AGO",
          "MWI",
          "KWT",
          "NIC",
          "GNB",
          "GIN",
          "GHA",
          "GNQ",
          "SYR",
          "ZWE",
          "GEO",
          "ERI",
          "CYP",
          "NGA",
          "CUB",
          "SYC",
          "QAT",
          "PAN",
          "MKD",
          "DJI",
          "AFG",
          "LBR",
          "HRV",
          "TKM",
          "SSD",
          "BIH"
         ],
         "name": "",
         "type": "choropleth",
         "z": {
          "bdata": "AAAAAAAA8D+sHFpkO9/vP9ejcD0K1+8/16NwPQrX7z/Xo3A9CtfvPwIrhxbZzu8/LbKd76fG7z9YObTIdr7vP4PAyqFFtu8/g8DKoUW27z+DwMqhRbbvP65H4XoUru8/rkfhehSu7z+uR+F6FK7vP65H4XoUru8/2c73U+Ol7z/ZzvdT46XvP9nO91Pjpe8/BFYOLbKd7z8EVg4tsp3vPwRWDi2yne8/L90kBoGV7z8v3SQGgZXvP1pkO99Pje8/hetRuB6F7z+F61G4HoXvP7ByaJHtfO8/sHJoke187z/b+X5qvHTvP9v5fmq8dO8/BoGVQ4ts7z8xCKwcWmTvP1yPwvUoXO8/XI/C9Shc7z+yne+nxkvvP7Kd76fGS+8/3SQGgZVD7z8IrBxaZDvvPzMzMzMzM+8/MzMzMzMz7z8zMzMzMzPvP4lBYOXQIu8/iUFg5dAi7z+0yHa+nxrvP99PjZduEu8/NV66SQwC7z9g5dAi2/nuP7bz/dR46e4/tvP91Hjp7j+28/3UeOnuP+F6FK5H4e4/DAIrhxbZ7j83iUFg5dDuPzeJQWDl0O4/YhBYObTI7j+Nl24Sg8DuP42XbhKDwO4/jZduEoPA7j+4HoXrUbjuP7gehetRuO4/uB6F61G47j+4HoXrUbjuP+Olm8QgsO4/ObTIdr6f7j+PwvUoXI/uP7pJDAIrh+4/5dAi2/l+7j8QWDm0yHbuPxBYObTIdu4/vHSTGARW7j+8dJMYBFbuPz0K16NwPe4/PQrXo3A97j9oke18PzXuP2iR7Xw/Ne4/vp8aL90k7j9qvHSTGATuP5ZDi2zn++0/F9nO91Pj7T9CYOXQItvtP8P1KFyPwu0/GQRWDi2y7T9Ei2zn+6ntP/Cnxks3ie0/Gy/dJAaB7T/y0k1iEFjtP57vp8ZLN+0/H4XrUbge7T9KDAIrhxbtP8uhRbbz/ew/y6FFtvP97D93vp8aL93sP6JFtvP91Ow/+FPjpZvE7D8j2/l+arzsP8/3U+Olm+w/JQaBlUOL7D97FK5H4XrsP/yp8dJNYuw/JzEIrBxa7D8AAAAAAADsPyuHFtnO9+s/rBxaZDvf6z+sHFpkO9/rP65H4XoUrus/L90kBoGV6z+F61G4HoXrP7ByaJHtfOs/sHJoke186z8GgZVDi2zrPzEIrBxaZOs/CKwcWmQ76z8IrBxaZDvrP7bz/dR46eo/uB6F61G46j9mZmZmZmbqPz0K16NwPeo/GQRWDi2y6T9Ei2zn+6npP0oMAiuHFuk/TmIQWDm06D9QjZduEoPoP9Ei2/l+aug/qMZLN4lB6D/VeOkmMQjoP9V46SYxCOg/AiuHFtnO5z8EVg4tsp3nP2Dl0CLb+eY/ObTIdr6f5j+PwvUoXI/mP2ZmZmZmZuY/6SYxCKwc5j/ufD81XrrlP8UgsHJokeU/9P3UeOkm5T/4U+Olm8TkP6RwPQrXo+Q//tR46SYx5D9YObTIdr7jPxKDwMqhReI/lkOLbOf74T9OYhBYObTgP9v5fmq8dNs/2/l+arx02z/8qfHSTWLYP2q8dJMYBNY/wcqhRbbz1T8ZBFYOLbLVP+f7qfHSTcI/x0s3iUFgxb+WQ4ts5/vJvw==",
          "dtype": "f8"
         }
        }
       ],
       "layout": {
        "coloraxis": {
         "colorbar": {
          "title": {
           "text": "Spearman ρ"
          }
         },
         "colorscale": [
          [
           0,
           "rgb(255,247,236)"
          ],
          [
           0.125,
           "rgb(254,232,200)"
          ],
          [
           0.25,
           "rgb(253,212,158)"
          ],
          [
           0.375,
           "rgb(253,187,132)"
          ],
          [
           0.5,
           "rgb(252,141,89)"
          ],
          [
           0.625,
           "rgb(239,101,72)"
          ],
          [
           0.75,
           "rgb(215,48,31)"
          ],
          [
           0.875,
           "rgb(179,0,0)"
          ],
          [
           1,
           "rgb(127,0,0)"
          ]
         ]
        },
        "geo": {
         "center": {},
         "domain": {
          "x": [
           0,
           1
          ],
          "y": [
           0,
           1
          ]
         },
         "fitbounds": "locations",
         "projection": {
          "type": "natural earth"
         },
         "showcoastlines": true,
         "showland": true
        },
        "legend": {
         "tracegroupgap": 0
        },
        "margin": {
         "b": 0,
         "l": 0,
         "r": 0,
         "t": 40
        },
        "template": {
         "data": {
          "bar": [
           {
            "error_x": {
             "color": "#2a3f5f"
            },
            "error_y": {
             "color": "#2a3f5f"
            },
            "marker": {
             "line": {
              "color": "#E5ECF6",
              "width": 0.5
             },
             "pattern": {
              "fillmode": "overlay",
              "size": 10,
              "solidity": 0.2
             }
            },
            "type": "bar"
           }
          ],
          "barpolar": [
           {
            "marker": {
             "line": {
              "color": "#E5ECF6",
              "width": 0.5
             },
             "pattern": {
              "fillmode": "overlay",
              "size": 10,
              "solidity": 0.2
             }
            },
            "type": "barpolar"
           }
          ],
          "carpet": [
           {
            "aaxis": {
             "endlinecolor": "#2a3f5f",
             "gridcolor": "white",
             "linecolor": "white",
             "minorgridcolor": "white",
             "startlinecolor": "#2a3f5f"
            },
            "baxis": {
             "endlinecolor": "#2a3f5f",
             "gridcolor": "white",
             "linecolor": "white",
             "minorgridcolor": "white",
             "startlinecolor": "#2a3f5f"
            },
            "type": "carpet"
           }
          ],
          "choropleth": [
           {
            "colorbar": {
             "outlinewidth": 0,
             "ticks": ""
            },
            "type": "choropleth"
           }
          ],
          "contour": [
           {
            "colorbar": {
             "outlinewidth": 0,
             "ticks": ""
            },
            "colorscale": [
             [
              0,
              "#0d0887"
             ],
             [
              0.1111111111111111,
              "#46039f"
             ],
             [
              0.2222222222222222,
              "#7201a8"
             ],
             [
              0.3333333333333333,
              "#9c179e"
             ],
             [
              0.4444444444444444,
              "#bd3786"
             ],
             [
              0.5555555555555556,
              "#d8576b"
             ],
             [
              0.6666666666666666,
              "#ed7953"
             ],
             [
              0.7777777777777778,
              "#fb9f3a"
             ],
             [
              0.8888888888888888,
              "#fdca26"
             ],
             [
              1,
              "#f0f921"
             ]
            ],
            "type": "contour"
           }
          ],
          "contourcarpet": [
           {
            "colorbar": {
             "outlinewidth": 0,
             "ticks": ""
            },
            "type": "contourcarpet"
           }
          ],
          "heatmap": [
           {
            "colorbar": {
             "outlinewidth": 0,
             "ticks": ""
            },
            "colorscale": [
             [
              0,
              "#0d0887"
             ],
             [
              0.1111111111111111,
              "#46039f"
             ],
             [
              0.2222222222222222,
              "#7201a8"
             ],
             [
              0.3333333333333333,
              "#9c179e"
             ],
             [
              0.4444444444444444,
              "#bd3786"
             ],
             [
              0.5555555555555556,
              "#d8576b"
             ],
             [
              0.6666666666666666,
              "#ed7953"
             ],
             [
              0.7777777777777778,
              "#fb9f3a"
             ],
             [
              0.8888888888888888,
              "#fdca26"
             ],
             [
              1,
              "#f0f921"
             ]
            ],
            "type": "heatmap"
           }
          ],
          "histogram": [
           {
            "marker": {
             "pattern": {
              "fillmode": "overlay",
              "size": 10,
              "solidity": 0.2
             }
            },
            "type": "histogram"
           }
          ],
          "histogram2d": [
           {
            "colorbar": {
             "outlinewidth": 0,
             "ticks": ""
            },
            "colorscale": [
             [
              0,
              "#0d0887"
             ],
             [
              0.1111111111111111,
              "#46039f"
             ],
             [
              0.2222222222222222,
              "#7201a8"
             ],
             [
              0.3333333333333333,
              "#9c179e"
             ],
             [
              0.4444444444444444,
              "#bd3786"
             ],
             [
              0.5555555555555556,
              "#d8576b"
             ],
             [
              0.6666666666666666,
              "#ed7953"
             ],
             [
              0.7777777777777778,
              "#fb9f3a"
             ],
             [
              0.8888888888888888,
              "#fdca26"
             ],
             [
              1,
              "#f0f921"
             ]
            ],
            "type": "histogram2d"
           }
          ],
          "histogram2dcontour": [
           {
            "colorbar": {
             "outlinewidth": 0,
             "ticks": ""
            },
            "colorscale": [
             [
              0,
              "#0d0887"
             ],
             [
              0.1111111111111111,
              "#46039f"
             ],
             [
              0.2222222222222222,
              "#7201a8"
             ],
             [
              0.3333333333333333,
              "#9c179e"
             ],
             [
              0.4444444444444444,
              "#bd3786"
             ],
             [
              0.5555555555555556,
              "#d8576b"
             ],
             [
              0.6666666666666666,
              "#ed7953"
             ],
             [
              0.7777777777777778,
              "#fb9f3a"
             ],
             [
              0.8888888888888888,
              "#fdca26"
             ],
             [
              1,
              "#f0f921"
             ]
            ],
            "type": "histogram2dcontour"
           }
          ],
          "mesh3d": [
           {
            "colorbar": {
             "outlinewidth": 0,
             "ticks": ""
            },
            "type": "mesh3d"
           }
          ],
          "parcoords": [
           {
            "line": {
             "colorbar": {
              "outlinewidth": 0,
              "ticks": ""
             }
            },
            "type": "parcoords"
           }
          ],
          "pie": [
           {
            "automargin": true,
            "type": "pie"
           }
          ],
          "scatter": [
           {
            "fillpattern": {
             "fillmode": "overlay",
             "size": 10,
             "solidity": 0.2
            },
            "type": "scatter"
           }
          ],
          "scatter3d": [
           {
            "line": {
             "colorbar": {
              "outlinewidth": 0,
              "ticks": ""
             }
            },
            "marker": {
             "colorbar": {
              "outlinewidth": 0,
              "ticks": ""
             }
            },
            "type": "scatter3d"
           }
          ],
          "scattercarpet": [
           {
            "marker": {
             "colorbar": {
              "outlinewidth": 0,
              "ticks": ""
             }
            },
            "type": "scattercarpet"
           }
          ],
          "scattergeo": [
           {
            "marker": {
             "colorbar": {
              "outlinewidth": 0,
              "ticks": ""
             }
            },
            "type": "scattergeo"
           }
          ],
          "scattergl": [
           {
            "marker": {
             "colorbar": {
              "outlinewidth": 0,
              "ticks": ""
             }
            },
            "type": "scattergl"
           }
          ],
          "scattermap": [
           {
            "marker": {
             "colorbar": {
              "outlinewidth": 0,
              "ticks": ""
             }
            },
            "type": "scattermap"
           }
          ],
          "scattermapbox": [
           {
            "marker": {
             "colorbar": {
              "outlinewidth": 0,
              "ticks": ""
             }
            },
            "type": "scattermapbox"
           }
          ],
          "scatterpolar": [
           {
            "marker": {
             "colorbar": {
              "outlinewidth": 0,
              "ticks": ""
             }
            },
            "type": "scatterpolar"
           }
          ],
          "scatterpolargl": [
           {
            "marker": {
             "colorbar": {
              "outlinewidth": 0,
              "ticks": ""
             }
            },
            "type": "scatterpolargl"
           }
          ],
          "scatterternary": [
           {
            "marker": {
             "colorbar": {
              "outlinewidth": 0,
              "ticks": ""
             }
            },
            "type": "scatterternary"
           }
          ],
          "surface": [
           {
            "colorbar": {
             "outlinewidth": 0,
             "ticks": ""
            },
            "colorscale": [
             [
              0,
              "#0d0887"
             ],
             [
              0.1111111111111111,
              "#46039f"
             ],
             [
              0.2222222222222222,
              "#7201a8"
             ],
             [
              0.3333333333333333,
              "#9c179e"
             ],
             [
              0.4444444444444444,
              "#bd3786"
             ],
             [
              0.5555555555555556,
              "#d8576b"
             ],
             [
              0.6666666666666666,
              "#ed7953"
             ],
             [
              0.7777777777777778,
              "#fb9f3a"
             ],
             [
              0.8888888888888888,
              "#fdca26"
             ],
             [
              1,
              "#f0f921"
             ]
            ],
            "type": "surface"
           }
          ],
          "table": [
           {
            "cells": {
             "fill": {
              "color": "#EBF0F8"
             },
             "line": {
              "color": "white"
             }
            },
            "header": {
             "fill": {
              "color": "#C8D4E3"
             },
             "line": {
              "color": "white"
             }
            },
            "type": "table"
           }
          ]
         },
         "layout": {
          "annotationdefaults": {
           "arrowcolor": "#2a3f5f",
           "arrowhead": 0,
           "arrowwidth": 1
          },
          "autotypenumbers": "strict",
          "coloraxis": {
           "colorbar": {
            "outlinewidth": 0,
            "ticks": ""
           }
          },
          "colorscale": {
           "diverging": [
            [
             0,
             "#8e0152"
            ],
            [
             0.1,
             "#c51b7d"
            ],
            [
             0.2,
             "#de77ae"
            ],
            [
             0.3,
             "#f1b6da"
            ],
            [
             0.4,
             "#fde0ef"
            ],
            [
             0.5,
             "#f7f7f7"
            ],
            [
             0.6,
             "#e6f5d0"
            ],
            [
             0.7,
             "#b8e186"
            ],
            [
             0.8,
             "#7fbc41"
            ],
            [
             0.9,
             "#4d9221"
            ],
            [
             1,
             "#276419"
            ]
           ],
           "sequential": [
            [
             0,
             "#0d0887"
            ],
            [
             0.1111111111111111,
             "#46039f"
            ],
            [
             0.2222222222222222,
             "#7201a8"
            ],
            [
             0.3333333333333333,
             "#9c179e"
            ],
            [
             0.4444444444444444,
             "#bd3786"
            ],
            [
             0.5555555555555556,
             "#d8576b"
            ],
            [
             0.6666666666666666,
             "#ed7953"
            ],
            [
             0.7777777777777778,
             "#fb9f3a"
            ],
            [
             0.8888888888888888,
             "#fdca26"
            ],
            [
             1,
             "#f0f921"
            ]
           ],
           "sequentialminus": [
            [
             0,
             "#0d0887"
            ],
            [
             0.1111111111111111,
             "#46039f"
            ],
            [
             0.2222222222222222,
             "#7201a8"
            ],
            [
             0.3333333333333333,
             "#9c179e"
            ],
            [
             0.4444444444444444,
             "#bd3786"
            ],
            [
             0.5555555555555556,
             "#d8576b"
            ],
            [
             0.6666666666666666,
             "#ed7953"
            ],
            [
             0.7777777777777778,
             "#fb9f3a"
            ],
            [
             0.8888888888888888,
             "#fdca26"
            ],
            [
             1,
             "#f0f921"
            ]
           ]
          },
          "colorway": [
           "#636efa",
           "#EF553B",
           "#00cc96",
           "#ab63fa",
           "#FFA15A",
           "#19d3f3",
           "#FF6692",
           "#B6E880",
           "#FF97FF",
           "#FECB52"
          ],
          "font": {
           "color": "#2a3f5f"
          },
          "geo": {
           "bgcolor": "white",
           "lakecolor": "white",
           "landcolor": "#E5ECF6",
           "showlakes": true,
           "showland": true,
           "subunitcolor": "white"
          },
          "hoverlabel": {
           "align": "left"
          },
          "hovermode": "closest",
          "mapbox": {
           "style": "light"
          },
          "paper_bgcolor": "white",
          "plot_bgcolor": "#E5ECF6",
          "polar": {
           "angularaxis": {
            "gridcolor": "white",
            "linecolor": "white",
            "ticks": ""
           },
           "bgcolor": "#E5ECF6",
           "radialaxis": {
            "gridcolor": "white",
            "linecolor": "white",
            "ticks": ""
           }
          },
          "scene": {
           "xaxis": {
            "backgroundcolor": "#E5ECF6",
            "gridcolor": "white",
            "gridwidth": 2,
            "linecolor": "white",
            "showbackground": true,
            "ticks": "",
            "zerolinecolor": "white"
           },
           "yaxis": {
            "backgroundcolor": "#E5ECF6",
            "gridcolor": "white",
            "gridwidth": 2,
            "linecolor": "white",
            "showbackground": true,
            "ticks": "",
            "zerolinecolor": "white"
           },
           "zaxis": {
            "backgroundcolor": "#E5ECF6",
            "gridcolor": "white",
            "gridwidth": 2,
            "linecolor": "white",
            "showbackground": true,
            "ticks": "",
            "zerolinecolor": "white"
           }
          },
          "shapedefaults": {
           "line": {
            "color": "#2a3f5f"
           }
          },
          "ternary": {
           "aaxis": {
            "gridcolor": "white",
            "linecolor": "white",
            "ticks": ""
           },
           "baxis": {
            "gridcolor": "white",
            "linecolor": "white",
            "ticks": ""
           },
           "bgcolor": "#E5ECF6",
           "caxis": {
            "gridcolor": "white",
            "linecolor": "white",
            "ticks": ""
           }
          },
          "title": {
           "x": 0.05
          },
          "xaxis": {
           "automargin": true,
           "gridcolor": "white",
           "linecolor": "white",
           "ticks": "",
           "title": {
            "standoff": 15
           },
           "zerolinecolor": "white",
           "zerolinewidth": 2
          },
          "yaxis": {
           "automargin": true,
           "gridcolor": "white",
           "linecolor": "white",
           "ticks": "",
           "title": {
            "standoff": 15
           },
           "zerolinecolor": "white",
           "zerolinewidth": 2
          }
         }
        },
        "title": {
         "text": "Interaktive Spearman-ρ Karte: BIP vs. Militär"
        }
       }
      }
     },
     "metadata": {},
     "output_type": "display_data"
    }
   ],
   "source": [
    "df_corr = pd.read_csv('results/spearman_gdp_correlations.csv')\n",
    "\n",
    "def iso3(name):\n",
    "    try:\n",
    "        return pycountry.countries.lookup(name).alpha_3\n",
    "    except LookupError:\n",
    "        return None\n",
    "\n",
    "df_corr['iso_a3'] = df_corr['Country Name'].apply(iso3)\n",
    "\n",
    "df_map = df_corr.dropna(subset=['iso_a3'])\n",
    "\n",
    "fig = px.choropleth(\n",
    "    df_map,\n",
    "    locations='iso_a3',\n",
    "    color='Spearman ρ',\n",
    "    hover_name='Country Name',\n",
    "    color_continuous_scale='OrRd',\n",
    "    projection='natural earth',\n",
    "    title='Interaktive Spearman-ρ Karte: BIP vs. Militär'\n",
    ")\n",
    "\n",
    "fig.update_geos(showcoastlines=True, showland=True, fitbounds='locations')\n",
    "fig.update_layout(margin={'r':0,'t':40,'l':0,'b':0})\n",
    "fig.show()"
   ]
  },
  {
   "cell_type": "markdown",
   "id": "06fe0e4c",
   "metadata": {},
   "source": [
    "# Korrelation Importe - Militärausgaben"
   ]
  },
  {
   "cell_type": "code",
   "execution_count": 47,
   "id": "aedff395",
   "metadata": {},
   "outputs": [],
   "source": [
    "df_military = pd.read_csv(\"data/military_expenditure.csv\", sep=',', skiprows=4)\n",
    "df_military = df_military.drop(columns=[\"Indicator Name\", \"Indicator Code\", \"2024\", \"Unnamed: 69\"])\n",
    "df_military = clean_df(df_military)"
   ]
  },
  {
   "cell_type": "code",
   "execution_count": 48,
   "id": "6d341ea1",
   "metadata": {},
   "outputs": [],
   "source": [
    "df_import = pd.read_csv(\"data/imports.csv\", sep=',', skiprows=4)\n",
    "df_import = df_import.drop(columns=[\"Indicator Name\", \"Indicator Code\", \"2024\", \"Unnamed: 69\"])\n",
    "df_import = clean_df(df_import)"
   ]
  },
  {
   "cell_type": "code",
   "execution_count": 49,
   "id": "b25fc31d",
   "metadata": {},
   "outputs": [],
   "source": [
    "df_import, df_military = filter_for_same_columns(df_import, df_military)\n"
   ]
  },
  {
   "cell_type": "code",
   "execution_count": 50,
   "id": "b876635b",
   "metadata": {},
   "outputs": [
    {
     "name": "stdout",
     "output_type": "stream",
     "text": [
      "               Country Name  n Jahre  Spearman ρ  p-Spearman  Kendall τ_b  \\\n",
      "0               Afghanistan        8       1.000       0.000        1.000   \n",
      "1                     Nepal       54       0.992       0.000        0.937   \n",
      "2                     China       35       0.992       0.000        0.946   \n",
      "3                 Singapore       54       0.991       0.000        0.943   \n",
      "4                Luxembourg       54       0.990       0.000        0.939   \n",
      "..                      ...      ...         ...         ...          ...   \n",
      "153                  Guyana       30      -0.117       0.539       -0.053   \n",
      "154  Bosnia and Herzegovina       22      -0.240       0.282       -0.169   \n",
      "155            Turkmenistan        6      -0.314       0.544       -0.333   \n",
      "156                 Lao PDR       22      -0.319       0.148       -0.134   \n",
      "157             South Sudan        8      -0.595       0.120       -0.286   \n",
      "\n",
      "     p-Kendall  \n",
      "0        0.000  \n",
      "1        0.000  \n",
      "2        0.000  \n",
      "3        0.000  \n",
      "4        0.000  \n",
      "..         ...  \n",
      "153      0.697  \n",
      "154      0.288  \n",
      "155      0.469  \n",
      "156      0.402  \n",
      "157      0.399  \n",
      "\n",
      "[158 rows x 6 columns]\n"
     ]
    }
   ],
   "source": [
    "df = df_import.merge(df_military, on=\"Country Name\", suffixes=(\"_imp\", \"_mil\"))\n",
    "\n",
    "years = [c for c in df_import.columns if c.isdigit() and c in df_military.columns]\n",
    "\n",
    "results = []\n",
    "for _, row in df.iterrows():\n",
    "    country = row[\"Country Name\"]\n",
    "    # Zeitreihen in numpy-Arrays\n",
    "    x = pd.to_numeric(row[[f\"{y}_imp\" for y in years]], errors=\"coerce\").to_numpy()\n",
    "    y = pd.to_numeric(row[[f\"{y}_mil\" for y in years]], errors=\"coerce\").to_numpy()\n",
    "    \n",
    "    # Nur valide Paare (nicht-NaN, nicht 0)\n",
    "    mask = (~np.isnan(x)) & (x != 0) & (~np.isnan(y)) & (y != 0)\n",
    "    x_valid = x[mask]\n",
    "    y_valid = y[mask]\n",
    "    \n",
    "    if len(x_valid) < 3:\n",
    "        # für mindestens 3 Wertepaare sinnvoll\n",
    "        continue\n",
    "    \n",
    "    # Spearman ρ\n",
    "    rho, p_s = spearmanr(x_valid, y_valid)\n",
    "    # Kendall's τ_b\n",
    "    tau, p_k = kendalltau(x_valid, y_valid)\n",
    "    \n",
    "    results.append({\n",
    "        \"Country Name\": country,\n",
    "        \"n Jahre\": len(x_valid),\n",
    "        \"Spearman ρ\": round(rho, 3),\n",
    "        \"p-Spearman\": round(p_s, 3),\n",
    "        \"Kendall τ_b\": round(tau, 3),\n",
    "        \"p-Kendall\": round(p_k, 3)\n",
    "    })\n",
    "\n",
    "# 5) In DataFrame und CSV\n",
    "df_country_corr = pd.DataFrame(results) \\\n",
    "    .sort_values(\"Spearman ρ\", ascending=False) \\\n",
    "    .reset_index(drop=True)\n",
    "\n",
    "print(df_country_corr)\n",
    "df_country_corr.to_csv(\"results/import_correlations.csv\", index=False)"
   ]
  },
  {
   "cell_type": "code",
   "execution_count": 51,
   "id": "1fb3a250",
   "metadata": {},
   "outputs": [
    {
     "data": {
      "application/vnd.plotly.v1+json": {
       "config": {
        "plotlyServerURL": "https://plot.ly"
       },
       "data": [
        {
         "coloraxis": "coloraxis",
         "geo": "geo",
         "hovertemplate": "<b>%{hovertext}</b><br><br>iso_a3=%{location}<br>Spearman ρ=%{z}<extra></extra>",
         "hovertext": [
          "Afghanistan",
          "Nepal",
          "China",
          "Singapore",
          "Luxembourg",
          "Mexico",
          "Bangladesh",
          "Pakistan",
          "Greece",
          "Ecuador",
          "Morocco",
          "Australia",
          "India",
          "Poland",
          "Israel",
          "Norway",
          "Estonia",
          "Denmark",
          "Colombia",
          "Sri Lanka",
          "Mali",
          "France",
          "Brazil",
          "New Zealand",
          "Portugal",
          "Austria",
          "Gabon",
          "Burkina Faso",
          "Malaysia",
          "Spain",
          "Qatar",
          "Zambia",
          "Belize",
          "Oman",
          "Thailand",
          "Italy",
          "Philippines",
          "Tunisia",
          "Saudi Arabia",
          "Canada",
          "Finland",
          "Bolivia",
          "Malta",
          "Azerbaijan",
          "Armenia",
          "Chile",
          "Brunei Darussalam",
          "Benin",
          "United States",
          "Netherlands",
          "Sweden",
          "Peru",
          "United Arab Emirates",
          "Kyrgyz Republic",
          "United Kingdom",
          "Lithuania",
          "Moldova",
          "Romania",
          "Togo",
          "Bahrain",
          "Ireland",
          "Honduras",
          "Japan",
          "Albania",
          "Dominican Republic",
          "Botswana",
          "Viet Nam",
          "Kenya",
          "Mauritania",
          "Germany",
          "Mauritius",
          "Uruguay",
          "Cameroon",
          "Fiji",
          "Switzerland",
          "Latvia",
          "Belarus",
          "Russian Federation",
          "Slovak Republic",
          "Ukraine",
          "Algeria",
          "Jamaica",
          "Cabo Verde",
          "Uganda",
          "Madagascar",
          "Belgium",
          "Mongolia",
          "Haiti",
          "Lesotho",
          "Iraq",
          "Paraguay",
          "Sudan",
          "Kuwait",
          "Bulgaria",
          "Angola",
          "Niger",
          "Mozambique",
          "Hungary",
          "Jordan",
          "Senegal",
          "Sierra Leone",
          "Kazakhstan",
          "Somalia",
          "Czechia",
          "Ethiopia",
          "Guatemala",
          "Tanzania",
          "Indonesia",
          "Tajikistan",
          "Rwanda",
          "Burundi",
          "Slovenia",
          "Namibia",
          "El Salvador",
          "Cambodia",
          "Serbia",
          "Lebanon",
          "Guinea",
          "South Africa",
          "Central African Republic",
          "Chad",
          "Montenegro",
          "Nicaragua",
          "Argentina",
          "Cyprus",
          "Guinea-Bissau",
          "Georgia",
          "Papua New Guinea",
          "Syrian Arab Republic",
          "Timor-Leste",
          "Uzbekistan",
          "Ghana",
          "Seychelles",
          "North Macedonia",
          "Eritrea",
          "Equatorial Guinea",
          "Panama",
          "Cuba",
          "Libya",
          "Croatia",
          "Zimbabwe",
          "Guyana",
          "Bosnia and Herzegovina",
          "Turkmenistan",
          "South Sudan"
         ],
         "locations": [
          "AFG",
          "NPL",
          "CHN",
          "SGP",
          "LUX",
          "MEX",
          "BGD",
          "PAK",
          "GRC",
          "ECU",
          "MAR",
          "AUS",
          "IND",
          "POL",
          "ISR",
          "NOR",
          "EST",
          "DNK",
          "COL",
          "LKA",
          "MLI",
          "FRA",
          "BRA",
          "NZL",
          "PRT",
          "AUT",
          "GAB",
          "BFA",
          "MYS",
          "ESP",
          "QAT",
          "ZMB",
          "BLZ",
          "OMN",
          "THA",
          "ITA",
          "PHL",
          "TUN",
          "SAU",
          "CAN",
          "FIN",
          "BOL",
          "MLT",
          "AZE",
          "ARM",
          "CHL",
          "BRN",
          "BEN",
          "USA",
          "NLD",
          "SWE",
          "PER",
          "ARE",
          "KGZ",
          "GBR",
          "LTU",
          "MDA",
          "ROU",
          "TGO",
          "BHR",
          "IRL",
          "HND",
          "JPN",
          "ALB",
          "DOM",
          "BWA",
          "VNM",
          "KEN",
          "MRT",
          "DEU",
          "MUS",
          "URY",
          "CMR",
          "FJI",
          "CHE",
          "LVA",
          "BLR",
          "RUS",
          "SVK",
          "UKR",
          "DZA",
          "JAM",
          "CPV",
          "UGA",
          "MDG",
          "BEL",
          "MNG",
          "HTI",
          "LSO",
          "IRQ",
          "PRY",
          "SDN",
          "KWT",
          "BGR",
          "AGO",
          "NER",
          "MOZ",
          "HUN",
          "JOR",
          "SEN",
          "SLE",
          "KAZ",
          "SOM",
          "CZE",
          "ETH",
          "GTM",
          "TZA",
          "IDN",
          "TJK",
          "RWA",
          "BDI",
          "SVN",
          "NAM",
          "SLV",
          "KHM",
          "SRB",
          "LBN",
          "GIN",
          "ZAF",
          "CAF",
          "TCD",
          "MNE",
          "NIC",
          "ARG",
          "CYP",
          "GNB",
          "GEO",
          "PNG",
          "SYR",
          "TLS",
          "UZB",
          "GHA",
          "SYC",
          "MKD",
          "ERI",
          "GNQ",
          "PAN",
          "CUB",
          "LBY",
          "HRV",
          "ZWE",
          "GUY",
          "BIH",
          "TKM",
          "SSD"
         ],
         "name": "",
         "type": "choropleth",
         "z": {
          "bdata": "AAAAAAAA8D9YObTIdr7vP1g5tMh2vu8/g8DKoUW27z+uR+F6FK7vP65H4XoUru8/2c73U+Ol7z/ZzvdT46XvPwRWDi2yne8/L90kBoGV7z9aZDvfT43vP1pkO99Pje8/hetRuB6F7z/b+X5qvHTvPzEIrBxaZO8/MQisHFpk7z9cj8L1KFzvP4cW2c73U+8/sp3vp8ZL7z8IrBxaZDvvP4lBYOXQIu8/CtejcD0K7z8K16NwPQrvPwrXo3A9Cu8/NV66SQwC7z9g5dAi2/nuP2Dl0CLb+e4/i2zn+6nx7j+28/3UeOnuPwwCK4cW2e4/DAIrhxbZ7j9iEFg5tMjuP2IQWDm0yO4/YhBYObTI7j+Nl24Sg8DuP42XbhKDwO4/jZduEoPA7j+4HoXrUbjuP7gehetRuO4/46WbxCCw7j/jpZvEILDuPw4tsp3vp+4/ObTIdr6f7j85tMh2vp/uP2Q730+Nl+4/j8L1KFyP7j+PwvUoXI/uP7pJDAIrh+4/EFg5tMh27j9mZmZmZmbuP5HtfD81Xu4/vHSTGARW7j/n+6nx0k3uP+kmMQisHO4/arx0kxgE7j9qvHSTGATuP5ZDi2zn++0/lkOLbOf77T+WQ4ts5/vtP8HKoUW28+0/7FG4HoXr7T/sUbgehevtPxfZzvdT4+0/QmDl0CLb7T9CYOXQItvtP28Sg8DKoe0/xSCwcmiR7T/FILByaJHtPxsv3SQGge0/Rrbz/dR47T9GtvP91HjtP/LSTWIQWO0/HVpkO99P7T9I4XoUrkftP3Noke18P+0/nu+nxks37T+e76fGSzftP3WTGARWDu0/oBov3SQG7T+gGi/dJAbtP8uhRbbz/ew/okW28/3U7D956SYxCKzsP8/3U+Olm+w/z/dT46Wb7D+mm8QgsHLsPycxCKwcWuw/001iEFg57D/TTWIQWDnsP1TjpZvEIOw/f2q8dJMY7D9/arx0kxjsP1YOLbKd7+s/AiuHFtnO6z8tsp3vp8brPy2yne+nxus/rkfhehSu6z+uR+F6FK7rPwRWDi2ynes/sHJoke186z/b+X5qvHTrP9v5fmq8dOs/sp3vp8ZL6z/dJAaBlUPrP90kBoGVQ+s/CtejcD0K6z+Nl24Sg8DqP7gehetRuOo/ke18PzVe6j/n+6nx0k3qP+kmMQisHOo/FK5H4XoU6j+WQ4ts5/vpP5huEoPAyuk/7nw/NV666T/FILByaJHpP0a28/3UeOk/zczMzMzM6D8nMQisHFroP6jGSzeJQeg/MQisHFpk5z9cj8L1KFznP4cW2c73U+c/MzMzMzMz5z/RItv5fmrkPy2yne+nxuM/LbKd76fG4z8K16NwPQrjP2Dl0CLb+eI/ObTIdr6f4j8Sg8DKoUXiPz0K16NwPeI/+n5qvHST4D/wp8ZLN4nZP6AaL90kBtk/9ihcj8L12D+kcD0K16PYP2ZmZmZmZtY/9P3UeOkm0T+iRbbz/dTIP/yp8dJNYmA/wcqhRbbzvb+4HoXrUbjOv39qvHSTGNS/CtejcD0K478=",
          "dtype": "f8"
         }
        }
       ],
       "layout": {
        "coloraxis": {
         "colorbar": {
          "title": {
           "text": "Spearman ρ"
          }
         },
         "colorscale": [
          [
           0,
           "rgb(255,247,236)"
          ],
          [
           0.125,
           "rgb(254,232,200)"
          ],
          [
           0.25,
           "rgb(253,212,158)"
          ],
          [
           0.375,
           "rgb(253,187,132)"
          ],
          [
           0.5,
           "rgb(252,141,89)"
          ],
          [
           0.625,
           "rgb(239,101,72)"
          ],
          [
           0.75,
           "rgb(215,48,31)"
          ],
          [
           0.875,
           "rgb(179,0,0)"
          ],
          [
           1,
           "rgb(127,0,0)"
          ]
         ]
        },
        "geo": {
         "center": {},
         "domain": {
          "x": [
           0,
           1
          ],
          "y": [
           0,
           1
          ]
         },
         "fitbounds": "locations",
         "projection": {
          "type": "natural earth"
         },
         "showcoastlines": true,
         "showland": true
        },
        "legend": {
         "tracegroupgap": 0
        },
        "margin": {
         "b": 0,
         "l": 0,
         "r": 0,
         "t": 40
        },
        "template": {
         "data": {
          "bar": [
           {
            "error_x": {
             "color": "#2a3f5f"
            },
            "error_y": {
             "color": "#2a3f5f"
            },
            "marker": {
             "line": {
              "color": "#E5ECF6",
              "width": 0.5
             },
             "pattern": {
              "fillmode": "overlay",
              "size": 10,
              "solidity": 0.2
             }
            },
            "type": "bar"
           }
          ],
          "barpolar": [
           {
            "marker": {
             "line": {
              "color": "#E5ECF6",
              "width": 0.5
             },
             "pattern": {
              "fillmode": "overlay",
              "size": 10,
              "solidity": 0.2
             }
            },
            "type": "barpolar"
           }
          ],
          "carpet": [
           {
            "aaxis": {
             "endlinecolor": "#2a3f5f",
             "gridcolor": "white",
             "linecolor": "white",
             "minorgridcolor": "white",
             "startlinecolor": "#2a3f5f"
            },
            "baxis": {
             "endlinecolor": "#2a3f5f",
             "gridcolor": "white",
             "linecolor": "white",
             "minorgridcolor": "white",
             "startlinecolor": "#2a3f5f"
            },
            "type": "carpet"
           }
          ],
          "choropleth": [
           {
            "colorbar": {
             "outlinewidth": 0,
             "ticks": ""
            },
            "type": "choropleth"
           }
          ],
          "contour": [
           {
            "colorbar": {
             "outlinewidth": 0,
             "ticks": ""
            },
            "colorscale": [
             [
              0,
              "#0d0887"
             ],
             [
              0.1111111111111111,
              "#46039f"
             ],
             [
              0.2222222222222222,
              "#7201a8"
             ],
             [
              0.3333333333333333,
              "#9c179e"
             ],
             [
              0.4444444444444444,
              "#bd3786"
             ],
             [
              0.5555555555555556,
              "#d8576b"
             ],
             [
              0.6666666666666666,
              "#ed7953"
             ],
             [
              0.7777777777777778,
              "#fb9f3a"
             ],
             [
              0.8888888888888888,
              "#fdca26"
             ],
             [
              1,
              "#f0f921"
             ]
            ],
            "type": "contour"
           }
          ],
          "contourcarpet": [
           {
            "colorbar": {
             "outlinewidth": 0,
             "ticks": ""
            },
            "type": "contourcarpet"
           }
          ],
          "heatmap": [
           {
            "colorbar": {
             "outlinewidth": 0,
             "ticks": ""
            },
            "colorscale": [
             [
              0,
              "#0d0887"
             ],
             [
              0.1111111111111111,
              "#46039f"
             ],
             [
              0.2222222222222222,
              "#7201a8"
             ],
             [
              0.3333333333333333,
              "#9c179e"
             ],
             [
              0.4444444444444444,
              "#bd3786"
             ],
             [
              0.5555555555555556,
              "#d8576b"
             ],
             [
              0.6666666666666666,
              "#ed7953"
             ],
             [
              0.7777777777777778,
              "#fb9f3a"
             ],
             [
              0.8888888888888888,
              "#fdca26"
             ],
             [
              1,
              "#f0f921"
             ]
            ],
            "type": "heatmap"
           }
          ],
          "histogram": [
           {
            "marker": {
             "pattern": {
              "fillmode": "overlay",
              "size": 10,
              "solidity": 0.2
             }
            },
            "type": "histogram"
           }
          ],
          "histogram2d": [
           {
            "colorbar": {
             "outlinewidth": 0,
             "ticks": ""
            },
            "colorscale": [
             [
              0,
              "#0d0887"
             ],
             [
              0.1111111111111111,
              "#46039f"
             ],
             [
              0.2222222222222222,
              "#7201a8"
             ],
             [
              0.3333333333333333,
              "#9c179e"
             ],
             [
              0.4444444444444444,
              "#bd3786"
             ],
             [
              0.5555555555555556,
              "#d8576b"
             ],
             [
              0.6666666666666666,
              "#ed7953"
             ],
             [
              0.7777777777777778,
              "#fb9f3a"
             ],
             [
              0.8888888888888888,
              "#fdca26"
             ],
             [
              1,
              "#f0f921"
             ]
            ],
            "type": "histogram2d"
           }
          ],
          "histogram2dcontour": [
           {
            "colorbar": {
             "outlinewidth": 0,
             "ticks": ""
            },
            "colorscale": [
             [
              0,
              "#0d0887"
             ],
             [
              0.1111111111111111,
              "#46039f"
             ],
             [
              0.2222222222222222,
              "#7201a8"
             ],
             [
              0.3333333333333333,
              "#9c179e"
             ],
             [
              0.4444444444444444,
              "#bd3786"
             ],
             [
              0.5555555555555556,
              "#d8576b"
             ],
             [
              0.6666666666666666,
              "#ed7953"
             ],
             [
              0.7777777777777778,
              "#fb9f3a"
             ],
             [
              0.8888888888888888,
              "#fdca26"
             ],
             [
              1,
              "#f0f921"
             ]
            ],
            "type": "histogram2dcontour"
           }
          ],
          "mesh3d": [
           {
            "colorbar": {
             "outlinewidth": 0,
             "ticks": ""
            },
            "type": "mesh3d"
           }
          ],
          "parcoords": [
           {
            "line": {
             "colorbar": {
              "outlinewidth": 0,
              "ticks": ""
             }
            },
            "type": "parcoords"
           }
          ],
          "pie": [
           {
            "automargin": true,
            "type": "pie"
           }
          ],
          "scatter": [
           {
            "fillpattern": {
             "fillmode": "overlay",
             "size": 10,
             "solidity": 0.2
            },
            "type": "scatter"
           }
          ],
          "scatter3d": [
           {
            "line": {
             "colorbar": {
              "outlinewidth": 0,
              "ticks": ""
             }
            },
            "marker": {
             "colorbar": {
              "outlinewidth": 0,
              "ticks": ""
             }
            },
            "type": "scatter3d"
           }
          ],
          "scattercarpet": [
           {
            "marker": {
             "colorbar": {
              "outlinewidth": 0,
              "ticks": ""
             }
            },
            "type": "scattercarpet"
           }
          ],
          "scattergeo": [
           {
            "marker": {
             "colorbar": {
              "outlinewidth": 0,
              "ticks": ""
             }
            },
            "type": "scattergeo"
           }
          ],
          "scattergl": [
           {
            "marker": {
             "colorbar": {
              "outlinewidth": 0,
              "ticks": ""
             }
            },
            "type": "scattergl"
           }
          ],
          "scattermap": [
           {
            "marker": {
             "colorbar": {
              "outlinewidth": 0,
              "ticks": ""
             }
            },
            "type": "scattermap"
           }
          ],
          "scattermapbox": [
           {
            "marker": {
             "colorbar": {
              "outlinewidth": 0,
              "ticks": ""
             }
            },
            "type": "scattermapbox"
           }
          ],
          "scatterpolar": [
           {
            "marker": {
             "colorbar": {
              "outlinewidth": 0,
              "ticks": ""
             }
            },
            "type": "scatterpolar"
           }
          ],
          "scatterpolargl": [
           {
            "marker": {
             "colorbar": {
              "outlinewidth": 0,
              "ticks": ""
             }
            },
            "type": "scatterpolargl"
           }
          ],
          "scatterternary": [
           {
            "marker": {
             "colorbar": {
              "outlinewidth": 0,
              "ticks": ""
             }
            },
            "type": "scatterternary"
           }
          ],
          "surface": [
           {
            "colorbar": {
             "outlinewidth": 0,
             "ticks": ""
            },
            "colorscale": [
             [
              0,
              "#0d0887"
             ],
             [
              0.1111111111111111,
              "#46039f"
             ],
             [
              0.2222222222222222,
              "#7201a8"
             ],
             [
              0.3333333333333333,
              "#9c179e"
             ],
             [
              0.4444444444444444,
              "#bd3786"
             ],
             [
              0.5555555555555556,
              "#d8576b"
             ],
             [
              0.6666666666666666,
              "#ed7953"
             ],
             [
              0.7777777777777778,
              "#fb9f3a"
             ],
             [
              0.8888888888888888,
              "#fdca26"
             ],
             [
              1,
              "#f0f921"
             ]
            ],
            "type": "surface"
           }
          ],
          "table": [
           {
            "cells": {
             "fill": {
              "color": "#EBF0F8"
             },
             "line": {
              "color": "white"
             }
            },
            "header": {
             "fill": {
              "color": "#C8D4E3"
             },
             "line": {
              "color": "white"
             }
            },
            "type": "table"
           }
          ]
         },
         "layout": {
          "annotationdefaults": {
           "arrowcolor": "#2a3f5f",
           "arrowhead": 0,
           "arrowwidth": 1
          },
          "autotypenumbers": "strict",
          "coloraxis": {
           "colorbar": {
            "outlinewidth": 0,
            "ticks": ""
           }
          },
          "colorscale": {
           "diverging": [
            [
             0,
             "#8e0152"
            ],
            [
             0.1,
             "#c51b7d"
            ],
            [
             0.2,
             "#de77ae"
            ],
            [
             0.3,
             "#f1b6da"
            ],
            [
             0.4,
             "#fde0ef"
            ],
            [
             0.5,
             "#f7f7f7"
            ],
            [
             0.6,
             "#e6f5d0"
            ],
            [
             0.7,
             "#b8e186"
            ],
            [
             0.8,
             "#7fbc41"
            ],
            [
             0.9,
             "#4d9221"
            ],
            [
             1,
             "#276419"
            ]
           ],
           "sequential": [
            [
             0,
             "#0d0887"
            ],
            [
             0.1111111111111111,
             "#46039f"
            ],
            [
             0.2222222222222222,
             "#7201a8"
            ],
            [
             0.3333333333333333,
             "#9c179e"
            ],
            [
             0.4444444444444444,
             "#bd3786"
            ],
            [
             0.5555555555555556,
             "#d8576b"
            ],
            [
             0.6666666666666666,
             "#ed7953"
            ],
            [
             0.7777777777777778,
             "#fb9f3a"
            ],
            [
             0.8888888888888888,
             "#fdca26"
            ],
            [
             1,
             "#f0f921"
            ]
           ],
           "sequentialminus": [
            [
             0,
             "#0d0887"
            ],
            [
             0.1111111111111111,
             "#46039f"
            ],
            [
             0.2222222222222222,
             "#7201a8"
            ],
            [
             0.3333333333333333,
             "#9c179e"
            ],
            [
             0.4444444444444444,
             "#bd3786"
            ],
            [
             0.5555555555555556,
             "#d8576b"
            ],
            [
             0.6666666666666666,
             "#ed7953"
            ],
            [
             0.7777777777777778,
             "#fb9f3a"
            ],
            [
             0.8888888888888888,
             "#fdca26"
            ],
            [
             1,
             "#f0f921"
            ]
           ]
          },
          "colorway": [
           "#636efa",
           "#EF553B",
           "#00cc96",
           "#ab63fa",
           "#FFA15A",
           "#19d3f3",
           "#FF6692",
           "#B6E880",
           "#FF97FF",
           "#FECB52"
          ],
          "font": {
           "color": "#2a3f5f"
          },
          "geo": {
           "bgcolor": "white",
           "lakecolor": "white",
           "landcolor": "#E5ECF6",
           "showlakes": true,
           "showland": true,
           "subunitcolor": "white"
          },
          "hoverlabel": {
           "align": "left"
          },
          "hovermode": "closest",
          "mapbox": {
           "style": "light"
          },
          "paper_bgcolor": "white",
          "plot_bgcolor": "#E5ECF6",
          "polar": {
           "angularaxis": {
            "gridcolor": "white",
            "linecolor": "white",
            "ticks": ""
           },
           "bgcolor": "#E5ECF6",
           "radialaxis": {
            "gridcolor": "white",
            "linecolor": "white",
            "ticks": ""
           }
          },
          "scene": {
           "xaxis": {
            "backgroundcolor": "#E5ECF6",
            "gridcolor": "white",
            "gridwidth": 2,
            "linecolor": "white",
            "showbackground": true,
            "ticks": "",
            "zerolinecolor": "white"
           },
           "yaxis": {
            "backgroundcolor": "#E5ECF6",
            "gridcolor": "white",
            "gridwidth": 2,
            "linecolor": "white",
            "showbackground": true,
            "ticks": "",
            "zerolinecolor": "white"
           },
           "zaxis": {
            "backgroundcolor": "#E5ECF6",
            "gridcolor": "white",
            "gridwidth": 2,
            "linecolor": "white",
            "showbackground": true,
            "ticks": "",
            "zerolinecolor": "white"
           }
          },
          "shapedefaults": {
           "line": {
            "color": "#2a3f5f"
           }
          },
          "ternary": {
           "aaxis": {
            "gridcolor": "white",
            "linecolor": "white",
            "ticks": ""
           },
           "baxis": {
            "gridcolor": "white",
            "linecolor": "white",
            "ticks": ""
           },
           "bgcolor": "#E5ECF6",
           "caxis": {
            "gridcolor": "white",
            "linecolor": "white",
            "ticks": ""
           }
          },
          "title": {
           "x": 0.05
          },
          "xaxis": {
           "automargin": true,
           "gridcolor": "white",
           "linecolor": "white",
           "ticks": "",
           "title": {
            "standoff": 15
           },
           "zerolinecolor": "white",
           "zerolinewidth": 2
          },
          "yaxis": {
           "automargin": true,
           "gridcolor": "white",
           "linecolor": "white",
           "ticks": "",
           "title": {
            "standoff": 15
           },
           "zerolinecolor": "white",
           "zerolinewidth": 2
          }
         }
        },
        "title": {
         "text": "Interaktive Spearman-ρ Karte: Importe vs. Militär"
        }
       }
      }
     },
     "metadata": {},
     "output_type": "display_data"
    }
   ],
   "source": [
    "df_corr = pd.read_csv('results/import_correlations.csv')\n",
    "\n",
    "def iso3(name):\n",
    "    try:\n",
    "        return pycountry.countries.lookup(name).alpha_3\n",
    "    except LookupError:\n",
    "        return None\n",
    "\n",
    "df_corr['iso_a3'] = df_corr['Country Name'].apply(iso3)\n",
    "\n",
    "df_map = df_corr.dropna(subset=['iso_a3'])\n",
    "\n",
    "fig = px.choropleth(\n",
    "    df_map,\n",
    "    locations='iso_a3',\n",
    "    color='Spearman ρ',\n",
    "    hover_name='Country Name',\n",
    "    color_continuous_scale='OrRd',\n",
    "    projection='natural earth',\n",
    "    title='Interaktive Spearman-ρ Karte: Importe vs. Militär'\n",
    ")\n",
    "\n",
    "fig.update_geos(showcoastlines=True, showland=True, fitbounds='locations')\n",
    "fig.update_layout(margin={'r':0,'t':40,'l':0,'b':0})\n",
    "fig.show()"
   ]
  },
  {
   "cell_type": "markdown",
   "id": "ed9ffa8a",
   "metadata": {},
   "source": [
    "# Korrelation Exportüberschuss - Militärausgaben"
   ]
  },
  {
   "cell_type": "code",
   "execution_count": 52,
   "id": "ef08c5c1",
   "metadata": {},
   "outputs": [],
   "source": [
    "df_military = pd.read_csv(\"data/military_expenditure.csv\", sep=',', skiprows=4)\n",
    "df_military = df_military.drop(columns=[\"Indicator Name\", \"Indicator Code\", \"2024\", \"Unnamed: 69\"])\n",
    "df_military = clean_df(df_military)"
   ]
  },
  {
   "cell_type": "code",
   "execution_count": 53,
   "id": "9a3b271b",
   "metadata": {},
   "outputs": [],
   "source": [
    "df_import = pd.read_csv(\"data/imports.csv\", sep=',', skiprows=4)\n",
    "df_import = df_import.drop(columns=[\"Indicator Name\", \"Indicator Code\", \"2024\", \"Unnamed: 69\"])\n",
    "df_import = clean_df(df_import)"
   ]
  },
  {
   "cell_type": "code",
   "execution_count": 54,
   "id": "18641a2f",
   "metadata": {},
   "outputs": [],
   "source": [
    "df_export = pd.read_csv(\"data/exports.csv\", sep=',', skiprows=4)\n",
    "df_export = df_export.drop(columns=[\"Indicator Name\", \"Indicator Code\", \"2024\", \"Unnamed: 69\"])\n",
    "df_export = clean_df(df_export)"
   ]
  },
  {
   "cell_type": "code",
   "execution_count": 55,
   "id": "76197dab",
   "metadata": {},
   "outputs": [
    {
     "name": "stdout",
     "output_type": "stream",
     "text": [
      "          Country Name          1960          1961          1962  \\\n",
      "0          Afghanistan -1.555555e+07 -1.999999e+07 -2.444443e+07   \n",
      "1              Albania           NaN           NaN           NaN   \n",
      "2              Algeria -7.653484e+08 -5.176081e+08 -2.051028e+07   \n",
      "3               Angola           NaN           NaN           NaN   \n",
      "4  Antigua and Barbuda           NaN           NaN           NaN   \n",
      "\n",
      "           1963          1964          1965          1966          1967  \\\n",
      "0 -5.777780e+07 -7.333331e+07 -1.022222e+08 -1.400000e+08 -1.244444e+08   \n",
      "1           NaN           NaN           NaN           NaN           NaN   \n",
      "2 -3.281645e+08 -1.267212e+08 -1.012748e+08  4.050994e+07  6.076491e+07   \n",
      "3           NaN           NaN           NaN           NaN           NaN   \n",
      "4           NaN           NaN           NaN           NaN           NaN   \n",
      "\n",
      "           1968  ...          2014          2015          2016          2017  \\\n",
      "0 -8.666667e+07  ...           NaN           NaN           NaN           NaN   \n",
      "1           NaN  ... -2.510946e+09 -1.966080e+09 -1.999094e+09 -1.960075e+09   \n",
      "2 -4.050994e+07  ... -4.025155e+09 -2.277739e+10 -2.311528e+10 -1.738067e+10   \n",
      "3           NaN  ...  1.367437e+10 -3.058164e+09  1.518908e+09  4.238202e+09   \n",
      "4           NaN  ...  1.030630e+08  1.629741e+08  1.195000e+08  1.792222e+07   \n",
      "\n",
      "           2018          2019          2020          2021          2022  \\\n",
      "0           NaN           NaN -5.162252e+09 -3.240928e+09 -5.237185e+09   \n",
      "1 -2.071012e+09 -2.105530e+09 -2.200742e+09 -2.402635e+09 -1.959517e+09   \n",
      "2 -1.087551e+10 -1.100971e+10 -1.536514e+10  9.623557e+07  2.350156e+10   \n",
      "3  1.215164e+10  1.683966e+10  5.183387e+09  1.398340e+10  1.993222e+10   \n",
      "4 -9.494074e+07  1.366667e+07 -1.484704e+08 -1.145926e+08 -1.541037e+08   \n",
      "\n",
      "           2023  \n",
      "0 -5.811514e+09  \n",
      "1 -1.215864e+09  \n",
      "2  8.805979e+09  \n",
      "3  1.244536e+10  \n",
      "4           NaN  \n",
      "\n",
      "[5 rows x 65 columns]\n"
     ]
    }
   ],
   "source": [
    "year_cols = [c for c in df_export.columns if c.isdigit()]\n",
    "\n",
    "# 3) Setze Country Name als Index (optional, macht's übersichtlicher)\n",
    "df_exp2 = df_export.set_index(\"Country Name\")\n",
    "df_imp2 = df_import.set_index(\"Country Name\")\n",
    "\n",
    "# 4) Berechne den Überschuss je Jahr\n",
    "df_surplus = df_exp2[year_cols] - df_imp2[year_cols]\n",
    "\n",
    "# 5) (Optional) Index zurück als Spalte\n",
    "df_surplus = df_surplus.reset_index()\n",
    "\n",
    "# 6) Ergebnis anschauen und speichern\n",
    "print(df_surplus.head())"
   ]
  },
  {
   "cell_type": "code",
   "execution_count": 56,
   "id": "31ba5251",
   "metadata": {},
   "outputs": [],
   "source": [
    "df_surplus, df_military = filter_for_same_columns(df_surplus, df_military)"
   ]
  },
  {
   "cell_type": "code",
   "execution_count": 57,
   "id": "77137461",
   "metadata": {},
   "outputs": [
    {
     "name": "stdout",
     "output_type": "stream",
     "text": [
      "        Country Name  n Jahre  Spearman ρ  p-Spearman  Kendall τ_b  p-Kendall\n",
      "0          Singapore       54       0.980         0.0        0.898        0.0\n",
      "1         Luxembourg       54       0.961         0.0        0.842        0.0\n",
      "2        Netherlands       55       0.943         0.0        0.797        0.0\n",
      "3              Qatar       11       0.936         0.0        0.855        0.0\n",
      "4            Denmark       58       0.910         0.0        0.722        0.0\n",
      "..               ...      ...         ...         ...          ...        ...\n",
      "152  Kyrgyz Republic       30      -0.916         0.0       -0.766        0.0\n",
      "153         Honduras       57      -0.916         0.0       -0.760        0.0\n",
      "154        Sri Lanka       58      -0.941         0.0       -0.792        0.0\n",
      "155       Bangladesh       51      -0.955         0.0       -0.835        0.0\n",
      "156            Nepal       54      -0.986         0.0       -0.913        0.0\n",
      "\n",
      "[157 rows x 6 columns]\n"
     ]
    }
   ],
   "source": [
    "df = df_surplus.merge(df_military, on=\"Country Name\", suffixes=(\"_surp\", \"_mil\"))\n",
    "\n",
    "years = [c for c in df_surplus.columns if c.isdigit() and c in df_military.columns]\n",
    "\n",
    "results = []\n",
    "for _, row in df.iterrows():\n",
    "    country = row[\"Country Name\"]\n",
    "\n",
    "    x = pd.to_numeric(row[[f\"{y}_surp\" for y in years]], errors=\"coerce\").to_numpy()\n",
    "    y = pd.to_numeric(row[[f\"{y}_mil\" for y in years]], errors=\"coerce\").to_numpy()\n",
    "    \n",
    "    mask = (~np.isnan(x)) & (x != 0) & (~np.isnan(y)) & (y != 0)\n",
    "    x_valid = x[mask]\n",
    "    y_valid = y[mask]\n",
    "    \n",
    "    if len(x_valid) < 3:\n",
    "        continue\n",
    "    \n",
    "    # Spearman ρ\n",
    "    rho, p_s = spearmanr(x_valid, y_valid)\n",
    "    # Kendall's τ_b\n",
    "    tau, p_k = kendalltau(x_valid, y_valid)\n",
    "    \n",
    "    results.append({\n",
    "        \"Country Name\": country,\n",
    "        \"n Jahre\": len(x_valid),\n",
    "        \"Spearman ρ\": round(rho, 3),\n",
    "        \"p-Spearman\": round(p_s, 3),\n",
    "        \"Kendall τ_b\": round(tau, 3),\n",
    "        \"p-Kendall\": round(p_k, 3)\n",
    "    })\n",
    "\n",
    "# 5) In DataFrame und CSV\n",
    "df_country_corr = pd.DataFrame(results) \\\n",
    "    .sort_values(\"Spearman ρ\", ascending=False) \\\n",
    "    .reset_index(drop=True)\n",
    "\n",
    "print(df_country_corr)\n",
    "df_country_corr.to_csv(\"results/surplus_correlations.csv\", index=False)"
   ]
  },
  {
   "cell_type": "code",
   "execution_count": 58,
   "id": "ee0b1ea8",
   "metadata": {},
   "outputs": [
    {
     "data": {
      "application/vnd.plotly.v1+json": {
       "config": {
        "plotlyServerURL": "https://plot.ly"
       },
       "data": [
        {
         "coloraxis": "coloraxis",
         "geo": "geo",
         "hovertemplate": "<b>%{hovertext}</b><br><br>iso_a3=%{location}<br>Spearman ρ=%{z}<extra></extra>",
         "hovertext": [
          "Singapore",
          "Luxembourg",
          "Netherlands",
          "Qatar",
          "Denmark",
          "China",
          "United Arab Emirates",
          "Ireland",
          "Gabon",
          "Switzerland",
          "Kazakhstan",
          "Bahrain",
          "Sweden",
          "Norway",
          "Oman",
          "Germany",
          "Azerbaijan",
          "Russian Federation",
          "Malaysia",
          "Czechia",
          "Malta",
          "Poland",
          "Austria",
          "Israel",
          "Saudi Arabia",
          "Equatorial Guinea",
          "Panama",
          "Cuba",
          "Lithuania",
          "Iraq",
          "Angola",
          "Paraguay",
          "Estonia",
          "Slovenia",
          "Slovak Republic",
          "Kuwait",
          "Thailand",
          "Viet Nam",
          "Belize",
          "Belarus",
          "Brunei Darussalam",
          "Ecuador",
          "Zambia",
          "South Africa",
          "New Zealand",
          "Hungary",
          "Italy",
          "Belgium",
          "Timor-Leste",
          "Algeria",
          "Peru",
          "Turkmenistan",
          "Indonesia",
          "Chile",
          "Uruguay",
          "Bulgaria",
          "Spain",
          "Papua New Guinea",
          "Zimbabwe",
          "Finland",
          "Japan",
          "Latvia",
          "Australia",
          "Cyprus",
          "Guinea-Bissau",
          "Croatia",
          "Botswana",
          "Guyana",
          "Brazil",
          "Canada",
          "Chad",
          "Bolivia",
          "Libya",
          "South Sudan",
          "Argentina",
          "Seychelles",
          "Portugal",
          "Mongolia",
          "Cambodia",
          "Tanzania",
          "Armenia",
          "Syrian Arab Republic",
          "North Macedonia",
          "France",
          "Ghana",
          "Bosnia and Herzegovina",
          "Sudan",
          "Serbia",
          "Cameroon",
          "Romania",
          "Ethiopia",
          "Nicaragua",
          "Eritrea",
          "Guinea",
          "Uzbekistan",
          "Mexico",
          "Montenegro",
          "Lebanon",
          "United Kingdom",
          "Burkina Faso",
          "Central African Republic",
          "Philippines",
          "Mauritius",
          "Colombia",
          "Sierra Leone",
          "Namibia",
          "Georgia",
          "Fiji",
          "Albania",
          "Mozambique",
          "Guatemala",
          "El Salvador",
          "Burundi",
          "Somalia",
          "Cabo Verde",
          "Ukraine",
          "Mauritania",
          "Afghanistan",
          "Rwanda",
          "Uganda",
          "Madagascar",
          "Tajikistan",
          "Senegal",
          "Jordan",
          "Pakistan",
          "Jamaica",
          "India",
          "Moldova",
          "Tunisia",
          "Dominican Republic",
          "Niger",
          "Greece",
          "Lesotho",
          "Kenya",
          "Haiti",
          "Morocco",
          "Togo",
          "Benin",
          "United States",
          "Mali",
          "Kyrgyz Republic",
          "Honduras",
          "Sri Lanka",
          "Bangladesh",
          "Nepal"
         ],
         "locations": [
          "SGP",
          "LUX",
          "NLD",
          "QAT",
          "DNK",
          "CHN",
          "ARE",
          "IRL",
          "GAB",
          "CHE",
          "KAZ",
          "BHR",
          "SWE",
          "NOR",
          "OMN",
          "DEU",
          "AZE",
          "RUS",
          "MYS",
          "CZE",
          "MLT",
          "POL",
          "AUT",
          "ISR",
          "SAU",
          "GNQ",
          "PAN",
          "CUB",
          "LTU",
          "IRQ",
          "AGO",
          "PRY",
          "EST",
          "SVN",
          "SVK",
          "KWT",
          "THA",
          "VNM",
          "BLZ",
          "BLR",
          "BRN",
          "ECU",
          "ZMB",
          "ZAF",
          "NZL",
          "HUN",
          "ITA",
          "BEL",
          "TLS",
          "DZA",
          "PER",
          "TKM",
          "IDN",
          "CHL",
          "URY",
          "BGR",
          "ESP",
          "PNG",
          "ZWE",
          "FIN",
          "JPN",
          "LVA",
          "AUS",
          "CYP",
          "GNB",
          "HRV",
          "BWA",
          "GUY",
          "BRA",
          "CAN",
          "TCD",
          "BOL",
          "LBY",
          "SSD",
          "ARG",
          "SYC",
          "PRT",
          "MNG",
          "KHM",
          "TZA",
          "ARM",
          "SYR",
          "MKD",
          "FRA",
          "GHA",
          "BIH",
          "SDN",
          "SRB",
          "CMR",
          "ROU",
          "ETH",
          "NIC",
          "ERI",
          "GIN",
          "UZB",
          "MEX",
          "MNE",
          "LBN",
          "GBR",
          "BFA",
          "CAF",
          "PHL",
          "MUS",
          "COL",
          "SLE",
          "NAM",
          "GEO",
          "FJI",
          "ALB",
          "MOZ",
          "GTM",
          "SLV",
          "BDI",
          "SOM",
          "CPV",
          "UKR",
          "MRT",
          "AFG",
          "RWA",
          "UGA",
          "MDG",
          "TJK",
          "SEN",
          "JOR",
          "PAK",
          "JAM",
          "IND",
          "MDA",
          "TUN",
          "DOM",
          "NER",
          "GRC",
          "LSO",
          "KEN",
          "HTI",
          "MAR",
          "TGO",
          "BEN",
          "USA",
          "MLI",
          "KGZ",
          "HND",
          "LKA",
          "BGD",
          "NPL"
         ],
         "name": "",
         "type": "choropleth",
         "z": {
          "bdata": "XI/C9Shc7z+Nl24Sg8DuP5MYBFYOLe4/wcqhRbbz7T8fhetRuB7tP3sUrkfheuw/exSuR+F67D+mm8QgsHLsP/7UeOkmMew/ObTIdr6f6j85tMh2vp/qP5HtfD81Xuo/7FG4HoXr6T9GtvP91HjpPylcj8L1KOg/VOOlm8Qg6D+sHFpkO9/nP4PAyqFFtuc/2/l+arx05z+TGARWDi3mP9NNYhBYOeQ/EFg5tMh24j8730+Nl27iP5HtfD81XuI/wcqhRbbz4T/sUbgehevhP05iEFg5tOA/AiuHFtnO3z++nxov3STePyUGgZVDi9w/ppvEILBy2D8CK4cW2c7XPxKDwMqhRdY/wcqhRbbz1T/HSzeJQWDVP3Noke18P9U/c2iR7Xw/1T8fhetRuB7VP3sUrkfhetQ/VOOlm8Qg0D+4HoXrUbjOP7x0kxgEVs4/aJHtfD81zj9xPQrXo3DNPyGwcmiR7cw/ObTIdr6fyj9mZmZmZmbGP8dLN4lBYMU/d76fGi/dxD/TTWIQWDnEP4/C9Shcj8I/5/up8dJNwj/RItv5fmq8P9NNYhBYObQ/7FG4HoXrsT+q8dJNYhCoP4ts5/up8aI/nMQgsHJokT/6fmq8dJOIP5zEILByaKG/6SYxCKwcqr+LbOf7qfGyv3Noke18P7W/Gy/dJAaBtb9U46WbxCDAv6jGSzeJQcC/TDeJQWDlwL+cxCCwcmjBvzeJQWDl0MK/lkOLbOf7yb8pXI/C9SjMv8l2vp8aL82/tMh2vp8az7/4U+Olm8TQv0SLbOf7qdG/hetRuB6F078v3SQGgZXTv3E9CtejcNW/kxgEVg4t2r81XrpJDALbvzMzMzMzM9u/g8DKoUW22797FK5H4XrcvyGwcmiR7dy/H4XrUbge3b9eukkMAivfv30/NV66SeC/ukkMAiuH4r85tMh2vp/iv7TIdr6fGuO/hxbZzvdT47+HFtnO91PjvycxCKwcWuS//Knx0k1i5L/6fmq8dJPkv0jhehSuR+W/Gy/dJAaB5b8X2c73U+Plv8HKoUW28+W/wcqhRbbz5b/dJAaBlUPnv90kBoGVQ+e/MQisHFpk57+DwMqhRbbnv/yp8dJNYui/H4XrUbge6b9zaJHtfD/pvxsv3SQGgem/mpmZmZmZ6b8ZBFYOLbLpv+xRuB6F6+m/PzVeukkM6r/pJjEIrBzqv5MYBFYOLeq/aJHtfD816r8Sg8DKoUXqv+XQItv5fuq/Di2yne+n6r+0yHa+nxrrvzMzMzMzM+u/3SQGgZVD67/dJAaBlUPrvzEIrBxaZOu/MQisHFpk678EVg4tsp3rvwRWDi2yneu/WDm0yHa+678CK4cW2c7rv4GVQ4ts5+u/Vg4tsp3v67/VeOkmMQjsv1K4HoXrUey/JzEIrBxa7L+kcD0K16Psv3npJjEIrOy/eekmMQis7L9MN4lBYOXsvyGwcmiR7ey/y6FFtvP97L8fhetRuB7tvx1aZDvfT+2/HVpkO99P7b/pJjEIrBzuv4/C9Shcj+6/WmQ730+N778=",
          "dtype": "f8"
         }
        }
       ],
       "layout": {
        "coloraxis": {
         "colorbar": {
          "title": {
           "text": "Spearman ρ"
          }
         },
         "colorscale": [
          [
           0,
           "rgb(255,247,236)"
          ],
          [
           0.125,
           "rgb(254,232,200)"
          ],
          [
           0.25,
           "rgb(253,212,158)"
          ],
          [
           0.375,
           "rgb(253,187,132)"
          ],
          [
           0.5,
           "rgb(252,141,89)"
          ],
          [
           0.625,
           "rgb(239,101,72)"
          ],
          [
           0.75,
           "rgb(215,48,31)"
          ],
          [
           0.875,
           "rgb(179,0,0)"
          ],
          [
           1,
           "rgb(127,0,0)"
          ]
         ]
        },
        "geo": {
         "center": {},
         "domain": {
          "x": [
           0,
           1
          ],
          "y": [
           0,
           1
          ]
         },
         "fitbounds": "locations",
         "projection": {
          "type": "natural earth"
         },
         "showcoastlines": true,
         "showland": true
        },
        "legend": {
         "tracegroupgap": 0
        },
        "margin": {
         "b": 0,
         "l": 0,
         "r": 0,
         "t": 40
        },
        "template": {
         "data": {
          "bar": [
           {
            "error_x": {
             "color": "#2a3f5f"
            },
            "error_y": {
             "color": "#2a3f5f"
            },
            "marker": {
             "line": {
              "color": "#E5ECF6",
              "width": 0.5
             },
             "pattern": {
              "fillmode": "overlay",
              "size": 10,
              "solidity": 0.2
             }
            },
            "type": "bar"
           }
          ],
          "barpolar": [
           {
            "marker": {
             "line": {
              "color": "#E5ECF6",
              "width": 0.5
             },
             "pattern": {
              "fillmode": "overlay",
              "size": 10,
              "solidity": 0.2
             }
            },
            "type": "barpolar"
           }
          ],
          "carpet": [
           {
            "aaxis": {
             "endlinecolor": "#2a3f5f",
             "gridcolor": "white",
             "linecolor": "white",
             "minorgridcolor": "white",
             "startlinecolor": "#2a3f5f"
            },
            "baxis": {
             "endlinecolor": "#2a3f5f",
             "gridcolor": "white",
             "linecolor": "white",
             "minorgridcolor": "white",
             "startlinecolor": "#2a3f5f"
            },
            "type": "carpet"
           }
          ],
          "choropleth": [
           {
            "colorbar": {
             "outlinewidth": 0,
             "ticks": ""
            },
            "type": "choropleth"
           }
          ],
          "contour": [
           {
            "colorbar": {
             "outlinewidth": 0,
             "ticks": ""
            },
            "colorscale": [
             [
              0,
              "#0d0887"
             ],
             [
              0.1111111111111111,
              "#46039f"
             ],
             [
              0.2222222222222222,
              "#7201a8"
             ],
             [
              0.3333333333333333,
              "#9c179e"
             ],
             [
              0.4444444444444444,
              "#bd3786"
             ],
             [
              0.5555555555555556,
              "#d8576b"
             ],
             [
              0.6666666666666666,
              "#ed7953"
             ],
             [
              0.7777777777777778,
              "#fb9f3a"
             ],
             [
              0.8888888888888888,
              "#fdca26"
             ],
             [
              1,
              "#f0f921"
             ]
            ],
            "type": "contour"
           }
          ],
          "contourcarpet": [
           {
            "colorbar": {
             "outlinewidth": 0,
             "ticks": ""
            },
            "type": "contourcarpet"
           }
          ],
          "heatmap": [
           {
            "colorbar": {
             "outlinewidth": 0,
             "ticks": ""
            },
            "colorscale": [
             [
              0,
              "#0d0887"
             ],
             [
              0.1111111111111111,
              "#46039f"
             ],
             [
              0.2222222222222222,
              "#7201a8"
             ],
             [
              0.3333333333333333,
              "#9c179e"
             ],
             [
              0.4444444444444444,
              "#bd3786"
             ],
             [
              0.5555555555555556,
              "#d8576b"
             ],
             [
              0.6666666666666666,
              "#ed7953"
             ],
             [
              0.7777777777777778,
              "#fb9f3a"
             ],
             [
              0.8888888888888888,
              "#fdca26"
             ],
             [
              1,
              "#f0f921"
             ]
            ],
            "type": "heatmap"
           }
          ],
          "histogram": [
           {
            "marker": {
             "pattern": {
              "fillmode": "overlay",
              "size": 10,
              "solidity": 0.2
             }
            },
            "type": "histogram"
           }
          ],
          "histogram2d": [
           {
            "colorbar": {
             "outlinewidth": 0,
             "ticks": ""
            },
            "colorscale": [
             [
              0,
              "#0d0887"
             ],
             [
              0.1111111111111111,
              "#46039f"
             ],
             [
              0.2222222222222222,
              "#7201a8"
             ],
             [
              0.3333333333333333,
              "#9c179e"
             ],
             [
              0.4444444444444444,
              "#bd3786"
             ],
             [
              0.5555555555555556,
              "#d8576b"
             ],
             [
              0.6666666666666666,
              "#ed7953"
             ],
             [
              0.7777777777777778,
              "#fb9f3a"
             ],
             [
              0.8888888888888888,
              "#fdca26"
             ],
             [
              1,
              "#f0f921"
             ]
            ],
            "type": "histogram2d"
           }
          ],
          "histogram2dcontour": [
           {
            "colorbar": {
             "outlinewidth": 0,
             "ticks": ""
            },
            "colorscale": [
             [
              0,
              "#0d0887"
             ],
             [
              0.1111111111111111,
              "#46039f"
             ],
             [
              0.2222222222222222,
              "#7201a8"
             ],
             [
              0.3333333333333333,
              "#9c179e"
             ],
             [
              0.4444444444444444,
              "#bd3786"
             ],
             [
              0.5555555555555556,
              "#d8576b"
             ],
             [
              0.6666666666666666,
              "#ed7953"
             ],
             [
              0.7777777777777778,
              "#fb9f3a"
             ],
             [
              0.8888888888888888,
              "#fdca26"
             ],
             [
              1,
              "#f0f921"
             ]
            ],
            "type": "histogram2dcontour"
           }
          ],
          "mesh3d": [
           {
            "colorbar": {
             "outlinewidth": 0,
             "ticks": ""
            },
            "type": "mesh3d"
           }
          ],
          "parcoords": [
           {
            "line": {
             "colorbar": {
              "outlinewidth": 0,
              "ticks": ""
             }
            },
            "type": "parcoords"
           }
          ],
          "pie": [
           {
            "automargin": true,
            "type": "pie"
           }
          ],
          "scatter": [
           {
            "fillpattern": {
             "fillmode": "overlay",
             "size": 10,
             "solidity": 0.2
            },
            "type": "scatter"
           }
          ],
          "scatter3d": [
           {
            "line": {
             "colorbar": {
              "outlinewidth": 0,
              "ticks": ""
             }
            },
            "marker": {
             "colorbar": {
              "outlinewidth": 0,
              "ticks": ""
             }
            },
            "type": "scatter3d"
           }
          ],
          "scattercarpet": [
           {
            "marker": {
             "colorbar": {
              "outlinewidth": 0,
              "ticks": ""
             }
            },
            "type": "scattercarpet"
           }
          ],
          "scattergeo": [
           {
            "marker": {
             "colorbar": {
              "outlinewidth": 0,
              "ticks": ""
             }
            },
            "type": "scattergeo"
           }
          ],
          "scattergl": [
           {
            "marker": {
             "colorbar": {
              "outlinewidth": 0,
              "ticks": ""
             }
            },
            "type": "scattergl"
           }
          ],
          "scattermap": [
           {
            "marker": {
             "colorbar": {
              "outlinewidth": 0,
              "ticks": ""
             }
            },
            "type": "scattermap"
           }
          ],
          "scattermapbox": [
           {
            "marker": {
             "colorbar": {
              "outlinewidth": 0,
              "ticks": ""
             }
            },
            "type": "scattermapbox"
           }
          ],
          "scatterpolar": [
           {
            "marker": {
             "colorbar": {
              "outlinewidth": 0,
              "ticks": ""
             }
            },
            "type": "scatterpolar"
           }
          ],
          "scatterpolargl": [
           {
            "marker": {
             "colorbar": {
              "outlinewidth": 0,
              "ticks": ""
             }
            },
            "type": "scatterpolargl"
           }
          ],
          "scatterternary": [
           {
            "marker": {
             "colorbar": {
              "outlinewidth": 0,
              "ticks": ""
             }
            },
            "type": "scatterternary"
           }
          ],
          "surface": [
           {
            "colorbar": {
             "outlinewidth": 0,
             "ticks": ""
            },
            "colorscale": [
             [
              0,
              "#0d0887"
             ],
             [
              0.1111111111111111,
              "#46039f"
             ],
             [
              0.2222222222222222,
              "#7201a8"
             ],
             [
              0.3333333333333333,
              "#9c179e"
             ],
             [
              0.4444444444444444,
              "#bd3786"
             ],
             [
              0.5555555555555556,
              "#d8576b"
             ],
             [
              0.6666666666666666,
              "#ed7953"
             ],
             [
              0.7777777777777778,
              "#fb9f3a"
             ],
             [
              0.8888888888888888,
              "#fdca26"
             ],
             [
              1,
              "#f0f921"
             ]
            ],
            "type": "surface"
           }
          ],
          "table": [
           {
            "cells": {
             "fill": {
              "color": "#EBF0F8"
             },
             "line": {
              "color": "white"
             }
            },
            "header": {
             "fill": {
              "color": "#C8D4E3"
             },
             "line": {
              "color": "white"
             }
            },
            "type": "table"
           }
          ]
         },
         "layout": {
          "annotationdefaults": {
           "arrowcolor": "#2a3f5f",
           "arrowhead": 0,
           "arrowwidth": 1
          },
          "autotypenumbers": "strict",
          "coloraxis": {
           "colorbar": {
            "outlinewidth": 0,
            "ticks": ""
           }
          },
          "colorscale": {
           "diverging": [
            [
             0,
             "#8e0152"
            ],
            [
             0.1,
             "#c51b7d"
            ],
            [
             0.2,
             "#de77ae"
            ],
            [
             0.3,
             "#f1b6da"
            ],
            [
             0.4,
             "#fde0ef"
            ],
            [
             0.5,
             "#f7f7f7"
            ],
            [
             0.6,
             "#e6f5d0"
            ],
            [
             0.7,
             "#b8e186"
            ],
            [
             0.8,
             "#7fbc41"
            ],
            [
             0.9,
             "#4d9221"
            ],
            [
             1,
             "#276419"
            ]
           ],
           "sequential": [
            [
             0,
             "#0d0887"
            ],
            [
             0.1111111111111111,
             "#46039f"
            ],
            [
             0.2222222222222222,
             "#7201a8"
            ],
            [
             0.3333333333333333,
             "#9c179e"
            ],
            [
             0.4444444444444444,
             "#bd3786"
            ],
            [
             0.5555555555555556,
             "#d8576b"
            ],
            [
             0.6666666666666666,
             "#ed7953"
            ],
            [
             0.7777777777777778,
             "#fb9f3a"
            ],
            [
             0.8888888888888888,
             "#fdca26"
            ],
            [
             1,
             "#f0f921"
            ]
           ],
           "sequentialminus": [
            [
             0,
             "#0d0887"
            ],
            [
             0.1111111111111111,
             "#46039f"
            ],
            [
             0.2222222222222222,
             "#7201a8"
            ],
            [
             0.3333333333333333,
             "#9c179e"
            ],
            [
             0.4444444444444444,
             "#bd3786"
            ],
            [
             0.5555555555555556,
             "#d8576b"
            ],
            [
             0.6666666666666666,
             "#ed7953"
            ],
            [
             0.7777777777777778,
             "#fb9f3a"
            ],
            [
             0.8888888888888888,
             "#fdca26"
            ],
            [
             1,
             "#f0f921"
            ]
           ]
          },
          "colorway": [
           "#636efa",
           "#EF553B",
           "#00cc96",
           "#ab63fa",
           "#FFA15A",
           "#19d3f3",
           "#FF6692",
           "#B6E880",
           "#FF97FF",
           "#FECB52"
          ],
          "font": {
           "color": "#2a3f5f"
          },
          "geo": {
           "bgcolor": "white",
           "lakecolor": "white",
           "landcolor": "#E5ECF6",
           "showlakes": true,
           "showland": true,
           "subunitcolor": "white"
          },
          "hoverlabel": {
           "align": "left"
          },
          "hovermode": "closest",
          "mapbox": {
           "style": "light"
          },
          "paper_bgcolor": "white",
          "plot_bgcolor": "#E5ECF6",
          "polar": {
           "angularaxis": {
            "gridcolor": "white",
            "linecolor": "white",
            "ticks": ""
           },
           "bgcolor": "#E5ECF6",
           "radialaxis": {
            "gridcolor": "white",
            "linecolor": "white",
            "ticks": ""
           }
          },
          "scene": {
           "xaxis": {
            "backgroundcolor": "#E5ECF6",
            "gridcolor": "white",
            "gridwidth": 2,
            "linecolor": "white",
            "showbackground": true,
            "ticks": "",
            "zerolinecolor": "white"
           },
           "yaxis": {
            "backgroundcolor": "#E5ECF6",
            "gridcolor": "white",
            "gridwidth": 2,
            "linecolor": "white",
            "showbackground": true,
            "ticks": "",
            "zerolinecolor": "white"
           },
           "zaxis": {
            "backgroundcolor": "#E5ECF6",
            "gridcolor": "white",
            "gridwidth": 2,
            "linecolor": "white",
            "showbackground": true,
            "ticks": "",
            "zerolinecolor": "white"
           }
          },
          "shapedefaults": {
           "line": {
            "color": "#2a3f5f"
           }
          },
          "ternary": {
           "aaxis": {
            "gridcolor": "white",
            "linecolor": "white",
            "ticks": ""
           },
           "baxis": {
            "gridcolor": "white",
            "linecolor": "white",
            "ticks": ""
           },
           "bgcolor": "#E5ECF6",
           "caxis": {
            "gridcolor": "white",
            "linecolor": "white",
            "ticks": ""
           }
          },
          "title": {
           "x": 0.05
          },
          "xaxis": {
           "automargin": true,
           "gridcolor": "white",
           "linecolor": "white",
           "ticks": "",
           "title": {
            "standoff": 15
           },
           "zerolinecolor": "white",
           "zerolinewidth": 2
          },
          "yaxis": {
           "automargin": true,
           "gridcolor": "white",
           "linecolor": "white",
           "ticks": "",
           "title": {
            "standoff": 15
           },
           "zerolinecolor": "white",
           "zerolinewidth": 2
          }
         }
        },
        "title": {
         "text": "Interaktive Spearman-ρ Karte: Exportüberschuss vs. Militär"
        }
       }
      }
     },
     "metadata": {},
     "output_type": "display_data"
    }
   ],
   "source": [
    "df_corr = pd.read_csv('results/surplus_correlations.csv')\n",
    "\n",
    "def iso3(name):\n",
    "    try:\n",
    "        return pycountry.countries.lookup(name).alpha_3\n",
    "    except LookupError:\n",
    "        return None\n",
    "\n",
    "df_corr['iso_a3'] = df_corr['Country Name'].apply(iso3)\n",
    "\n",
    "df_map = df_corr.dropna(subset=['iso_a3'])\n",
    "\n",
    "fig = px.choropleth(\n",
    "    df_map,\n",
    "    locations='iso_a3',\n",
    "    color='Spearman ρ',\n",
    "    hover_name='Country Name',\n",
    "    color_continuous_scale='OrRd',\n",
    "    projection='natural earth',\n",
    "    title='Interaktive Spearman-ρ Karte: Exportüberschuss vs. Militär'\n",
    ")\n",
    "\n",
    "fig.update_geos(showcoastlines=True, showland=True, fitbounds='locations')\n",
    "fig.update_layout(margin={'r':0,'t':40,'l':0,'b':0})\n",
    "fig.show()"
   ]
  }
 ],
 "metadata": {
  "kernelspec": {
   "display_name": "venv",
   "language": "python",
   "name": "python3"
  },
  "language_info": {
   "codemirror_mode": {
    "name": "ipython",
    "version": 3
   },
   "file_extension": ".py",
   "mimetype": "text/x-python",
   "name": "python",
   "nbconvert_exporter": "python",
   "pygments_lexer": "ipython3",
   "version": "3.13.2"
  }
 },
 "nbformat": 4,
 "nbformat_minor": 5
}
