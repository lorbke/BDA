{
 "cells": [
  {
   "cell_type": "code",
   "execution_count": 525,
   "id": "0b9c99e7-8874-4b56-92c8-ea28c0d8752d",
   "metadata": {},
   "outputs": [],
   "source": [
    "import pandas as pd\n",
    "import numpy as np\n",
    "import seaborn as sns\n",
    "import matplotlib.pyplot as plt\n",
    "from scipy.stats import shapiro, normaltest, anderson, spearmanr, kendalltau"
   ]
  },
  {
   "cell_type": "code",
   "execution_count": 526,
   "id": "d0c588ea",
   "metadata": {},
   "outputs": [],
   "source": [
    "df_export = pd.read_csv(\"data/exports.csv\", sep=',', skiprows=4)\n",
    "df_export = df_export.drop(columns=[\"Indicator Name\", \"Indicator Code\", \"2024\", \"Unnamed: 69\"])\n"
   ]
  },
  {
   "cell_type": "code",
   "execution_count": 527,
   "id": "d389e940-c736-4785-a6f3-4f855f05185b",
   "metadata": {},
   "outputs": [],
   "source": [
    "df_military = pd.read_csv(\"data/military_expanditure.csv\", sep=',', skiprows=4)\n",
    "df_military = df_military.drop(columns=[\"Indicator Name\", \"Indicator Code\", \"2024\", \"Unnamed: 69\"])"
   ]
  },
  {
   "cell_type": "code",
   "execution_count": 528,
   "id": "44f4d84b-b77e-44b1-8fe2-a93d0e178166",
   "metadata": {},
   "outputs": [],
   "source": [
    "# 1. Define non-country keywords and allowlist\n",
    "non_country_keywords = [\n",
    "    \"Africa\", \"Europe\", \"America\", \"Asia\", \"Oceania\", \"Arab\", \"World\",\n",
    "    \"High income\", \"Low income\", \"Middle income\", \"Euro area\", \"OECD\", \"IDA\",\n",
    "    \"IBRD\", \"G7\", \"G20\", \"Least developed\", \"Landlocked\", \"Small states\", \"Sub-Saharan\",\n",
    "    \"Heavily indebted\", \"demographic dividend\", \"middle income\", \"Other\"\n",
    "]\n",
    "\n",
    "# Manual override: countries that match keywords but are real countries\n",
    "allowlist = {\n",
    "    \"Egypt, Arab Rep.\", \"Saudi Arabia\", \"South Africa\",\n",
    "    \"Syrian Arab Republic\", \"United Arab Emirates\", \"Central African Republic\"\n",
    "}\n",
    "\n",
    "# Define filter function\n",
    "def is_region_or_group(name):\n",
    "    return (\n",
    "        any(keyword in str(name) for keyword in non_country_keywords)\n",
    "        and name not in allowlist\n",
    "    )\n"
   ]
  },
  {
   "cell_type": "code",
   "execution_count": 529,
   "id": "17e3a6ae-2397-4f4a-bbea-dd2fec2e0b05",
   "metadata": {},
   "outputs": [],
   "source": [
    "def clean_df(df):\n",
    "    df = df[~df[\"Country Name\"].apply(is_region_or_group)]\n",
    "    mask = (df.iloc[:, 3:].fillna(0) != 0).any(axis=1)\n",
    "    df = df[mask].reset_index(drop=True)\n",
    "    return df"
   ]
  },
  {
   "cell_type": "code",
   "execution_count": 530,
   "id": "a36c2f78",
   "metadata": {},
   "outputs": [],
   "source": [
    "def filter_for_same_columns(df1, df2):\n",
    "    set1 = set(df1[\"Country Name\"])\n",
    "    set2 = set(df2[\"Country Name\"])\n",
    "\n",
    "    common = set1 & set2\n",
    "\n",
    "    df1_clean = df1[df1[\"Country Name\"].isin(common)].reset_index(drop=True)\n",
    "    df2_clean = df2[df2[\"Country Name\"].isin(common)].reset_index(drop=True)\n",
    "    return df1_clean, df2_clean\n"
   ]
  },
  {
   "cell_type": "code",
   "execution_count": 531,
   "id": "21e9e29b",
   "metadata": {},
   "outputs": [],
   "source": [
    "df_export = clean_df(df_export)\n"
   ]
  },
  {
   "cell_type": "code",
   "execution_count": 532,
   "id": "cbdaa7ee",
   "metadata": {},
   "outputs": [],
   "source": [
    "df_military = clean_df(df_military)\n"
   ]
  },
  {
   "cell_type": "code",
   "execution_count": 533,
   "id": "67e3c5b9",
   "metadata": {},
   "outputs": [
    {
     "data": {
      "text/html": [
       "<div>\n",
       "<style scoped>\n",
       "    .dataframe tbody tr th:only-of-type {\n",
       "        vertical-align: middle;\n",
       "    }\n",
       "\n",
       "    .dataframe tbody tr th {\n",
       "        vertical-align: top;\n",
       "    }\n",
       "\n",
       "    .dataframe thead th {\n",
       "        text-align: right;\n",
       "    }\n",
       "</style>\n",
       "<table border=\"1\" class=\"dataframe\">\n",
       "  <thead>\n",
       "    <tr style=\"text-align: right;\">\n",
       "      <th></th>\n",
       "      <th>Country Name</th>\n",
       "      <th>Country Code</th>\n",
       "      <th>1960</th>\n",
       "      <th>1961</th>\n",
       "      <th>1962</th>\n",
       "      <th>1963</th>\n",
       "      <th>1964</th>\n",
       "      <th>1965</th>\n",
       "      <th>1966</th>\n",
       "      <th>1967</th>\n",
       "      <th>...</th>\n",
       "      <th>2014</th>\n",
       "      <th>2015</th>\n",
       "      <th>2016</th>\n",
       "      <th>2017</th>\n",
       "      <th>2018</th>\n",
       "      <th>2019</th>\n",
       "      <th>2020</th>\n",
       "      <th>2021</th>\n",
       "      <th>2022</th>\n",
       "      <th>2023</th>\n",
       "    </tr>\n",
       "  </thead>\n",
       "  <tbody>\n",
       "    <tr>\n",
       "      <th>0</th>\n",
       "      <td>Afghanistan</td>\n",
       "      <td>AFG</td>\n",
       "      <td>NaN</td>\n",
       "      <td>NaN</td>\n",
       "      <td>NaN</td>\n",
       "      <td>NaN</td>\n",
       "      <td>NaN</td>\n",
       "      <td>NaN</td>\n",
       "      <td>NaN</td>\n",
       "      <td>NaN</td>\n",
       "      <td>...</td>\n",
       "      <td>2.682388e+08</td>\n",
       "      <td>1.995171e+08</td>\n",
       "      <td>1.858783e+08</td>\n",
       "      <td>1.914071e+08</td>\n",
       "      <td>1.980747e+08</td>\n",
       "      <td>2.263062e+08</td>\n",
       "      <td>2.795770e+08</td>\n",
       "      <td>2.782508e+08</td>\n",
       "      <td>NaN</td>\n",
       "      <td>NaN</td>\n",
       "    </tr>\n",
       "    <tr>\n",
       "      <th>1</th>\n",
       "      <td>Angola</td>\n",
       "      <td>AGO</td>\n",
       "      <td>NaN</td>\n",
       "      <td>NaN</td>\n",
       "      <td>NaN</td>\n",
       "      <td>NaN</td>\n",
       "      <td>NaN</td>\n",
       "      <td>NaN</td>\n",
       "      <td>NaN</td>\n",
       "      <td>NaN</td>\n",
       "      <td>...</td>\n",
       "      <td>6.846249e+09</td>\n",
       "      <td>3.608299e+09</td>\n",
       "      <td>2.764055e+09</td>\n",
       "      <td>3.062873e+09</td>\n",
       "      <td>1.983614e+09</td>\n",
       "      <td>1.470939e+09</td>\n",
       "      <td>9.935944e+08</td>\n",
       "      <td>9.814510e+08</td>\n",
       "      <td>1.622764e+09</td>\n",
       "      <td>1.270158e+09</td>\n",
       "    </tr>\n",
       "    <tr>\n",
       "      <th>2</th>\n",
       "      <td>Albania</td>\n",
       "      <td>ALB</td>\n",
       "      <td>NaN</td>\n",
       "      <td>NaN</td>\n",
       "      <td>NaN</td>\n",
       "      <td>NaN</td>\n",
       "      <td>NaN</td>\n",
       "      <td>NaN</td>\n",
       "      <td>NaN</td>\n",
       "      <td>NaN</td>\n",
       "      <td>...</td>\n",
       "      <td>1.781204e+08</td>\n",
       "      <td>1.323507e+08</td>\n",
       "      <td>1.308532e+08</td>\n",
       "      <td>1.443827e+08</td>\n",
       "      <td>1.758867e+08</td>\n",
       "      <td>1.972259e+08</td>\n",
       "      <td>1.965963e+08</td>\n",
       "      <td>2.228145e+08</td>\n",
       "      <td>2.286932e+08</td>\n",
       "      <td>3.976176e+08</td>\n",
       "    </tr>\n",
       "    <tr>\n",
       "      <th>3</th>\n",
       "      <td>United Arab Emirates</td>\n",
       "      <td>ARE</td>\n",
       "      <td>NaN</td>\n",
       "      <td>NaN</td>\n",
       "      <td>NaN</td>\n",
       "      <td>NaN</td>\n",
       "      <td>NaN</td>\n",
       "      <td>NaN</td>\n",
       "      <td>NaN</td>\n",
       "      <td>NaN</td>\n",
       "      <td>...</td>\n",
       "      <td>2.275507e+10</td>\n",
       "      <td>NaN</td>\n",
       "      <td>NaN</td>\n",
       "      <td>NaN</td>\n",
       "      <td>NaN</td>\n",
       "      <td>NaN</td>\n",
       "      <td>NaN</td>\n",
       "      <td>NaN</td>\n",
       "      <td>NaN</td>\n",
       "      <td>NaN</td>\n",
       "    </tr>\n",
       "    <tr>\n",
       "      <th>4</th>\n",
       "      <td>Argentina</td>\n",
       "      <td>ARG</td>\n",
       "      <td>0.000000e+00</td>\n",
       "      <td>0.000000e+00</td>\n",
       "      <td>3.051624e+08</td>\n",
       "      <td>2.422198e+08</td>\n",
       "      <td>2.457405e+08</td>\n",
       "      <td>2.524076e+08</td>\n",
       "      <td>2.792254e+08</td>\n",
       "      <td>2.519307e+08</td>\n",
       "      <td>...</td>\n",
       "      <td>4.979443e+09</td>\n",
       "      <td>5.482617e+09</td>\n",
       "      <td>4.509648e+09</td>\n",
       "      <td>5.459644e+09</td>\n",
       "      <td>3.842852e+09</td>\n",
       "      <td>3.132655e+09</td>\n",
       "      <td>2.830930e+09</td>\n",
       "      <td>3.073433e+09</td>\n",
       "      <td>4.338261e+09</td>\n",
       "      <td>3.121892e+09</td>\n",
       "    </tr>\n",
       "    <tr>\n",
       "      <th>...</th>\n",
       "      <td>...</td>\n",
       "      <td>...</td>\n",
       "      <td>...</td>\n",
       "      <td>...</td>\n",
       "      <td>...</td>\n",
       "      <td>...</td>\n",
       "      <td>...</td>\n",
       "      <td>...</td>\n",
       "      <td>...</td>\n",
       "      <td>...</td>\n",
       "      <td>...</td>\n",
       "      <td>...</td>\n",
       "      <td>...</td>\n",
       "      <td>...</td>\n",
       "      <td>...</td>\n",
       "      <td>...</td>\n",
       "      <td>...</td>\n",
       "      <td>...</td>\n",
       "      <td>...</td>\n",
       "      <td>...</td>\n",
       "      <td>...</td>\n",
       "    </tr>\n",
       "    <tr>\n",
       "      <th>153</th>\n",
       "      <td>Kosovo</td>\n",
       "      <td>XKX</td>\n",
       "      <td>NaN</td>\n",
       "      <td>NaN</td>\n",
       "      <td>NaN</td>\n",
       "      <td>NaN</td>\n",
       "      <td>NaN</td>\n",
       "      <td>NaN</td>\n",
       "      <td>NaN</td>\n",
       "      <td>NaN</td>\n",
       "      <td>...</td>\n",
       "      <td>5.357579e+07</td>\n",
       "      <td>4.998416e+07</td>\n",
       "      <td>5.193762e+07</td>\n",
       "      <td>5.726263e+07</td>\n",
       "      <td>6.334407e+07</td>\n",
       "      <td>6.570533e+07</td>\n",
       "      <td>7.896501e+07</td>\n",
       "      <td>7.960974e+07</td>\n",
       "      <td>1.076016e+08</td>\n",
       "      <td>1.331855e+08</td>\n",
       "    </tr>\n",
       "    <tr>\n",
       "      <th>154</th>\n",
       "      <td>Yemen, Rep.</td>\n",
       "      <td>YEM</td>\n",
       "      <td>NaN</td>\n",
       "      <td>NaN</td>\n",
       "      <td>NaN</td>\n",
       "      <td>NaN</td>\n",
       "      <td>NaN</td>\n",
       "      <td>NaN</td>\n",
       "      <td>NaN</td>\n",
       "      <td>NaN</td>\n",
       "      <td>...</td>\n",
       "      <td>1.714831e+09</td>\n",
       "      <td>NaN</td>\n",
       "      <td>NaN</td>\n",
       "      <td>NaN</td>\n",
       "      <td>NaN</td>\n",
       "      <td>NaN</td>\n",
       "      <td>NaN</td>\n",
       "      <td>NaN</td>\n",
       "      <td>NaN</td>\n",
       "      <td>NaN</td>\n",
       "    </tr>\n",
       "    <tr>\n",
       "      <th>155</th>\n",
       "      <td>South Africa</td>\n",
       "      <td>ZAF</td>\n",
       "      <td>6.999997e+07</td>\n",
       "      <td>1.137500e+08</td>\n",
       "      <td>1.861999e+08</td>\n",
       "      <td>1.889999e+08</td>\n",
       "      <td>2.715999e+08</td>\n",
       "      <td>2.894499e+08</td>\n",
       "      <td>3.244499e+08</td>\n",
       "      <td>3.730999e+08</td>\n",
       "      <td>...</td>\n",
       "      <td>3.892485e+09</td>\n",
       "      <td>3.488868e+09</td>\n",
       "      <td>3.139312e+09</td>\n",
       "      <td>3.591508e+09</td>\n",
       "      <td>3.622919e+09</td>\n",
       "      <td>3.435430e+09</td>\n",
       "      <td>3.231018e+09</td>\n",
       "      <td>3.392816e+09</td>\n",
       "      <td>3.110121e+09</td>\n",
       "      <td>2.781117e+09</td>\n",
       "    </tr>\n",
       "    <tr>\n",
       "      <th>156</th>\n",
       "      <td>Zambia</td>\n",
       "      <td>ZMB</td>\n",
       "      <td>NaN</td>\n",
       "      <td>NaN</td>\n",
       "      <td>NaN</td>\n",
       "      <td>NaN</td>\n",
       "      <td>NaN</td>\n",
       "      <td>NaN</td>\n",
       "      <td>NaN</td>\n",
       "      <td>NaN</td>\n",
       "      <td>...</td>\n",
       "      <td>4.436047e+08</td>\n",
       "      <td>3.724476e+08</td>\n",
       "      <td>2.995048e+08</td>\n",
       "      <td>3.396645e+08</td>\n",
       "      <td>3.780254e+08</td>\n",
       "      <td>2.920725e+08</td>\n",
       "      <td>2.121424e+08</td>\n",
       "      <td>2.175772e+08</td>\n",
       "      <td>3.260788e+08</td>\n",
       "      <td>3.771721e+08</td>\n",
       "    </tr>\n",
       "    <tr>\n",
       "      <th>157</th>\n",
       "      <td>Zimbabwe</td>\n",
       "      <td>ZWE</td>\n",
       "      <td>NaN</td>\n",
       "      <td>NaN</td>\n",
       "      <td>NaN</td>\n",
       "      <td>NaN</td>\n",
       "      <td>1.265000e+07</td>\n",
       "      <td>1.560000e+07</td>\n",
       "      <td>1.695000e+07</td>\n",
       "      <td>1.900000e+07</td>\n",
       "      <td>...</td>\n",
       "      <td>3.681000e+08</td>\n",
       "      <td>3.766770e+08</td>\n",
       "      <td>3.580650e+08</td>\n",
       "      <td>3.405220e+08</td>\n",
       "      <td>4.203640e+08</td>\n",
       "      <td>5.469390e+08</td>\n",
       "      <td>2.421796e+08</td>\n",
       "      <td>4.739453e+08</td>\n",
       "      <td>3.327173e+08</td>\n",
       "      <td>8.704335e+08</td>\n",
       "    </tr>\n",
       "  </tbody>\n",
       "</table>\n",
       "<p>158 rows × 66 columns</p>\n",
       "</div>"
      ],
      "text/plain": [
       "             Country Name Country Code          1960          1961  \\\n",
       "0             Afghanistan          AFG           NaN           NaN   \n",
       "1                  Angola          AGO           NaN           NaN   \n",
       "2                 Albania          ALB           NaN           NaN   \n",
       "3    United Arab Emirates          ARE           NaN           NaN   \n",
       "4               Argentina          ARG  0.000000e+00  0.000000e+00   \n",
       "..                    ...          ...           ...           ...   \n",
       "153                Kosovo          XKX           NaN           NaN   \n",
       "154           Yemen, Rep.          YEM           NaN           NaN   \n",
       "155          South Africa          ZAF  6.999997e+07  1.137500e+08   \n",
       "156                Zambia          ZMB           NaN           NaN   \n",
       "157              Zimbabwe          ZWE           NaN           NaN   \n",
       "\n",
       "             1962          1963          1964          1965          1966  \\\n",
       "0             NaN           NaN           NaN           NaN           NaN   \n",
       "1             NaN           NaN           NaN           NaN           NaN   \n",
       "2             NaN           NaN           NaN           NaN           NaN   \n",
       "3             NaN           NaN           NaN           NaN           NaN   \n",
       "4    3.051624e+08  2.422198e+08  2.457405e+08  2.524076e+08  2.792254e+08   \n",
       "..            ...           ...           ...           ...           ...   \n",
       "153           NaN           NaN           NaN           NaN           NaN   \n",
       "154           NaN           NaN           NaN           NaN           NaN   \n",
       "155  1.861999e+08  1.889999e+08  2.715999e+08  2.894499e+08  3.244499e+08   \n",
       "156           NaN           NaN           NaN           NaN           NaN   \n",
       "157           NaN           NaN  1.265000e+07  1.560000e+07  1.695000e+07   \n",
       "\n",
       "             1967  ...          2014          2015          2016  \\\n",
       "0             NaN  ...  2.682388e+08  1.995171e+08  1.858783e+08   \n",
       "1             NaN  ...  6.846249e+09  3.608299e+09  2.764055e+09   \n",
       "2             NaN  ...  1.781204e+08  1.323507e+08  1.308532e+08   \n",
       "3             NaN  ...  2.275507e+10           NaN           NaN   \n",
       "4    2.519307e+08  ...  4.979443e+09  5.482617e+09  4.509648e+09   \n",
       "..            ...  ...           ...           ...           ...   \n",
       "153           NaN  ...  5.357579e+07  4.998416e+07  5.193762e+07   \n",
       "154           NaN  ...  1.714831e+09           NaN           NaN   \n",
       "155  3.730999e+08  ...  3.892485e+09  3.488868e+09  3.139312e+09   \n",
       "156           NaN  ...  4.436047e+08  3.724476e+08  2.995048e+08   \n",
       "157  1.900000e+07  ...  3.681000e+08  3.766770e+08  3.580650e+08   \n",
       "\n",
       "             2017          2018          2019          2020          2021  \\\n",
       "0    1.914071e+08  1.980747e+08  2.263062e+08  2.795770e+08  2.782508e+08   \n",
       "1    3.062873e+09  1.983614e+09  1.470939e+09  9.935944e+08  9.814510e+08   \n",
       "2    1.443827e+08  1.758867e+08  1.972259e+08  1.965963e+08  2.228145e+08   \n",
       "3             NaN           NaN           NaN           NaN           NaN   \n",
       "4    5.459644e+09  3.842852e+09  3.132655e+09  2.830930e+09  3.073433e+09   \n",
       "..            ...           ...           ...           ...           ...   \n",
       "153  5.726263e+07  6.334407e+07  6.570533e+07  7.896501e+07  7.960974e+07   \n",
       "154           NaN           NaN           NaN           NaN           NaN   \n",
       "155  3.591508e+09  3.622919e+09  3.435430e+09  3.231018e+09  3.392816e+09   \n",
       "156  3.396645e+08  3.780254e+08  2.920725e+08  2.121424e+08  2.175772e+08   \n",
       "157  3.405220e+08  4.203640e+08  5.469390e+08  2.421796e+08  4.739453e+08   \n",
       "\n",
       "             2022          2023  \n",
       "0             NaN           NaN  \n",
       "1    1.622764e+09  1.270158e+09  \n",
       "2    2.286932e+08  3.976176e+08  \n",
       "3             NaN           NaN  \n",
       "4    4.338261e+09  3.121892e+09  \n",
       "..            ...           ...  \n",
       "153  1.076016e+08  1.331855e+08  \n",
       "154           NaN           NaN  \n",
       "155  3.110121e+09  2.781117e+09  \n",
       "156  3.260788e+08  3.771721e+08  \n",
       "157  3.327173e+08  8.704335e+08  \n",
       "\n",
       "[158 rows x 66 columns]"
      ]
     },
     "execution_count": 533,
     "metadata": {},
     "output_type": "execute_result"
    }
   ],
   "source": [
    "df_export, df_military = filter_for_same_columns(df_export, df_military)\n",
    "df_military.head(200)"
   ]
  },
  {
   "cell_type": "code",
   "execution_count": 534,
   "id": "f3505dfa",
   "metadata": {},
   "outputs": [
    {
     "data": {
      "text/html": [
       "<div>\n",
       "<style scoped>\n",
       "    .dataframe tbody tr th:only-of-type {\n",
       "        vertical-align: middle;\n",
       "    }\n",
       "\n",
       "    .dataframe tbody tr th {\n",
       "        vertical-align: top;\n",
       "    }\n",
       "\n",
       "    .dataframe thead th {\n",
       "        text-align: right;\n",
       "    }\n",
       "</style>\n",
       "<table border=\"1\" class=\"dataframe\">\n",
       "  <thead>\n",
       "    <tr style=\"text-align: right;\">\n",
       "      <th></th>\n",
       "      <th>Country Name</th>\n",
       "      <th>Country Code</th>\n",
       "      <th>1960</th>\n",
       "      <th>1961</th>\n",
       "      <th>1962</th>\n",
       "      <th>1963</th>\n",
       "      <th>1964</th>\n",
       "      <th>1965</th>\n",
       "      <th>1966</th>\n",
       "      <th>1967</th>\n",
       "      <th>...</th>\n",
       "      <th>2014</th>\n",
       "      <th>2015</th>\n",
       "      <th>2016</th>\n",
       "      <th>2017</th>\n",
       "      <th>2018</th>\n",
       "      <th>2019</th>\n",
       "      <th>2020</th>\n",
       "      <th>2021</th>\n",
       "      <th>2022</th>\n",
       "      <th>2023</th>\n",
       "    </tr>\n",
       "  </thead>\n",
       "  <tbody>\n",
       "    <tr>\n",
       "      <th>0</th>\n",
       "      <td>Afghanistan</td>\n",
       "      <td>AFG</td>\n",
       "      <td>2.222223e+07</td>\n",
       "      <td>2.444446e+07</td>\n",
       "      <td>2.666668e+07</td>\n",
       "      <td>6.888892e+07</td>\n",
       "      <td>7.111114e+07</td>\n",
       "      <td>1.133333e+08</td>\n",
       "      <td>1.200000e+08</td>\n",
       "      <td>1.133333e+08</td>\n",
       "      <td>...</td>\n",
       "      <td>NaN</td>\n",
       "      <td>NaN</td>\n",
       "      <td>NaN</td>\n",
       "      <td>NaN</td>\n",
       "      <td>NaN</td>\n",
       "      <td>NaN</td>\n",
       "      <td>2.079571e+09</td>\n",
       "      <td>2.045190e+09</td>\n",
       "      <td>2.664600e+09</td>\n",
       "      <td>2.890868e+09</td>\n",
       "    </tr>\n",
       "    <tr>\n",
       "      <th>1</th>\n",
       "      <td>Angola</td>\n",
       "      <td>AGO</td>\n",
       "      <td>NaN</td>\n",
       "      <td>NaN</td>\n",
       "      <td>NaN</td>\n",
       "      <td>NaN</td>\n",
       "      <td>NaN</td>\n",
       "      <td>NaN</td>\n",
       "      <td>NaN</td>\n",
       "      <td>NaN</td>\n",
       "      <td>...</td>\n",
       "      <td>6.077040e+10</td>\n",
       "      <td>2.692685e+10</td>\n",
       "      <td>1.483893e+10</td>\n",
       "      <td>2.137317e+10</td>\n",
       "      <td>3.244471e+10</td>\n",
       "      <td>2.891981e+10</td>\n",
       "      <td>1.858315e+10</td>\n",
       "      <td>3.175306e+10</td>\n",
       "      <td>4.634476e+10</td>\n",
       "      <td>3.465662e+10</td>\n",
       "    </tr>\n",
       "    <tr>\n",
       "      <th>2</th>\n",
       "      <td>Albania</td>\n",
       "      <td>ALB</td>\n",
       "      <td>NaN</td>\n",
       "      <td>NaN</td>\n",
       "      <td>NaN</td>\n",
       "      <td>NaN</td>\n",
       "      <td>NaN</td>\n",
       "      <td>NaN</td>\n",
       "      <td>NaN</td>\n",
       "      <td>NaN</td>\n",
       "      <td>...</td>\n",
       "      <td>3.732057e+09</td>\n",
       "      <td>3.104898e+09</td>\n",
       "      <td>3.437127e+09</td>\n",
       "      <td>4.110301e+09</td>\n",
       "      <td>4.785182e+09</td>\n",
       "      <td>4.821429e+09</td>\n",
       "      <td>3.435540e+09</td>\n",
       "      <td>5.613909e+09</td>\n",
       "      <td>7.073860e+09</td>\n",
       "      <td>9.104536e+09</td>\n",
       "    </tr>\n",
       "    <tr>\n",
       "      <th>3</th>\n",
       "      <td>United Arab Emirates</td>\n",
       "      <td>ARE</td>\n",
       "      <td>NaN</td>\n",
       "      <td>NaN</td>\n",
       "      <td>NaN</td>\n",
       "      <td>NaN</td>\n",
       "      <td>NaN</td>\n",
       "      <td>NaN</td>\n",
       "      <td>NaN</td>\n",
       "      <td>NaN</td>\n",
       "      <td>...</td>\n",
       "      <td>4.027281e+11</td>\n",
       "      <td>3.585296e+11</td>\n",
       "      <td>3.606263e+11</td>\n",
       "      <td>3.821375e+11</td>\n",
       "      <td>4.002178e+11</td>\n",
       "      <td>4.048632e+11</td>\n",
       "      <td>3.502774e+11</td>\n",
       "      <td>4.251559e+11</td>\n",
       "      <td>5.218973e+11</td>\n",
       "      <td>5.584015e+11</td>\n",
       "    </tr>\n",
       "    <tr>\n",
       "      <th>4</th>\n",
       "      <td>Argentina</td>\n",
       "      <td>ARG</td>\n",
       "      <td>NaN</td>\n",
       "      <td>NaN</td>\n",
       "      <td>1.147184e+09</td>\n",
       "      <td>1.441754e+09</td>\n",
       "      <td>1.424603e+09</td>\n",
       "      <td>1.764706e+09</td>\n",
       "      <td>1.904762e+09</td>\n",
       "      <td>1.818182e+09</td>\n",
       "      <td>...</td>\n",
       "      <td>7.581887e+10</td>\n",
       "      <td>6.367179e+10</td>\n",
       "      <td>6.984260e+10</td>\n",
       "      <td>7.286056e+10</td>\n",
       "      <td>7.576660e+10</td>\n",
       "      <td>8.025948e+10</td>\n",
       "      <td>6.405381e+10</td>\n",
       "      <td>8.790612e+10</td>\n",
       "      <td>1.028158e+11</td>\n",
       "      <td>8.236973e+10</td>\n",
       "    </tr>\n",
       "    <tr>\n",
       "      <th>...</th>\n",
       "      <td>...</td>\n",
       "      <td>...</td>\n",
       "      <td>...</td>\n",
       "      <td>...</td>\n",
       "      <td>...</td>\n",
       "      <td>...</td>\n",
       "      <td>...</td>\n",
       "      <td>...</td>\n",
       "      <td>...</td>\n",
       "      <td>...</td>\n",
       "      <td>...</td>\n",
       "      <td>...</td>\n",
       "      <td>...</td>\n",
       "      <td>...</td>\n",
       "      <td>...</td>\n",
       "      <td>...</td>\n",
       "      <td>...</td>\n",
       "      <td>...</td>\n",
       "      <td>...</td>\n",
       "      <td>...</td>\n",
       "      <td>...</td>\n",
       "    </tr>\n",
       "    <tr>\n",
       "      <th>153</th>\n",
       "      <td>Kosovo</td>\n",
       "      <td>XKX</td>\n",
       "      <td>NaN</td>\n",
       "      <td>NaN</td>\n",
       "      <td>NaN</td>\n",
       "      <td>NaN</td>\n",
       "      <td>NaN</td>\n",
       "      <td>NaN</td>\n",
       "      <td>NaN</td>\n",
       "      <td>NaN</td>\n",
       "      <td>...</td>\n",
       "      <td>1.664385e+09</td>\n",
       "      <td>1.413506e+09</td>\n",
       "      <td>1.592309e+09</td>\n",
       "      <td>1.962420e+09</td>\n",
       "      <td>2.289053e+09</td>\n",
       "      <td>2.315619e+09</td>\n",
       "      <td>1.674246e+09</td>\n",
       "      <td>3.144941e+09</td>\n",
       "      <td>3.613393e+09</td>\n",
       "      <td>4.149652e+09</td>\n",
       "    </tr>\n",
       "    <tr>\n",
       "      <th>154</th>\n",
       "      <td>Yemen, Rep.</td>\n",
       "      <td>YEM</td>\n",
       "      <td>NaN</td>\n",
       "      <td>NaN</td>\n",
       "      <td>NaN</td>\n",
       "      <td>NaN</td>\n",
       "      <td>NaN</td>\n",
       "      <td>NaN</td>\n",
       "      <td>NaN</td>\n",
       "      <td>NaN</td>\n",
       "      <td>...</td>\n",
       "      <td>9.287267e+09</td>\n",
       "      <td>3.841896e+09</td>\n",
       "      <td>1.506135e+09</td>\n",
       "      <td>2.600534e+09</td>\n",
       "      <td>1.891748e+09</td>\n",
       "      <td>NaN</td>\n",
       "      <td>NaN</td>\n",
       "      <td>NaN</td>\n",
       "      <td>NaN</td>\n",
       "      <td>NaN</td>\n",
       "    </tr>\n",
       "    <tr>\n",
       "      <th>155</th>\n",
       "      <td>South Africa</td>\n",
       "      <td>ZAF</td>\n",
       "      <td>2.238599e+09</td>\n",
       "      <td>2.337999e+09</td>\n",
       "      <td>2.498999e+09</td>\n",
       "      <td>2.696399e+09</td>\n",
       "      <td>2.846199e+09</td>\n",
       "      <td>2.913399e+09</td>\n",
       "      <td>3.123399e+09</td>\n",
       "      <td>3.385199e+09</td>\n",
       "      <td>...</td>\n",
       "      <td>1.105500e+11</td>\n",
       "      <td>9.608590e+10</td>\n",
       "      <td>9.110902e+10</td>\n",
       "      <td>1.042884e+11</td>\n",
       "      <td>1.114347e+11</td>\n",
       "      <td>1.059061e+11</td>\n",
       "      <td>9.319960e+10</td>\n",
       "      <td>1.309110e+11</td>\n",
       "      <td>1.357951e+11</td>\n",
       "      <td>1.246962e+11</td>\n",
       "    </tr>\n",
       "    <tr>\n",
       "      <th>156</th>\n",
       "      <td>Zambia</td>\n",
       "      <td>ZMB</td>\n",
       "      <td>NaN</td>\n",
       "      <td>NaN</td>\n",
       "      <td>NaN</td>\n",
       "      <td>NaN</td>\n",
       "      <td>NaN</td>\n",
       "      <td>NaN</td>\n",
       "      <td>NaN</td>\n",
       "      <td>NaN</td>\n",
       "      <td>...</td>\n",
       "      <td>1.053677e+10</td>\n",
       "      <td>7.892389e+09</td>\n",
       "      <td>7.403491e+09</td>\n",
       "      <td>9.053912e+09</td>\n",
       "      <td>9.987165e+09</td>\n",
       "      <td>8.073235e+09</td>\n",
       "      <td>8.473998e+09</td>\n",
       "      <td>1.153788e+10</td>\n",
       "      <td>1.172209e+10</td>\n",
       "      <td>1.126453e+10</td>\n",
       "    </tr>\n",
       "    <tr>\n",
       "      <th>157</th>\n",
       "      <td>Zimbabwe</td>\n",
       "      <td>ZWE</td>\n",
       "      <td>NaN</td>\n",
       "      <td>NaN</td>\n",
       "      <td>NaN</td>\n",
       "      <td>NaN</td>\n",
       "      <td>NaN</td>\n",
       "      <td>NaN</td>\n",
       "      <td>NaN</td>\n",
       "      <td>NaN</td>\n",
       "      <td>...</td>\n",
       "      <td>4.080441e+09</td>\n",
       "      <td>3.824969e+09</td>\n",
       "      <td>4.098132e+09</td>\n",
       "      <td>3.456997e+09</td>\n",
       "      <td>8.936585e+09</td>\n",
       "      <td>7.086215e+09</td>\n",
       "      <td>5.989686e+09</td>\n",
       "      <td>6.204093e+09</td>\n",
       "      <td>9.139216e+09</td>\n",
       "      <td>7.602718e+09</td>\n",
       "    </tr>\n",
       "  </tbody>\n",
       "</table>\n",
       "<p>158 rows × 66 columns</p>\n",
       "</div>"
      ],
      "text/plain": [
       "             Country Name Country Code          1960          1961  \\\n",
       "0             Afghanistan          AFG  2.222223e+07  2.444446e+07   \n",
       "1                  Angola          AGO           NaN           NaN   \n",
       "2                 Albania          ALB           NaN           NaN   \n",
       "3    United Arab Emirates          ARE           NaN           NaN   \n",
       "4               Argentina          ARG           NaN           NaN   \n",
       "..                    ...          ...           ...           ...   \n",
       "153                Kosovo          XKX           NaN           NaN   \n",
       "154           Yemen, Rep.          YEM           NaN           NaN   \n",
       "155          South Africa          ZAF  2.238599e+09  2.337999e+09   \n",
       "156                Zambia          ZMB           NaN           NaN   \n",
       "157              Zimbabwe          ZWE           NaN           NaN   \n",
       "\n",
       "             1962          1963          1964          1965          1966  \\\n",
       "0    2.666668e+07  6.888892e+07  7.111114e+07  1.133333e+08  1.200000e+08   \n",
       "1             NaN           NaN           NaN           NaN           NaN   \n",
       "2             NaN           NaN           NaN           NaN           NaN   \n",
       "3             NaN           NaN           NaN           NaN           NaN   \n",
       "4    1.147184e+09  1.441754e+09  1.424603e+09  1.764706e+09  1.904762e+09   \n",
       "..            ...           ...           ...           ...           ...   \n",
       "153           NaN           NaN           NaN           NaN           NaN   \n",
       "154           NaN           NaN           NaN           NaN           NaN   \n",
       "155  2.498999e+09  2.696399e+09  2.846199e+09  2.913399e+09  3.123399e+09   \n",
       "156           NaN           NaN           NaN           NaN           NaN   \n",
       "157           NaN           NaN           NaN           NaN           NaN   \n",
       "\n",
       "             1967  ...          2014          2015          2016  \\\n",
       "0    1.133333e+08  ...           NaN           NaN           NaN   \n",
       "1             NaN  ...  6.077040e+10  2.692685e+10  1.483893e+10   \n",
       "2             NaN  ...  3.732057e+09  3.104898e+09  3.437127e+09   \n",
       "3             NaN  ...  4.027281e+11  3.585296e+11  3.606263e+11   \n",
       "4    1.818182e+09  ...  7.581887e+10  6.367179e+10  6.984260e+10   \n",
       "..            ...  ...           ...           ...           ...   \n",
       "153           NaN  ...  1.664385e+09  1.413506e+09  1.592309e+09   \n",
       "154           NaN  ...  9.287267e+09  3.841896e+09  1.506135e+09   \n",
       "155  3.385199e+09  ...  1.105500e+11  9.608590e+10  9.110902e+10   \n",
       "156           NaN  ...  1.053677e+10  7.892389e+09  7.403491e+09   \n",
       "157           NaN  ...  4.080441e+09  3.824969e+09  4.098132e+09   \n",
       "\n",
       "             2017          2018          2019          2020          2021  \\\n",
       "0             NaN           NaN           NaN  2.079571e+09  2.045190e+09   \n",
       "1    2.137317e+10  3.244471e+10  2.891981e+10  1.858315e+10  3.175306e+10   \n",
       "2    4.110301e+09  4.785182e+09  4.821429e+09  3.435540e+09  5.613909e+09   \n",
       "3    3.821375e+11  4.002178e+11  4.048632e+11  3.502774e+11  4.251559e+11   \n",
       "4    7.286056e+10  7.576660e+10  8.025948e+10  6.405381e+10  8.790612e+10   \n",
       "..            ...           ...           ...           ...           ...   \n",
       "153  1.962420e+09  2.289053e+09  2.315619e+09  1.674246e+09  3.144941e+09   \n",
       "154  2.600534e+09  1.891748e+09           NaN           NaN           NaN   \n",
       "155  1.042884e+11  1.114347e+11  1.059061e+11  9.319960e+10  1.309110e+11   \n",
       "156  9.053912e+09  9.987165e+09  8.073235e+09  8.473998e+09  1.153788e+10   \n",
       "157  3.456997e+09  8.936585e+09  7.086215e+09  5.989686e+09  6.204093e+09   \n",
       "\n",
       "             2022          2023  \n",
       "0    2.664600e+09  2.890868e+09  \n",
       "1    4.634476e+10  3.465662e+10  \n",
       "2    7.073860e+09  9.104536e+09  \n",
       "3    5.218973e+11  5.584015e+11  \n",
       "4    1.028158e+11  8.236973e+10  \n",
       "..            ...           ...  \n",
       "153  3.613393e+09  4.149652e+09  \n",
       "154           NaN           NaN  \n",
       "155  1.357951e+11  1.246962e+11  \n",
       "156  1.172209e+10  1.126453e+10  \n",
       "157  9.139216e+09  7.602718e+09  \n",
       "\n",
       "[158 rows x 66 columns]"
      ]
     },
     "execution_count": 534,
     "metadata": {},
     "output_type": "execute_result"
    }
   ],
   "source": [
    "df_export.head(200)"
   ]
  },
  {
   "cell_type": "code",
   "execution_count": 535,
   "id": "f0c12b5f",
   "metadata": {},
   "outputs": [
    {
     "name": "stdout",
     "output_type": "stream",
     "text": [
      "               Country Name  n Jahre  Spearman ρ  p-Spearman  Kendall τ_b  \\\n",
      "0                 Singapore       54       0.992       0.000        0.950   \n",
      "1                     China       35       0.991       0.000        0.946   \n",
      "2                 Australia       64       0.991       0.000        0.937   \n",
      "3                Bangladesh       51       0.991       0.000        0.944   \n",
      "4                    Mexico       64       0.991       0.000        0.933   \n",
      "..                      ...      ...         ...         ...          ...   \n",
      "152                  Guyana       30      -0.160       0.398       -0.076   \n",
      "153             South Sudan        8      -0.262       0.531       -0.071   \n",
      "154                 Lao PDR       22      -0.412       0.057       -0.177   \n",
      "155  Bosnia and Herzegovina       22      -0.486       0.022       -0.333   \n",
      "156                 Eritrea       11      -0.755       0.007       -0.600   \n",
      "\n",
      "     p-Kendall  \n",
      "0        0.000  \n",
      "1        0.000  \n",
      "2        0.000  \n",
      "3        0.000  \n",
      "4        0.000  \n",
      "..         ...  \n",
      "152      0.571  \n",
      "153      0.905  \n",
      "154      0.263  \n",
      "155      0.031  \n",
      "156      0.010  \n",
      "\n",
      "[157 rows x 6 columns]\n"
     ]
    }
   ],
   "source": [
    "df = df_export.merge(df_military, on=\"Country Name\", suffixes=(\"_exp\", \"_mil\"))\n",
    "\n",
    "# 4) Korrelation pro Land berechnen\n",
    "results = []\n",
    "for _, row in df.iterrows():\n",
    "    country = row[\"Country Name\"]\n",
    "    # Zeitreihen in numpy-Arrays\n",
    "    x = pd.to_numeric(row[[f\"{y}_exp\" for y in years]], errors=\"coerce\").to_numpy()\n",
    "    y = pd.to_numeric(row[[f\"{y}_mil\" for y in years]], errors=\"coerce\").to_numpy()\n",
    "    \n",
    "    # Nur valide Paare (nicht-NaN, nicht 0)\n",
    "    mask = (~np.isnan(x)) & (x != 0) & (~np.isnan(y)) & (y != 0)\n",
    "    x_valid = x[mask]\n",
    "    y_valid = y[mask]\n",
    "    if len(x_valid) < 3:\n",
    "        # für mindestens 3 Wertepaare sinnvoll\n",
    "        continue\n",
    "    \n",
    "    # Spearman ρ\n",
    "    rho, p_s = spearmanr(x_valid, y_valid)\n",
    "    # Kendall's τ_b\n",
    "    tau, p_k = kendalltau(x_valid, y_valid)\n",
    "    \n",
    "    results.append({\n",
    "        \"Country Name\": country,\n",
    "        \"n Jahre\": len(x_valid),\n",
    "        \"Spearman ρ\": round(rho, 3),\n",
    "        \"p-Spearman\": round(p_s, 3),\n",
    "        \"Kendall τ_b\": round(tau, 3),\n",
    "        \"p-Kendall\": round(p_k, 3)\n",
    "    })\n",
    "\n",
    "# 5) In DataFrame und CSV\n",
    "df_country_corr = pd.DataFrame(results) \\\n",
    "    .sort_values(\"Spearman ρ\", ascending=False) \\\n",
    "    .reset_index(drop=True)\n",
    "\n",
    "print(df_country_corr)\n",
    "df_country_corr.to_csv(\"results/export_correlations.csv\", index=False)\n"
   ]
  },
  {
   "cell_type": "code",
   "execution_count": 536,
   "id": "f876034a",
   "metadata": {},
   "outputs": [],
   "source": [
    "df_military = pd.read_csv(\"data/military_expanditure.csv\", sep=',', skiprows=4)\n",
    "df_military = df_military.drop(columns=[\"Indicator Name\", \"Indicator Code\", \"2024\", \"Unnamed: 69\"])\n",
    "df_military = clean_df(df_military)"
   ]
  },
  {
   "cell_type": "code",
   "execution_count": 537,
   "id": "b6741e9d",
   "metadata": {},
   "outputs": [],
   "source": [
    "df_gdp = pd.read_csv(\"data/gdp.csv\", sep=',', skiprows=4)\n",
    "df_gdp = df_gdp.drop(columns=[\"Indicator Name\", \"Indicator Code\", \"2024\", \"Unnamed: 69\"])\n",
    "df_gdp = clean_df(df_gdp)"
   ]
  },
  {
   "cell_type": "code",
   "execution_count": 538,
   "id": "2db6c4dd",
   "metadata": {},
   "outputs": [
    {
     "data": {
      "text/html": [
       "<div>\n",
       "<style scoped>\n",
       "    .dataframe tbody tr th:only-of-type {\n",
       "        vertical-align: middle;\n",
       "    }\n",
       "\n",
       "    .dataframe tbody tr th {\n",
       "        vertical-align: top;\n",
       "    }\n",
       "\n",
       "    .dataframe thead th {\n",
       "        text-align: right;\n",
       "    }\n",
       "</style>\n",
       "<table border=\"1\" class=\"dataframe\">\n",
       "  <thead>\n",
       "    <tr style=\"text-align: right;\">\n",
       "      <th></th>\n",
       "      <th>Country Name</th>\n",
       "      <th>Country Code</th>\n",
       "      <th>1960</th>\n",
       "      <th>1961</th>\n",
       "      <th>1962</th>\n",
       "      <th>1963</th>\n",
       "      <th>1964</th>\n",
       "      <th>1965</th>\n",
       "      <th>1966</th>\n",
       "      <th>1967</th>\n",
       "      <th>...</th>\n",
       "      <th>2014</th>\n",
       "      <th>2015</th>\n",
       "      <th>2016</th>\n",
       "      <th>2017</th>\n",
       "      <th>2018</th>\n",
       "      <th>2019</th>\n",
       "      <th>2020</th>\n",
       "      <th>2021</th>\n",
       "      <th>2022</th>\n",
       "      <th>2023</th>\n",
       "    </tr>\n",
       "  </thead>\n",
       "  <tbody>\n",
       "    <tr>\n",
       "      <th>0</th>\n",
       "      <td>Afghanistan</td>\n",
       "      <td>AFG</td>\n",
       "      <td>NaN</td>\n",
       "      <td>NaN</td>\n",
       "      <td>NaN</td>\n",
       "      <td>NaN</td>\n",
       "      <td>NaN</td>\n",
       "      <td>NaN</td>\n",
       "      <td>NaN</td>\n",
       "      <td>NaN</td>\n",
       "      <td>...</td>\n",
       "      <td>2.682388e+08</td>\n",
       "      <td>1.995171e+08</td>\n",
       "      <td>1.858783e+08</td>\n",
       "      <td>1.914071e+08</td>\n",
       "      <td>1.980747e+08</td>\n",
       "      <td>2.263062e+08</td>\n",
       "      <td>2.795770e+08</td>\n",
       "      <td>2.782508e+08</td>\n",
       "      <td>NaN</td>\n",
       "      <td>NaN</td>\n",
       "    </tr>\n",
       "    <tr>\n",
       "      <th>1</th>\n",
       "      <td>Angola</td>\n",
       "      <td>AGO</td>\n",
       "      <td>NaN</td>\n",
       "      <td>NaN</td>\n",
       "      <td>NaN</td>\n",
       "      <td>NaN</td>\n",
       "      <td>NaN</td>\n",
       "      <td>NaN</td>\n",
       "      <td>NaN</td>\n",
       "      <td>NaN</td>\n",
       "      <td>...</td>\n",
       "      <td>6.846249e+09</td>\n",
       "      <td>3.608299e+09</td>\n",
       "      <td>2.764055e+09</td>\n",
       "      <td>3.062873e+09</td>\n",
       "      <td>1.983614e+09</td>\n",
       "      <td>1.470939e+09</td>\n",
       "      <td>9.935944e+08</td>\n",
       "      <td>9.814510e+08</td>\n",
       "      <td>1.622764e+09</td>\n",
       "      <td>1.270158e+09</td>\n",
       "    </tr>\n",
       "    <tr>\n",
       "      <th>2</th>\n",
       "      <td>Albania</td>\n",
       "      <td>ALB</td>\n",
       "      <td>NaN</td>\n",
       "      <td>NaN</td>\n",
       "      <td>NaN</td>\n",
       "      <td>NaN</td>\n",
       "      <td>NaN</td>\n",
       "      <td>NaN</td>\n",
       "      <td>NaN</td>\n",
       "      <td>NaN</td>\n",
       "      <td>...</td>\n",
       "      <td>1.781204e+08</td>\n",
       "      <td>1.323507e+08</td>\n",
       "      <td>1.308532e+08</td>\n",
       "      <td>1.443827e+08</td>\n",
       "      <td>1.758867e+08</td>\n",
       "      <td>1.972259e+08</td>\n",
       "      <td>1.965963e+08</td>\n",
       "      <td>2.228145e+08</td>\n",
       "      <td>2.286932e+08</td>\n",
       "      <td>3.976176e+08</td>\n",
       "    </tr>\n",
       "    <tr>\n",
       "      <th>3</th>\n",
       "      <td>United Arab Emirates</td>\n",
       "      <td>ARE</td>\n",
       "      <td>NaN</td>\n",
       "      <td>NaN</td>\n",
       "      <td>NaN</td>\n",
       "      <td>NaN</td>\n",
       "      <td>NaN</td>\n",
       "      <td>NaN</td>\n",
       "      <td>NaN</td>\n",
       "      <td>NaN</td>\n",
       "      <td>...</td>\n",
       "      <td>2.275507e+10</td>\n",
       "      <td>NaN</td>\n",
       "      <td>NaN</td>\n",
       "      <td>NaN</td>\n",
       "      <td>NaN</td>\n",
       "      <td>NaN</td>\n",
       "      <td>NaN</td>\n",
       "      <td>NaN</td>\n",
       "      <td>NaN</td>\n",
       "      <td>NaN</td>\n",
       "    </tr>\n",
       "    <tr>\n",
       "      <th>4</th>\n",
       "      <td>Argentina</td>\n",
       "      <td>ARG</td>\n",
       "      <td>0.000000e+00</td>\n",
       "      <td>0.000000e+00</td>\n",
       "      <td>3.051624e+08</td>\n",
       "      <td>2.422198e+08</td>\n",
       "      <td>2.457405e+08</td>\n",
       "      <td>2.524076e+08</td>\n",
       "      <td>2.792254e+08</td>\n",
       "      <td>2.519307e+08</td>\n",
       "      <td>...</td>\n",
       "      <td>4.979443e+09</td>\n",
       "      <td>5.482617e+09</td>\n",
       "      <td>4.509648e+09</td>\n",
       "      <td>5.459644e+09</td>\n",
       "      <td>3.842852e+09</td>\n",
       "      <td>3.132655e+09</td>\n",
       "      <td>2.830930e+09</td>\n",
       "      <td>3.073433e+09</td>\n",
       "      <td>4.338261e+09</td>\n",
       "      <td>3.121892e+09</td>\n",
       "    </tr>\n",
       "    <tr>\n",
       "      <th>...</th>\n",
       "      <td>...</td>\n",
       "      <td>...</td>\n",
       "      <td>...</td>\n",
       "      <td>...</td>\n",
       "      <td>...</td>\n",
       "      <td>...</td>\n",
       "      <td>...</td>\n",
       "      <td>...</td>\n",
       "      <td>...</td>\n",
       "      <td>...</td>\n",
       "      <td>...</td>\n",
       "      <td>...</td>\n",
       "      <td>...</td>\n",
       "      <td>...</td>\n",
       "      <td>...</td>\n",
       "      <td>...</td>\n",
       "      <td>...</td>\n",
       "      <td>...</td>\n",
       "      <td>...</td>\n",
       "      <td>...</td>\n",
       "      <td>...</td>\n",
       "    </tr>\n",
       "    <tr>\n",
       "      <th>160</th>\n",
       "      <td>Kosovo</td>\n",
       "      <td>XKX</td>\n",
       "      <td>NaN</td>\n",
       "      <td>NaN</td>\n",
       "      <td>NaN</td>\n",
       "      <td>NaN</td>\n",
       "      <td>NaN</td>\n",
       "      <td>NaN</td>\n",
       "      <td>NaN</td>\n",
       "      <td>NaN</td>\n",
       "      <td>...</td>\n",
       "      <td>5.357579e+07</td>\n",
       "      <td>4.998416e+07</td>\n",
       "      <td>5.193762e+07</td>\n",
       "      <td>5.726263e+07</td>\n",
       "      <td>6.334407e+07</td>\n",
       "      <td>6.570533e+07</td>\n",
       "      <td>7.896501e+07</td>\n",
       "      <td>7.960974e+07</td>\n",
       "      <td>1.076016e+08</td>\n",
       "      <td>1.331855e+08</td>\n",
       "    </tr>\n",
       "    <tr>\n",
       "      <th>161</th>\n",
       "      <td>Yemen, Rep.</td>\n",
       "      <td>YEM</td>\n",
       "      <td>NaN</td>\n",
       "      <td>NaN</td>\n",
       "      <td>NaN</td>\n",
       "      <td>NaN</td>\n",
       "      <td>NaN</td>\n",
       "      <td>NaN</td>\n",
       "      <td>NaN</td>\n",
       "      <td>NaN</td>\n",
       "      <td>...</td>\n",
       "      <td>1.714831e+09</td>\n",
       "      <td>NaN</td>\n",
       "      <td>NaN</td>\n",
       "      <td>NaN</td>\n",
       "      <td>NaN</td>\n",
       "      <td>NaN</td>\n",
       "      <td>NaN</td>\n",
       "      <td>NaN</td>\n",
       "      <td>NaN</td>\n",
       "      <td>NaN</td>\n",
       "    </tr>\n",
       "    <tr>\n",
       "      <th>162</th>\n",
       "      <td>South Africa</td>\n",
       "      <td>ZAF</td>\n",
       "      <td>6.999997e+07</td>\n",
       "      <td>1.137500e+08</td>\n",
       "      <td>1.861999e+08</td>\n",
       "      <td>1.889999e+08</td>\n",
       "      <td>2.715999e+08</td>\n",
       "      <td>2.894499e+08</td>\n",
       "      <td>3.244499e+08</td>\n",
       "      <td>3.730999e+08</td>\n",
       "      <td>...</td>\n",
       "      <td>3.892485e+09</td>\n",
       "      <td>3.488868e+09</td>\n",
       "      <td>3.139312e+09</td>\n",
       "      <td>3.591508e+09</td>\n",
       "      <td>3.622919e+09</td>\n",
       "      <td>3.435430e+09</td>\n",
       "      <td>3.231018e+09</td>\n",
       "      <td>3.392816e+09</td>\n",
       "      <td>3.110121e+09</td>\n",
       "      <td>2.781117e+09</td>\n",
       "    </tr>\n",
       "    <tr>\n",
       "      <th>163</th>\n",
       "      <td>Zambia</td>\n",
       "      <td>ZMB</td>\n",
       "      <td>NaN</td>\n",
       "      <td>NaN</td>\n",
       "      <td>NaN</td>\n",
       "      <td>NaN</td>\n",
       "      <td>NaN</td>\n",
       "      <td>NaN</td>\n",
       "      <td>NaN</td>\n",
       "      <td>NaN</td>\n",
       "      <td>...</td>\n",
       "      <td>4.436047e+08</td>\n",
       "      <td>3.724476e+08</td>\n",
       "      <td>2.995048e+08</td>\n",
       "      <td>3.396645e+08</td>\n",
       "      <td>3.780254e+08</td>\n",
       "      <td>2.920725e+08</td>\n",
       "      <td>2.121424e+08</td>\n",
       "      <td>2.175772e+08</td>\n",
       "      <td>3.260788e+08</td>\n",
       "      <td>3.771721e+08</td>\n",
       "    </tr>\n",
       "    <tr>\n",
       "      <th>164</th>\n",
       "      <td>Zimbabwe</td>\n",
       "      <td>ZWE</td>\n",
       "      <td>NaN</td>\n",
       "      <td>NaN</td>\n",
       "      <td>NaN</td>\n",
       "      <td>NaN</td>\n",
       "      <td>1.265000e+07</td>\n",
       "      <td>1.560000e+07</td>\n",
       "      <td>1.695000e+07</td>\n",
       "      <td>1.900000e+07</td>\n",
       "      <td>...</td>\n",
       "      <td>3.681000e+08</td>\n",
       "      <td>3.766770e+08</td>\n",
       "      <td>3.580650e+08</td>\n",
       "      <td>3.405220e+08</td>\n",
       "      <td>4.203640e+08</td>\n",
       "      <td>5.469390e+08</td>\n",
       "      <td>2.421796e+08</td>\n",
       "      <td>4.739453e+08</td>\n",
       "      <td>3.327173e+08</td>\n",
       "      <td>8.704335e+08</td>\n",
       "    </tr>\n",
       "  </tbody>\n",
       "</table>\n",
       "<p>165 rows × 66 columns</p>\n",
       "</div>"
      ],
      "text/plain": [
       "             Country Name Country Code          1960          1961  \\\n",
       "0             Afghanistan          AFG           NaN           NaN   \n",
       "1                  Angola          AGO           NaN           NaN   \n",
       "2                 Albania          ALB           NaN           NaN   \n",
       "3    United Arab Emirates          ARE           NaN           NaN   \n",
       "4               Argentina          ARG  0.000000e+00  0.000000e+00   \n",
       "..                    ...          ...           ...           ...   \n",
       "160                Kosovo          XKX           NaN           NaN   \n",
       "161           Yemen, Rep.          YEM           NaN           NaN   \n",
       "162          South Africa          ZAF  6.999997e+07  1.137500e+08   \n",
       "163                Zambia          ZMB           NaN           NaN   \n",
       "164              Zimbabwe          ZWE           NaN           NaN   \n",
       "\n",
       "             1962          1963          1964          1965          1966  \\\n",
       "0             NaN           NaN           NaN           NaN           NaN   \n",
       "1             NaN           NaN           NaN           NaN           NaN   \n",
       "2             NaN           NaN           NaN           NaN           NaN   \n",
       "3             NaN           NaN           NaN           NaN           NaN   \n",
       "4    3.051624e+08  2.422198e+08  2.457405e+08  2.524076e+08  2.792254e+08   \n",
       "..            ...           ...           ...           ...           ...   \n",
       "160           NaN           NaN           NaN           NaN           NaN   \n",
       "161           NaN           NaN           NaN           NaN           NaN   \n",
       "162  1.861999e+08  1.889999e+08  2.715999e+08  2.894499e+08  3.244499e+08   \n",
       "163           NaN           NaN           NaN           NaN           NaN   \n",
       "164           NaN           NaN  1.265000e+07  1.560000e+07  1.695000e+07   \n",
       "\n",
       "             1967  ...          2014          2015          2016  \\\n",
       "0             NaN  ...  2.682388e+08  1.995171e+08  1.858783e+08   \n",
       "1             NaN  ...  6.846249e+09  3.608299e+09  2.764055e+09   \n",
       "2             NaN  ...  1.781204e+08  1.323507e+08  1.308532e+08   \n",
       "3             NaN  ...  2.275507e+10           NaN           NaN   \n",
       "4    2.519307e+08  ...  4.979443e+09  5.482617e+09  4.509648e+09   \n",
       "..            ...  ...           ...           ...           ...   \n",
       "160           NaN  ...  5.357579e+07  4.998416e+07  5.193762e+07   \n",
       "161           NaN  ...  1.714831e+09           NaN           NaN   \n",
       "162  3.730999e+08  ...  3.892485e+09  3.488868e+09  3.139312e+09   \n",
       "163           NaN  ...  4.436047e+08  3.724476e+08  2.995048e+08   \n",
       "164  1.900000e+07  ...  3.681000e+08  3.766770e+08  3.580650e+08   \n",
       "\n",
       "             2017          2018          2019          2020          2021  \\\n",
       "0    1.914071e+08  1.980747e+08  2.263062e+08  2.795770e+08  2.782508e+08   \n",
       "1    3.062873e+09  1.983614e+09  1.470939e+09  9.935944e+08  9.814510e+08   \n",
       "2    1.443827e+08  1.758867e+08  1.972259e+08  1.965963e+08  2.228145e+08   \n",
       "3             NaN           NaN           NaN           NaN           NaN   \n",
       "4    5.459644e+09  3.842852e+09  3.132655e+09  2.830930e+09  3.073433e+09   \n",
       "..            ...           ...           ...           ...           ...   \n",
       "160  5.726263e+07  6.334407e+07  6.570533e+07  7.896501e+07  7.960974e+07   \n",
       "161           NaN           NaN           NaN           NaN           NaN   \n",
       "162  3.591508e+09  3.622919e+09  3.435430e+09  3.231018e+09  3.392816e+09   \n",
       "163  3.396645e+08  3.780254e+08  2.920725e+08  2.121424e+08  2.175772e+08   \n",
       "164  3.405220e+08  4.203640e+08  5.469390e+08  2.421796e+08  4.739453e+08   \n",
       "\n",
       "             2022          2023  \n",
       "0             NaN           NaN  \n",
       "1    1.622764e+09  1.270158e+09  \n",
       "2    2.286932e+08  3.976176e+08  \n",
       "3             NaN           NaN  \n",
       "4    4.338261e+09  3.121892e+09  \n",
       "..            ...           ...  \n",
       "160  1.076016e+08  1.331855e+08  \n",
       "161           NaN           NaN  \n",
       "162  3.110121e+09  2.781117e+09  \n",
       "163  3.260788e+08  3.771721e+08  \n",
       "164  3.327173e+08  8.704335e+08  \n",
       "\n",
       "[165 rows x 66 columns]"
      ]
     },
     "execution_count": 538,
     "metadata": {},
     "output_type": "execute_result"
    }
   ],
   "source": [
    "df_gdp, df_military = filter_for_same_columns(df_gdp, df_military)\n",
    "df_military.head(200)"
   ]
  },
  {
   "cell_type": "code",
   "execution_count": 539,
   "id": "dda7f401",
   "metadata": {},
   "outputs": [
    {
     "data": {
      "text/html": [
       "<div>\n",
       "<style scoped>\n",
       "    .dataframe tbody tr th:only-of-type {\n",
       "        vertical-align: middle;\n",
       "    }\n",
       "\n",
       "    .dataframe tbody tr th {\n",
       "        vertical-align: top;\n",
       "    }\n",
       "\n",
       "    .dataframe thead th {\n",
       "        text-align: right;\n",
       "    }\n",
       "</style>\n",
       "<table border=\"1\" class=\"dataframe\">\n",
       "  <thead>\n",
       "    <tr style=\"text-align: right;\">\n",
       "      <th></th>\n",
       "      <th>Country Name</th>\n",
       "      <th>Country Code</th>\n",
       "      <th>1960</th>\n",
       "      <th>1961</th>\n",
       "      <th>1962</th>\n",
       "      <th>1963</th>\n",
       "      <th>1964</th>\n",
       "      <th>1965</th>\n",
       "      <th>1966</th>\n",
       "      <th>1967</th>\n",
       "      <th>...</th>\n",
       "      <th>2014</th>\n",
       "      <th>2015</th>\n",
       "      <th>2016</th>\n",
       "      <th>2017</th>\n",
       "      <th>2018</th>\n",
       "      <th>2019</th>\n",
       "      <th>2020</th>\n",
       "      <th>2021</th>\n",
       "      <th>2022</th>\n",
       "      <th>2023</th>\n",
       "    </tr>\n",
       "  </thead>\n",
       "  <tbody>\n",
       "    <tr>\n",
       "      <th>0</th>\n",
       "      <td>Afghanistan</td>\n",
       "      <td>AFG</td>\n",
       "      <td>NaN</td>\n",
       "      <td>NaN</td>\n",
       "      <td>NaN</td>\n",
       "      <td>NaN</td>\n",
       "      <td>NaN</td>\n",
       "      <td>NaN</td>\n",
       "      <td>NaN</td>\n",
       "      <td>NaN</td>\n",
       "      <td>...</td>\n",
       "      <td>2.049713e+10</td>\n",
       "      <td>1.913422e+10</td>\n",
       "      <td>1.811657e+10</td>\n",
       "      <td>1.875346e+10</td>\n",
       "      <td>1.805322e+10</td>\n",
       "      <td>1.879944e+10</td>\n",
       "      <td>1.995593e+10</td>\n",
       "      <td>1.426000e+10</td>\n",
       "      <td>1.449724e+10</td>\n",
       "      <td>1.723305e+10</td>\n",
       "    </tr>\n",
       "    <tr>\n",
       "      <th>1</th>\n",
       "      <td>Angola</td>\n",
       "      <td>AGO</td>\n",
       "      <td>NaN</td>\n",
       "      <td>NaN</td>\n",
       "      <td>NaN</td>\n",
       "      <td>NaN</td>\n",
       "      <td>NaN</td>\n",
       "      <td>NaN</td>\n",
       "      <td>NaN</td>\n",
       "      <td>NaN</td>\n",
       "      <td>...</td>\n",
       "      <td>1.359668e+11</td>\n",
       "      <td>9.049642e+10</td>\n",
       "      <td>5.276162e+10</td>\n",
       "      <td>7.369015e+10</td>\n",
       "      <td>7.945069e+10</td>\n",
       "      <td>7.089796e+10</td>\n",
       "      <td>4.850156e+10</td>\n",
       "      <td>6.650513e+10</td>\n",
       "      <td>1.043997e+11</td>\n",
       "      <td>8.482465e+10</td>\n",
       "    </tr>\n",
       "    <tr>\n",
       "      <th>2</th>\n",
       "      <td>Albania</td>\n",
       "      <td>ALB</td>\n",
       "      <td>NaN</td>\n",
       "      <td>NaN</td>\n",
       "      <td>NaN</td>\n",
       "      <td>NaN</td>\n",
       "      <td>NaN</td>\n",
       "      <td>NaN</td>\n",
       "      <td>NaN</td>\n",
       "      <td>NaN</td>\n",
       "      <td>...</td>\n",
       "      <td>1.322815e+10</td>\n",
       "      <td>1.138685e+10</td>\n",
       "      <td>1.186120e+10</td>\n",
       "      <td>1.301973e+10</td>\n",
       "      <td>1.537951e+10</td>\n",
       "      <td>1.558511e+10</td>\n",
       "      <td>1.524146e+10</td>\n",
       "      <td>1.803201e+10</td>\n",
       "      <td>1.901724e+10</td>\n",
       "      <td>2.354718e+10</td>\n",
       "    </tr>\n",
       "    <tr>\n",
       "      <th>3</th>\n",
       "      <td>United Arab Emirates</td>\n",
       "      <td>ARE</td>\n",
       "      <td>NaN</td>\n",
       "      <td>NaN</td>\n",
       "      <td>NaN</td>\n",
       "      <td>NaN</td>\n",
       "      <td>NaN</td>\n",
       "      <td>NaN</td>\n",
       "      <td>NaN</td>\n",
       "      <td>NaN</td>\n",
       "      <td>...</td>\n",
       "      <td>4.141054e+11</td>\n",
       "      <td>3.702755e+11</td>\n",
       "      <td>3.692553e+11</td>\n",
       "      <td>3.905168e+11</td>\n",
       "      <td>4.270494e+11</td>\n",
       "      <td>4.179897e+11</td>\n",
       "      <td>3.494730e+11</td>\n",
       "      <td>4.151788e+11</td>\n",
       "      <td>5.027319e+11</td>\n",
       "      <td>5.141304e+11</td>\n",
       "    </tr>\n",
       "    <tr>\n",
       "      <th>4</th>\n",
       "      <td>Argentina</td>\n",
       "      <td>ARG</td>\n",
       "      <td>NaN</td>\n",
       "      <td>NaN</td>\n",
       "      <td>2.445060e+10</td>\n",
       "      <td>1.827212e+10</td>\n",
       "      <td>2.560525e+10</td>\n",
       "      <td>2.834471e+10</td>\n",
       "      <td>2.863047e+10</td>\n",
       "      <td>2.425667e+10</td>\n",
       "      <td>...</td>\n",
       "      <td>5.263197e+11</td>\n",
       "      <td>5.947493e+11</td>\n",
       "      <td>5.575323e+11</td>\n",
       "      <td>6.436284e+11</td>\n",
       "      <td>5.248199e+11</td>\n",
       "      <td>4.477547e+11</td>\n",
       "      <td>3.857405e+11</td>\n",
       "      <td>4.865641e+11</td>\n",
       "      <td>6.327901e+11</td>\n",
       "      <td>6.460753e+11</td>\n",
       "    </tr>\n",
       "    <tr>\n",
       "      <th>...</th>\n",
       "      <td>...</td>\n",
       "      <td>...</td>\n",
       "      <td>...</td>\n",
       "      <td>...</td>\n",
       "      <td>...</td>\n",
       "      <td>...</td>\n",
       "      <td>...</td>\n",
       "      <td>...</td>\n",
       "      <td>...</td>\n",
       "      <td>...</td>\n",
       "      <td>...</td>\n",
       "      <td>...</td>\n",
       "      <td>...</td>\n",
       "      <td>...</td>\n",
       "      <td>...</td>\n",
       "      <td>...</td>\n",
       "      <td>...</td>\n",
       "      <td>...</td>\n",
       "      <td>...</td>\n",
       "      <td>...</td>\n",
       "      <td>...</td>\n",
       "    </tr>\n",
       "    <tr>\n",
       "      <th>160</th>\n",
       "      <td>Kosovo</td>\n",
       "      <td>XKX</td>\n",
       "      <td>NaN</td>\n",
       "      <td>NaN</td>\n",
       "      <td>NaN</td>\n",
       "      <td>NaN</td>\n",
       "      <td>NaN</td>\n",
       "      <td>NaN</td>\n",
       "      <td>NaN</td>\n",
       "      <td>NaN</td>\n",
       "      <td>...</td>\n",
       "      <td>7.074395e+09</td>\n",
       "      <td>6.295848e+09</td>\n",
       "      <td>6.682677e+09</td>\n",
       "      <td>7.180765e+09</td>\n",
       "      <td>7.878760e+09</td>\n",
       "      <td>7.899738e+09</td>\n",
       "      <td>7.717145e+09</td>\n",
       "      <td>9.413404e+09</td>\n",
       "      <td>9.354903e+09</td>\n",
       "      <td>1.046822e+10</td>\n",
       "    </tr>\n",
       "    <tr>\n",
       "      <th>161</th>\n",
       "      <td>Yemen, Rep.</td>\n",
       "      <td>YEM</td>\n",
       "      <td>NaN</td>\n",
       "      <td>NaN</td>\n",
       "      <td>NaN</td>\n",
       "      <td>NaN</td>\n",
       "      <td>NaN</td>\n",
       "      <td>NaN</td>\n",
       "      <td>NaN</td>\n",
       "      <td>NaN</td>\n",
       "      <td>...</td>\n",
       "      <td>4.322859e+10</td>\n",
       "      <td>4.244449e+10</td>\n",
       "      <td>3.131782e+10</td>\n",
       "      <td>2.684223e+10</td>\n",
       "      <td>2.160616e+10</td>\n",
       "      <td>NaN</td>\n",
       "      <td>NaN</td>\n",
       "      <td>NaN</td>\n",
       "      <td>NaN</td>\n",
       "      <td>NaN</td>\n",
       "    </tr>\n",
       "    <tr>\n",
       "      <th>162</th>\n",
       "      <td>South Africa</td>\n",
       "      <td>ZAF</td>\n",
       "      <td>8.748597e+09</td>\n",
       "      <td>9.225996e+09</td>\n",
       "      <td>9.813996e+09</td>\n",
       "      <td>1.085420e+10</td>\n",
       "      <td>1.195600e+10</td>\n",
       "      <td>1.306899e+10</td>\n",
       "      <td>1.421139e+10</td>\n",
       "      <td>1.582139e+10</td>\n",
       "      <td>...</td>\n",
       "      <td>3.811989e+11</td>\n",
       "      <td>3.467098e+11</td>\n",
       "      <td>3.235855e+11</td>\n",
       "      <td>3.814488e+11</td>\n",
       "      <td>4.052607e+11</td>\n",
       "      <td>3.893300e+11</td>\n",
       "      <td>3.379747e+11</td>\n",
       "      <td>4.208869e+11</td>\n",
       "      <td>4.069200e+11</td>\n",
       "      <td>3.806993e+11</td>\n",
       "    </tr>\n",
       "    <tr>\n",
       "      <th>163</th>\n",
       "      <td>Zambia</td>\n",
       "      <td>ZMB</td>\n",
       "      <td>6.987397e+08</td>\n",
       "      <td>6.823597e+08</td>\n",
       "      <td>6.792797e+08</td>\n",
       "      <td>7.043397e+08</td>\n",
       "      <td>8.226397e+08</td>\n",
       "      <td>1.061200e+09</td>\n",
       "      <td>1.239000e+09</td>\n",
       "      <td>1.340639e+09</td>\n",
       "      <td>...</td>\n",
       "      <td>2.714102e+10</td>\n",
       "      <td>2.125122e+10</td>\n",
       "      <td>2.095841e+10</td>\n",
       "      <td>2.587360e+10</td>\n",
       "      <td>2.631151e+10</td>\n",
       "      <td>2.330867e+10</td>\n",
       "      <td>1.813776e+10</td>\n",
       "      <td>2.209642e+10</td>\n",
       "      <td>2.916378e+10</td>\n",
       "      <td>2.757796e+10</td>\n",
       "    </tr>\n",
       "    <tr>\n",
       "      <th>164</th>\n",
       "      <td>Zimbabwe</td>\n",
       "      <td>ZWE</td>\n",
       "      <td>1.052990e+09</td>\n",
       "      <td>1.096647e+09</td>\n",
       "      <td>1.117602e+09</td>\n",
       "      <td>1.159512e+09</td>\n",
       "      <td>1.217138e+09</td>\n",
       "      <td>1.311436e+09</td>\n",
       "      <td>1.281750e+09</td>\n",
       "      <td>1.397002e+09</td>\n",
       "      <td>...</td>\n",
       "      <td>1.949552e+10</td>\n",
       "      <td>1.996312e+10</td>\n",
       "      <td>2.054868e+10</td>\n",
       "      <td>5.107466e+10</td>\n",
       "      <td>3.415607e+10</td>\n",
       "      <td>2.571741e+10</td>\n",
       "      <td>2.686794e+10</td>\n",
       "      <td>2.724052e+10</td>\n",
       "      <td>3.278975e+10</td>\n",
       "      <td>3.523137e+10</td>\n",
       "    </tr>\n",
       "  </tbody>\n",
       "</table>\n",
       "<p>165 rows × 66 columns</p>\n",
       "</div>"
      ],
      "text/plain": [
       "             Country Name Country Code          1960          1961  \\\n",
       "0             Afghanistan          AFG           NaN           NaN   \n",
       "1                  Angola          AGO           NaN           NaN   \n",
       "2                 Albania          ALB           NaN           NaN   \n",
       "3    United Arab Emirates          ARE           NaN           NaN   \n",
       "4               Argentina          ARG           NaN           NaN   \n",
       "..                    ...          ...           ...           ...   \n",
       "160                Kosovo          XKX           NaN           NaN   \n",
       "161           Yemen, Rep.          YEM           NaN           NaN   \n",
       "162          South Africa          ZAF  8.748597e+09  9.225996e+09   \n",
       "163                Zambia          ZMB  6.987397e+08  6.823597e+08   \n",
       "164              Zimbabwe          ZWE  1.052990e+09  1.096647e+09   \n",
       "\n",
       "             1962          1963          1964          1965          1966  \\\n",
       "0             NaN           NaN           NaN           NaN           NaN   \n",
       "1             NaN           NaN           NaN           NaN           NaN   \n",
       "2             NaN           NaN           NaN           NaN           NaN   \n",
       "3             NaN           NaN           NaN           NaN           NaN   \n",
       "4    2.445060e+10  1.827212e+10  2.560525e+10  2.834471e+10  2.863047e+10   \n",
       "..            ...           ...           ...           ...           ...   \n",
       "160           NaN           NaN           NaN           NaN           NaN   \n",
       "161           NaN           NaN           NaN           NaN           NaN   \n",
       "162  9.813996e+09  1.085420e+10  1.195600e+10  1.306899e+10  1.421139e+10   \n",
       "163  6.792797e+08  7.043397e+08  8.226397e+08  1.061200e+09  1.239000e+09   \n",
       "164  1.117602e+09  1.159512e+09  1.217138e+09  1.311436e+09  1.281750e+09   \n",
       "\n",
       "             1967  ...          2014          2015          2016  \\\n",
       "0             NaN  ...  2.049713e+10  1.913422e+10  1.811657e+10   \n",
       "1             NaN  ...  1.359668e+11  9.049642e+10  5.276162e+10   \n",
       "2             NaN  ...  1.322815e+10  1.138685e+10  1.186120e+10   \n",
       "3             NaN  ...  4.141054e+11  3.702755e+11  3.692553e+11   \n",
       "4    2.425667e+10  ...  5.263197e+11  5.947493e+11  5.575323e+11   \n",
       "..            ...  ...           ...           ...           ...   \n",
       "160           NaN  ...  7.074395e+09  6.295848e+09  6.682677e+09   \n",
       "161           NaN  ...  4.322859e+10  4.244449e+10  3.131782e+10   \n",
       "162  1.582139e+10  ...  3.811989e+11  3.467098e+11  3.235855e+11   \n",
       "163  1.340639e+09  ...  2.714102e+10  2.125122e+10  2.095841e+10   \n",
       "164  1.397002e+09  ...  1.949552e+10  1.996312e+10  2.054868e+10   \n",
       "\n",
       "             2017          2018          2019          2020          2021  \\\n",
       "0    1.875346e+10  1.805322e+10  1.879944e+10  1.995593e+10  1.426000e+10   \n",
       "1    7.369015e+10  7.945069e+10  7.089796e+10  4.850156e+10  6.650513e+10   \n",
       "2    1.301973e+10  1.537951e+10  1.558511e+10  1.524146e+10  1.803201e+10   \n",
       "3    3.905168e+11  4.270494e+11  4.179897e+11  3.494730e+11  4.151788e+11   \n",
       "4    6.436284e+11  5.248199e+11  4.477547e+11  3.857405e+11  4.865641e+11   \n",
       "..            ...           ...           ...           ...           ...   \n",
       "160  7.180765e+09  7.878760e+09  7.899738e+09  7.717145e+09  9.413404e+09   \n",
       "161  2.684223e+10  2.160616e+10           NaN           NaN           NaN   \n",
       "162  3.814488e+11  4.052607e+11  3.893300e+11  3.379747e+11  4.208869e+11   \n",
       "163  2.587360e+10  2.631151e+10  2.330867e+10  1.813776e+10  2.209642e+10   \n",
       "164  5.107466e+10  3.415607e+10  2.571741e+10  2.686794e+10  2.724052e+10   \n",
       "\n",
       "             2022          2023  \n",
       "0    1.449724e+10  1.723305e+10  \n",
       "1    1.043997e+11  8.482465e+10  \n",
       "2    1.901724e+10  2.354718e+10  \n",
       "3    5.027319e+11  5.141304e+11  \n",
       "4    6.327901e+11  6.460753e+11  \n",
       "..            ...           ...  \n",
       "160  9.354903e+09  1.046822e+10  \n",
       "161           NaN           NaN  \n",
       "162  4.069200e+11  3.806993e+11  \n",
       "163  2.916378e+10  2.757796e+10  \n",
       "164  3.278975e+10  3.523137e+10  \n",
       "\n",
       "[165 rows x 66 columns]"
      ]
     },
     "execution_count": 539,
     "metadata": {},
     "output_type": "execute_result"
    }
   ],
   "source": [
    "df_gdp.head(200)"
   ]
  },
  {
   "cell_type": "code",
   "execution_count": 540,
   "id": "86535811",
   "metadata": {},
   "outputs": [
    {
     "name": "stdout",
     "output_type": "stream",
     "text": [
      "               Country Name  n Jahre  Spearman ρ  p-Spearman  Kendall τ_b  \\\n",
      "0                Uzbekistan       10       1.000       0.000        1.000   \n",
      "1               Korea, Rep.       64       0.997       0.000        0.970   \n",
      "2                   Estonia       31       0.996       0.000        0.970   \n",
      "3                     India       64       0.995       0.000        0.959   \n",
      "4                     China       35       0.995       0.000        0.970   \n",
      "..                      ...      ...         ...         ...          ...   \n",
      "160                 Croatia       32       0.339       0.057        0.383   \n",
      "161            Turkmenistan        6       0.143       0.787        0.200   \n",
      "162             South Sudan        8      -0.167       0.693       -0.071   \n",
      "163  Bosnia and Herzegovina       22      -0.203       0.366       -0.143   \n",
      "164                 Lao PDR       22      -0.309       0.162       -0.108   \n",
      "\n",
      "     p-Kendall  \n",
      "0        0.000  \n",
      "1        0.000  \n",
      "2        0.000  \n",
      "3        0.000  \n",
      "4        0.000  \n",
      "..         ...  \n",
      "160      0.002  \n",
      "161      0.719  \n",
      "162      0.905  \n",
      "163      0.371  \n",
      "164      0.503  \n",
      "\n",
      "[165 rows x 6 columns]\n"
     ]
    }
   ],
   "source": [
    "df = df_gdp.merge(df_military, on=\"Country Name\", suffixes=(\"_gdp\", \"_mil\"))\n",
    "\n",
    "# 4) Korrelation pro Land berechnen\n",
    "results = []\n",
    "for _, row in df.iterrows():\n",
    "    country = row[\"Country Name\"]\n",
    "    # Zeitreihen in numpy-Arrays\n",
    "    x = pd.to_numeric(row[[f\"{y}_gdp\" for y in years]], errors=\"coerce\").to_numpy()\n",
    "    y = pd.to_numeric(row[[f\"{y}_mil\" for y in years]], errors=\"coerce\").to_numpy()\n",
    "    \n",
    "    # Nur valide Paare (nicht-NaN, nicht 0)\n",
    "    mask = (~np.isnan(x)) & (x != 0) & (~np.isnan(y)) & (y != 0)\n",
    "    x_valid = x[mask]\n",
    "    y_valid = y[mask]\n",
    "    \n",
    "    if len(x_valid) < 3:\n",
    "        # für mindestens 3 Wertepaare sinnvoll\n",
    "        continue\n",
    "    \n",
    "    # Spearman ρ\n",
    "    rho, p_s = spearmanr(x_valid, y_valid)\n",
    "    # Kendall's τ_b\n",
    "    tau, p_k = kendalltau(x_valid, y_valid)\n",
    "    \n",
    "    results.append({\n",
    "        \"Country Name\": country,\n",
    "        \"n Jahre\": len(x_valid),\n",
    "        \"Spearman ρ\": round(rho, 3),\n",
    "        \"p-Spearman\": round(p_s, 3),\n",
    "        \"Kendall τ_b\": round(tau, 3),\n",
    "        \"p-Kendall\": round(p_k, 3)\n",
    "    })\n",
    "\n",
    "# 5) In DataFrame und CSV\n",
    "df_country_corr = pd.DataFrame(results) \\\n",
    "    .sort_values(\"Spearman ρ\", ascending=False) \\\n",
    "    .reset_index(drop=True)\n",
    "\n",
    "print(df_country_corr)\n",
    "df_country_corr.to_csv(\"results/gdp_correlations.csv\", index=False)"
   ]
  },
  {
   "cell_type": "code",
   "execution_count": 541,
   "id": "b838f69e",
   "metadata": {},
   "outputs": [
    {
     "name": "stdout",
     "output_type": "stream",
     "text": [
      "               Country Name  n Jahre  n Änderungen  Spearman ρ (Trend)  \\\n",
      "0    Bosnia and Herzegovina       22            21               0.500   \n",
      "1               Afghanistan       18            17               0.466   \n",
      "2           North Macedonia       28            27               0.443   \n",
      "3                   Lao PDR       22            21               0.405   \n",
      "4               South Sudan        8             7               0.321   \n",
      "..                      ...      ...           ...                 ...   \n",
      "160                  Uganda       63            62              -0.340   \n",
      "161                 Estonia       31            30              -0.352   \n",
      "162        Egypt, Arab Rep.       62            61              -0.352   \n",
      "163                 Ireland       64            63              -0.364   \n",
      "164              Kazakhstan       30            29              -0.395   \n",
      "\n",
      "     p-Spearman  Kendall τ_b (Trend)  p-Kendall  \n",
      "0         0.021                0.352      0.026  \n",
      "1         0.060                0.382      0.034  \n",
      "2         0.021                0.356      0.009  \n",
      "3         0.068                0.276      0.085  \n",
      "4         0.482                0.238      0.562  \n",
      "..          ...                  ...        ...  \n",
      "160       0.007               -0.234      0.007  \n",
      "161       0.057               -0.241      0.063  \n",
      "162       0.005               -0.258      0.003  \n",
      "163       0.003               -0.251      0.004  \n",
      "164       0.034               -0.266      0.044  \n",
      "\n",
      "[165 rows x 7 columns]\n"
     ]
    }
   ],
   "source": [
    "results = []\n",
    "for _, row in df.iterrows():\n",
    "    country = row[\"Country Name\"]\n",
    "    # a) Level-Werte\n",
    "    gdp = pd.to_numeric(row[[f\"{y}_gdp\" for y in years]], errors=\"coerce\").to_numpy()\n",
    "    mil = pd.to_numeric(row[[f\"{y}_mil\" for y in years]], errors=\"coerce\").to_numpy()\n",
    "    \n",
    "    # b) Maske: nur Jahre mit beiden Werten > 0\n",
    "    mask = (~np.isnan(gdp)) & (gdp > 0) & (~np.isnan(mil)) & (mil > 0)\n",
    "    gdp, mil = gdp[mask], mil[mask]\n",
    "    \n",
    "    # Mindestanforderung für Differenzen\n",
    "    if len(gdp) < 4:\n",
    "        continue\n",
    "    \n",
    "    # c) Militär-Anteil am BIP\n",
    "    share = mil / gdp\n",
    "    \n",
    "    # d) jährliche prozentuale Veränderung\n",
    "    share_pct = share[1:] / share[:-1] - 1\n",
    "\n",
    "    # e) Bei konstanter Serie keine Korrelation\n",
    "    if np.allclose(share_pct, share_pct[0]):\n",
    "        rho_s = p_s = tau_k = p_k = np.nan\n",
    "    else:\n",
    "        idx = np.arange(len(share_pct))\n",
    "        rho_s, p_s = spearmanr(idx, share_pct)\n",
    "        tau_k, p_k = kendalltau(idx, share_pct)\n",
    "    \n",
    "    results.append({\n",
    "        \"Country Name\": country,\n",
    "        \"n Jahre\": len(share),\n",
    "        \"n Änderungen\": len(share_pct),\n",
    "        \"Spearman ρ (Trend)\": None if np.isnan(rho_s) else round(rho_s, 3),\n",
    "        \"p-Spearman\": None if np.isnan(p_s) else round(p_s, 3),\n",
    "        \"Kendall τ_b (Trend)\": None if np.isnan(tau_k) else round(tau_k, 3),\n",
    "        \"p-Kendall\": None if np.isnan(p_k) else round(p_k, 3)\n",
    "    })\n",
    "\n",
    "# 4) Ausgabe\n",
    "df_trend = pd.DataFrame(results) \\\n",
    "    .sort_values(\"Spearman ρ (Trend)\", ascending=False, na_position='last') \\\n",
    "    .reset_index(drop=True)\n",
    "\n",
    "print(df_trend)\n",
    "df_trend.to_csv(\"results/mil_share_trend.csv\", index=False)"
   ]
  },
  {
   "cell_type": "code",
   "execution_count": 542,
   "id": "aedff395",
   "metadata": {},
   "outputs": [],
   "source": [
    "df_military = pd.read_csv(\"data/military_expanditure.csv\", sep=',', skiprows=4)\n",
    "df_military = df_military.drop(columns=[\"Indicator Name\", \"Indicator Code\", \"2024\", \"Unnamed: 69\"])\n",
    "df_military = clean_df(df_military)"
   ]
  },
  {
   "cell_type": "code",
   "execution_count": 543,
   "id": "6d341ea1",
   "metadata": {},
   "outputs": [],
   "source": [
    "df_import = pd.read_csv(\"data/imports.csv\", sep=',', skiprows=4)\n",
    "df_import = df_import.drop(columns=[\"Indicator Name\", \"Indicator Code\", \"2024\", \"Unnamed: 69\"])\n",
    "df_import = clean_df(df_import)"
   ]
  },
  {
   "cell_type": "code",
   "execution_count": 544,
   "id": "b25fc31d",
   "metadata": {},
   "outputs": [
    {
     "data": {
      "text/html": [
       "<div>\n",
       "<style scoped>\n",
       "    .dataframe tbody tr th:only-of-type {\n",
       "        vertical-align: middle;\n",
       "    }\n",
       "\n",
       "    .dataframe tbody tr th {\n",
       "        vertical-align: top;\n",
       "    }\n",
       "\n",
       "    .dataframe thead th {\n",
       "        text-align: right;\n",
       "    }\n",
       "</style>\n",
       "<table border=\"1\" class=\"dataframe\">\n",
       "  <thead>\n",
       "    <tr style=\"text-align: right;\">\n",
       "      <th></th>\n",
       "      <th>Country Name</th>\n",
       "      <th>Country Code</th>\n",
       "      <th>1960</th>\n",
       "      <th>1961</th>\n",
       "      <th>1962</th>\n",
       "      <th>1963</th>\n",
       "      <th>1964</th>\n",
       "      <th>1965</th>\n",
       "      <th>1966</th>\n",
       "      <th>1967</th>\n",
       "      <th>...</th>\n",
       "      <th>2014</th>\n",
       "      <th>2015</th>\n",
       "      <th>2016</th>\n",
       "      <th>2017</th>\n",
       "      <th>2018</th>\n",
       "      <th>2019</th>\n",
       "      <th>2020</th>\n",
       "      <th>2021</th>\n",
       "      <th>2022</th>\n",
       "      <th>2023</th>\n",
       "    </tr>\n",
       "  </thead>\n",
       "  <tbody>\n",
       "    <tr>\n",
       "      <th>0</th>\n",
       "      <td>Afghanistan</td>\n",
       "      <td>AFG</td>\n",
       "      <td>NaN</td>\n",
       "      <td>NaN</td>\n",
       "      <td>NaN</td>\n",
       "      <td>NaN</td>\n",
       "      <td>NaN</td>\n",
       "      <td>NaN</td>\n",
       "      <td>NaN</td>\n",
       "      <td>NaN</td>\n",
       "      <td>...</td>\n",
       "      <td>2.682388e+08</td>\n",
       "      <td>1.995171e+08</td>\n",
       "      <td>1.858783e+08</td>\n",
       "      <td>1.914071e+08</td>\n",
       "      <td>1.980747e+08</td>\n",
       "      <td>2.263062e+08</td>\n",
       "      <td>2.795770e+08</td>\n",
       "      <td>2.782508e+08</td>\n",
       "      <td>NaN</td>\n",
       "      <td>NaN</td>\n",
       "    </tr>\n",
       "    <tr>\n",
       "      <th>1</th>\n",
       "      <td>Angola</td>\n",
       "      <td>AGO</td>\n",
       "      <td>NaN</td>\n",
       "      <td>NaN</td>\n",
       "      <td>NaN</td>\n",
       "      <td>NaN</td>\n",
       "      <td>NaN</td>\n",
       "      <td>NaN</td>\n",
       "      <td>NaN</td>\n",
       "      <td>NaN</td>\n",
       "      <td>...</td>\n",
       "      <td>6.846249e+09</td>\n",
       "      <td>3.608299e+09</td>\n",
       "      <td>2.764055e+09</td>\n",
       "      <td>3.062873e+09</td>\n",
       "      <td>1.983614e+09</td>\n",
       "      <td>1.470939e+09</td>\n",
       "      <td>9.935944e+08</td>\n",
       "      <td>9.814510e+08</td>\n",
       "      <td>1.622764e+09</td>\n",
       "      <td>1.270158e+09</td>\n",
       "    </tr>\n",
       "    <tr>\n",
       "      <th>2</th>\n",
       "      <td>Albania</td>\n",
       "      <td>ALB</td>\n",
       "      <td>NaN</td>\n",
       "      <td>NaN</td>\n",
       "      <td>NaN</td>\n",
       "      <td>NaN</td>\n",
       "      <td>NaN</td>\n",
       "      <td>NaN</td>\n",
       "      <td>NaN</td>\n",
       "      <td>NaN</td>\n",
       "      <td>...</td>\n",
       "      <td>1.781204e+08</td>\n",
       "      <td>1.323507e+08</td>\n",
       "      <td>1.308532e+08</td>\n",
       "      <td>1.443827e+08</td>\n",
       "      <td>1.758867e+08</td>\n",
       "      <td>1.972259e+08</td>\n",
       "      <td>1.965963e+08</td>\n",
       "      <td>2.228145e+08</td>\n",
       "      <td>2.286932e+08</td>\n",
       "      <td>3.976176e+08</td>\n",
       "    </tr>\n",
       "    <tr>\n",
       "      <th>3</th>\n",
       "      <td>United Arab Emirates</td>\n",
       "      <td>ARE</td>\n",
       "      <td>NaN</td>\n",
       "      <td>NaN</td>\n",
       "      <td>NaN</td>\n",
       "      <td>NaN</td>\n",
       "      <td>NaN</td>\n",
       "      <td>NaN</td>\n",
       "      <td>NaN</td>\n",
       "      <td>NaN</td>\n",
       "      <td>...</td>\n",
       "      <td>2.275507e+10</td>\n",
       "      <td>NaN</td>\n",
       "      <td>NaN</td>\n",
       "      <td>NaN</td>\n",
       "      <td>NaN</td>\n",
       "      <td>NaN</td>\n",
       "      <td>NaN</td>\n",
       "      <td>NaN</td>\n",
       "      <td>NaN</td>\n",
       "      <td>NaN</td>\n",
       "    </tr>\n",
       "    <tr>\n",
       "      <th>4</th>\n",
       "      <td>Argentina</td>\n",
       "      <td>ARG</td>\n",
       "      <td>0.000000e+00</td>\n",
       "      <td>0.000000e+00</td>\n",
       "      <td>3.051624e+08</td>\n",
       "      <td>2.422198e+08</td>\n",
       "      <td>2.457405e+08</td>\n",
       "      <td>2.524076e+08</td>\n",
       "      <td>2.792254e+08</td>\n",
       "      <td>2.519307e+08</td>\n",
       "      <td>...</td>\n",
       "      <td>4.979443e+09</td>\n",
       "      <td>5.482617e+09</td>\n",
       "      <td>4.509648e+09</td>\n",
       "      <td>5.459644e+09</td>\n",
       "      <td>3.842852e+09</td>\n",
       "      <td>3.132655e+09</td>\n",
       "      <td>2.830930e+09</td>\n",
       "      <td>3.073433e+09</td>\n",
       "      <td>4.338261e+09</td>\n",
       "      <td>3.121892e+09</td>\n",
       "    </tr>\n",
       "    <tr>\n",
       "      <th>...</th>\n",
       "      <td>...</td>\n",
       "      <td>...</td>\n",
       "      <td>...</td>\n",
       "      <td>...</td>\n",
       "      <td>...</td>\n",
       "      <td>...</td>\n",
       "      <td>...</td>\n",
       "      <td>...</td>\n",
       "      <td>...</td>\n",
       "      <td>...</td>\n",
       "      <td>...</td>\n",
       "      <td>...</td>\n",
       "      <td>...</td>\n",
       "      <td>...</td>\n",
       "      <td>...</td>\n",
       "      <td>...</td>\n",
       "      <td>...</td>\n",
       "      <td>...</td>\n",
       "      <td>...</td>\n",
       "      <td>...</td>\n",
       "      <td>...</td>\n",
       "    </tr>\n",
       "    <tr>\n",
       "      <th>154</th>\n",
       "      <td>Kosovo</td>\n",
       "      <td>XKX</td>\n",
       "      <td>NaN</td>\n",
       "      <td>NaN</td>\n",
       "      <td>NaN</td>\n",
       "      <td>NaN</td>\n",
       "      <td>NaN</td>\n",
       "      <td>NaN</td>\n",
       "      <td>NaN</td>\n",
       "      <td>NaN</td>\n",
       "      <td>...</td>\n",
       "      <td>5.357579e+07</td>\n",
       "      <td>4.998416e+07</td>\n",
       "      <td>5.193762e+07</td>\n",
       "      <td>5.726263e+07</td>\n",
       "      <td>6.334407e+07</td>\n",
       "      <td>6.570533e+07</td>\n",
       "      <td>7.896501e+07</td>\n",
       "      <td>7.960974e+07</td>\n",
       "      <td>1.076016e+08</td>\n",
       "      <td>1.331855e+08</td>\n",
       "    </tr>\n",
       "    <tr>\n",
       "      <th>155</th>\n",
       "      <td>Yemen, Rep.</td>\n",
       "      <td>YEM</td>\n",
       "      <td>NaN</td>\n",
       "      <td>NaN</td>\n",
       "      <td>NaN</td>\n",
       "      <td>NaN</td>\n",
       "      <td>NaN</td>\n",
       "      <td>NaN</td>\n",
       "      <td>NaN</td>\n",
       "      <td>NaN</td>\n",
       "      <td>...</td>\n",
       "      <td>1.714831e+09</td>\n",
       "      <td>NaN</td>\n",
       "      <td>NaN</td>\n",
       "      <td>NaN</td>\n",
       "      <td>NaN</td>\n",
       "      <td>NaN</td>\n",
       "      <td>NaN</td>\n",
       "      <td>NaN</td>\n",
       "      <td>NaN</td>\n",
       "      <td>NaN</td>\n",
       "    </tr>\n",
       "    <tr>\n",
       "      <th>156</th>\n",
       "      <td>South Africa</td>\n",
       "      <td>ZAF</td>\n",
       "      <td>6.999997e+07</td>\n",
       "      <td>1.137500e+08</td>\n",
       "      <td>1.861999e+08</td>\n",
       "      <td>1.889999e+08</td>\n",
       "      <td>2.715999e+08</td>\n",
       "      <td>2.894499e+08</td>\n",
       "      <td>3.244499e+08</td>\n",
       "      <td>3.730999e+08</td>\n",
       "      <td>...</td>\n",
       "      <td>3.892485e+09</td>\n",
       "      <td>3.488868e+09</td>\n",
       "      <td>3.139312e+09</td>\n",
       "      <td>3.591508e+09</td>\n",
       "      <td>3.622919e+09</td>\n",
       "      <td>3.435430e+09</td>\n",
       "      <td>3.231018e+09</td>\n",
       "      <td>3.392816e+09</td>\n",
       "      <td>3.110121e+09</td>\n",
       "      <td>2.781117e+09</td>\n",
       "    </tr>\n",
       "    <tr>\n",
       "      <th>157</th>\n",
       "      <td>Zambia</td>\n",
       "      <td>ZMB</td>\n",
       "      <td>NaN</td>\n",
       "      <td>NaN</td>\n",
       "      <td>NaN</td>\n",
       "      <td>NaN</td>\n",
       "      <td>NaN</td>\n",
       "      <td>NaN</td>\n",
       "      <td>NaN</td>\n",
       "      <td>NaN</td>\n",
       "      <td>...</td>\n",
       "      <td>4.436047e+08</td>\n",
       "      <td>3.724476e+08</td>\n",
       "      <td>2.995048e+08</td>\n",
       "      <td>3.396645e+08</td>\n",
       "      <td>3.780254e+08</td>\n",
       "      <td>2.920725e+08</td>\n",
       "      <td>2.121424e+08</td>\n",
       "      <td>2.175772e+08</td>\n",
       "      <td>3.260788e+08</td>\n",
       "      <td>3.771721e+08</td>\n",
       "    </tr>\n",
       "    <tr>\n",
       "      <th>158</th>\n",
       "      <td>Zimbabwe</td>\n",
       "      <td>ZWE</td>\n",
       "      <td>NaN</td>\n",
       "      <td>NaN</td>\n",
       "      <td>NaN</td>\n",
       "      <td>NaN</td>\n",
       "      <td>1.265000e+07</td>\n",
       "      <td>1.560000e+07</td>\n",
       "      <td>1.695000e+07</td>\n",
       "      <td>1.900000e+07</td>\n",
       "      <td>...</td>\n",
       "      <td>3.681000e+08</td>\n",
       "      <td>3.766770e+08</td>\n",
       "      <td>3.580650e+08</td>\n",
       "      <td>3.405220e+08</td>\n",
       "      <td>4.203640e+08</td>\n",
       "      <td>5.469390e+08</td>\n",
       "      <td>2.421796e+08</td>\n",
       "      <td>4.739453e+08</td>\n",
       "      <td>3.327173e+08</td>\n",
       "      <td>8.704335e+08</td>\n",
       "    </tr>\n",
       "  </tbody>\n",
       "</table>\n",
       "<p>159 rows × 66 columns</p>\n",
       "</div>"
      ],
      "text/plain": [
       "             Country Name Country Code          1960          1961  \\\n",
       "0             Afghanistan          AFG           NaN           NaN   \n",
       "1                  Angola          AGO           NaN           NaN   \n",
       "2                 Albania          ALB           NaN           NaN   \n",
       "3    United Arab Emirates          ARE           NaN           NaN   \n",
       "4               Argentina          ARG  0.000000e+00  0.000000e+00   \n",
       "..                    ...          ...           ...           ...   \n",
       "154                Kosovo          XKX           NaN           NaN   \n",
       "155           Yemen, Rep.          YEM           NaN           NaN   \n",
       "156          South Africa          ZAF  6.999997e+07  1.137500e+08   \n",
       "157                Zambia          ZMB           NaN           NaN   \n",
       "158              Zimbabwe          ZWE           NaN           NaN   \n",
       "\n",
       "             1962          1963          1964          1965          1966  \\\n",
       "0             NaN           NaN           NaN           NaN           NaN   \n",
       "1             NaN           NaN           NaN           NaN           NaN   \n",
       "2             NaN           NaN           NaN           NaN           NaN   \n",
       "3             NaN           NaN           NaN           NaN           NaN   \n",
       "4    3.051624e+08  2.422198e+08  2.457405e+08  2.524076e+08  2.792254e+08   \n",
       "..            ...           ...           ...           ...           ...   \n",
       "154           NaN           NaN           NaN           NaN           NaN   \n",
       "155           NaN           NaN           NaN           NaN           NaN   \n",
       "156  1.861999e+08  1.889999e+08  2.715999e+08  2.894499e+08  3.244499e+08   \n",
       "157           NaN           NaN           NaN           NaN           NaN   \n",
       "158           NaN           NaN  1.265000e+07  1.560000e+07  1.695000e+07   \n",
       "\n",
       "             1967  ...          2014          2015          2016  \\\n",
       "0             NaN  ...  2.682388e+08  1.995171e+08  1.858783e+08   \n",
       "1             NaN  ...  6.846249e+09  3.608299e+09  2.764055e+09   \n",
       "2             NaN  ...  1.781204e+08  1.323507e+08  1.308532e+08   \n",
       "3             NaN  ...  2.275507e+10           NaN           NaN   \n",
       "4    2.519307e+08  ...  4.979443e+09  5.482617e+09  4.509648e+09   \n",
       "..            ...  ...           ...           ...           ...   \n",
       "154           NaN  ...  5.357579e+07  4.998416e+07  5.193762e+07   \n",
       "155           NaN  ...  1.714831e+09           NaN           NaN   \n",
       "156  3.730999e+08  ...  3.892485e+09  3.488868e+09  3.139312e+09   \n",
       "157           NaN  ...  4.436047e+08  3.724476e+08  2.995048e+08   \n",
       "158  1.900000e+07  ...  3.681000e+08  3.766770e+08  3.580650e+08   \n",
       "\n",
       "             2017          2018          2019          2020          2021  \\\n",
       "0    1.914071e+08  1.980747e+08  2.263062e+08  2.795770e+08  2.782508e+08   \n",
       "1    3.062873e+09  1.983614e+09  1.470939e+09  9.935944e+08  9.814510e+08   \n",
       "2    1.443827e+08  1.758867e+08  1.972259e+08  1.965963e+08  2.228145e+08   \n",
       "3             NaN           NaN           NaN           NaN           NaN   \n",
       "4    5.459644e+09  3.842852e+09  3.132655e+09  2.830930e+09  3.073433e+09   \n",
       "..            ...           ...           ...           ...           ...   \n",
       "154  5.726263e+07  6.334407e+07  6.570533e+07  7.896501e+07  7.960974e+07   \n",
       "155           NaN           NaN           NaN           NaN           NaN   \n",
       "156  3.591508e+09  3.622919e+09  3.435430e+09  3.231018e+09  3.392816e+09   \n",
       "157  3.396645e+08  3.780254e+08  2.920725e+08  2.121424e+08  2.175772e+08   \n",
       "158  3.405220e+08  4.203640e+08  5.469390e+08  2.421796e+08  4.739453e+08   \n",
       "\n",
       "             2022          2023  \n",
       "0             NaN           NaN  \n",
       "1    1.622764e+09  1.270158e+09  \n",
       "2    2.286932e+08  3.976176e+08  \n",
       "3             NaN           NaN  \n",
       "4    4.338261e+09  3.121892e+09  \n",
       "..            ...           ...  \n",
       "154  1.076016e+08  1.331855e+08  \n",
       "155           NaN           NaN  \n",
       "156  3.110121e+09  2.781117e+09  \n",
       "157  3.260788e+08  3.771721e+08  \n",
       "158  3.327173e+08  8.704335e+08  \n",
       "\n",
       "[159 rows x 66 columns]"
      ]
     },
     "execution_count": 544,
     "metadata": {},
     "output_type": "execute_result"
    }
   ],
   "source": [
    "df_import, df_military = filter_for_same_columns(df_import, df_military)\n",
    "df_military.head(200)"
   ]
  },
  {
   "cell_type": "code",
   "execution_count": 545,
   "id": "5a3cdd8d",
   "metadata": {},
   "outputs": [
    {
     "data": {
      "text/html": [
       "<div>\n",
       "<style scoped>\n",
       "    .dataframe tbody tr th:only-of-type {\n",
       "        vertical-align: middle;\n",
       "    }\n",
       "\n",
       "    .dataframe tbody tr th {\n",
       "        vertical-align: top;\n",
       "    }\n",
       "\n",
       "    .dataframe thead th {\n",
       "        text-align: right;\n",
       "    }\n",
       "</style>\n",
       "<table border=\"1\" class=\"dataframe\">\n",
       "  <thead>\n",
       "    <tr style=\"text-align: right;\">\n",
       "      <th></th>\n",
       "      <th>Country Name</th>\n",
       "      <th>Country Code</th>\n",
       "      <th>1960</th>\n",
       "      <th>1961</th>\n",
       "      <th>1962</th>\n",
       "      <th>1963</th>\n",
       "      <th>1964</th>\n",
       "      <th>1965</th>\n",
       "      <th>1966</th>\n",
       "      <th>1967</th>\n",
       "      <th>...</th>\n",
       "      <th>2014</th>\n",
       "      <th>2015</th>\n",
       "      <th>2016</th>\n",
       "      <th>2017</th>\n",
       "      <th>2018</th>\n",
       "      <th>2019</th>\n",
       "      <th>2020</th>\n",
       "      <th>2021</th>\n",
       "      <th>2022</th>\n",
       "      <th>2023</th>\n",
       "    </tr>\n",
       "  </thead>\n",
       "  <tbody>\n",
       "    <tr>\n",
       "      <th>0</th>\n",
       "      <td>Afghanistan</td>\n",
       "      <td>AFG</td>\n",
       "      <td>3.777778e+07</td>\n",
       "      <td>4.444445e+07</td>\n",
       "      <td>5.111111e+07</td>\n",
       "      <td>1.266667e+08</td>\n",
       "      <td>1.444445e+08</td>\n",
       "      <td>2.155555e+08</td>\n",
       "      <td>2.600000e+08</td>\n",
       "      <td>2.377778e+08</td>\n",
       "      <td>...</td>\n",
       "      <td>NaN</td>\n",
       "      <td>NaN</td>\n",
       "      <td>NaN</td>\n",
       "      <td>NaN</td>\n",
       "      <td>NaN</td>\n",
       "      <td>NaN</td>\n",
       "      <td>7.241823e+09</td>\n",
       "      <td>5.286118e+09</td>\n",
       "      <td>7.901785e+09</td>\n",
       "      <td>8.702382e+09</td>\n",
       "    </tr>\n",
       "    <tr>\n",
       "      <th>1</th>\n",
       "      <td>Angola</td>\n",
       "      <td>AGO</td>\n",
       "      <td>NaN</td>\n",
       "      <td>NaN</td>\n",
       "      <td>NaN</td>\n",
       "      <td>NaN</td>\n",
       "      <td>NaN</td>\n",
       "      <td>NaN</td>\n",
       "      <td>NaN</td>\n",
       "      <td>NaN</td>\n",
       "      <td>...</td>\n",
       "      <td>4.709604e+10</td>\n",
       "      <td>2.998501e+10</td>\n",
       "      <td>1.332003e+10</td>\n",
       "      <td>1.713497e+10</td>\n",
       "      <td>2.029308e+10</td>\n",
       "      <td>1.208015e+10</td>\n",
       "      <td>1.339976e+10</td>\n",
       "      <td>1.776965e+10</td>\n",
       "      <td>2.641254e+10</td>\n",
       "      <td>2.221126e+10</td>\n",
       "    </tr>\n",
       "    <tr>\n",
       "      <th>2</th>\n",
       "      <td>Albania</td>\n",
       "      <td>ALB</td>\n",
       "      <td>NaN</td>\n",
       "      <td>NaN</td>\n",
       "      <td>NaN</td>\n",
       "      <td>NaN</td>\n",
       "      <td>NaN</td>\n",
       "      <td>NaN</td>\n",
       "      <td>NaN</td>\n",
       "      <td>NaN</td>\n",
       "      <td>...</td>\n",
       "      <td>6.243004e+09</td>\n",
       "      <td>5.070977e+09</td>\n",
       "      <td>5.436221e+09</td>\n",
       "      <td>6.070376e+09</td>\n",
       "      <td>6.856195e+09</td>\n",
       "      <td>6.926960e+09</td>\n",
       "      <td>5.636282e+09</td>\n",
       "      <td>8.016544e+09</td>\n",
       "      <td>9.033376e+09</td>\n",
       "      <td>1.032040e+10</td>\n",
       "    </tr>\n",
       "    <tr>\n",
       "      <th>3</th>\n",
       "      <td>United Arab Emirates</td>\n",
       "      <td>ARE</td>\n",
       "      <td>NaN</td>\n",
       "      <td>NaN</td>\n",
       "      <td>NaN</td>\n",
       "      <td>NaN</td>\n",
       "      <td>NaN</td>\n",
       "      <td>NaN</td>\n",
       "      <td>NaN</td>\n",
       "      <td>NaN</td>\n",
       "      <td>...</td>\n",
       "      <td>2.751110e+11</td>\n",
       "      <td>2.689993e+11</td>\n",
       "      <td>2.707148e+11</td>\n",
       "      <td>2.853370e+11</td>\n",
       "      <td>2.815357e+11</td>\n",
       "      <td>3.060041e+11</td>\n",
       "      <td>2.972282e+11</td>\n",
       "      <td>3.475289e+11</td>\n",
       "      <td>4.279918e+11</td>\n",
       "      <td>4.818516e+11</td>\n",
       "    </tr>\n",
       "    <tr>\n",
       "      <th>4</th>\n",
       "      <td>Argentina</td>\n",
       "      <td>ARG</td>\n",
       "      <td>NaN</td>\n",
       "      <td>NaN</td>\n",
       "      <td>2.294367e+09</td>\n",
       "      <td>1.441753e+09</td>\n",
       "      <td>1.424603e+09</td>\n",
       "      <td>1.176471e+09</td>\n",
       "      <td>1.428571e+09</td>\n",
       "      <td>1.212121e+09</td>\n",
       "      <td>...</td>\n",
       "      <td>7.369168e+10</td>\n",
       "      <td>7.006488e+10</td>\n",
       "      <td>7.563925e+10</td>\n",
       "      <td>8.991050e+10</td>\n",
       "      <td>8.568131e+10</td>\n",
       "      <td>6.584562e+10</td>\n",
       "      <td>5.245409e+10</td>\n",
       "      <td>7.304291e+10</td>\n",
       "      <td>9.681494e+10</td>\n",
       "      <td>8.974804e+10</td>\n",
       "    </tr>\n",
       "    <tr>\n",
       "      <th>...</th>\n",
       "      <td>...</td>\n",
       "      <td>...</td>\n",
       "      <td>...</td>\n",
       "      <td>...</td>\n",
       "      <td>...</td>\n",
       "      <td>...</td>\n",
       "      <td>...</td>\n",
       "      <td>...</td>\n",
       "      <td>...</td>\n",
       "      <td>...</td>\n",
       "      <td>...</td>\n",
       "      <td>...</td>\n",
       "      <td>...</td>\n",
       "      <td>...</td>\n",
       "      <td>...</td>\n",
       "      <td>...</td>\n",
       "      <td>...</td>\n",
       "      <td>...</td>\n",
       "      <td>...</td>\n",
       "      <td>...</td>\n",
       "      <td>...</td>\n",
       "    </tr>\n",
       "    <tr>\n",
       "      <th>154</th>\n",
       "      <td>Kosovo</td>\n",
       "      <td>XKX</td>\n",
       "      <td>NaN</td>\n",
       "      <td>NaN</td>\n",
       "      <td>NaN</td>\n",
       "      <td>NaN</td>\n",
       "      <td>NaN</td>\n",
       "      <td>NaN</td>\n",
       "      <td>NaN</td>\n",
       "      <td>NaN</td>\n",
       "      <td>...</td>\n",
       "      <td>3.788279e+09</td>\n",
       "      <td>3.246709e+09</td>\n",
       "      <td>3.420957e+09</td>\n",
       "      <td>3.811643e+09</td>\n",
       "      <td>4.511505e+09</td>\n",
       "      <td>4.458675e+09</td>\n",
       "      <td>4.160534e+09</td>\n",
       "      <td>6.140292e+09</td>\n",
       "      <td>6.678126e+09</td>\n",
       "      <td>7.360350e+09</td>\n",
       "    </tr>\n",
       "    <tr>\n",
       "      <th>155</th>\n",
       "      <td>Yemen, Rep.</td>\n",
       "      <td>YEM</td>\n",
       "      <td>NaN</td>\n",
       "      <td>NaN</td>\n",
       "      <td>NaN</td>\n",
       "      <td>NaN</td>\n",
       "      <td>NaN</td>\n",
       "      <td>NaN</td>\n",
       "      <td>NaN</td>\n",
       "      <td>NaN</td>\n",
       "      <td>...</td>\n",
       "      <td>1.225664e+10</td>\n",
       "      <td>9.586495e+09</td>\n",
       "      <td>8.717967e+09</td>\n",
       "      <td>9.465701e+09</td>\n",
       "      <td>1.083477e+10</td>\n",
       "      <td>NaN</td>\n",
       "      <td>NaN</td>\n",
       "      <td>NaN</td>\n",
       "      <td>NaN</td>\n",
       "      <td>NaN</td>\n",
       "    </tr>\n",
       "    <tr>\n",
       "      <th>156</th>\n",
       "      <td>South Africa</td>\n",
       "      <td>ZAF</td>\n",
       "      <td>1.860599e+09</td>\n",
       "      <td>1.698199e+09</td>\n",
       "      <td>1.755599e+09</td>\n",
       "      <td>2.185399e+09</td>\n",
       "      <td>2.647399e+09</td>\n",
       "      <td>3.035199e+09</td>\n",
       "      <td>2.858799e+09</td>\n",
       "      <td>3.337599e+09</td>\n",
       "      <td>...</td>\n",
       "      <td>1.162617e+11</td>\n",
       "      <td>1.005910e+11</td>\n",
       "      <td>8.964991e+10</td>\n",
       "      <td>9.992378e+10</td>\n",
       "      <td>1.093738e+11</td>\n",
       "      <td>1.039350e+11</td>\n",
       "      <td>7.835518e+10</td>\n",
       "      <td>1.049318e+11</td>\n",
       "      <td>1.278199e+11</td>\n",
       "      <td>1.234439e+11</td>\n",
       "    </tr>\n",
       "    <tr>\n",
       "      <th>157</th>\n",
       "      <td>Zambia</td>\n",
       "      <td>ZMB</td>\n",
       "      <td>NaN</td>\n",
       "      <td>NaN</td>\n",
       "      <td>NaN</td>\n",
       "      <td>NaN</td>\n",
       "      <td>NaN</td>\n",
       "      <td>NaN</td>\n",
       "      <td>NaN</td>\n",
       "      <td>NaN</td>\n",
       "      <td>...</td>\n",
       "      <td>1.014293e+10</td>\n",
       "      <td>9.079953e+09</td>\n",
       "      <td>8.097049e+09</td>\n",
       "      <td>9.467885e+09</td>\n",
       "      <td>9.717094e+09</td>\n",
       "      <td>7.961078e+09</td>\n",
       "      <td>5.892355e+09</td>\n",
       "      <td>7.511107e+09</td>\n",
       "      <td>8.487628e+09</td>\n",
       "      <td>1.031299e+10</td>\n",
       "    </tr>\n",
       "    <tr>\n",
       "      <th>158</th>\n",
       "      <td>Zimbabwe</td>\n",
       "      <td>ZWE</td>\n",
       "      <td>NaN</td>\n",
       "      <td>NaN</td>\n",
       "      <td>NaN</td>\n",
       "      <td>NaN</td>\n",
       "      <td>NaN</td>\n",
       "      <td>NaN</td>\n",
       "      <td>NaN</td>\n",
       "      <td>NaN</td>\n",
       "      <td>...</td>\n",
       "      <td>6.578075e+09</td>\n",
       "      <td>7.503865e+09</td>\n",
       "      <td>6.426700e+09</td>\n",
       "      <td>5.340673e+09</td>\n",
       "      <td>9.695644e+09</td>\n",
       "      <td>7.263061e+09</td>\n",
       "      <td>6.722439e+09</td>\n",
       "      <td>7.646927e+09</td>\n",
       "      <td>1.209661e+10</td>\n",
       "      <td>1.029304e+10</td>\n",
       "    </tr>\n",
       "  </tbody>\n",
       "</table>\n",
       "<p>159 rows × 66 columns</p>\n",
       "</div>"
      ],
      "text/plain": [
       "             Country Name Country Code          1960          1961  \\\n",
       "0             Afghanistan          AFG  3.777778e+07  4.444445e+07   \n",
       "1                  Angola          AGO           NaN           NaN   \n",
       "2                 Albania          ALB           NaN           NaN   \n",
       "3    United Arab Emirates          ARE           NaN           NaN   \n",
       "4               Argentina          ARG           NaN           NaN   \n",
       "..                    ...          ...           ...           ...   \n",
       "154                Kosovo          XKX           NaN           NaN   \n",
       "155           Yemen, Rep.          YEM           NaN           NaN   \n",
       "156          South Africa          ZAF  1.860599e+09  1.698199e+09   \n",
       "157                Zambia          ZMB           NaN           NaN   \n",
       "158              Zimbabwe          ZWE           NaN           NaN   \n",
       "\n",
       "             1962          1963          1964          1965          1966  \\\n",
       "0    5.111111e+07  1.266667e+08  1.444445e+08  2.155555e+08  2.600000e+08   \n",
       "1             NaN           NaN           NaN           NaN           NaN   \n",
       "2             NaN           NaN           NaN           NaN           NaN   \n",
       "3             NaN           NaN           NaN           NaN           NaN   \n",
       "4    2.294367e+09  1.441753e+09  1.424603e+09  1.176471e+09  1.428571e+09   \n",
       "..            ...           ...           ...           ...           ...   \n",
       "154           NaN           NaN           NaN           NaN           NaN   \n",
       "155           NaN           NaN           NaN           NaN           NaN   \n",
       "156  1.755599e+09  2.185399e+09  2.647399e+09  3.035199e+09  2.858799e+09   \n",
       "157           NaN           NaN           NaN           NaN           NaN   \n",
       "158           NaN           NaN           NaN           NaN           NaN   \n",
       "\n",
       "             1967  ...          2014          2015          2016  \\\n",
       "0    2.377778e+08  ...           NaN           NaN           NaN   \n",
       "1             NaN  ...  4.709604e+10  2.998501e+10  1.332003e+10   \n",
       "2             NaN  ...  6.243004e+09  5.070977e+09  5.436221e+09   \n",
       "3             NaN  ...  2.751110e+11  2.689993e+11  2.707148e+11   \n",
       "4    1.212121e+09  ...  7.369168e+10  7.006488e+10  7.563925e+10   \n",
       "..            ...  ...           ...           ...           ...   \n",
       "154           NaN  ...  3.788279e+09  3.246709e+09  3.420957e+09   \n",
       "155           NaN  ...  1.225664e+10  9.586495e+09  8.717967e+09   \n",
       "156  3.337599e+09  ...  1.162617e+11  1.005910e+11  8.964991e+10   \n",
       "157           NaN  ...  1.014293e+10  9.079953e+09  8.097049e+09   \n",
       "158           NaN  ...  6.578075e+09  7.503865e+09  6.426700e+09   \n",
       "\n",
       "             2017          2018          2019          2020          2021  \\\n",
       "0             NaN           NaN           NaN  7.241823e+09  5.286118e+09   \n",
       "1    1.713497e+10  2.029308e+10  1.208015e+10  1.339976e+10  1.776965e+10   \n",
       "2    6.070376e+09  6.856195e+09  6.926960e+09  5.636282e+09  8.016544e+09   \n",
       "3    2.853370e+11  2.815357e+11  3.060041e+11  2.972282e+11  3.475289e+11   \n",
       "4    8.991050e+10  8.568131e+10  6.584562e+10  5.245409e+10  7.304291e+10   \n",
       "..            ...           ...           ...           ...           ...   \n",
       "154  3.811643e+09  4.511505e+09  4.458675e+09  4.160534e+09  6.140292e+09   \n",
       "155  9.465701e+09  1.083477e+10           NaN           NaN           NaN   \n",
       "156  9.992378e+10  1.093738e+11  1.039350e+11  7.835518e+10  1.049318e+11   \n",
       "157  9.467885e+09  9.717094e+09  7.961078e+09  5.892355e+09  7.511107e+09   \n",
       "158  5.340673e+09  9.695644e+09  7.263061e+09  6.722439e+09  7.646927e+09   \n",
       "\n",
       "             2022          2023  \n",
       "0    7.901785e+09  8.702382e+09  \n",
       "1    2.641254e+10  2.221126e+10  \n",
       "2    9.033376e+09  1.032040e+10  \n",
       "3    4.279918e+11  4.818516e+11  \n",
       "4    9.681494e+10  8.974804e+10  \n",
       "..            ...           ...  \n",
       "154  6.678126e+09  7.360350e+09  \n",
       "155           NaN           NaN  \n",
       "156  1.278199e+11  1.234439e+11  \n",
       "157  8.487628e+09  1.031299e+10  \n",
       "158  1.209661e+10  1.029304e+10  \n",
       "\n",
       "[159 rows x 66 columns]"
      ]
     },
     "execution_count": 545,
     "metadata": {},
     "output_type": "execute_result"
    }
   ],
   "source": [
    "df_import.head(200)"
   ]
  },
  {
   "cell_type": "code",
   "execution_count": 546,
   "id": "b876635b",
   "metadata": {},
   "outputs": [
    {
     "name": "stdout",
     "output_type": "stream",
     "text": [
      "               Country Name  n Jahre  Spearman ρ  p-Spearman  Kendall τ_b  \\\n",
      "0               Afghanistan        8       1.000       0.000        1.000   \n",
      "1                     Nepal       54       0.992       0.000        0.937   \n",
      "2                     China       35       0.992       0.000        0.946   \n",
      "3                 Singapore       54       0.991       0.000        0.943   \n",
      "4                Luxembourg       54       0.990       0.000        0.939   \n",
      "..                      ...      ...         ...         ...          ...   \n",
      "153                  Guyana       30      -0.117       0.539       -0.053   \n",
      "154  Bosnia and Herzegovina       22      -0.240       0.282       -0.169   \n",
      "155            Turkmenistan        6      -0.314       0.544       -0.333   \n",
      "156                 Lao PDR       22      -0.319       0.148       -0.134   \n",
      "157             South Sudan        8      -0.595       0.120       -0.286   \n",
      "\n",
      "     p-Kendall  \n",
      "0        0.000  \n",
      "1        0.000  \n",
      "2        0.000  \n",
      "3        0.000  \n",
      "4        0.000  \n",
      "..         ...  \n",
      "153      0.697  \n",
      "154      0.288  \n",
      "155      0.469  \n",
      "156      0.402  \n",
      "157      0.399  \n",
      "\n",
      "[158 rows x 6 columns]\n"
     ]
    }
   ],
   "source": [
    "df = df_import.merge(df_military, on=\"Country Name\", suffixes=(\"_imp\", \"_mil\"))\n",
    "\n",
    "# 4) Korrelation pro Land berechnen\n",
    "results = []\n",
    "for _, row in df.iterrows():\n",
    "    country = row[\"Country Name\"]\n",
    "    # Zeitreihen in numpy-Arrays\n",
    "    x = pd.to_numeric(row[[f\"{y}_imp\" for y in years]], errors=\"coerce\").to_numpy()\n",
    "    y = pd.to_numeric(row[[f\"{y}_mil\" for y in years]], errors=\"coerce\").to_numpy()\n",
    "    \n",
    "    # Nur valide Paare (nicht-NaN, nicht 0)\n",
    "    mask = (~np.isnan(x)) & (x != 0) & (~np.isnan(y)) & (y != 0)\n",
    "    x_valid = x[mask]\n",
    "    y_valid = y[mask]\n",
    "    \n",
    "    if len(x_valid) < 3:\n",
    "        # für mindestens 3 Wertepaare sinnvoll\n",
    "        continue\n",
    "    \n",
    "    # Spearman ρ\n",
    "    rho, p_s = spearmanr(x_valid, y_valid)\n",
    "    # Kendall's τ_b\n",
    "    tau, p_k = kendalltau(x_valid, y_valid)\n",
    "    \n",
    "    results.append({\n",
    "        \"Country Name\": country,\n",
    "        \"n Jahre\": len(x_valid),\n",
    "        \"Spearman ρ\": round(rho, 3),\n",
    "        \"p-Spearman\": round(p_s, 3),\n",
    "        \"Kendall τ_b\": round(tau, 3),\n",
    "        \"p-Kendall\": round(p_k, 3)\n",
    "    })\n",
    "\n",
    "# 5) In DataFrame und CSV\n",
    "df_country_corr = pd.DataFrame(results) \\\n",
    "    .sort_values(\"Spearman ρ\", ascending=False) \\\n",
    "    .reset_index(drop=True)\n",
    "\n",
    "print(df_country_corr)\n",
    "df_country_corr.to_csv(\"results/import_correlations.csv\", index=False)"
   ]
  },
  {
   "cell_type": "code",
   "execution_count": 547,
   "id": "ef08c5c1",
   "metadata": {},
   "outputs": [
    {
     "name": "stdout",
     "output_type": "stream",
     "text": [
      "  Country Name          1960          1961          1962          1963  \\\n",
      "0  Afghanistan -1.555555e+07 -1.999999e+07 -2.444443e+07 -5.777780e+07   \n",
      "1      Albania           NaN           NaN           NaN           NaN   \n",
      "2      Algeria -7.653484e+08 -5.176081e+08 -2.051028e+07 -3.281645e+08   \n",
      "3       Angola           NaN           NaN           NaN           NaN   \n",
      "4    Argentina           NaN           NaN -1.147183e+09  3.964821e+02   \n",
      "\n",
      "           1964          1965          1966          1967          1968  ...  \\\n",
      "0 -7.333331e+07 -1.022222e+08 -1.400000e+08 -1.244444e+08 -8.666667e+07  ...   \n",
      "1           NaN           NaN           NaN           NaN           NaN  ...   \n",
      "2 -1.267212e+08 -1.012748e+08  4.050994e+07  6.076491e+07 -4.050994e+07  ...   \n",
      "3           NaN           NaN           NaN           NaN           NaN  ...   \n",
      "4  3.917658e+02  5.882353e+08  4.761905e+08  6.060606e+08  2.857142e+08  ...   \n",
      "\n",
      "           2014          2015          2016          2017          2018  \\\n",
      "0           NaN           NaN           NaN           NaN           NaN   \n",
      "1 -2.510946e+09 -1.966080e+09 -1.999094e+09 -1.960075e+09 -2.071012e+09   \n",
      "2 -4.025155e+09 -2.277739e+10 -2.311528e+10 -1.738067e+10 -1.087551e+10   \n",
      "3  1.367437e+10 -3.058164e+09  1.518908e+09  4.238202e+09  1.215164e+10   \n",
      "4  2.127192e+09 -6.393091e+09 -5.796650e+09 -1.704994e+10 -9.914711e+09   \n",
      "\n",
      "           2019          2020          2021          2022          2023  \n",
      "0           NaN -5.162252e+09 -3.240928e+09 -5.237185e+09 -5.811514e+09  \n",
      "1 -2.105530e+09 -2.200742e+09 -2.402635e+09 -1.959517e+09 -1.215864e+09  \n",
      "2 -1.100971e+10 -1.536514e+10  9.623557e+07  2.350156e+10  8.805979e+09  \n",
      "3  1.683966e+10  5.183387e+09  1.398340e+10  1.993222e+10  1.244536e+10  \n",
      "4  1.441386e+10  1.159972e+10  1.486321e+10  6.000880e+09 -7.378313e+09  \n",
      "\n",
      "[5 rows x 65 columns]\n"
     ]
    }
   ],
   "source": [
    "year_cols = [c for c in df_export.columns if c.isdigit()]\n",
    "\n",
    "# 3) Setze Country Name als Index (optional, macht's übersichtlicher)\n",
    "df_exp2 = df_export.set_index(\"Country Name\")\n",
    "df_imp2 = df_import.set_index(\"Country Name\")\n",
    "\n",
    "# 4) Berechne den Überschuss je Jahr\n",
    "df_surplus = df_exp2[year_cols] - df_imp2[year_cols]\n",
    "\n",
    "# 5) (Optional) Index zurück als Spalte\n",
    "df_surplus = df_surplus.reset_index()\n",
    "\n",
    "# 6) Ergebnis anschauen und speichern\n",
    "print(df_surplus.head())\n",
    "df_surplus.to_csv(\"results/trade_surplus_wide.csv\", index=False)"
   ]
  },
  {
   "cell_type": "code",
   "execution_count": 548,
   "id": "31ba5251",
   "metadata": {},
   "outputs": [
    {
     "data": {
      "text/html": [
       "<div>\n",
       "<style scoped>\n",
       "    .dataframe tbody tr th:only-of-type {\n",
       "        vertical-align: middle;\n",
       "    }\n",
       "\n",
       "    .dataframe tbody tr th {\n",
       "        vertical-align: top;\n",
       "    }\n",
       "\n",
       "    .dataframe thead th {\n",
       "        text-align: right;\n",
       "    }\n",
       "</style>\n",
       "<table border=\"1\" class=\"dataframe\">\n",
       "  <thead>\n",
       "    <tr style=\"text-align: right;\">\n",
       "      <th></th>\n",
       "      <th>Country Name</th>\n",
       "      <th>Country Code</th>\n",
       "      <th>1960</th>\n",
       "      <th>1961</th>\n",
       "      <th>1962</th>\n",
       "      <th>1963</th>\n",
       "      <th>1964</th>\n",
       "      <th>1965</th>\n",
       "      <th>1966</th>\n",
       "      <th>1967</th>\n",
       "      <th>...</th>\n",
       "      <th>2014</th>\n",
       "      <th>2015</th>\n",
       "      <th>2016</th>\n",
       "      <th>2017</th>\n",
       "      <th>2018</th>\n",
       "      <th>2019</th>\n",
       "      <th>2020</th>\n",
       "      <th>2021</th>\n",
       "      <th>2022</th>\n",
       "      <th>2023</th>\n",
       "    </tr>\n",
       "  </thead>\n",
       "  <tbody>\n",
       "    <tr>\n",
       "      <th>0</th>\n",
       "      <td>Afghanistan</td>\n",
       "      <td>AFG</td>\n",
       "      <td>NaN</td>\n",
       "      <td>NaN</td>\n",
       "      <td>NaN</td>\n",
       "      <td>NaN</td>\n",
       "      <td>NaN</td>\n",
       "      <td>NaN</td>\n",
       "      <td>NaN</td>\n",
       "      <td>NaN</td>\n",
       "      <td>...</td>\n",
       "      <td>2.682388e+08</td>\n",
       "      <td>1.995171e+08</td>\n",
       "      <td>1.858783e+08</td>\n",
       "      <td>1.914071e+08</td>\n",
       "      <td>1.980747e+08</td>\n",
       "      <td>2.263062e+08</td>\n",
       "      <td>2.795770e+08</td>\n",
       "      <td>2.782508e+08</td>\n",
       "      <td>NaN</td>\n",
       "      <td>NaN</td>\n",
       "    </tr>\n",
       "    <tr>\n",
       "      <th>1</th>\n",
       "      <td>Angola</td>\n",
       "      <td>AGO</td>\n",
       "      <td>NaN</td>\n",
       "      <td>NaN</td>\n",
       "      <td>NaN</td>\n",
       "      <td>NaN</td>\n",
       "      <td>NaN</td>\n",
       "      <td>NaN</td>\n",
       "      <td>NaN</td>\n",
       "      <td>NaN</td>\n",
       "      <td>...</td>\n",
       "      <td>6.846249e+09</td>\n",
       "      <td>3.608299e+09</td>\n",
       "      <td>2.764055e+09</td>\n",
       "      <td>3.062873e+09</td>\n",
       "      <td>1.983614e+09</td>\n",
       "      <td>1.470939e+09</td>\n",
       "      <td>9.935944e+08</td>\n",
       "      <td>9.814510e+08</td>\n",
       "      <td>1.622764e+09</td>\n",
       "      <td>1.270158e+09</td>\n",
       "    </tr>\n",
       "    <tr>\n",
       "      <th>2</th>\n",
       "      <td>Albania</td>\n",
       "      <td>ALB</td>\n",
       "      <td>NaN</td>\n",
       "      <td>NaN</td>\n",
       "      <td>NaN</td>\n",
       "      <td>NaN</td>\n",
       "      <td>NaN</td>\n",
       "      <td>NaN</td>\n",
       "      <td>NaN</td>\n",
       "      <td>NaN</td>\n",
       "      <td>...</td>\n",
       "      <td>1.781204e+08</td>\n",
       "      <td>1.323507e+08</td>\n",
       "      <td>1.308532e+08</td>\n",
       "      <td>1.443827e+08</td>\n",
       "      <td>1.758867e+08</td>\n",
       "      <td>1.972259e+08</td>\n",
       "      <td>1.965963e+08</td>\n",
       "      <td>2.228145e+08</td>\n",
       "      <td>2.286932e+08</td>\n",
       "      <td>3.976176e+08</td>\n",
       "    </tr>\n",
       "    <tr>\n",
       "      <th>3</th>\n",
       "      <td>United Arab Emirates</td>\n",
       "      <td>ARE</td>\n",
       "      <td>NaN</td>\n",
       "      <td>NaN</td>\n",
       "      <td>NaN</td>\n",
       "      <td>NaN</td>\n",
       "      <td>NaN</td>\n",
       "      <td>NaN</td>\n",
       "      <td>NaN</td>\n",
       "      <td>NaN</td>\n",
       "      <td>...</td>\n",
       "      <td>2.275507e+10</td>\n",
       "      <td>NaN</td>\n",
       "      <td>NaN</td>\n",
       "      <td>NaN</td>\n",
       "      <td>NaN</td>\n",
       "      <td>NaN</td>\n",
       "      <td>NaN</td>\n",
       "      <td>NaN</td>\n",
       "      <td>NaN</td>\n",
       "      <td>NaN</td>\n",
       "    </tr>\n",
       "    <tr>\n",
       "      <th>4</th>\n",
       "      <td>Argentina</td>\n",
       "      <td>ARG</td>\n",
       "      <td>0.000000e+00</td>\n",
       "      <td>0.000000e+00</td>\n",
       "      <td>3.051624e+08</td>\n",
       "      <td>2.422198e+08</td>\n",
       "      <td>2.457405e+08</td>\n",
       "      <td>2.524076e+08</td>\n",
       "      <td>2.792254e+08</td>\n",
       "      <td>2.519307e+08</td>\n",
       "      <td>...</td>\n",
       "      <td>4.979443e+09</td>\n",
       "      <td>5.482617e+09</td>\n",
       "      <td>4.509648e+09</td>\n",
       "      <td>5.459644e+09</td>\n",
       "      <td>3.842852e+09</td>\n",
       "      <td>3.132655e+09</td>\n",
       "      <td>2.830930e+09</td>\n",
       "      <td>3.073433e+09</td>\n",
       "      <td>4.338261e+09</td>\n",
       "      <td>3.121892e+09</td>\n",
       "    </tr>\n",
       "    <tr>\n",
       "      <th>...</th>\n",
       "      <td>...</td>\n",
       "      <td>...</td>\n",
       "      <td>...</td>\n",
       "      <td>...</td>\n",
       "      <td>...</td>\n",
       "      <td>...</td>\n",
       "      <td>...</td>\n",
       "      <td>...</td>\n",
       "      <td>...</td>\n",
       "      <td>...</td>\n",
       "      <td>...</td>\n",
       "      <td>...</td>\n",
       "      <td>...</td>\n",
       "      <td>...</td>\n",
       "      <td>...</td>\n",
       "      <td>...</td>\n",
       "      <td>...</td>\n",
       "      <td>...</td>\n",
       "      <td>...</td>\n",
       "      <td>...</td>\n",
       "      <td>...</td>\n",
       "    </tr>\n",
       "    <tr>\n",
       "      <th>154</th>\n",
       "      <td>Kosovo</td>\n",
       "      <td>XKX</td>\n",
       "      <td>NaN</td>\n",
       "      <td>NaN</td>\n",
       "      <td>NaN</td>\n",
       "      <td>NaN</td>\n",
       "      <td>NaN</td>\n",
       "      <td>NaN</td>\n",
       "      <td>NaN</td>\n",
       "      <td>NaN</td>\n",
       "      <td>...</td>\n",
       "      <td>5.357579e+07</td>\n",
       "      <td>4.998416e+07</td>\n",
       "      <td>5.193762e+07</td>\n",
       "      <td>5.726263e+07</td>\n",
       "      <td>6.334407e+07</td>\n",
       "      <td>6.570533e+07</td>\n",
       "      <td>7.896501e+07</td>\n",
       "      <td>7.960974e+07</td>\n",
       "      <td>1.076016e+08</td>\n",
       "      <td>1.331855e+08</td>\n",
       "    </tr>\n",
       "    <tr>\n",
       "      <th>155</th>\n",
       "      <td>Yemen, Rep.</td>\n",
       "      <td>YEM</td>\n",
       "      <td>NaN</td>\n",
       "      <td>NaN</td>\n",
       "      <td>NaN</td>\n",
       "      <td>NaN</td>\n",
       "      <td>NaN</td>\n",
       "      <td>NaN</td>\n",
       "      <td>NaN</td>\n",
       "      <td>NaN</td>\n",
       "      <td>...</td>\n",
       "      <td>1.714831e+09</td>\n",
       "      <td>NaN</td>\n",
       "      <td>NaN</td>\n",
       "      <td>NaN</td>\n",
       "      <td>NaN</td>\n",
       "      <td>NaN</td>\n",
       "      <td>NaN</td>\n",
       "      <td>NaN</td>\n",
       "      <td>NaN</td>\n",
       "      <td>NaN</td>\n",
       "    </tr>\n",
       "    <tr>\n",
       "      <th>156</th>\n",
       "      <td>South Africa</td>\n",
       "      <td>ZAF</td>\n",
       "      <td>6.999997e+07</td>\n",
       "      <td>1.137500e+08</td>\n",
       "      <td>1.861999e+08</td>\n",
       "      <td>1.889999e+08</td>\n",
       "      <td>2.715999e+08</td>\n",
       "      <td>2.894499e+08</td>\n",
       "      <td>3.244499e+08</td>\n",
       "      <td>3.730999e+08</td>\n",
       "      <td>...</td>\n",
       "      <td>3.892485e+09</td>\n",
       "      <td>3.488868e+09</td>\n",
       "      <td>3.139312e+09</td>\n",
       "      <td>3.591508e+09</td>\n",
       "      <td>3.622919e+09</td>\n",
       "      <td>3.435430e+09</td>\n",
       "      <td>3.231018e+09</td>\n",
       "      <td>3.392816e+09</td>\n",
       "      <td>3.110121e+09</td>\n",
       "      <td>2.781117e+09</td>\n",
       "    </tr>\n",
       "    <tr>\n",
       "      <th>157</th>\n",
       "      <td>Zambia</td>\n",
       "      <td>ZMB</td>\n",
       "      <td>NaN</td>\n",
       "      <td>NaN</td>\n",
       "      <td>NaN</td>\n",
       "      <td>NaN</td>\n",
       "      <td>NaN</td>\n",
       "      <td>NaN</td>\n",
       "      <td>NaN</td>\n",
       "      <td>NaN</td>\n",
       "      <td>...</td>\n",
       "      <td>4.436047e+08</td>\n",
       "      <td>3.724476e+08</td>\n",
       "      <td>2.995048e+08</td>\n",
       "      <td>3.396645e+08</td>\n",
       "      <td>3.780254e+08</td>\n",
       "      <td>2.920725e+08</td>\n",
       "      <td>2.121424e+08</td>\n",
       "      <td>2.175772e+08</td>\n",
       "      <td>3.260788e+08</td>\n",
       "      <td>3.771721e+08</td>\n",
       "    </tr>\n",
       "    <tr>\n",
       "      <th>158</th>\n",
       "      <td>Zimbabwe</td>\n",
       "      <td>ZWE</td>\n",
       "      <td>NaN</td>\n",
       "      <td>NaN</td>\n",
       "      <td>NaN</td>\n",
       "      <td>NaN</td>\n",
       "      <td>1.265000e+07</td>\n",
       "      <td>1.560000e+07</td>\n",
       "      <td>1.695000e+07</td>\n",
       "      <td>1.900000e+07</td>\n",
       "      <td>...</td>\n",
       "      <td>3.681000e+08</td>\n",
       "      <td>3.766770e+08</td>\n",
       "      <td>3.580650e+08</td>\n",
       "      <td>3.405220e+08</td>\n",
       "      <td>4.203640e+08</td>\n",
       "      <td>5.469390e+08</td>\n",
       "      <td>2.421796e+08</td>\n",
       "      <td>4.739453e+08</td>\n",
       "      <td>3.327173e+08</td>\n",
       "      <td>8.704335e+08</td>\n",
       "    </tr>\n",
       "  </tbody>\n",
       "</table>\n",
       "<p>159 rows × 66 columns</p>\n",
       "</div>"
      ],
      "text/plain": [
       "             Country Name Country Code          1960          1961  \\\n",
       "0             Afghanistan          AFG           NaN           NaN   \n",
       "1                  Angola          AGO           NaN           NaN   \n",
       "2                 Albania          ALB           NaN           NaN   \n",
       "3    United Arab Emirates          ARE           NaN           NaN   \n",
       "4               Argentina          ARG  0.000000e+00  0.000000e+00   \n",
       "..                    ...          ...           ...           ...   \n",
       "154                Kosovo          XKX           NaN           NaN   \n",
       "155           Yemen, Rep.          YEM           NaN           NaN   \n",
       "156          South Africa          ZAF  6.999997e+07  1.137500e+08   \n",
       "157                Zambia          ZMB           NaN           NaN   \n",
       "158              Zimbabwe          ZWE           NaN           NaN   \n",
       "\n",
       "             1962          1963          1964          1965          1966  \\\n",
       "0             NaN           NaN           NaN           NaN           NaN   \n",
       "1             NaN           NaN           NaN           NaN           NaN   \n",
       "2             NaN           NaN           NaN           NaN           NaN   \n",
       "3             NaN           NaN           NaN           NaN           NaN   \n",
       "4    3.051624e+08  2.422198e+08  2.457405e+08  2.524076e+08  2.792254e+08   \n",
       "..            ...           ...           ...           ...           ...   \n",
       "154           NaN           NaN           NaN           NaN           NaN   \n",
       "155           NaN           NaN           NaN           NaN           NaN   \n",
       "156  1.861999e+08  1.889999e+08  2.715999e+08  2.894499e+08  3.244499e+08   \n",
       "157           NaN           NaN           NaN           NaN           NaN   \n",
       "158           NaN           NaN  1.265000e+07  1.560000e+07  1.695000e+07   \n",
       "\n",
       "             1967  ...          2014          2015          2016  \\\n",
       "0             NaN  ...  2.682388e+08  1.995171e+08  1.858783e+08   \n",
       "1             NaN  ...  6.846249e+09  3.608299e+09  2.764055e+09   \n",
       "2             NaN  ...  1.781204e+08  1.323507e+08  1.308532e+08   \n",
       "3             NaN  ...  2.275507e+10           NaN           NaN   \n",
       "4    2.519307e+08  ...  4.979443e+09  5.482617e+09  4.509648e+09   \n",
       "..            ...  ...           ...           ...           ...   \n",
       "154           NaN  ...  5.357579e+07  4.998416e+07  5.193762e+07   \n",
       "155           NaN  ...  1.714831e+09           NaN           NaN   \n",
       "156  3.730999e+08  ...  3.892485e+09  3.488868e+09  3.139312e+09   \n",
       "157           NaN  ...  4.436047e+08  3.724476e+08  2.995048e+08   \n",
       "158  1.900000e+07  ...  3.681000e+08  3.766770e+08  3.580650e+08   \n",
       "\n",
       "             2017          2018          2019          2020          2021  \\\n",
       "0    1.914071e+08  1.980747e+08  2.263062e+08  2.795770e+08  2.782508e+08   \n",
       "1    3.062873e+09  1.983614e+09  1.470939e+09  9.935944e+08  9.814510e+08   \n",
       "2    1.443827e+08  1.758867e+08  1.972259e+08  1.965963e+08  2.228145e+08   \n",
       "3             NaN           NaN           NaN           NaN           NaN   \n",
       "4    5.459644e+09  3.842852e+09  3.132655e+09  2.830930e+09  3.073433e+09   \n",
       "..            ...           ...           ...           ...           ...   \n",
       "154  5.726263e+07  6.334407e+07  6.570533e+07  7.896501e+07  7.960974e+07   \n",
       "155           NaN           NaN           NaN           NaN           NaN   \n",
       "156  3.591508e+09  3.622919e+09  3.435430e+09  3.231018e+09  3.392816e+09   \n",
       "157  3.396645e+08  3.780254e+08  2.920725e+08  2.121424e+08  2.175772e+08   \n",
       "158  3.405220e+08  4.203640e+08  5.469390e+08  2.421796e+08  4.739453e+08   \n",
       "\n",
       "             2022          2023  \n",
       "0             NaN           NaN  \n",
       "1    1.622764e+09  1.270158e+09  \n",
       "2    2.286932e+08  3.976176e+08  \n",
       "3             NaN           NaN  \n",
       "4    4.338261e+09  3.121892e+09  \n",
       "..            ...           ...  \n",
       "154  1.076016e+08  1.331855e+08  \n",
       "155           NaN           NaN  \n",
       "156  3.110121e+09  2.781117e+09  \n",
       "157  3.260788e+08  3.771721e+08  \n",
       "158  3.327173e+08  8.704335e+08  \n",
       "\n",
       "[159 rows x 66 columns]"
      ]
     },
     "execution_count": 548,
     "metadata": {},
     "output_type": "execute_result"
    }
   ],
   "source": [
    "df_surplus, df_military = filter_for_same_columns(df_surplus, df_military)\n",
    "df_military.head(200)"
   ]
  },
  {
   "cell_type": "code",
   "execution_count": 549,
   "id": "77137461",
   "metadata": {},
   "outputs": [
    {
     "name": "stdout",
     "output_type": "stream",
     "text": [
      "        Country Name  n Jahre  Spearman ρ  p-Spearman  Kendall τ_b  p-Kendall\n",
      "0          Singapore       54       0.980         0.0        0.898        0.0\n",
      "1         Luxembourg       54       0.961         0.0        0.842        0.0\n",
      "2        Netherlands       55       0.943         0.0        0.797        0.0\n",
      "3              Qatar       11       0.936         0.0        0.855        0.0\n",
      "4            Denmark       58       0.910         0.0        0.722        0.0\n",
      "..               ...      ...         ...         ...          ...        ...\n",
      "152  Kyrgyz Republic       30      -0.916         0.0       -0.766        0.0\n",
      "153         Honduras       57      -0.916         0.0       -0.760        0.0\n",
      "154        Sri Lanka       58      -0.941         0.0       -0.792        0.0\n",
      "155       Bangladesh       51      -0.955         0.0       -0.835        0.0\n",
      "156            Nepal       54      -0.986         0.0       -0.913        0.0\n",
      "\n",
      "[157 rows x 6 columns]\n"
     ]
    }
   ],
   "source": [
    "df = df_surplus.merge(df_military, on=\"Country Name\", suffixes=(\"_surp\", \"_mil\"))\n",
    "\n",
    "# 4) Korrelation pro Land berechnen\n",
    "results = []\n",
    "for _, row in df.iterrows():\n",
    "    country = row[\"Country Name\"]\n",
    "    # Zeitreihen in numpy-Arrays\n",
    "    x = pd.to_numeric(row[[f\"{y}_surp\" for y in years]], errors=\"coerce\").to_numpy()\n",
    "    y = pd.to_numeric(row[[f\"{y}_mil\" for y in years]], errors=\"coerce\").to_numpy()\n",
    "    \n",
    "    # Nur valide Paare (nicht-NaN, nicht 0)\n",
    "    mask = (~np.isnan(x)) & (x != 0) & (~np.isnan(y)) & (y != 0)\n",
    "    x_valid = x[mask]\n",
    "    y_valid = y[mask]\n",
    "    \n",
    "    if len(x_valid) < 3:\n",
    "        # für mindestens 3 Wertepaare sinnvoll\n",
    "        continue\n",
    "    \n",
    "    # Spearman ρ\n",
    "    rho, p_s = spearmanr(x_valid, y_valid)\n",
    "    # Kendall's τ_b\n",
    "    tau, p_k = kendalltau(x_valid, y_valid)\n",
    "    \n",
    "    results.append({\n",
    "        \"Country Name\": country,\n",
    "        \"n Jahre\": len(x_valid),\n",
    "        \"Spearman ρ\": round(rho, 3),\n",
    "        \"p-Spearman\": round(p_s, 3),\n",
    "        \"Kendall τ_b\": round(tau, 3),\n",
    "        \"p-Kendall\": round(p_k, 3)\n",
    "    })\n",
    "\n",
    "# 5) In DataFrame und CSV\n",
    "df_country_corr = pd.DataFrame(results) \\\n",
    "    .sort_values(\"Spearman ρ\", ascending=False) \\\n",
    "    .reset_index(drop=True)\n",
    "\n",
    "print(df_country_corr)\n",
    "df_country_corr.to_csv(\"results/surplus_correlations.csv\", index=False)"
   ]
  },
  {
   "cell_type": "code",
   "execution_count": 16,
   "id": "0bdebeb7",
   "metadata": {},
   "outputs": [
    {
     "data": {
      "image/png": "[encoded data removed]",
      "text/plain": [
       "<Figure size 1500x800 with 2 Axes>"
      ]
     },
     "metadata": {},
     "output_type": "display_data"
    }
   ],
   "source": [
    "import pandas as pd\n",
    "import geopandas as gpd\n",
    "import matplotlib.pyplot as plt\n",
    "\n",
    "# 1) Korrelationsdaten\n",
    "df_corr = pd.read_csv('results/export_correlations.csv')\n",
    "\n",
    "# 2) Country Name an ISO-Codes mappen (für robusten Merge)\n",
    "import pycountry\n",
    "def iso3(name):\n",
    "    try: return pycountry.countries.lookup(name).alpha_3\n",
    "    except: return None\n",
    "\n",
    "df_corr['iso_a3'] = df_corr['Country Name'].apply(iso3)\n",
    "\n",
    "# 3) Lade das Admin-0 Shapefile direkt aus dem Netz\n",
    "url = \"https://naciscdn.org/naturalearth/110m/cultural/ne_110m_admin_0_countries.zip\"\n",
    "world = gpd.read_file(url)\n",
    "\n",
    "# 4) Merge über ISO-Alpha-3\n",
    "gdf = world.merge(df_corr, left_on=\"ISO_A3\", right_on=\"iso_a3\", how=\"left\")\n",
    "\n",
    "# 5) Plot\n",
    "fig, ax = plt.subplots(1, 1, figsize=(15, 8))\n",
    "gdf.plot(\n",
    "    column='Spearman ρ',\n",
    "    cmap='OrRd',\n",
    "    linewidth=0.5,\n",
    "    edgecolor='white',\n",
    "    missing_kwds={'color': 'lightgrey', 'label': 'no data'},\n",
    "    legend=True,\n",
    "    legend_kwds={'label': \"Spearman ρ\", 'shrink': 0.5},\n",
    "    ax=ax\n",
    ")\n",
    "ax.set_title(\"Spearman-ρ Export vs. Militär pro Land\", fontsize=16)\n",
    "ax.set_axis_off()\n",
    "plt.show()\n"
   ]
  },
  {
   "cell_type": "code",
   "execution_count": 11,
   "id": "4d10fec7",
   "metadata": {},
   "outputs": [
    {
     "name": "stdout",
     "output_type": "stream",
     "text": [
      "{'geoda': {'airbnb': {'url': 'https://geodacenter.github.io/data-and-lab//data/airbnb.zip', 'license': 'NA', 'attribution': 'Center for Spatial Data Science, University of Chicago', 'name': 'geoda.airbnb', 'description': 'Airbnb rentals, socioeconomics, and crime in Chicago', 'geometry_type': 'Polygon', 'nrows': 77, 'ncols': 21, 'details': 'https://geodacenter.github.io/data-and-lab//airbnb/', 'hash': 'a2ab1e3f938226d287dd76cde18c00e2d3a260640dd826da7131827d9e76c824', 'filename': 'airbnb.zip'}, 'atlanta': {'url': 'https://geodacenter.github.io/data-and-lab//data/atlanta_hom.zip', 'license': 'NA', 'attribution': 'Center for Spatial Data Science, University of Chicago', 'name': 'geoda.atlanta', 'description': 'Atlanta, GA region homicide counts and rates', 'geometry_type': 'Polygon', 'nrows': 90, 'ncols': 24, 'details': 'https://geodacenter.github.io/data-and-lab//atlanta_old/', 'hash': 'a33a76e12168fe84361e60c88a9df4856730487305846c559715c89b1a2b5e09', 'filename': 'atlanta_hom.zip', 'members': ['atlanta_hom/atl_hom.geojson']}, 'cars': {'url': 'https://geodacenter.github.io/data-and-lab//data/Abandoned_Vehicles_Map.csv', 'license': 'NA', 'attribution': 'Center for Spatial Data Science, University of Chicago', 'name': 'geoda.cars', 'description': '2011 abandoned vehicles in Chicago (311 complaints).', 'geometry_type': 'Point', 'nrows': 137867, 'ncols': 21, 'details': 'https://geodacenter.github.io/data-and-lab//1-source-and-description/', 'hash': '6a0b23bc7eda2dcf1af02d43ccf506b24ca8d8c6dc2fe86a2a1cc051b03aae9e', 'filename': 'Abandoned_Vehicles_Map.csv'}, 'charleston1': {'url': 'https://geodacenter.github.io/data-and-lab//data/CharlestonMSA.zip', 'license': 'NA', 'attribution': 'Center for Spatial Data Science, University of Chicago', 'name': 'geoda.charleston1', 'description': '2000 Census Tract Data for Charleston, SC MSA and counties', 'geometry_type': 'Polygon', 'nrows': 117, 'ncols': 31, 'details': 'https://geodacenter.github.io/data-and-lab//charleston-1_old/', 'hash': '4a4fa9c8dd4231ae0b2f12f24895b8336bcab0c28c48653a967cffe011f63a7c', 'filename': 'CharlestonMSA.zip', 'members': ['CharlestonMSA/sc_final_census2.gpkg']}, 'charleston2': {'url': 'https://geodacenter.github.io/data-and-lab//data/CharlestonMSA2.zip', 'license': 'NA', 'attribution': 'Center for Spatial Data Science, University of Chicago', 'name': 'geoda.charleston2', 'description': '1998 and 2001 Zip Code Business Patterns (Census Bureau) for Charleston, SC MSA', 'geometry_type': 'Polygon', 'nrows': 42, 'ncols': 60, 'details': 'https://geodacenter.github.io/data-and-lab//charleston2/', 'hash': '056d5d6e236b5bd95f5aee26c77bbe7d61bd07db5aaf72866c2f545205c1d8d7', 'filename': 'CharlestonMSA2.zip', 'members': ['CharlestonMSA2/CharlestonMSA2.gpkg']}, 'chicago_health': {'url': 'https://geodacenter.github.io/data-and-lab//data/comarea.zip', 'license': 'NA', 'attribution': 'Center for Spatial Data Science, University of Chicago', 'name': 'geoda.chicago_health', 'description': 'Chicago Health + Socio-Economics', 'geometry_type': 'Polygon', 'nrows': 77, 'ncols': 87, 'details': 'https://geodacenter.github.io/data-and-lab//comarea_vars/', 'hash': '4e872adb552786eae2fcd745524696e5e4cd33cc9a6c032471c0e75328871401', 'filename': 'comarea.zip'}, 'chicago_commpop': {'url': 'https://geodacenter.github.io/data-and-lab//data/chicago_commpop.zip', 'license': 'NA', 'attribution': 'Center for Spatial Data Science, University of Chicago', 'name': 'geoda.chicago_commpop', 'description': 'Chicago Community Area Population Percent Change for 2000 and 2010', 'geometry_type': 'Polygon', 'nrows': 77, 'ncols': 9, 'details': 'https://geodacenter.github.io/data-and-lab//commpop/', 'hash': '1dbebb50c8ea47e2279ea819ef64ba793bdee2b88e4716bd6c6ec0e0d8e0e05b', 'filename': 'chicago_commpop.zip', 'members': ['chicago_commpop/chicago_commpop.geojson']}, 'chile_labor': {'url': 'https://geodacenter.github.io/data-and-lab//data/flma.zip', 'license': 'NA', 'attribution': 'Center for Spatial Data Science, University of Chicago', 'name': 'geoda.chile_labor', 'description': 'Labor Markets in Chile (1982-2002)', 'geometry_type': 'Polygon', 'nrows': 64, 'ncols': 140, 'details': 'https://geodacenter.github.io/data-and-lab//FLMA/', 'hash': '4777072268d0127b3d0be774f51d0f66c15885e9d3c92bc72c641a72f220796c', 'filename': 'flma.zip', 'members': ['flma/FLMA.geojson']}, 'cincinnati': {'url': 'https://geodacenter.github.io/data-and-lab//data/walnuthills_updated.zip', 'license': 'NA', 'attribution': 'Center for Spatial Data Science, University of Chicago', 'name': 'geoda.cincinnati', 'description': '2008 Cincinnati Crime + Socio-Demographics', 'geometry_type': 'Polygon', 'nrows': 457, 'ncols': 73, 'details': 'https://geodacenter.github.io/data-and-lab//walnut_hills/', 'hash': 'd6871dd688bd14cf4710a218d721d34f6574456f2a14d5c5cfe5a92054ee9763', 'filename': 'walnuthills_updated.zip', 'members': ['walnuthills_updated']}, 'cleveland': {'url': 'https://geodacenter.github.io/data-and-lab//data/cleveland.zip', 'license': 'NA', 'attribution': 'Center for Spatial Data Science, University of Chicago', 'name': 'geoda.cleveland', 'description': '2015 sales prices of homes in Cleveland, OH.', 'geometry_type': 'Point', 'nrows': 205, 'ncols': 10, 'details': 'https://geodacenter.github.io/data-and-lab//clev_sls_154_core/', 'hash': '49aeba03eb06bf9b0d9cddd6507eb4a226b7c7a7561145562885c5cddfaeaadf', 'filename': 'cleveland.zip'}, 'grid100': {'url': 'https://geodacenter.github.io/data-and-lab//data/grid100.zip', 'license': 'NA', 'attribution': 'Center for Spatial Data Science, University of Chicago', 'name': 'geoda.grid100', 'description': 'Grid with simulated variables', 'geometry_type': 'Polygon', 'nrows': 100, 'ncols': 37, 'details': 'https://geodacenter.github.io/data-and-lab//grid100/', 'hash': '5702ba39606044f71d53ae6a83758b81332bd3aa216b7b7b6e1c60dd0e72f476', 'filename': 'grid100.zip', 'members': ['grid100/grid100s.gpkg']}, 'groceries': {'url': 'https://geodacenter.github.io/data-and-lab//data/grocery.zip', 'license': 'NA', 'attribution': 'Center for Spatial Data Science, University of Chicago', 'name': 'geoda.groceries', 'description': '2015 Chicago supermarkets', 'geometry_type': 'Point', 'nrows': 148, 'ncols': 8, 'details': 'https://geodacenter.github.io/data-and-lab//chicago_sup_vars/', 'hash': 'ead10e53b21efcaa29b798428b93ba2a1c0ba1b28f046265c1737712fa83f88a', 'filename': 'grocery.zip', 'members': ['grocery/chicago_sup.shp', 'grocery/chicago_sup.dbf', 'grocery/chicago_sup.shx', 'grocery/chicago_sup.prj']}, 'guerry': {'url': 'https://geodacenter.github.io/data-and-lab//data/guerry.zip', 'license': 'NA', 'attribution': 'Center for Spatial Data Science, University of Chicago', 'name': 'geoda.guerry', 'description': 'Mortal statistics of France (Guerry, 1833)', 'geometry_type': 'Polygon', 'nrows': 85, 'ncols': 24, 'details': 'https://geodacenter.github.io/data-and-lab//Guerry/', 'hash': '80d2b355ad3340fcffa0a28e5cec0698af01067f8059b1a60388d200a653b3e8', 'filename': 'guerry.zip', 'members': ['guerry/guerry.shp', 'guerry/guerry.dbf', 'guerry/guerry.shx', 'guerry/guerry.prj']}, 'health': {'url': 'https://geodacenter.github.io/data-and-lab//data/income_diversity.zip', 'license': 'NA', 'attribution': 'Center for Spatial Data Science, University of Chicago', 'name': 'geoda.health', 'description': '2000 Health, Income + Diversity', 'geometry_type': 'Polygon', 'nrows': 3984, 'ncols': 65, 'details': 'https://geodacenter.github.io/data-and-lab//co_income_diversity_variables/', 'hash': 'eafee1063040258bc080e7b501bdf1438d6e45ba208954d8c2e1a7562142d0a7', 'filename': 'income_diversity.zip', 'members': ['income_diversity/income_diversity.shp', 'income_diversity/income_diversity.dbf', 'income_diversity/income_diversity.shx', 'income_diversity/income_diversity.prj']}, 'health_indicators': {'url': 'https://geodacenter.github.io/data-and-lab//data/healthIndicators.zip', 'license': 'NA', 'attribution': 'Center for Spatial Data Science, University of Chicago', 'name': 'geoda.health_indicators', 'description': 'Chicago Health Indicators (2005-11)', 'geometry_type': 'Polygon', 'nrows': 77, 'ncols': 32, 'details': 'https://geodacenter.github.io/data-and-lab//healthindicators-variables/', 'hash': 'b43683245f8fc3b4ab69ffa75d2064920a1a91dc76b9dcc08e288765ba0c94f3', 'filename': 'healthIndicators.zip'}, 'hickory1': {'url': 'https://geodacenter.github.io/data-and-lab//data/HickoryMSA.zip', 'license': 'NA', 'attribution': 'Center for Spatial Data Science, University of Chicago', 'name': 'geoda.hickory1', 'description': '2000 Census Tract Data for Hickory, NC MSA and counties', 'geometry_type': 'Polygon', 'nrows': 68, 'ncols': 31, 'details': 'https://geodacenter.github.io/data-and-lab//hickory1/', 'hash': '4c0804608d303e6e44d51966bb8927b1f5f9e060a9b91055a66478b9039d2b44', 'filename': 'HickoryMSA.zip', 'members': ['HickoryMSA/nc_final_census2.geojson']}, 'hickory2': {'url': 'https://geodacenter.github.io/data-and-lab//data/HickoryMSA2.zip', 'license': 'NA', 'attribution': 'Center for Spatial Data Science, University of Chicago', 'name': 'geoda.hickory2', 'description': '1998 and 2001 Zip Code Business Patterns (Census Bureau) for Hickory, NC MSA', 'geometry_type': 'Polygon', 'nrows': 29, 'ncols': 56, 'details': 'https://geodacenter.github.io/data-and-lab//hickory2/', 'hash': '5e9498e1ff036297c3eea3cc42ac31501680a43b50c71b486799ef9021679d07', 'filename': 'HickoryMSA2.zip', 'members': ['HickoryMSA2/HickoryMSA2.geojson']}, 'home_sales': {'url': 'https://geodacenter.github.io/data-and-lab//data/kingcounty.zip', 'license': 'NA', 'attribution': 'Center for Spatial Data Science, University of Chicago', 'name': 'geoda.home_sales', 'description': '2014-15 Home Sales in King County, WA', 'geometry_type': 'Point', 'nrows': 21613, 'ncols': 22, 'details': 'https://geodacenter.github.io/data-and-lab//KingCounty-HouseSales2015/', 'hash': 'b979f0eb2cef6ebd2c761d552821353f795635eb8db53a95f2815fc46e1f644c', 'filename': 'kingcounty.zip', 'members': ['kingcounty/kc_house.shp', 'kingcounty/kc_house.dbf', 'kingcounty/kc_house.shx', 'kingcounty/kc_house.prj']}, 'houston': {'url': 'https://geodacenter.github.io/data-and-lab//data/houston_hom.zip', 'license': 'NA', 'attribution': 'Center for Spatial Data Science, University of Chicago', 'name': 'geoda.houston', 'description': 'Houston, TX region homicide counts and rates', 'geometry_type': 'Polygon', 'nrows': 52, 'ncols': 24, 'details': 'https://geodacenter.github.io/data-and-lab//houston/', 'hash': 'd3167fd150a1369d9a32b892d3b2a8747043d3d382c3dd81e51f696b191d0d15', 'filename': 'houston_hom.zip', 'members': ['houston_hom/hou_hom.geojson']}, 'juvenile': {'url': 'https://geodacenter.github.io/data-and-lab//data/juvenile.zip', 'license': 'NA', 'attribution': 'Center for Spatial Data Science, University of Chicago', 'name': 'geoda.juvenile', 'description': 'Cardiff juvenile delinquent residences', 'geometry_type': 'Point', 'nrows': 168, 'ncols': 4, 'details': 'https://geodacenter.github.io/data-and-lab//juvenile/', 'hash': '811cfcfa613578214d907bfbdd396c6e02261e5cda6d56b25a6f961148de961c', 'filename': 'juvenile.zip', 'members': ['juvenile/juvenile.shp', 'juvenile/juvenile.shx', 'juvenile/juvenile.dbf']}, 'lansing1': {'url': 'https://geodacenter.github.io/data-and-lab//data/LansingMSA.zip', 'license': 'NA', 'attribution': 'Center for Spatial Data Science, University of Chicago', 'name': 'geoda.lansing1', 'description': '2000 Census Tract Data for Lansing, MI MSA and counties', 'geometry_type': 'Polygon', 'nrows': 117, 'ncols': 31, 'details': 'https://geodacenter.github.io/data-and-lab//lansing1/', 'hash': '724ce3d889fa50e7632d16200cf588d40168d49adaf5bca45049dc1b3758bde1', 'filename': 'LansingMSA.zip', 'members': ['LansingMSA/mi_final_census2.geojson']}, 'lansing2': {'url': 'https://geodacenter.github.io/data-and-lab//data/LansingMSA2.zip', 'license': 'NA', 'attribution': 'Center for Spatial Data Science, University of Chicago', 'name': 'geoda.lansing2', 'description': '1998 and 2001 Zip Code Business Patterns (Census Bureau) for Lansing, MI MSA', 'geometry_type': 'Polygon', 'nrows': 46, 'ncols': 56, 'details': 'https://geodacenter.github.io/data-and-lab//lansing2/', 'hash': '7657c05d3bd6090c4d5914cfe5aaf01f694601c1e0c29bc3ecbe9bc523662303', 'filename': 'LansingMSA2.zip', 'members': ['LansingMSA2/LansingMSA2.geojson']}, 'lasrosas': {'url': 'https://geodacenter.github.io/data-and-lab//data/lasrosas.zip', 'license': 'NA', 'attribution': 'Center for Spatial Data Science, University of Chicago', 'name': 'geoda.lasrosas', 'description': 'Corn yield, fertilizer and field data for precision agriculture, Argentina, 1999', 'geometry_type': 'Polygon', 'nrows': 1738, 'ncols': 35, 'details': 'https://geodacenter.github.io/data-and-lab//lasrosas/', 'hash': '038d0e82203f2875b50499dbd8498ca9c762ebd8003b2f2203ebc6acada8f8fd', 'filename': 'lasrosas.zip', 'members': ['lasrosas/rosas1999.gpkg']}, 'liquor_stores': {'url': 'https://geodacenter.github.io/data-and-lab//data/liquor.zip', 'license': 'NA', 'attribution': 'Center for Spatial Data Science, University of Chicago', 'name': 'geoda.liquor_stores', 'description': '2015 Chicago Liquor Stores', 'geometry_type': 'Point', 'nrows': 571, 'ncols': 3, 'details': 'https://geodacenter.github.io/data-and-lab//liq_chicago/', 'hash': '6a483a6a7066a000bc97bfe71596cf28834d3088fbc958455b903a0938b3b530', 'filename': 'liquor.zip', 'members': ['liq_Chicago.shp', 'liq_Chicago.dbf', 'liq_Chicago.shx', 'liq_Chicago.prj']}, 'malaria': {'url': 'https://geodacenter.github.io/data-and-lab//data/malariacolomb.zip', 'license': 'NA', 'attribution': 'Center for Spatial Data Science, University of Chicago', 'name': 'geoda.malaria', 'description': 'Malaria incidence and population (1973, 95, 93 censuses and projections until 2005)', 'geometry_type': 'Polygon', 'nrows': 1068, 'ncols': 51, 'details': 'https://geodacenter.github.io/data-and-lab//colomb_malaria/', 'hash': 'ca77477656829833a4e3e384b02439632fa28bb577610fe5aef9e0b094c41a95', 'filename': 'malariacolomb.zip', 'members': ['malariacolomb/colmunic.gpkg']}, 'milwaukee1': {'url': 'https://geodacenter.github.io/data-and-lab//data/MilwaukeeMSA.zip', 'license': 'NA', 'attribution': 'Center for Spatial Data Science, University of Chicago', 'name': 'geoda.milwaukee1', 'description': '2000 Census Tract Data for Milwaukee, WI MSA', 'geometry_type': 'Polygon', 'nrows': 417, 'ncols': 35, 'details': 'https://geodacenter.github.io/data-and-lab//milwaukee1/', 'hash': 'bf3c9617c872db26ea56f20e82a449f18bb04d8fb76a653a2d3842d465bc122c', 'filename': 'MilwaukeeMSA.zip', 'members': ['MilwaukeeMSA/wi_final_census2_random4.gpkg']}, 'milwaukee2': {'url': 'https://geodacenter.github.io/data-and-lab//data/MilwaukeeMSA2.zip', 'license': 'NA', 'attribution': 'Center for Spatial Data Science, University of Chicago', 'name': 'geoda.milwaukee2', 'description': '1998 and 2001 Zip Code Business Patterns (Census Bureau) for Milwaukee, WI MSA', 'geometry_type': 'Polygon', 'nrows': 83, 'ncols': 60, 'details': 'https://geodacenter.github.io/data-and-lab//milwaukee2/', 'hash': '7f74212d63addb9ab84fac9447ee898498c8fafc284edcffe1f1ac79c2175d60', 'filename': 'MilwaukeeMSA2.zip', 'members': ['MilwaukeeMSA2/MilwaukeeMSA2.gpkg']}, 'ncovr': {'url': 'https://geodacenter.github.io/data-and-lab//data/ncovr.zip', 'license': 'NA', 'attribution': 'Center for Spatial Data Science, University of Chicago', 'name': 'geoda.ncovr', 'description': 'US county homicides 1960-1990', 'geometry_type': 'Polygon', 'nrows': 3085, 'ncols': 70, 'details': 'https://geodacenter.github.io/data-and-lab//ncovr/', 'hash': 'e8cb04e6da634c6cd21808bd8cfe4dad6e295b22e8d40cc628e666887719cfe9', 'filename': 'ncovr.zip', 'members': ['ncovr/NAT.gpkg']}, 'natregimes': {'url': 'https://geodacenter.github.io/data-and-lab//data/natregimes.zip', 'license': 'NA', 'attribution': 'Center for Spatial Data Science, University of Chicago', 'name': 'geoda.natregimes', 'description': 'NCOVR with regimes (book/PySAL)', 'geometry_type': 'Polygon', 'nrows': 3085, 'ncols': 74, 'details': 'https://geodacenter.github.io/data-and-lab//natregimes/', 'hash': '431d0d95ffa000692da9319e6bd28701b1156f7b8e716d4bfcd1e09b6e357918', 'filename': 'natregimes.zip'}, 'ndvi': {'url': 'https://geodacenter.github.io/data-and-lab//data/ndvi.zip', 'license': 'NA', 'attribution': 'Center for Spatial Data Science, University of Chicago', 'name': 'geoda.ndvi', 'description': 'Normalized Difference Vegetation Index grid', 'geometry_type': 'Polygon', 'nrows': 49, 'ncols': 8, 'details': 'https://geodacenter.github.io/data-and-lab//ndvi/', 'hash': 'a89459e50a4495c24ead1d284930467ed10eb94829de16a693a9fa89dea2fe22', 'filename': 'ndvi.zip', 'members': ['ndvi/ndvigrid.gpkg']}, 'nepal': {'url': 'https://geodacenter.github.io/data-and-lab//data/nepal.zip', 'license': 'NA', 'attribution': 'Center for Spatial Data Science, University of Chicago', 'name': 'geoda.nepal', 'description': 'Health, poverty and education indicators for Nepal districts', 'geometry_type': 'Polygon', 'nrows': 75, 'ncols': 62, 'details': 'https://geodacenter.github.io/data-and-lab//nepal/', 'hash': 'd7916568fe49ff258d0f03ac115e68f64cdac572a9fd2b29de2d70554ac2b20d', 'filename': 'nepal.zip'}, 'nyc': {'url': 'https://geodacenter.github.io/data-and-lab///data/nyc.zip', 'license': 'NA', 'attribution': 'Center for Spatial Data Science, University of Chicago', 'name': 'geoda.nyc', 'description': 'Demographic and housing data for New York City subboroughs, 2002-09', 'geometry_type': 'Polygon', 'nrows': 55, 'ncols': 35, 'details': 'https://geodacenter.github.io/data-and-lab//nyc/', 'hash': 'a67dff2f9e6da9e11737e6be5a16e1bc33954e2c954332d68bcbf6ff7203702b', 'filename': 'nyc.zip'}, 'nyc_earnings': {'url': 'https://geodacenter.github.io/data-and-lab//data/lehd.zip', 'license': 'NA', 'attribution': 'Center for Spatial Data Science, University of Chicago', 'name': 'geoda.nyc_earnings', 'description': 'Block-level Earnings in NYC (2002-14)', 'geometry_type': 'Polygon', 'nrows': 108487, 'ncols': 71, 'details': 'https://geodacenter.github.io/data-and-lab//LEHD_Data/', 'hash': '771fe11e59a16d4c15c6471d9a81df5e9c9bda5ef0a207e77d8ff21b2c16891b', 'filename': 'lehd.zip'}, 'nyc_education': {'url': 'https://geodacenter.github.io/data-and-lab//data/nyc_2000Census.zip', 'license': 'NA', 'attribution': 'Center for Spatial Data Science, University of Chicago', 'name': 'geoda.nyc_education', 'description': 'NYC Education (2000)', 'geometry_type': 'Polygon', 'nrows': 2216, 'ncols': 57, 'details': 'https://geodacenter.github.io/data-and-lab//NYC-Census-2000/', 'hash': 'ecdf342654415107911291a8076c1685bd2c8a08d8eaed3ce9c3e9401ef714f2', 'filename': 'nyc_2000Census.zip'}, 'nyc_neighborhoods': {'url': 'https://geodacenter.github.io/data-and-lab//data/nycnhood_acs.zip', 'license': 'NA', 'attribution': 'Center for Spatial Data Science, University of Chicago', 'name': 'geoda.nyc_neighborhoods', 'description': 'Demographics for New York City neighborhoods', 'geometry_type': 'Polygon', 'nrows': 195, 'ncols': 99, 'details': 'https://geodacenter.github.io/data-and-lab//NYC-Nhood-ACS-2008-12/', 'hash': 'aeb75fc5c95fae1088093827fca69928cee3ad27039441bb35c03013d2ee403f', 'filename': 'nycnhood_acs.zip'}, 'orlando1': {'url': 'https://geodacenter.github.io/data-and-lab//data/OrlandoMSA.zip', 'license': 'NA', 'attribution': 'Center for Spatial Data Science, University of Chicago', 'name': 'geoda.orlando1', 'description': '2000 Census Tract Data for Orlando, FL MSA and counties', 'geometry_type': 'Polygon', 'nrows': 328, 'ncols': 31, 'details': 'https://geodacenter.github.io/data-and-lab//orlando1/', 'hash': 'e98ea5b9ffaf3e421ed437f665c739d1e92d9908e2b121c75ac02ecf7de2e254', 'filename': 'OrlandoMSA.zip', 'members': ['OrlandoMSA/orlando_final_census2.gpkg']}, 'orlando2': {'url': 'https://geodacenter.github.io/data-and-lab//data/OrlandoMSA2.zip', 'license': 'NA', 'attribution': 'Center for Spatial Data Science, University of Chicago', 'name': 'geoda.orlando2', 'description': '1998 and 2001 Zip Code Business Patterns (Census Bureau) for Orlando, FL MSA', 'geometry_type': 'Polygon', 'nrows': 94, 'ncols': 60, 'details': 'https://geodacenter.github.io/data-and-lab//orlando2/', 'hash': '4cd8c3469cb7edea5f0fb615026192e12b1d4b50c22b28345adf476bc85d0f03', 'filename': 'OrlandoMSA2.zip', 'members': ['OrlandoMSA2/OrlandoMSA2.gpkg']}, 'oz9799': {'url': 'https://geodacenter.github.io/data-and-lab//data/oz9799.zip', 'license': 'NA', 'attribution': 'Center for Spatial Data Science, University of Chicago', 'name': 'geoda.oz9799', 'description': 'Monthly ozone data, 1997-99', 'geometry_type': 'Point', 'nrows': 30, 'ncols': 78, 'details': 'https://geodacenter.github.io/data-and-lab//oz96/', 'hash': '1ecc7c46f5f42af6057dedc1b73f56b576cb9716d2c08d23cba98f639dfddb82', 'filename': 'oz9799.zip', 'members': ['oz9799/oz9799.csv']}, 'phoenix_acs': {'url': 'https://geodacenter.github.io/data-and-lab//data/phx2.zip', 'license': 'NA', 'attribution': 'Center for Spatial Data Science, University of Chicago', 'name': 'geoda.phoenix_acs', 'description': 'Phoenix American Community Survey Data (2010, 5-year averages)', 'geometry_type': 'Polygon', 'nrows': 985, 'ncols': 18, 'details': 'https://geodacenter.github.io/data-and-lab//phx/', 'hash': 'b2f6e196bacb6f3fe1fc909af482e7e75b83d1f8363fc73038286364c13334ee', 'filename': 'phx2.zip', 'members': ['phx/phx.gpkg']}, 'police': {'url': 'https://geodacenter.github.io/data-and-lab//data/police.zip', 'license': 'NA', 'attribution': 'Center for Spatial Data Science, University of Chicago', 'name': 'geoda.police', 'description': 'Police expenditures Mississippi counties', 'geometry_type': 'Polygon', 'nrows': 82, 'ncols': 22, 'details': 'https://geodacenter.github.io/data-and-lab//police/', 'hash': '596270d62dea8207001da84883ac265591e5de053f981c7491e7b5c738e9e9ff', 'filename': 'police.zip', 'members': ['police/police.gpkg']}, 'sacramento1': {'url': 'https://geodacenter.github.io/data-and-lab//data/sacramento.zip', 'license': 'NA', 'attribution': 'Center for Spatial Data Science, University of Chicago', 'name': 'geoda.sacramento1', 'description': '2000 Census Tract Data for Sacramento MSA', 'geometry_type': 'Polygon', 'nrows': 403, 'ncols': 32, 'details': 'https://geodacenter.github.io/data-and-lab//sacramento1/', 'hash': '72ddeb533cf2917dc1f458add7c6042b93c79b31316ae2d22f1c855a9da275f9', 'filename': 'sacramento.zip', 'members': ['sacramento/sacramentot2.gpkg']}, 'sacramento2': {'url': 'https://geodacenter.github.io/data-and-lab//data/SacramentoMSA2.zip', 'license': 'NA', 'attribution': 'Center for Spatial Data Science, University of Chicago', 'name': 'geoda.sacramento2', 'description': '1998 and 2001 Zip Code Business Patterns (Census Bureau) for Sacramento MSA', 'geometry_type': 'Polygon', 'nrows': 125, 'ncols': 59, 'details': 'https://geodacenter.github.io/data-and-lab//sacramento2/', 'hash': '3f6899efd371804ea8bfaf3cdfd3ed4753ea4d009fed38a57c5bbf442ab9468b', 'filename': 'SacramentoMSA2.zip', 'members': ['SacramentoMSA2/SacramentoMSA2.gpkg']}, 'savannah1': {'url': 'https://geodacenter.github.io/data-and-lab//data/SavannahMSA.zip', 'license': 'NA', 'attribution': 'Center for Spatial Data Science, University of Chicago', 'name': 'geoda.savannah1', 'description': '2000 Census Tract Data for Savannah, GA MSA and counties', 'geometry_type': 'Polygon', 'nrows': 77, 'ncols': 31, 'details': 'https://geodacenter.github.io/data-and-lab//savannah1/', 'hash': 'df48c228776d2122c38935b2ebbf4cbb90c0bacc68df01161e653aab960e4208', 'filename': 'SavannahMSA.zip', 'members': ['SavannahMSA/ga_final_census2.gpkg']}, 'savannah2': {'url': 'https://geodacenter.github.io/data-and-lab//data/SavannahMSA2.zip', 'license': 'NA', 'attribution': 'Center for Spatial Data Science, University of Chicago', 'name': 'geoda.savannah2', 'description': '1998 and 2001 Zip Code Business Patterns (Census Bureau) for Savannah, GA MSA', 'geometry_type': 'Polygon', 'nrows': 24, 'ncols': 60, 'details': 'https://geodacenter.github.io/data-and-lab//savannah2/', 'hash': '5b22b84a8665434cb91e800a039337f028b888082b8ef7a26d77eb6cc9aea8c1', 'filename': 'SavannahMSA2.zip', 'members': ['SavannahMSA2/SavannahMSA2.gpkg']}, 'seattle1': {'url': 'https://geodacenter.github.io/data-and-lab//data/SeattleMSA.zip', 'license': 'NA', 'attribution': 'Center for Spatial Data Science, University of Chicago', 'name': 'geoda.seattle1', 'description': '2000 Census Tract Data for Seattle, WA MSA and counties', 'geometry_type': 'Polygon', 'nrows': 664, 'ncols': 31, 'details': 'https://geodacenter.github.io/data-and-lab//seattle1/', 'hash': '46fb75a30f0e7963e6108bdb19af4d7db4c72c3d5a020025cafa528c96e09daa', 'filename': 'SeattleMSA.zip', 'members': ['SeattleMSA/wa_final_census2.gpkg']}, 'seattle2': {'url': 'https://geodacenter.github.io/data-and-lab//data/SeattleMSA2.zip', 'license': 'NA', 'attribution': 'Center for Spatial Data Science, University of Chicago', 'name': 'geoda.seattle2', 'description': '1998 and 2001 Zip Code Business Patterns (Census Bureau) for Seattle, WA MSA', 'geometry_type': 'Polygon', 'nrows': 145, 'ncols': 60, 'details': 'https://geodacenter.github.io/data-and-lab//seattle2/', 'hash': '3dac2fa5b8c8dfa9dd5273a85de7281e06e18ab4f197925607f815f4e44e4d0c', 'filename': 'SeattleMSA2.zip', 'members': ['SeattleMSA2/SeattleMSA2.gpkg']}, 'sids': {'url': 'https://geodacenter.github.io/data-and-lab//data/sids.zip', 'license': 'NA', 'attribution': 'Center for Spatial Data Science, University of Chicago', 'name': 'geoda.sids', 'description': 'North Carolina county SIDS death counts', 'geometry_type': 'Polygon', 'nrows': 100, 'ncols': 15, 'details': 'https://geodacenter.github.io/data-and-lab//sids/', 'hash': 'e2f7b210b9a57839423fd170e47c02cf7a2602a480a1036bb0324e1112a4eaab', 'filename': 'sids.zip', 'members': ['sids/sids.gpkg']}, 'sids2': {'url': 'https://geodacenter.github.io/data-and-lab//data/sids2.zip', 'license': 'NA', 'attribution': 'Center for Spatial Data Science, University of Chicago', 'name': 'geoda.sids2', 'description': 'North Carolina county SIDS death counts and rates', 'geometry_type': 'Polygon', 'nrows': 100, 'ncols': 19, 'details': 'https://geodacenter.github.io/data-and-lab//sids2/', 'hash': 'b5875ffbdb261e6fa75dc4580d67111ef1434203f2d6a5d63ffac16db3a14bd0', 'filename': 'sids2.zip', 'members': ['sids2/sids2.gpkg']}, 'south': {'url': 'https://geodacenter.github.io/data-and-lab//data/south.zip', 'license': 'NA', 'attribution': 'Center for Spatial Data Science, University of Chicago', 'name': 'geoda.south', 'description': 'US Southern county homicides 1960-1990', 'geometry_type': 'Polygon', 'nrows': 1412, 'ncols': 70, 'details': 'https://geodacenter.github.io/data-and-lab//south/', 'hash': '8f151d99c643b187aad37cfb5c3212353e1bc82804a4399a63de369490e56a7a', 'filename': 'south.zip', 'members': ['south/south.gpkg']}, 'spirals': {'url': 'https://geodacenter.github.io/data-and-lab//data/spirals.csv', 'license': 'NA', 'attribution': 'Center for Spatial Data Science, University of Chicago', 'name': 'geoda.spirals', 'description': 'Synthetic spiral points', 'geometry_type': 'Point', 'nrows': 300, 'ncols': 2, 'details': 'https://geodacenter.github.io/data-and-lab//spirals/', 'hash': '3203b0a6db37c1207b0f1727c980814f541ce0a222597475f9c91540b1d372f1', 'filename': 'spirals.csv'}, 'stlouis': {'url': 'https://geodacenter.github.io/data-and-lab//data/stlouis.zip', 'license': 'NA', 'attribution': 'Center for Spatial Data Science, University of Chicago', 'name': 'geoda.stlouis', 'description': 'St Louis region county homicide counts and rates', 'geometry_type': 'Polygon', 'nrows': 78, 'ncols': 24, 'details': 'https://geodacenter.github.io/data-and-lab//stlouis/', 'hash': '181a17a12e9a2b2bfc9013f399e149da935e0d5cb95c3595128f67898c4365f3', 'filename': 'stlouis.zip'}, 'tampa1': {'url': 'https://geodacenter.github.io/data-and-lab//data/TampaMSA.zip', 'license': 'NA', 'attribution': 'Center for Spatial Data Science, University of Chicago', 'name': 'geoda.tampa1', 'description': '2000 Census Tract Data for Tampa, FL MSA and counties', 'geometry_type': 'Polygon', 'nrows': 547, 'ncols': 31, 'details': 'https://geodacenter.github.io/data-and-lab//tampa1/', 'hash': '9a7ea0746138f62aa589e8377edafea48a7b1be0cdca2b38798ba21665bfb463', 'filename': 'TampaMSA.zip', 'members': ['TampaMSA/tampa_final_census2.gpkg']}, 'us_sdoh': {'url': 'https://geodacenter.github.io/data-and-lab//data/us-sdoh-2014.zip', 'license': 'NA', 'attribution': 'Center for Spatial Data Science, University of Chicago', 'name': 'geoda.us_sdoh', 'description': '2014 US Social Determinants of Health Data', 'geometry_type': 'Polygon', 'nrows': 71901, 'ncols': 26, 'details': 'https://geodacenter.github.io/data-and-lab//us-sdoh/', 'hash': '076701725c4b67248f79c8b8a40e74f9ad9e194d3237e1858b3d20176a6562a5', 'filename': 'us-sdoh-2014.zip', 'members': ['us-sdoh-2014/us-sdoh-2014.shp', 'us-sdoh-2014/us-sdoh-2014.dbf', 'us-sdoh-2014/us-sdoh-2014.shx', 'us-sdoh-2014/us-sdoh-2014.prj']}}, 'ny': {'bb': {'url': 'https://www.nyc.gov/assets/planning/download/zip/data-maps/open-data/nybb_16a.zip', 'license': 'NA', 'attribution': 'Department of City Planning (DCP)', 'name': 'ny.bb', 'description': 'The borough boundaries of New York City clipped to the shoreline at mean high tide for 2016.', 'geometry_type': 'Polygon', 'details': 'https://data.cityofnewyork.us/City-Government/Borough-Boundaries/tqmj-j8zm', 'nrows': 5, 'ncols': 5, 'hash': 'a303be17630990455eb079777a6b31980549e9096d66d41ce0110761a7e2f92a', 'filename': 'nybb_16a.zip', 'members': ['nybb_16a/nybb.shp', 'nybb_16a/nybb.shx', 'nybb_16a/nybb.dbf', 'nybb_16a/nybb.prj']}}, 'eea': {'large_rivers': {'url': 'https://www.eea.europa.eu/data-and-maps/data/wise-large-rivers-and-large-lakes/zipped-shapefile-with-wise-large-rivers-vector-line/zipped-shapefile-with-wise-large-rivers-vector-line/at_download/file', 'license': 'ODC-by', 'attribution': 'European Environmental Agency', 'name': 'eea.large_rivers', 'description': 'Large rivers in Europe that have a catchment area large than 50,000 km2.', 'geometry_type': 'LineString', 'details': 'https://www.eea.europa.eu/data-and-maps/data/wise-large-rivers-and-large-lakes', 'nrows': 20, 'ncols': 3, 'hash': '97b37b781cba30c2292122ba2bdfe2e156a791cefbdfedf611c8473facc6be50', 'filename': 'wise_large_rivers.zip'}}, 'abs': {'australia': {'url': 'https://www.abs.gov.au/statistics/standards/australian-statistical-geography-standard-asgs-edition-3/jul2021-jun2026/access-and-downloads/digital-boundary-files/AUS_2021_AUST_SHP_GDA2020.zip', 'license': 'CC BY 4.0', 'attribution': 'Australian Bureau of Statistics (ABS)', 'name': 'abs.australia', 'description': 'Australia land polygon including Norfolk Island, the Territory of Christmas Island, and the Territory of Cocos (Keeling) Islands.', 'geometry_type': 'Polygon', 'nrows': 2, 'ncols': 7, 'details': 'https://www.abs.gov.au/statistics/standards/australian-statistical-geography-standard-asgs-edition-3/jul2021-jun2026/access-and-downloads/digital-boundary-files', 'hash': '086752a6b0b3978247be201f02e02cd4e3c4f36d4f4ca74802e6831083b67129', 'filename': 'AUS_2021_AUST_SHP_GDA2020.zip'}, 'australia_states_territories': {'url': 'https://www.abs.gov.au/statistics/standards/australian-statistical-geography-standard-asgs-edition-3/jul2021-jun2026/access-and-downloads/digital-boundary-files/STE_2021_AUST_SHP_GDA2020.zip', 'license': 'CC BY 4.0', 'attribution': 'Australian Bureau of Statistics (ABS)', 'name': 'abs.australia_states_territories', 'description': 'Australian state and territory boundaries.', 'geometry_type': 'Polygon', 'nrows': 10, 'ncols': 9, 'details': 'https://www.abs.gov.au/statistics/standards/australian-statistical-geography-standard-asgs-edition-3/jul2021-jun2026/access-and-downloads/digital-boundary-files', 'hash': 'd9b7f735de6085b37414faf011f796dda3c7f768c55e9dce01f96e790f399a21', 'filename': 'STE_2021_AUST_SHP_GDA2020.zip'}}, 'naturalearth': {'land': {'url': 'https://naciscdn.org/naturalearth/110m/physical/ne_110m_land.zip', 'license': 'CC0', 'attribution': 'Natural Earth', 'name': 'naturalearth.land', 'description': 'Land polygons including major islands in a 1:110m resolution.', 'geometry_type': 'Polygon', 'details': 'https://www.naturalearthdata.com/downloads/110m-physical-vectors/110m-land/', 'nrows': 127, 'ncols': 4, 'hash': '1926c621afd6ac67c3f36639bb1236134a48d82226dc675d3e3df53d02d2a3de', 'filename': 'ne_110m_land.zip'}}}\n"
     ]
    }
   ],
   "source": [
    "import geodatasets\n",
    "\n",
    "# Liste aller verfügbaren Datensätze ausgeben\n",
    "print(geodatasets.data)"
   ]
  },
  {
   "cell_type": "code",
   "execution_count": 1,
   "id": "9417885e",
   "metadata": {},
   "outputs": [
    {
     "data": {
      "application/vnd.plotly.v1+json": {
       "config": {
        "plotlyServerURL": "https://plot.ly"
       },
       "data": [
        {
         "coloraxis": "coloraxis",
         "geo": "geo",
         "hovertemplate": "<b>%{hovertext}</b><br><br>iso_a3=%{location}<br>Spearman ρ=%{z}<extra></extra>",
         "hovertext": [
          "Singapore",
          "China",
          "Australia",
          "Bangladesh",
          "Mexico",
          "Luxembourg",
          "India",
          "Poland",
          "Morocco",
          "Pakistan",
          "Estonia",
          "Ecuador",
          "Colombia",
          "Israel",
          "Nepal",
          "Denmark",
          "Afghanistan",
          "Sri Lanka",
          "Mali",
          "Burkina Faso",
          "Greece",
          "France",
          "United Arab Emirates",
          "Austria",
          "Malaysia",
          "Qatar",
          "Norway",
          "New Zealand",
          "Brazil",
          "Malta",
          "Benin",
          "Canada",
          "Thailand",
          "Armenia",
          "Oman",
          "United States",
          "Netherlands",
          "Philippines",
          "Sweden",
          "Azerbaijan",
          "Portugal",
          "Tunisia",
          "Tanzania",
          "Finland",
          "Italy",
          "Gabon",
          "Bolivia",
          "Chile",
          "Moldova",
          "Belize",
          "United Kingdom",
          "Spain",
          "Japan",
          "Bahrain",
          "Lithuania",
          "Honduras",
          "Ireland",
          "Togo",
          "Mauritius",
          "Dominican Republic",
          "Botswana",
          "Peru",
          "Romania",
          "Germany",
          "Belarus",
          "Switzerland",
          "Cameroon",
          "Sudan",
          "Algeria",
          "Latvia",
          "Saudi Arabia",
          "Kenya",
          "Kyrgyz Republic",
          "Belgium",
          "Fiji",
          "Uruguay",
          "Albania",
          "Uganda",
          "Guinea",
          "Russian Federation",
          "Viet Nam",
          "Slovak Republic",
          "Jamaica",
          "Mozambique",
          "Paraguay",
          "Mongolia",
          "Somalia",
          "Cabo Verde",
          "Hungary",
          "Senegal",
          "Jordan",
          "Ukraine",
          "Czechia",
          "Madagascar",
          "Guatemala",
          "Iraq",
          "Kazakhstan",
          "Zambia",
          "Bulgaria",
          "Lebanon",
          "Niger",
          "Mauritania",
          "Cambodia",
          "Indonesia",
          "Slovenia",
          "Brunei Darussalam",
          "El Salvador",
          "Timor-Leste",
          "Ethiopia",
          "South Africa",
          "Namibia",
          "Angola",
          "Central African Republic",
          "Serbia",
          "Chad",
          "Burundi",
          "Lesotho",
          "Guinea-Bissau",
          "Sierra Leone",
          "Nicaragua",
          "Tajikistan",
          "Haiti",
          "Argentina",
          "Kuwait",
          "Georgia",
          "Ghana",
          "Rwanda",
          "Cyprus",
          "Syrian Arab Republic",
          "Montenegro",
          "Uzbekistan",
          "Seychelles",
          "Cuba",
          "Papua New Guinea",
          "North Macedonia",
          "Equatorial Guinea",
          "Panama",
          "Croatia",
          "Zimbabwe",
          "Libya",
          "Turkmenistan",
          "Guyana",
          "South Sudan",
          "Bosnia and Herzegovina",
          "Eritrea"
         ],
         "locations": [
          "SGP",
          "CHN",
          "AUS",
          "BGD",
          "MEX",
          "LUX",
          "IND",
          "POL",
          "MAR",
          "PAK",
          "EST",
          "ECU",
          "COL",
          "ISR",
          "NPL",
          "DNK",
          "AFG",
          "LKA",
          "MLI",
          "BFA",
          "GRC",
          "FRA",
          "ARE",
          "AUT",
          "MYS",
          "QAT",
          "NOR",
          "NZL",
          "BRA",
          "MLT",
          "BEN",
          "CAN",
          "THA",
          "ARM",
          "OMN",
          "USA",
          "NLD",
          "PHL",
          "SWE",
          "AZE",
          "PRT",
          "TUN",
          "TZA",
          "FIN",
          "ITA",
          "GAB",
          "BOL",
          "CHL",
          "MDA",
          "BLZ",
          "GBR",
          "ESP",
          "JPN",
          "BHR",
          "LTU",
          "HND",
          "IRL",
          "TGO",
          "MUS",
          "DOM",
          "BWA",
          "PER",
          "ROU",
          "DEU",
          "BLR",
          "CHE",
          "CMR",
          "SDN",
          "DZA",
          "LVA",
          "SAU",
          "KEN",
          "KGZ",
          "BEL",
          "FJI",
          "URY",
          "ALB",
          "UGA",
          "GIN",
          "RUS",
          "VNM",
          "SVK",
          "JAM",
          "MOZ",
          "PRY",
          "MNG",
          "SOM",
          "CPV",
          "HUN",
          "SEN",
          "JOR",
          "UKR",
          "CZE",
          "MDG",
          "GTM",
          "IRQ",
          "KAZ",
          "ZMB",
          "BGR",
          "LBN",
          "NER",
          "MRT",
          "KHM",
          "IDN",
          "SVN",
          "BRN",
          "SLV",
          "TLS",
          "ETH",
          "ZAF",
          "NAM",
          "AGO",
          "CAF",
          "SRB",
          "TCD",
          "BDI",
          "LSO",
          "GNB",
          "SLE",
          "NIC",
          "TJK",
          "HTI",
          "ARG",
          "KWT",
          "GEO",
          "GHA",
          "RWA",
          "CYP",
          "SYR",
          "MNE",
          "UZB",
          "SYC",
          "CUB",
          "PNG",
          "MKD",
          "GNQ",
          "PAN",
          "HRV",
          "ZWE",
          "LBY",
          "TKM",
          "GUY",
          "SSD",
          "BIH",
          "ERI"
         ],
         "name": "",
         "type": "choropleth",
         "z": {
          "bdata": "WDm0yHa+7z+DwMqhRbbvP4PAyqFFtu8/g8DKoUW27z+DwMqhRbbvP9nO91Pjpe8/2c73U+Ol7z+F61G4HoXvP7ByaJHtfO8/BoGVQ4ts7z8GgZVDi2zvPzEIrBxaZO8/XI/C9Shc7z+HFtnO91PvP7Kd76fGS+8/3SQGgZVD7z8IrBxaZDvvP4lBYOXQIu8/iUFg5dAi7z/fT42XbhLvPzVeukkMAu8/NV66SQwC7z81XrpJDALvP4ts5/up8e4/4XoUrkfh7j8MAiuHFtnuPwwCK4cW2e4/DAIrhxbZ7j8MAiuHFtnuPzm0yHa+n+4/ZDvfT42X7j9kO99PjZfuP2Q730+Nl+4/j8L1KFyP7j+6SQwCK4fuPzvfT42Xbu4/O99PjZdu7j9mZmZmZmbuP2ZmZmZmZu4/ke18PzVe7j+R7Xw/NV7uP5HtfD81Xu4/ke18PzVe7j+R7Xw/NV7uP7x0kxgEVu4/vHSTGARW7j/n+6nx0k3uP+f7qfHSTe4/PQrXo3A97j89CtejcD3uP5MYBFYOLe4/kxgEVg4t7j++nxov3STuP+kmMQisHO4/wcqhRbbz7T8X2c73U+PtP23n+6nx0u0/bef7qfHS7T+YbhKDwMrtP8UgsHJoke0/8KfGSzeJ7T8bL90kBoHtP8dLN4lBYO0/8tJNYhBY7T8dWmQ730/tP0jhehSuR+0/SOF6FK5H7T/0/dR46SbtP3WTGARWDu0/IbByaJHt7D8hsHJoke3sP3e+nxov3ew/+FPjpZvE7D8lBoGVQ4vsP1CNl24Sg+w/UI2XbhKD7D/8qfHSTWLsP6jGSzeJQew//tR46SYx7D8pXI/C9SjsP6rx0k1iEOw/AAAAAAAA7D+BlUOLbOfrPwIrhxbZzus/WDm0yHa+6z/ZzvdT46XrP9v5fmq8dOs/BoGVQ4ts6z/dJAaBlUPrPwisHFpkO+s/MzMzMzMz6z9eukkMAivrP7TIdr6fGus/CtejcD0K6z+LbOf7qfHqPwwCK4cW2eo/N4lBYOXQ6j+Nl24Sg8DqP5HtfD81Xuo/PzVeukkM6j8X2c73U+PpP23n+6nx0uk/RIts5/up6T+amZmZmZnpP/YoXI/C9eg/IbByaJHt6D+iRbbz/dToP83MzMzMzOg/zczMzMzM6D8nMQisHFroP1K4HoXrUeg/f2q8dJMY6D9aZDvfT43nP4lBYOXQIuc/tMh2vp8a5z83iUFg5dDmP2Q730+Nl+Y/5dAi2/l+5j/n+6nx0k3mP0SLbOf7qeU/bxKDwMqh5T/FILByaJHlP8/3U+Olm+Q/LbKd76fG4z8K16NwPQrjPzeJQWDl0OI/N4lBYOXQ4j8Sg8DKoUXiPxfZzvdT4+E/QmDl0CLb4T/0/dR46SbhPyUGgZVDi+A/AAAAAAAA4D+4HoXrUbjeP8l2vp8aL90/KVyPwvUo3D+oxks3iUHYPylcj8L1KLw/g8DKoUW2sz/8qfHSTWJwv+f7qfHSTcK/exSuR+F6xL/4U+Olm8TQv7TIdr6fGt+/KVyPwvUo6L8=",
          "dtype": "f8"
         }
        }
       ],
       "layout": {
        "coloraxis": {
         "colorbar": {
          "title": {
           "text": "Spearman ρ"
          }
         },
         "colorscale": [
          [
           0,
           "rgb(255,247,236)"
          ],
          [
           0.125,
           "rgb(254,232,200)"
          ],
          [
           0.25,
           "rgb(253,212,158)"
          ],
          [
           0.375,
           "rgb(253,187,132)"
          ],
          [
           0.5,
           "rgb(252,141,89)"
          ],
          [
           0.625,
           "rgb(239,101,72)"
          ],
          [
           0.75,
           "rgb(215,48,31)"
          ],
          [
           0.875,
           "rgb(179,0,0)"
          ],
          [
           1,
           "rgb(127,0,0)"
          ]
         ]
        },
        "geo": {
         "center": {},
         "domain": {
          "x": [
           0,
           1
          ],
          "y": [
           0,
           1
          ]
         },
         "fitbounds": "locations",
         "projection": {
          "type": "natural earth"
         },
         "showcoastlines": true,
         "showland": true
        },
        "legend": {
         "tracegroupgap": 0
        },
        "margin": {
         "b": 0,
         "l": 0,
         "r": 0,
         "t": 40
        },
        "template": {
         "data": {
          "bar": [
           {
            "error_x": {
             "color": "#2a3f5f"
            },
            "error_y": {
             "color": "#2a3f5f"
            },
            "marker": {
             "line": {
              "color": "#E5ECF6",
              "width": 0.5
             },
             "pattern": {
              "fillmode": "overlay",
              "size": 10,
              "solidity": 0.2
             }
            },
            "type": "bar"
           }
          ],
          "barpolar": [
           {
            "marker": {
             "line": {
              "color": "#E5ECF6",
              "width": 0.5
             },
             "pattern": {
              "fillmode": "overlay",
              "size": 10,
              "solidity": 0.2
             }
            },
            "type": "barpolar"
           }
          ],
          "carpet": [
           {
            "aaxis": {
             "endlinecolor": "#2a3f5f",
             "gridcolor": "white",
             "linecolor": "white",
             "minorgridcolor": "white",
             "startlinecolor": "#2a3f5f"
            },
            "baxis": {
             "endlinecolor": "#2a3f5f",
             "gridcolor": "white",
             "linecolor": "white",
             "minorgridcolor": "white",
             "startlinecolor": "#2a3f5f"
            },
            "type": "carpet"
           }
          ],
          "choropleth": [
           {
            "colorbar": {
             "outlinewidth": 0,
             "ticks": ""
            },
            "type": "choropleth"
           }
          ],
          "contour": [
           {
            "colorbar": {
             "outlinewidth": 0,
             "ticks": ""
            },
            "colorscale": [
             [
              0,
              "#0d0887"
             ],
             [
              0.1111111111111111,
              "#46039f"
             ],
             [
              0.2222222222222222,
              "#7201a8"
             ],
             [
              0.3333333333333333,
              "#9c179e"
             ],
             [
              0.4444444444444444,
              "#bd3786"
             ],
             [
              0.5555555555555556,
              "#d8576b"
             ],
             [
              0.6666666666666666,
              "#ed7953"
             ],
             [
              0.7777777777777778,
              "#fb9f3a"
             ],
             [
              0.8888888888888888,
              "#fdca26"
             ],
             [
              1,
              "#f0f921"
             ]
            ],
            "type": "contour"
           }
          ],
          "contourcarpet": [
           {
            "colorbar": {
             "outlinewidth": 0,
             "ticks": ""
            },
            "type": "contourcarpet"
           }
          ],
          "heatmap": [
           {
            "colorbar": {
             "outlinewidth": 0,
             "ticks": ""
            },
            "colorscale": [
             [
              0,
              "#0d0887"
             ],
             [
              0.1111111111111111,
              "#46039f"
             ],
             [
              0.2222222222222222,
              "#7201a8"
             ],
             [
              0.3333333333333333,
              "#9c179e"
             ],
             [
              0.4444444444444444,
              "#bd3786"
             ],
             [
              0.5555555555555556,
              "#d8576b"
             ],
             [
              0.6666666666666666,
              "#ed7953"
             ],
             [
              0.7777777777777778,
              "#fb9f3a"
             ],
             [
              0.8888888888888888,
              "#fdca26"
             ],
             [
              1,
              "#f0f921"
             ]
            ],
            "type": "heatmap"
           }
          ],
          "histogram": [
           {
            "marker": {
             "pattern": {
              "fillmode": "overlay",
              "size": 10,
              "solidity": 0.2
             }
            },
            "type": "histogram"
           }
          ],
          "histogram2d": [
           {
            "colorbar": {
             "outlinewidth": 0,
             "ticks": ""
            },
            "colorscale": [
             [
              0,
              "#0d0887"
             ],
             [
              0.1111111111111111,
              "#46039f"
             ],
             [
              0.2222222222222222,
              "#7201a8"
             ],
             [
              0.3333333333333333,
              "#9c179e"
             ],
             [
              0.4444444444444444,
              "#bd3786"
             ],
             [
              0.5555555555555556,
              "#d8576b"
             ],
             [
              0.6666666666666666,
              "#ed7953"
             ],
             [
              0.7777777777777778,
              "#fb9f3a"
             ],
             [
              0.8888888888888888,
              "#fdca26"
             ],
             [
              1,
              "#f0f921"
             ]
            ],
            "type": "histogram2d"
           }
          ],
          "histogram2dcontour": [
           {
            "colorbar": {
             "outlinewidth": 0,
             "ticks": ""
            },
            "colorscale": [
             [
              0,
              "#0d0887"
             ],
             [
              0.1111111111111111,
              "#46039f"
             ],
             [
              0.2222222222222222,
              "#7201a8"
             ],
             [
              0.3333333333333333,
              "#9c179e"
             ],
             [
              0.4444444444444444,
              "#bd3786"
             ],
             [
              0.5555555555555556,
              "#d8576b"
             ],
             [
              0.6666666666666666,
              "#ed7953"
             ],
             [
              0.7777777777777778,
              "#fb9f3a"
             ],
             [
              0.8888888888888888,
              "#fdca26"
             ],
             [
              1,
              "#f0f921"
             ]
            ],
            "type": "histogram2dcontour"
           }
          ],
          "mesh3d": [
           {
            "colorbar": {
             "outlinewidth": 0,
             "ticks": ""
            },
            "type": "mesh3d"
           }
          ],
          "parcoords": [
           {
            "line": {
             "colorbar": {
              "outlinewidth": 0,
              "ticks": ""
             }
            },
            "type": "parcoords"
           }
          ],
          "pie": [
           {
            "automargin": true,
            "type": "pie"
           }
          ],
          "scatter": [
           {
            "fillpattern": {
             "fillmode": "overlay",
             "size": 10,
             "solidity": 0.2
            },
            "type": "scatter"
           }
          ],
          "scatter3d": [
           {
            "line": {
             "colorbar": {
              "outlinewidth": 0,
              "ticks": ""
             }
            },
            "marker": {
             "colorbar": {
              "outlinewidth": 0,
              "ticks": ""
             }
            },
            "type": "scatter3d"
           }
          ],
          "scattercarpet": [
           {
            "marker": {
             "colorbar": {
              "outlinewidth": 0,
              "ticks": ""
             }
            },
            "type": "scattercarpet"
           }
          ],
          "scattergeo": [
           {
            "marker": {
             "colorbar": {
              "outlinewidth": 0,
              "ticks": ""
             }
            },
            "type": "scattergeo"
           }
          ],
          "scattergl": [
           {
            "marker": {
             "colorbar": {
              "outlinewidth": 0,
              "ticks": ""
             }
            },
            "type": "scattergl"
           }
          ],
          "scattermap": [
           {
            "marker": {
             "colorbar": {
              "outlinewidth": 0,
              "ticks": ""
             }
            },
            "type": "scattermap"
           }
          ],
          "scattermapbox": [
           {
            "marker": {
             "colorbar": {
              "outlinewidth": 0,
              "ticks": ""
             }
            },
            "type": "scattermapbox"
           }
          ],
          "scatterpolar": [
           {
            "marker": {
             "colorbar": {
              "outlinewidth": 0,
              "ticks": ""
             }
            },
            "type": "scatterpolar"
           }
          ],
          "scatterpolargl": [
           {
            "marker": {
             "colorbar": {
              "outlinewidth": 0,
              "ticks": ""
             }
            },
            "type": "scatterpolargl"
           }
          ],
          "scatterternary": [
           {
            "marker": {
             "colorbar": {
              "outlinewidth": 0,
              "ticks": ""
             }
            },
            "type": "scatterternary"
           }
          ],
          "surface": [
           {
            "colorbar": {
             "outlinewidth": 0,
             "ticks": ""
            },
            "colorscale": [
             [
              0,
              "#0d0887"
             ],
             [
              0.1111111111111111,
              "#46039f"
             ],
             [
              0.2222222222222222,
              "#7201a8"
             ],
             [
              0.3333333333333333,
              "#9c179e"
             ],
             [
              0.4444444444444444,
              "#bd3786"
             ],
             [
              0.5555555555555556,
              "#d8576b"
             ],
             [
              0.6666666666666666,
              "#ed7953"
             ],
             [
              0.7777777777777778,
              "#fb9f3a"
             ],
             [
              0.8888888888888888,
              "#fdca26"
             ],
             [
              1,
              "#f0f921"
             ]
            ],
            "type": "surface"
           }
          ],
          "table": [
           {
            "cells": {
             "fill": {
              "color": "#EBF0F8"
             },
             "line": {
              "color": "white"
             }
            },
            "header": {
             "fill": {
              "color": "#C8D4E3"
             },
             "line": {
              "color": "white"
             }
            },
            "type": "table"
           }
          ]
         },
         "layout": {
          "annotationdefaults": {
           "arrowcolor": "#2a3f5f",
           "arrowhead": 0,
           "arrowwidth": 1
          },
          "autotypenumbers": "strict",
          "coloraxis": {
           "colorbar": {
            "outlinewidth": 0,
            "ticks": ""
           }
          },
          "colorscale": {
           "diverging": [
            [
             0,
             "#8e0152"
            ],
            [
             0.1,
             "#c51b7d"
            ],
            [
             0.2,
             "#de77ae"
            ],
            [
             0.3,
             "#f1b6da"
            ],
            [
             0.4,
             "#fde0ef"
            ],
            [
             0.5,
             "#f7f7f7"
            ],
            [
             0.6,
             "#e6f5d0"
            ],
            [
             0.7,
             "#b8e186"
            ],
            [
             0.8,
             "#7fbc41"
            ],
            [
             0.9,
             "#4d9221"
            ],
            [
             1,
             "#276419"
            ]
           ],
           "sequential": [
            [
             0,
             "#0d0887"
            ],
            [
             0.1111111111111111,
             "#46039f"
            ],
            [
             0.2222222222222222,
             "#7201a8"
            ],
            [
             0.3333333333333333,
             "#9c179e"
            ],
            [
             0.4444444444444444,
             "#bd3786"
            ],
            [
             0.5555555555555556,
             "#d8576b"
            ],
            [
             0.6666666666666666,
             "#ed7953"
            ],
            [
             0.7777777777777778,
             "#fb9f3a"
            ],
            [
             0.8888888888888888,
             "#fdca26"
            ],
            [
             1,
             "#f0f921"
            ]
           ],
           "sequentialminus": [
            [
             0,
             "#0d0887"
            ],
            [
             0.1111111111111111,
             "#46039f"
            ],
            [
             0.2222222222222222,
             "#7201a8"
            ],
            [
             0.3333333333333333,
             "#9c179e"
            ],
            [
             0.4444444444444444,
             "#bd3786"
            ],
            [
             0.5555555555555556,
             "#d8576b"
            ],
            [
             0.6666666666666666,
             "#ed7953"
            ],
            [
             0.7777777777777778,
             "#fb9f3a"
            ],
            [
             0.8888888888888888,
             "#fdca26"
            ],
            [
             1,
             "#f0f921"
            ]
           ]
          },
          "colorway": [
           "#636efa",
           "#EF553B",
           "#00cc96",
           "#ab63fa",
           "#FFA15A",
           "#19d3f3",
           "#FF6692",
           "#B6E880",
           "#FF97FF",
           "#FECB52"
          ],
          "font": {
           "color": "#2a3f5f"
          },
          "geo": {
           "bgcolor": "white",
           "lakecolor": "white",
           "landcolor": "#E5ECF6",
           "showlakes": true,
           "showland": true,
           "subunitcolor": "white"
          },
          "hoverlabel": {
           "align": "left"
          },
          "hovermode": "closest",
          "mapbox": {
           "style": "light"
          },
          "paper_bgcolor": "white",
          "plot_bgcolor": "#E5ECF6",
          "polar": {
           "angularaxis": {
            "gridcolor": "white",
            "linecolor": "white",
            "ticks": ""
           },
           "bgcolor": "#E5ECF6",
           "radialaxis": {
            "gridcolor": "white",
            "linecolor": "white",
            "ticks": ""
           }
          },
          "scene": {
           "xaxis": {
            "backgroundcolor": "#E5ECF6",
            "gridcolor": "white",
            "gridwidth": 2,
            "linecolor": "white",
            "showbackground": true,
            "ticks": "",
            "zerolinecolor": "white"
           },
           "yaxis": {
            "backgroundcolor": "#E5ECF6",
            "gridcolor": "white",
            "gridwidth": 2,
            "linecolor": "white",
            "showbackground": true,
            "ticks": "",
            "zerolinecolor": "white"
           },
           "zaxis": {
            "backgroundcolor": "#E5ECF6",
            "gridcolor": "white",
            "gridwidth": 2,
            "linecolor": "white",
            "showbackground": true,
            "ticks": "",
            "zerolinecolor": "white"
           }
          },
          "shapedefaults": {
           "line": {
            "color": "#2a3f5f"
           }
          },
          "ternary": {
           "aaxis": {
            "gridcolor": "white",
            "linecolor": "white",
            "ticks": ""
           },
           "baxis": {
            "gridcolor": "white",
            "linecolor": "white",
            "ticks": ""
           },
           "bgcolor": "#E5ECF6",
           "caxis": {
            "gridcolor": "white",
            "linecolor": "white",
            "ticks": ""
           }
          },
          "title": {
           "x": 0.05
          },
          "xaxis": {
           "automargin": true,
           "gridcolor": "white",
           "linecolor": "white",
           "ticks": "",
           "title": {
            "standoff": 15
           },
           "zerolinecolor": "white",
           "zerolinewidth": 2
          },
          "yaxis": {
           "automargin": true,
           "gridcolor": "white",
           "linecolor": "white",
           "ticks": "",
           "title": {
            "standoff": 15
           },
           "zerolinecolor": "white",
           "zerolinewidth": 2
          }
         }
        },
        "title": {
         "text": "Interaktive Spearman-ρ Karte: Export vs. Militär"
        }
       }
      }
     },
     "metadata": {},
     "output_type": "display_data"
    }
   ],
   "source": [
    "import pandas as pd\n",
    "import pycountry\n",
    "import plotly.express as px\n",
    "\n",
    "# 1) Korrelationsdaten laden\n",
    "df_corr = pd.read_csv('results/export_correlations.csv')\n",
    "\n",
    "# 2) ISO-Alpha-3 Codes ermitteln\n",
    "def iso3(name):\n",
    "    try:\n",
    "        return pycountry.countries.lookup(name).alpha_3\n",
    "    except LookupError:\n",
    "        return None\n",
    "\n",
    "df_corr['iso_a3'] = df_corr['Country Name'].apply(iso3)\n",
    "\n",
    "# 3) Ungültige Einträge entfernen\n",
    "df_map = df_corr.dropna(subset=['iso_a3'])\n",
    "\n",
    "# 4) Interaktive Choropleth-Karte\n",
    "fig = px.choropleth(\n",
    "    df_map,\n",
    "    locations='iso_a3',\n",
    "    color='Spearman ρ',\n",
    "    hover_name='Country Name',\n",
    "    color_continuous_scale='OrRd',\n",
    "    projection='natural earth',\n",
    "    title='Interaktive Spearman-ρ Karte: Export vs. Militär'\n",
    ")\n",
    "\n",
    "fig.update_geos(showcoastlines=True, showland=True, fitbounds='locations')\n",
    "fig.update_layout(margin={'r':0,'t':40,'l':0,'b':0})\n",
    "fig.show()\n"
   ]
  },
  {
   "cell_type": "code",
   "execution_count": 2,
   "id": "a14ba702",
   "metadata": {},
   "outputs": [
    {
     "data": {
      "application/vnd.plotly.v1+json": {
       "config": {
        "plotlyServerURL": "https://plot.ly"
       },
       "data": [
        {
         "coloraxis": "coloraxis",
         "geo": "geo",
         "hovertemplate": "<b>%{hovertext}</b><br><br>iso_a3=%{location}<br>Kendall τ_b=%{z}<extra></extra>",
         "hovertext": [
          "Singapore",
          "China",
          "Australia",
          "Bangladesh",
          "Mexico",
          "Luxembourg",
          "India",
          "Poland",
          "Morocco",
          "Pakistan",
          "Estonia",
          "Ecuador",
          "Colombia",
          "Israel",
          "Nepal",
          "Denmark",
          "Afghanistan",
          "Sri Lanka",
          "Mali",
          "Burkina Faso",
          "Greece",
          "France",
          "United Arab Emirates",
          "Austria",
          "Malaysia",
          "Qatar",
          "Norway",
          "New Zealand",
          "Brazil",
          "Malta",
          "Benin",
          "Canada",
          "Thailand",
          "Armenia",
          "Oman",
          "United States",
          "Netherlands",
          "Philippines",
          "Sweden",
          "Azerbaijan",
          "Portugal",
          "Tunisia",
          "Tanzania",
          "Finland",
          "Italy",
          "Gabon",
          "Bolivia",
          "Chile",
          "Moldova",
          "Belize",
          "United Kingdom",
          "Spain",
          "Japan",
          "Bahrain",
          "Lithuania",
          "Honduras",
          "Ireland",
          "Togo",
          "Mauritius",
          "Dominican Republic",
          "Botswana",
          "Peru",
          "Romania",
          "Germany",
          "Belarus",
          "Switzerland",
          "Cameroon",
          "Sudan",
          "Algeria",
          "Latvia",
          "Saudi Arabia",
          "Kenya",
          "Kyrgyz Republic",
          "Belgium",
          "Fiji",
          "Uruguay",
          "Albania",
          "Uganda",
          "Guinea",
          "Russian Federation",
          "Viet Nam",
          "Slovak Republic",
          "Jamaica",
          "Mozambique",
          "Paraguay",
          "Mongolia",
          "Somalia",
          "Cabo Verde",
          "Hungary",
          "Senegal",
          "Jordan",
          "Ukraine",
          "Czechia",
          "Madagascar",
          "Guatemala",
          "Iraq",
          "Kazakhstan",
          "Zambia",
          "Bulgaria",
          "Lebanon",
          "Niger",
          "Mauritania",
          "Cambodia",
          "Indonesia",
          "Slovenia",
          "Brunei Darussalam",
          "El Salvador",
          "Timor-Leste",
          "Ethiopia",
          "South Africa",
          "Namibia",
          "Angola",
          "Central African Republic",
          "Serbia",
          "Chad",
          "Burundi",
          "Lesotho",
          "Guinea-Bissau",
          "Sierra Leone",
          "Nicaragua",
          "Tajikistan",
          "Haiti",
          "Argentina",
          "Kuwait",
          "Georgia",
          "Ghana",
          "Rwanda",
          "Cyprus",
          "Syrian Arab Republic",
          "Montenegro",
          "Uzbekistan",
          "Seychelles",
          "Cuba",
          "Papua New Guinea",
          "North Macedonia",
          "Equatorial Guinea",
          "Panama",
          "Croatia",
          "Zimbabwe",
          "Libya",
          "Turkmenistan",
          "Guyana",
          "South Sudan",
          "Bosnia and Herzegovina",
          "Eritrea"
         ],
         "locations": [
          "SGP",
          "CHN",
          "AUS",
          "BGD",
          "MEX",
          "LUX",
          "IND",
          "POL",
          "MAR",
          "PAK",
          "EST",
          "ECU",
          "COL",
          "ISR",
          "NPL",
          "DNK",
          "AFG",
          "LKA",
          "MLI",
          "BFA",
          "GRC",
          "FRA",
          "ARE",
          "AUT",
          "MYS",
          "QAT",
          "NOR",
          "NZL",
          "BRA",
          "MLT",
          "BEN",
          "CAN",
          "THA",
          "ARM",
          "OMN",
          "USA",
          "NLD",
          "PHL",
          "SWE",
          "AZE",
          "PRT",
          "TUN",
          "TZA",
          "FIN",
          "ITA",
          "GAB",
          "BOL",
          "CHL",
          "MDA",
          "BLZ",
          "GBR",
          "ESP",
          "JPN",
          "BHR",
          "LTU",
          "HND",
          "IRL",
          "TGO",
          "MUS",
          "DOM",
          "BWA",
          "PER",
          "ROU",
          "DEU",
          "BLR",
          "CHE",
          "CMR",
          "SDN",
          "DZA",
          "LVA",
          "SAU",
          "KEN",
          "KGZ",
          "BEL",
          "FJI",
          "URY",
          "ALB",
          "UGA",
          "GIN",
          "RUS",
          "VNM",
          "SVK",
          "JAM",
          "MOZ",
          "PRY",
          "MNG",
          "SOM",
          "CPV",
          "HUN",
          "SEN",
          "JOR",
          "UKR",
          "CZE",
          "MDG",
          "GTM",
          "IRQ",
          "KAZ",
          "ZMB",
          "BGR",
          "LBN",
          "NER",
          "MRT",
          "KHM",
          "IDN",
          "SVN",
          "BRN",
          "SLV",
          "TLS",
          "ETH",
          "ZAF",
          "NAM",
          "AGO",
          "CAF",
          "SRB",
          "TCD",
          "BDI",
          "LSO",
          "GNB",
          "SLE",
          "NIC",
          "TJK",
          "HTI",
          "ARG",
          "KWT",
          "GEO",
          "GHA",
          "RWA",
          "CYP",
          "SYR",
          "MNE",
          "UZB",
          "SYC",
          "CUB",
          "PNG",
          "MKD",
          "GNQ",
          "PAN",
          "HRV",
          "ZWE",
          "LBY",
          "TKM",
          "GUY",
          "SSD",
          "BIH",
          "ERI"
         ],
         "name": "",
         "type": "choropleth",
         "z": {
          "bdata": "ZmZmZmZm7j8Sg8DKoUXuP5ZDi2zn++0/aJHtfD817j9CYOXQItvtP23n+6nx0u0/F9nO91Pj7T/ByqFFtvPtP/T91HjpJu0/okW28/3U7D+iRbbz/dTsP/p+arx0k+w/UI2XbhKD7D8hsHJoke3sP9Ei2/l+auw/z/dT46Wb7D/ufD81XrrtP1pkO99Pjes/exSuR+F67D8AAAAAAADsP39qvHSTGOw/1XjpJjEI7D8tsp3vp8brP4PAyqFFtus/CKwcWmQ76z9QjZduEoPsPwaBlUOLbOs/2c73U+Ol6z8zMzMzMzPrPw4tsp3vp+o/i2zn+6nx6j9iEFg5tMjqP1pkO99Pjes/ZmZmZmZm6j8OLbKd76fqP2Q730+Nl+o/O99PjZdu6j9mZmZmZmbqP7ByaJHtfOs/EFg5tMh26j/pJjEIrBzqPxBYObTIduo/5/up8dJN6j+R7Xw/NV7qPxKDwMqhReo/NV66SQwC6z/l0CLb+X7qP7x0kxgEVuo/arx0kxgE6j+PwvUoXI/qP76fGi/dJOo/bef7qfHS6T/jpZvEILDqPxsv3SQGgek/YhBYObTI6j9mZmZmZmbqP+kmMQisHOo/cT0K16Nw6T8fhetRuB7pP0jhehSuR+k/0SLb+X5q6D/4U+Olm8ToP0jhehSuR+k/+FPjpZvE6D/6fmq8dJPoPxsv3SQGgek/+n5qvHST6D8pXI/C9SjoP99PjZduEuc/I9v5fmq86D8tsp3vp8bnP/p+arx0k+g/gZVDi2zn5z8zMzMzMzPnP1yPwvUoXOc/+n5qvHST6D+wcmiR7XznP9V46SYxCOg/EoPAyqFF5j/l0CLb+X7mP83MzMzMzOg/Di2yne+n5j+4HoXrUbjmP4lBYOXQIuc/DAIrhxbZ5j/dJAaBlUPnP+58PzVeuuU/bxKDwMqh5T93vp8aL93kPzm0yHa+n+Y/7nw/NV665T93vp8aL93kP2IQWDm0yOY/kxgEVg4t5j89CtejcD3mP8uhRbbz/eQ/xSCwcmiR5T83iUFg5dDmP3sUrkfheuQ/VOOlm8Qg5D/b+X5qvHTjP8/3U+Olm+Q/H4XrUbge5T9/arx0kxjkP2Dl0CLb+eI/ObTIdr6f4j/2KFyPwvXkP9nO91PjpeM/UI2XbhKD5D8tsp3vp8bjP3sUrkfheuA/46WbxCCw4j91kxgEVg7hP5huEoPAyuE/bef7qfHS3T9SuB6F61HgP/LSTWIQWOE/AAAAAAAA4D/Jdr6fGi/hP5ZDi2zn++E/LbKd76fG2z8K16NwPQrfP1YOLbKd798/JQaBlUOL4D8/NV66SQzaP9V46SYxCNw/x0s3iUFg3T9vEoPAyqHdP+58PzVeutk/j8L1KFyP2j/b+X5qvHTbP2ZmZmZmZtY/zczMzMzM3D/2KFyPwvXYPxkEVg4tstU//Knx0k1i0D9g5dAi2/nWP8dLN4lBYMU/yXa+nxovrT8ZBFYOLbKdv/T91HjpJrG/2/l+arx0s7+TGARWDi2yvx1aZDvfT9W/MzMzMzMz478=",
          "dtype": "f8"
         }
        }
       ],
       "layout": {
        "coloraxis": {
         "colorbar": {
          "title": {
           "text": "Kendall τ_b"
          }
         },
         "colorscale": [
          [
           0,
           "rgb(247,251,255)"
          ],
          [
           0.125,
           "rgb(222,235,247)"
          ],
          [
           0.25,
           "rgb(198,219,239)"
          ],
          [
           0.375,
           "rgb(158,202,225)"
          ],
          [
           0.5,
           "rgb(107,174,214)"
          ],
          [
           0.625,
           "rgb(66,146,198)"
          ],
          [
           0.75,
           "rgb(33,113,181)"
          ],
          [
           0.875,
           "rgb(8,81,156)"
          ],
          [
           1,
           "rgb(8,48,107)"
          ]
         ]
        },
        "geo": {
         "center": {},
         "domain": {
          "x": [
           0,
           1
          ],
          "y": [
           0,
           1
          ]
         },
         "fitbounds": "locations",
         "projection": {
          "type": "natural earth"
         },
         "showcoastlines": true,
         "showland": true
        },
        "legend": {
         "tracegroupgap": 0
        },
        "margin": {
         "b": 0,
         "l": 0,
         "r": 0,
         "t": 40
        },
        "template": {
         "data": {
          "bar": [
           {
            "error_x": {
             "color": "#2a3f5f"
            },
            "error_y": {
             "color": "#2a3f5f"
            },
            "marker": {
             "line": {
              "color": "#E5ECF6",
              "width": 0.5
             },
             "pattern": {
              "fillmode": "overlay",
              "size": 10,
              "solidity": 0.2
             }
            },
            "type": "bar"
           }
          ],
          "barpolar": [
           {
            "marker": {
             "line": {
              "color": "#E5ECF6",
              "width": 0.5
             },
             "pattern": {
              "fillmode": "overlay",
              "size": 10,
              "solidity": 0.2
             }
            },
            "type": "barpolar"
           }
          ],
          "carpet": [
           {
            "aaxis": {
             "endlinecolor": "#2a3f5f",
             "gridcolor": "white",
             "linecolor": "white",
             "minorgridcolor": "white",
             "startlinecolor": "#2a3f5f"
            },
            "baxis": {
             "endlinecolor": "#2a3f5f",
             "gridcolor": "white",
             "linecolor": "white",
             "minorgridcolor": "white",
             "startlinecolor": "#2a3f5f"
            },
            "type": "carpet"
           }
          ],
          "choropleth": [
           {
            "colorbar": {
             "outlinewidth": 0,
             "ticks": ""
            },
            "type": "choropleth"
           }
          ],
          "contour": [
           {
            "colorbar": {
             "outlinewidth": 0,
             "ticks": ""
            },
            "colorscale": [
             [
              0,
              "#0d0887"
             ],
             [
              0.1111111111111111,
              "#46039f"
             ],
             [
              0.2222222222222222,
              "#7201a8"
             ],
             [
              0.3333333333333333,
              "#9c179e"
             ],
             [
              0.4444444444444444,
              "#bd3786"
             ],
             [
              0.5555555555555556,
              "#d8576b"
             ],
             [
              0.6666666666666666,
              "#ed7953"
             ],
             [
              0.7777777777777778,
              "#fb9f3a"
             ],
             [
              0.8888888888888888,
              "#fdca26"
             ],
             [
              1,
              "#f0f921"
             ]
            ],
            "type": "contour"
           }
          ],
          "contourcarpet": [
           {
            "colorbar": {
             "outlinewidth": 0,
             "ticks": ""
            },
            "type": "contourcarpet"
           }
          ],
          "heatmap": [
           {
            "colorbar": {
             "outlinewidth": 0,
             "ticks": ""
            },
            "colorscale": [
             [
              0,
              "#0d0887"
             ],
             [
              0.1111111111111111,
              "#46039f"
             ],
             [
              0.2222222222222222,
              "#7201a8"
             ],
             [
              0.3333333333333333,
              "#9c179e"
             ],
             [
              0.4444444444444444,
              "#bd3786"
             ],
             [
              0.5555555555555556,
              "#d8576b"
             ],
             [
              0.6666666666666666,
              "#ed7953"
             ],
             [
              0.7777777777777778,
              "#fb9f3a"
             ],
             [
              0.8888888888888888,
              "#fdca26"
             ],
             [
              1,
              "#f0f921"
             ]
            ],
            "type": "heatmap"
           }
          ],
          "histogram": [
           {
            "marker": {
             "pattern": {
              "fillmode": "overlay",
              "size": 10,
              "solidity": 0.2
             }
            },
            "type": "histogram"
           }
          ],
          "histogram2d": [
           {
            "colorbar": {
             "outlinewidth": 0,
             "ticks": ""
            },
            "colorscale": [
             [
              0,
              "#0d0887"
             ],
             [
              0.1111111111111111,
              "#46039f"
             ],
             [
              0.2222222222222222,
              "#7201a8"
             ],
             [
              0.3333333333333333,
              "#9c179e"
             ],
             [
              0.4444444444444444,
              "#bd3786"
             ],
             [
              0.5555555555555556,
              "#d8576b"
             ],
             [
              0.6666666666666666,
              "#ed7953"
             ],
             [
              0.7777777777777778,
              "#fb9f3a"
             ],
             [
              0.8888888888888888,
              "#fdca26"
             ],
             [
              1,
              "#f0f921"
             ]
            ],
            "type": "histogram2d"
           }
          ],
          "histogram2dcontour": [
           {
            "colorbar": {
             "outlinewidth": 0,
             "ticks": ""
            },
            "colorscale": [
             [
              0,
              "#0d0887"
             ],
             [
              0.1111111111111111,
              "#46039f"
             ],
             [
              0.2222222222222222,
              "#7201a8"
             ],
             [
              0.3333333333333333,
              "#9c179e"
             ],
             [
              0.4444444444444444,
              "#bd3786"
             ],
             [
              0.5555555555555556,
              "#d8576b"
             ],
             [
              0.6666666666666666,
              "#ed7953"
             ],
             [
              0.7777777777777778,
              "#fb9f3a"
             ],
             [
              0.8888888888888888,
              "#fdca26"
             ],
             [
              1,
              "#f0f921"
             ]
            ],
            "type": "histogram2dcontour"
           }
          ],
          "mesh3d": [
           {
            "colorbar": {
             "outlinewidth": 0,
             "ticks": ""
            },
            "type": "mesh3d"
           }
          ],
          "parcoords": [
           {
            "line": {
             "colorbar": {
              "outlinewidth": 0,
              "ticks": ""
             }
            },
            "type": "parcoords"
           }
          ],
          "pie": [
           {
            "automargin": true,
            "type": "pie"
           }
          ],
          "scatter": [
           {
            "fillpattern": {
             "fillmode": "overlay",
             "size": 10,
             "solidity": 0.2
            },
            "type": "scatter"
           }
          ],
          "scatter3d": [
           {
            "line": {
             "colorbar": {
              "outlinewidth": 0,
              "ticks": ""
             }
            },
            "marker": {
             "colorbar": {
              "outlinewidth": 0,
              "ticks": ""
             }
            },
            "type": "scatter3d"
           }
          ],
          "scattercarpet": [
           {
            "marker": {
             "colorbar": {
              "outlinewidth": 0,
              "ticks": ""
             }
            },
            "type": "scattercarpet"
           }
          ],
          "scattergeo": [
           {
            "marker": {
             "colorbar": {
              "outlinewidth": 0,
              "ticks": ""
             }
            },
            "type": "scattergeo"
           }
          ],
          "scattergl": [
           {
            "marker": {
             "colorbar": {
              "outlinewidth": 0,
              "ticks": ""
             }
            },
            "type": "scattergl"
           }
          ],
          "scattermap": [
           {
            "marker": {
             "colorbar": {
              "outlinewidth": 0,
              "ticks": ""
             }
            },
            "type": "scattermap"
           }
          ],
          "scattermapbox": [
           {
            "marker": {
             "colorbar": {
              "outlinewidth": 0,
              "ticks": ""
             }
            },
            "type": "scattermapbox"
           }
          ],
          "scatterpolar": [
           {
            "marker": {
             "colorbar": {
              "outlinewidth": 0,
              "ticks": ""
             }
            },
            "type": "scatterpolar"
           }
          ],
          "scatterpolargl": [
           {
            "marker": {
             "colorbar": {
              "outlinewidth": 0,
              "ticks": ""
             }
            },
            "type": "scatterpolargl"
           }
          ],
          "scatterternary": [
           {
            "marker": {
             "colorbar": {
              "outlinewidth": 0,
              "ticks": ""
             }
            },
            "type": "scatterternary"
           }
          ],
          "surface": [
           {
            "colorbar": {
             "outlinewidth": 0,
             "ticks": ""
            },
            "colorscale": [
             [
              0,
              "#0d0887"
             ],
             [
              0.1111111111111111,
              "#46039f"
             ],
             [
              0.2222222222222222,
              "#7201a8"
             ],
             [
              0.3333333333333333,
              "#9c179e"
             ],
             [
              0.4444444444444444,
              "#bd3786"
             ],
             [
              0.5555555555555556,
              "#d8576b"
             ],
             [
              0.6666666666666666,
              "#ed7953"
             ],
             [
              0.7777777777777778,
              "#fb9f3a"
             ],
             [
              0.8888888888888888,
              "#fdca26"
             ],
             [
              1,
              "#f0f921"
             ]
            ],
            "type": "surface"
           }
          ],
          "table": [
           {
            "cells": {
             "fill": {
              "color": "#EBF0F8"
             },
             "line": {
              "color": "white"
             }
            },
            "header": {
             "fill": {
              "color": "#C8D4E3"
             },
             "line": {
              "color": "white"
             }
            },
            "type": "table"
           }
          ]
         },
         "layout": {
          "annotationdefaults": {
           "arrowcolor": "#2a3f5f",
           "arrowhead": 0,
           "arrowwidth": 1
          },
          "autotypenumbers": "strict",
          "coloraxis": {
           "colorbar": {
            "outlinewidth": 0,
            "ticks": ""
           }
          },
          "colorscale": {
           "diverging": [
            [
             0,
             "#8e0152"
            ],
            [
             0.1,
             "#c51b7d"
            ],
            [
             0.2,
             "#de77ae"
            ],
            [
             0.3,
             "#f1b6da"
            ],
            [
             0.4,
             "#fde0ef"
            ],
            [
             0.5,
             "#f7f7f7"
            ],
            [
             0.6,
             "#e6f5d0"
            ],
            [
             0.7,
             "#b8e186"
            ],
            [
             0.8,
             "#7fbc41"
            ],
            [
             0.9,
             "#4d9221"
            ],
            [
             1,
             "#276419"
            ]
           ],
           "sequential": [
            [
             0,
             "#0d0887"
            ],
            [
             0.1111111111111111,
             "#46039f"
            ],
            [
             0.2222222222222222,
             "#7201a8"
            ],
            [
             0.3333333333333333,
             "#9c179e"
            ],
            [
             0.4444444444444444,
             "#bd3786"
            ],
            [
             0.5555555555555556,
             "#d8576b"
            ],
            [
             0.6666666666666666,
             "#ed7953"
            ],
            [
             0.7777777777777778,
             "#fb9f3a"
            ],
            [
             0.8888888888888888,
             "#fdca26"
            ],
            [
             1,
             "#f0f921"
            ]
           ],
           "sequentialminus": [
            [
             0,
             "#0d0887"
            ],
            [
             0.1111111111111111,
             "#46039f"
            ],
            [
             0.2222222222222222,
             "#7201a8"
            ],
            [
             0.3333333333333333,
             "#9c179e"
            ],
            [
             0.4444444444444444,
             "#bd3786"
            ],
            [
             0.5555555555555556,
             "#d8576b"
            ],
            [
             0.6666666666666666,
             "#ed7953"
            ],
            [
             0.7777777777777778,
             "#fb9f3a"
            ],
            [
             0.8888888888888888,
             "#fdca26"
            ],
            [
             1,
             "#f0f921"
            ]
           ]
          },
          "colorway": [
           "#636efa",
           "#EF553B",
           "#00cc96",
           "#ab63fa",
           "#FFA15A",
           "#19d3f3",
           "#FF6692",
           "#B6E880",
           "#FF97FF",
           "#FECB52"
          ],
          "font": {
           "color": "#2a3f5f"
          },
          "geo": {
           "bgcolor": "white",
           "lakecolor": "white",
           "landcolor": "#E5ECF6",
           "showlakes": true,
           "showland": true,
           "subunitcolor": "white"
          },
          "hoverlabel": {
           "align": "left"
          },
          "hovermode": "closest",
          "mapbox": {
           "style": "light"
          },
          "paper_bgcolor": "white",
          "plot_bgcolor": "#E5ECF6",
          "polar": {
           "angularaxis": {
            "gridcolor": "white",
            "linecolor": "white",
            "ticks": ""
           },
           "bgcolor": "#E5ECF6",
           "radialaxis": {
            "gridcolor": "white",
            "linecolor": "white",
            "ticks": ""
           }
          },
          "scene": {
           "xaxis": {
            "backgroundcolor": "#E5ECF6",
            "gridcolor": "white",
            "gridwidth": 2,
            "linecolor": "white",
            "showbackground": true,
            "ticks": "",
            "zerolinecolor": "white"
           },
           "yaxis": {
            "backgroundcolor": "#E5ECF6",
            "gridcolor": "white",
            "gridwidth": 2,
            "linecolor": "white",
            "showbackground": true,
            "ticks": "",
            "zerolinecolor": "white"
           },
           "zaxis": {
            "backgroundcolor": "#E5ECF6",
            "gridcolor": "white",
            "gridwidth": 2,
            "linecolor": "white",
            "showbackground": true,
            "ticks": "",
            "zerolinecolor": "white"
           }
          },
          "shapedefaults": {
           "line": {
            "color": "#2a3f5f"
           }
          },
          "ternary": {
           "aaxis": {
            "gridcolor": "white",
            "linecolor": "white",
            "ticks": ""
           },
           "baxis": {
            "gridcolor": "white",
            "linecolor": "white",
            "ticks": ""
           },
           "bgcolor": "#E5ECF6",
           "caxis": {
            "gridcolor": "white",
            "linecolor": "white",
            "ticks": ""
           }
          },
          "title": {
           "x": 0.05
          },
          "xaxis": {
           "automargin": true,
           "gridcolor": "white",
           "linecolor": "white",
           "ticks": "",
           "title": {
            "standoff": 15
           },
           "zerolinecolor": "white",
           "zerolinewidth": 2
          },
          "yaxis": {
           "automargin": true,
           "gridcolor": "white",
           "linecolor": "white",
           "ticks": "",
           "title": {
            "standoff": 15
           },
           "zerolinecolor": "white",
           "zerolinewidth": 2
          }
         }
        },
        "title": {
         "text": "Interaktive Kendall τ_b Karte: Export vs. Militär"
        }
       }
      }
     },
     "metadata": {},
     "output_type": "display_data"
    }
   ],
   "source": [
    "import pandas as pd\n",
    "import pycountry\n",
    "import plotly.express as px\n",
    "\n",
    "# 1) Korrelationsdaten laden\n",
    "df_corr = pd.read_csv('results/export_correlations.csv')\n",
    "\n",
    "# 2) ISO-Alpha-3 Codes ermitteln\n",
    "def iso3(name):\n",
    "    try:\n",
    "        return pycountry.countries.lookup(name).alpha_3\n",
    "    except LookupError:\n",
    "        return None\n",
    "\n",
    "df_corr['iso_a3'] = df_corr['Country Name'].apply(iso3)\n",
    "\n",
    "# 3) Ungültige Einträge entfernen\n",
    "df_map = df_corr.dropna(subset=['iso_a3'])\n",
    "\n",
    "# 4) Interaktive Choropleth-Karte für Kendall τ_b\n",
    "fig = px.choropleth(\n",
    "    df_map,\n",
    "    locations='iso_a3',\n",
    "    color='Kendall τ_b',\n",
    "    hover_name='Country Name',\n",
    "    color_continuous_scale='Blues',\n",
    "    projection='natural earth',\n",
    "    title='Interaktive Kendall τ_b Karte: Export vs. Militär'\n",
    ")\n",
    "\n",
    "fig.update_geos(showcoastlines=True, showland=True, fitbounds='locations')\n",
    "fig.update_layout(margin={'r':0,'t':40,'l':0,'b':0})\n",
    "fig.show()\n"
   ]
  }
 ],
 "metadata": {
  "kernelspec": {
   "display_name": "Python 3",
   "language": "python",
   "name": "python3"
  },
  "language_info": {
   "codemirror_mode": {
    "name": "ipython",
    "version": 3
   },
   "file_extension": ".py",
   "mimetype": "text/x-python",
   "name": "python",
   "nbconvert_exporter": "python",
   "pygments_lexer": "ipython3",
   "version": "3.9.6"
  }
 },
 "nbformat": 4,
 "nbformat_minor": 5
}
