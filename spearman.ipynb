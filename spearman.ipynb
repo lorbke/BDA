{
 "cells": [
  {
   "cell_type": "markdown",
   "id": "a98a12ab",
   "metadata": {},
   "source": [
    "# Korrelation zwischen den Handelsdaten Import, Export, BIP und den Militärausgaben mit Spearman R prüfen"
   ]
  },
  {
   "cell_type": "markdown",
   "id": "709c65dc",
   "metadata": {},
   "source": [
    "## Benötigte Bibliotheken"
   ]
  },
  {
   "cell_type": "code",
   "execution_count": 33,
   "id": "0b9c99e7-8874-4b56-92c8-ea28c0d8752d",
   "metadata": {},
   "outputs": [],
   "source": [
    "import pandas as pd\n",
    "import numpy as np\n",
    "from scipy.stats import spearmanr\n",
    "import pycountry\n",
    "import plotly.express as px"
   ]
  },
  {
   "cell_type": "markdown",
   "id": "2b28947a",
   "metadata": {},
   "source": [
    "## Länder filtern\n",
    "#### In den Datensätzen befinden sich Spalten die kein Länder darstellen, sondern zum Beispiel einen ganzen Kontinent, aber wir möchten für die Spearman Korrelation nur einzelne Länder untersuchen.\n",
    "#### Wir sortieren diese mittels einer Keyword List raus\n",
    "#### Es gibt eine zweite Keyword Liste für Länder die dadurch aussortiert werden würden, um dafür zu sorgen, dass diese weiterhin im Datensatz bleiben"
   ]
  },
  {
   "cell_type": "code",
   "execution_count": 34,
   "id": "c3d7b2de",
   "metadata": {},
   "outputs": [],
   "source": [
    "non_country_keywords = [\n",
    "    \"Africa\", \"Europe\", \"America\", \"Asia\", \"Oceania\", \"Arab\", \"World\",\n",
    "    \"High income\", \"Low income\", \"Middle income\", \"Euro area\", \"OECD\", \"IDA\",\n",
    "    \"IBRD\", \"G7\", \"G20\", \"Least developed\", \"Landlocked\", \"Small states\", \"Sub-Saharan\",\n",
    "    \"Heavily indebted\", \"demographic dividend\", \"middle income\", \"Other\"\n",
    "]\n",
    "\n",
    "allowlist = {\n",
    "    \"Egypt, Arab Rep.\", \"Saudi Arabia\", \"South Africa\",\n",
    "    \"Syrian Arab Republic\", \"United Arab Emirates\", \"Central African Republic\"\n",
    "}"
   ]
  },
  {
   "cell_type": "code",
   "execution_count": 35,
   "id": "b2c5618e",
   "metadata": {},
   "outputs": [],
   "source": [
    "def is_region_or_group(name):\n",
    "    return (\n",
    "        any(keyword in str(name) for keyword in non_country_keywords)\n",
    "        and name not in allowlist\n",
    "    )"
   ]
  },
  {
   "cell_type": "markdown",
   "id": "20f85b27",
   "metadata": {},
   "source": [
    "#### Länder ohne Daten werden auch rausgefiltert."
   ]
  },
  {
   "cell_type": "code",
   "execution_count": 36,
   "id": "df4f31fd",
   "metadata": {},
   "outputs": [],
   "source": [
    "def clean_df(df):\n",
    "    df = df[~df[\"Country Name\"].apply(is_region_or_group)]\n",
    "    mask = (df.iloc[:, 3:].fillna(0) != 0).any(axis=1)\n",
    "    df = df[mask].reset_index(drop=True)\n",
    "    return df"
   ]
  },
  {
   "cell_type": "markdown",
   "id": "153551ef",
   "metadata": {},
   "source": [
    "#### Überprüfen ob nach dem Bereinigen des Datensatzes die übrigen Länder in beiden Datensätzen vorkommen, falls nicht werden sie aussortiert."
   ]
  },
  {
   "cell_type": "code",
   "execution_count": 37,
   "id": "15fae219",
   "metadata": {},
   "outputs": [],
   "source": [
    "def filter_for_same_columns(df1, df2):\n",
    "    set1 = set(df1[\"Country Name\"])\n",
    "    set2 = set(df2[\"Country Name\"])\n",
    "\n",
    "    common = set1 & set2\n",
    "\n",
    "    df1_clean = df1[df1[\"Country Name\"].isin(common)].reset_index(drop=True)\n",
    "    df2_clean = df2[df2[\"Country Name\"].isin(common)].reset_index(drop=True)\n",
    "    return df1_clean, df2_clean"
   ]
  },
  {
   "cell_type": "markdown",
   "id": "0fc1acd7",
   "metadata": {},
   "source": [
    "# Wichtige Funktionen zur Berechnung und Visualisierung der Korrelation"
   ]
  },
  {
   "cell_type": "markdown",
   "id": "5e667e3d",
   "metadata": {},
   "source": [
    "## Spearman R Korrelation und Signifikanz berechnen\n",
    "#### Es wird für jedes Land die Korrelation mit Spearman r berechnet zwischen einem Handelsdatensatz und dem Datensatz der Militärausgaben. Alle Werte werden in nummerische umgewandelt. Dann wird noch überprüft für welche Jahre es bei beiden Handelsdaten Werte gibt und diese werden dann für die Korrelation verwendet, sofern es midestens 3 Wertepaare gibt, sonst wird keine Korrelation berechnet. Zum Schluss werden die Daten in einer Tabelle gespeichert mit dem Land, der zugehörigen Anzahl an Jahre die füe die Berechnung verwendet wurden, dem Werte der Spearman R Korrelation, sowie die Signifikanz des Ergebnisses."
   ]
  },
  {
   "cell_type": "code",
   "execution_count": 38,
   "id": "9c9e369a",
   "metadata": {},
   "outputs": [],
   "source": [
    "def calc_spearman(df_trade, df_military):\n",
    "    df = df_trade.merge(df_military, on=\"Country Name\", suffixes=(\"_trade\", \"_mil\"))\n",
    "\n",
    "    years = [c for c in df_trade.columns if c.isdigit() and c in df_military.columns]\n",
    "\n",
    "    results = []\n",
    "    for _, row in df.iterrows():\n",
    "        country = row[\"Country Name\"]\n",
    "\n",
    "        x = pd.to_numeric(row[[f\"{y}_trade\" for y in years]], errors=\"coerce\").to_numpy()\n",
    "        y = pd.to_numeric(row[[f\"{y}_mil\" for y in years]], errors=\"coerce\").to_numpy()\n",
    "        \n",
    "        mask = (~np.isnan(x)) & (x != 0) & (~np.isnan(y)) & (y != 0)\n",
    "        x_valid = x[mask]\n",
    "        y_valid = y[mask]\n",
    "        \n",
    "        if len(x_valid) < 3:\n",
    "            continue\n",
    "\n",
    "        rho, p_s = spearmanr(x_valid, y_valid)\n",
    "        \n",
    "        results.append({\n",
    "            \"Country Name\": country,\n",
    "            \"n Jahre\": len(x_valid),\n",
    "            \"Spearman ρ\": round(rho, 3),\n",
    "            \"p-Spearman\": round(p_s, 3),\n",
    "        })\n",
    "\n",
    "    df_country_corr = pd.DataFrame(results) \\\n",
    "        .sort_values(\"Spearman ρ\", ascending=False) \\\n",
    "        .reset_index(drop=True)\n",
    "    return df_country_corr"
   ]
  },
  {
   "cell_type": "markdown",
   "id": "d9df1ec0",
   "metadata": {},
   "source": [
    "## Interaktive Weltkarte erzeugen\n",
    "#### Mit dieser Funktion wird eine interaktive Weltkart erstellt. Hierzu werden alle Korrelaationsdaten aus einem neu erstellten Datensatz gezogen und dann für die Länder der jeweilige Korrelationswert angegeben und dementsprechend eingefärbt."
   ]
  },
  {
   "cell_type": "code",
   "execution_count": 39,
   "id": "460e99b6",
   "metadata": {},
   "outputs": [],
   "source": [
    "def create_world_map(file, trade):\n",
    "    df_corr = pd.read_csv(file)\n",
    "\n",
    "    def iso3(name):\n",
    "        try:\n",
    "            return pycountry.countries.lookup(name).alpha_3\n",
    "        except LookupError:\n",
    "            return None\n",
    "\n",
    "    df_corr['iso_a3'] = df_corr['Country Name'].apply(iso3)\n",
    "\n",
    "    df_map = df_corr.dropna(subset=['iso_a3'])\n",
    "\n",
    "    fig = px.choropleth(\n",
    "        df_map,\n",
    "        locations='iso_a3',\n",
    "        color='Spearman ρ',\n",
    "        hover_name='Country Name',\n",
    "        color_continuous_scale='OrRd',\n",
    "        projection='natural earth',\n",
    "        title=f'Interaktive Spearman-ρ Karte: {trade} vs. Militär'\n",
    "    )\n",
    "\n",
    "    fig.update_geos(showcoastlines=True, showland=True, fitbounds='locations')\n",
    "    fig.update_layout(margin={'r':0,'t':40,'l':0,'b':0})\n",
    "    fig.show()\n",
    "    return df_corr"
   ]
  },
  {
   "cell_type": "markdown",
   "id": "06fe0e4c",
   "metadata": {},
   "source": [
    "# Spearman R Korrelation Importe - Militärausgaben\n",
    "#### Wir möchten hier prüfen ob es einen Zusammenhang zwischen den Importdaten eines Landes und den Militärausgaben gibt. H1: Korreliert das Militärbudget eines Landes mit den Importdaten des Landes?\n"
   ]
  },
  {
   "cell_type": "code",
   "execution_count": 40,
   "id": "48444cff",
   "metadata": {},
   "outputs": [],
   "source": [
    "df_military = pd.read_csv(\"data/military_expenditure.csv\", sep=',', skiprows=4)\n",
    "df_military = df_military.drop(columns=[\"Indicator Name\", \"Indicator Code\", \"2024\", \"Unnamed: 69\"])\n",
    "df_military = clean_df(df_military)"
   ]
  },
  {
   "cell_type": "code",
   "execution_count": 41,
   "id": "055a3aae",
   "metadata": {},
   "outputs": [],
   "source": [
    "df_import = pd.read_csv(\"data/imports.csv\", sep=',', skiprows=4)\n",
    "df_import = df_import.drop(columns=[\"Indicator Name\", \"Indicator Code\", \"2024\", \"Unnamed: 69\"])\n",
    "df_import = clean_df(df_import)"
   ]
  },
  {
   "cell_type": "code",
   "execution_count": 42,
   "id": "03fb8a29",
   "metadata": {},
   "outputs": [],
   "source": [
    "df_import, df_military = filter_for_same_columns(df_import, df_military)\n"
   ]
  },
  {
   "cell_type": "code",
   "execution_count": 43,
   "id": "a73a9a33",
   "metadata": {},
   "outputs": [
    {
     "name": "stdout",
     "output_type": "stream",
     "text": [
      "               Country Name  n Jahre  Spearman ρ  p-Spearman\n",
      "0               Afghanistan        8       1.000       0.000\n",
      "1                     Nepal       54       0.992       0.000\n",
      "2                     China       35       0.992       0.000\n",
      "3                 Singapore       54       0.991       0.000\n",
      "4                Luxembourg       54       0.990       0.000\n",
      "..                      ...      ...         ...         ...\n",
      "153                  Guyana       30      -0.117       0.539\n",
      "154  Bosnia and Herzegovina       22      -0.240       0.282\n",
      "155            Turkmenistan        6      -0.314       0.544\n",
      "156                 Lao PDR       22      -0.319       0.148\n",
      "157             South Sudan        8      -0.595       0.120\n",
      "\n",
      "[158 rows x 4 columns]\n"
     ]
    }
   ],
   "source": [
    "df_country_corr = calc_spearman(df_import, df_military)\n",
    "print(df_country_corr)\n",
    "df_country_corr.to_csv(\"results/import_correlations.csv\", index=False)"
   ]
  },
  {
   "cell_type": "code",
   "execution_count": 44,
   "id": "3d9a1195",
   "metadata": {},
   "outputs": [
    {
     "data": {
      "application/vnd.plotly.v1+json": {
       "config": {
        "plotlyServerURL": "https://plot.ly"
       },
       "data": [
        {
         "coloraxis": "coloraxis",
         "geo": "geo",
         "hovertemplate": "<b>%{hovertext}</b><br><br>iso_a3=%{location}<br>Spearman ρ=%{z}<extra></extra>",
         "hovertext": [
          "Afghanistan",
          "Nepal",
          "China",
          "Singapore",
          "Luxembourg",
          "Mexico",
          "Bangladesh",
          "Pakistan",
          "Greece",
          "Ecuador",
          "Morocco",
          "Australia",
          "India",
          "Poland",
          "Israel",
          "Norway",
          "Estonia",
          "Denmark",
          "Colombia",
          "Sri Lanka",
          "Mali",
          "France",
          "Brazil",
          "New Zealand",
          "Portugal",
          "Austria",
          "Gabon",
          "Burkina Faso",
          "Malaysia",
          "Spain",
          "Qatar",
          "Zambia",
          "Belize",
          "Oman",
          "Thailand",
          "Italy",
          "Philippines",
          "Tunisia",
          "Saudi Arabia",
          "Canada",
          "Finland",
          "Bolivia",
          "Malta",
          "Azerbaijan",
          "Armenia",
          "Chile",
          "Brunei Darussalam",
          "Benin",
          "United States",
          "Netherlands",
          "Sweden",
          "Peru",
          "United Arab Emirates",
          "Kyrgyz Republic",
          "United Kingdom",
          "Lithuania",
          "Moldova",
          "Romania",
          "Togo",
          "Bahrain",
          "Ireland",
          "Honduras",
          "Japan",
          "Albania",
          "Dominican Republic",
          "Botswana",
          "Viet Nam",
          "Kenya",
          "Mauritania",
          "Germany",
          "Mauritius",
          "Uruguay",
          "Cameroon",
          "Fiji",
          "Switzerland",
          "Latvia",
          "Belarus",
          "Russian Federation",
          "Slovak Republic",
          "Ukraine",
          "Algeria",
          "Jamaica",
          "Cabo Verde",
          "Uganda",
          "Madagascar",
          "Belgium",
          "Mongolia",
          "Haiti",
          "Lesotho",
          "Iraq",
          "Paraguay",
          "Sudan",
          "Kuwait",
          "Bulgaria",
          "Angola",
          "Niger",
          "Mozambique",
          "Hungary",
          "Jordan",
          "Senegal",
          "Sierra Leone",
          "Kazakhstan",
          "Somalia",
          "Czechia",
          "Ethiopia",
          "Guatemala",
          "Tanzania",
          "Indonesia",
          "Tajikistan",
          "Rwanda",
          "Burundi",
          "Slovenia",
          "Namibia",
          "El Salvador",
          "Cambodia",
          "Serbia",
          "Lebanon",
          "Guinea",
          "South Africa",
          "Central African Republic",
          "Chad",
          "Montenegro",
          "Nicaragua",
          "Argentina",
          "Cyprus",
          "Guinea-Bissau",
          "Georgia",
          "Papua New Guinea",
          "Syrian Arab Republic",
          "Timor-Leste",
          "Uzbekistan",
          "Ghana",
          "Seychelles",
          "North Macedonia",
          "Eritrea",
          "Equatorial Guinea",
          "Panama",
          "Cuba",
          "Libya",
          "Croatia",
          "Zimbabwe",
          "Guyana",
          "Bosnia and Herzegovina",
          "Turkmenistan",
          "South Sudan"
         ],
         "locations": [
          "AFG",
          "NPL",
          "CHN",
          "SGP",
          "LUX",
          "MEX",
          "BGD",
          "PAK",
          "GRC",
          "ECU",
          "MAR",
          "AUS",
          "IND",
          "POL",
          "ISR",
          "NOR",
          "EST",
          "DNK",
          "COL",
          "LKA",
          "MLI",
          "FRA",
          "BRA",
          "NZL",
          "PRT",
          "AUT",
          "GAB",
          "BFA",
          "MYS",
          "ESP",
          "QAT",
          "ZMB",
          "BLZ",
          "OMN",
          "THA",
          "ITA",
          "PHL",
          "TUN",
          "SAU",
          "CAN",
          "FIN",
          "BOL",
          "MLT",
          "AZE",
          "ARM",
          "CHL",
          "BRN",
          "BEN",
          "USA",
          "NLD",
          "SWE",
          "PER",
          "ARE",
          "KGZ",
          "GBR",
          "LTU",
          "MDA",
          "ROU",
          "TGO",
          "BHR",
          "IRL",
          "HND",
          "JPN",
          "ALB",
          "DOM",
          "BWA",
          "VNM",
          "KEN",
          "MRT",
          "DEU",
          "MUS",
          "URY",
          "CMR",
          "FJI",
          "CHE",
          "LVA",
          "BLR",
          "RUS",
          "SVK",
          "UKR",
          "DZA",
          "JAM",
          "CPV",
          "UGA",
          "MDG",
          "BEL",
          "MNG",
          "HTI",
          "LSO",
          "IRQ",
          "PRY",
          "SDN",
          "KWT",
          "BGR",
          "AGO",
          "NER",
          "MOZ",
          "HUN",
          "JOR",
          "SEN",
          "SLE",
          "KAZ",
          "SOM",
          "CZE",
          "ETH",
          "GTM",
          "TZA",
          "IDN",
          "TJK",
          "RWA",
          "BDI",
          "SVN",
          "NAM",
          "SLV",
          "KHM",
          "SRB",
          "LBN",
          "GIN",
          "ZAF",
          "CAF",
          "TCD",
          "MNE",
          "NIC",
          "ARG",
          "CYP",
          "GNB",
          "GEO",
          "PNG",
          "SYR",
          "TLS",
          "UZB",
          "GHA",
          "SYC",
          "MKD",
          "ERI",
          "GNQ",
          "PAN",
          "CUB",
          "LBY",
          "HRV",
          "ZWE",
          "GUY",
          "BIH",
          "TKM",
          "SSD"
         ],
         "name": "",
         "type": "choropleth",
         "z": {
          "bdata": "AAAAAAAA8D9YObTIdr7vP1g5tMh2vu8/g8DKoUW27z+uR+F6FK7vP65H4XoUru8/2c73U+Ol7z/ZzvdT46XvPwRWDi2yne8/L90kBoGV7z9aZDvfT43vP1pkO99Pje8/hetRuB6F7z/b+X5qvHTvPzEIrBxaZO8/MQisHFpk7z9cj8L1KFzvP4cW2c73U+8/sp3vp8ZL7z8IrBxaZDvvP4lBYOXQIu8/CtejcD0K7z8K16NwPQrvPwrXo3A9Cu8/NV66SQwC7z9g5dAi2/nuP2Dl0CLb+e4/i2zn+6nx7j+28/3UeOnuPwwCK4cW2e4/DAIrhxbZ7j9iEFg5tMjuP2IQWDm0yO4/YhBYObTI7j+Nl24Sg8DuP42XbhKDwO4/jZduEoPA7j+4HoXrUbjuP7gehetRuO4/46WbxCCw7j/jpZvEILDuPw4tsp3vp+4/ObTIdr6f7j85tMh2vp/uP2Q730+Nl+4/j8L1KFyP7j+PwvUoXI/uP7pJDAIrh+4/EFg5tMh27j9mZmZmZmbuP5HtfD81Xu4/vHSTGARW7j/n+6nx0k3uP+kmMQisHO4/arx0kxgE7j9qvHSTGATuP5ZDi2zn++0/lkOLbOf77T+WQ4ts5/vtP8HKoUW28+0/7FG4HoXr7T/sUbgehevtPxfZzvdT4+0/QmDl0CLb7T9CYOXQItvtP28Sg8DKoe0/xSCwcmiR7T/FILByaJHtPxsv3SQGge0/Rrbz/dR47T9GtvP91HjtP/LSTWIQWO0/HVpkO99P7T9I4XoUrkftP3Noke18P+0/nu+nxks37T+e76fGSzftP3WTGARWDu0/oBov3SQG7T+gGi/dJAbtP8uhRbbz/ew/okW28/3U7D956SYxCKzsP8/3U+Olm+w/z/dT46Wb7D+mm8QgsHLsPycxCKwcWuw/001iEFg57D/TTWIQWDnsP1TjpZvEIOw/f2q8dJMY7D9/arx0kxjsP1YOLbKd7+s/AiuHFtnO6z8tsp3vp8brPy2yne+nxus/rkfhehSu6z+uR+F6FK7rPwRWDi2ynes/sHJoke186z/b+X5qvHTrP9v5fmq8dOs/sp3vp8ZL6z/dJAaBlUPrP90kBoGVQ+s/CtejcD0K6z+Nl24Sg8DqP7gehetRuOo/ke18PzVe6j/n+6nx0k3qP+kmMQisHOo/FK5H4XoU6j+WQ4ts5/vpP5huEoPAyuk/7nw/NV666T/FILByaJHpP0a28/3UeOk/zczMzMzM6D8nMQisHFroP6jGSzeJQeg/MQisHFpk5z9cj8L1KFznP4cW2c73U+c/MzMzMzMz5z/RItv5fmrkPy2yne+nxuM/LbKd76fG4z8K16NwPQrjP2Dl0CLb+eI/ObTIdr6f4j8Sg8DKoUXiPz0K16NwPeI/+n5qvHST4D/wp8ZLN4nZP6AaL90kBtk/9ihcj8L12D+kcD0K16PYP2ZmZmZmZtY/9P3UeOkm0T+iRbbz/dTIP/yp8dJNYmA/wcqhRbbzvb+4HoXrUbjOv39qvHSTGNS/CtejcD0K478=",
          "dtype": "f8"
         }
        }
       ],
       "layout": {
        "coloraxis": {
         "colorbar": {
          "title": {
           "text": "Spearman ρ"
          }
         },
         "colorscale": [
          [
           0,
           "rgb(255,247,236)"
          ],
          [
           0.125,
           "rgb(254,232,200)"
          ],
          [
           0.25,
           "rgb(253,212,158)"
          ],
          [
           0.375,
           "rgb(253,187,132)"
          ],
          [
           0.5,
           "rgb(252,141,89)"
          ],
          [
           0.625,
           "rgb(239,101,72)"
          ],
          [
           0.75,
           "rgb(215,48,31)"
          ],
          [
           0.875,
           "rgb(179,0,0)"
          ],
          [
           1,
           "rgb(127,0,0)"
          ]
         ]
        },
        "geo": {
         "center": {},
         "domain": {
          "x": [
           0,
           1
          ],
          "y": [
           0,
           1
          ]
         },
         "fitbounds": "locations",
         "projection": {
          "type": "natural earth"
         },
         "showcoastlines": true,
         "showland": true
        },
        "legend": {
         "tracegroupgap": 0
        },
        "margin": {
         "b": 0,
         "l": 0,
         "r": 0,
         "t": 40
        },
        "template": {
         "data": {
          "bar": [
           {
            "error_x": {
             "color": "#2a3f5f"
            },
            "error_y": {
             "color": "#2a3f5f"
            },
            "marker": {
             "line": {
              "color": "#E5ECF6",
              "width": 0.5
             },
             "pattern": {
              "fillmode": "overlay",
              "size": 10,
              "solidity": 0.2
             }
            },
            "type": "bar"
           }
          ],
          "barpolar": [
           {
            "marker": {
             "line": {
              "color": "#E5ECF6",
              "width": 0.5
             },
             "pattern": {
              "fillmode": "overlay",
              "size": 10,
              "solidity": 0.2
             }
            },
            "type": "barpolar"
           }
          ],
          "carpet": [
           {
            "aaxis": {
             "endlinecolor": "#2a3f5f",
             "gridcolor": "white",
             "linecolor": "white",
             "minorgridcolor": "white",
             "startlinecolor": "#2a3f5f"
            },
            "baxis": {
             "endlinecolor": "#2a3f5f",
             "gridcolor": "white",
             "linecolor": "white",
             "minorgridcolor": "white",
             "startlinecolor": "#2a3f5f"
            },
            "type": "carpet"
           }
          ],
          "choropleth": [
           {
            "colorbar": {
             "outlinewidth": 0,
             "ticks": ""
            },
            "type": "choropleth"
           }
          ],
          "contour": [
           {
            "colorbar": {
             "outlinewidth": 0,
             "ticks": ""
            },
            "colorscale": [
             [
              0,
              "#0d0887"
             ],
             [
              0.1111111111111111,
              "#46039f"
             ],
             [
              0.2222222222222222,
              "#7201a8"
             ],
             [
              0.3333333333333333,
              "#9c179e"
             ],
             [
              0.4444444444444444,
              "#bd3786"
             ],
             [
              0.5555555555555556,
              "#d8576b"
             ],
             [
              0.6666666666666666,
              "#ed7953"
             ],
             [
              0.7777777777777778,
              "#fb9f3a"
             ],
             [
              0.8888888888888888,
              "#fdca26"
             ],
             [
              1,
              "#f0f921"
             ]
            ],
            "type": "contour"
           }
          ],
          "contourcarpet": [
           {
            "colorbar": {
             "outlinewidth": 0,
             "ticks": ""
            },
            "type": "contourcarpet"
           }
          ],
          "heatmap": [
           {
            "colorbar": {
             "outlinewidth": 0,
             "ticks": ""
            },
            "colorscale": [
             [
              0,
              "#0d0887"
             ],
             [
              0.1111111111111111,
              "#46039f"
             ],
             [
              0.2222222222222222,
              "#7201a8"
             ],
             [
              0.3333333333333333,
              "#9c179e"
             ],
             [
              0.4444444444444444,
              "#bd3786"
             ],
             [
              0.5555555555555556,
              "#d8576b"
             ],
             [
              0.6666666666666666,
              "#ed7953"
             ],
             [
              0.7777777777777778,
              "#fb9f3a"
             ],
             [
              0.8888888888888888,
              "#fdca26"
             ],
             [
              1,
              "#f0f921"
             ]
            ],
            "type": "heatmap"
           }
          ],
          "histogram": [
           {
            "marker": {
             "pattern": {
              "fillmode": "overlay",
              "size": 10,
              "solidity": 0.2
             }
            },
            "type": "histogram"
           }
          ],
          "histogram2d": [
           {
            "colorbar": {
             "outlinewidth": 0,
             "ticks": ""
            },
            "colorscale": [
             [
              0,
              "#0d0887"
             ],
             [
              0.1111111111111111,
              "#46039f"
             ],
             [
              0.2222222222222222,
              "#7201a8"
             ],
             [
              0.3333333333333333,
              "#9c179e"
             ],
             [
              0.4444444444444444,
              "#bd3786"
             ],
             [
              0.5555555555555556,
              "#d8576b"
             ],
             [
              0.6666666666666666,
              "#ed7953"
             ],
             [
              0.7777777777777778,
              "#fb9f3a"
             ],
             [
              0.8888888888888888,
              "#fdca26"
             ],
             [
              1,
              "#f0f921"
             ]
            ],
            "type": "histogram2d"
           }
          ],
          "histogram2dcontour": [
           {
            "colorbar": {
             "outlinewidth": 0,
             "ticks": ""
            },
            "colorscale": [
             [
              0,
              "#0d0887"
             ],
             [
              0.1111111111111111,
              "#46039f"
             ],
             [
              0.2222222222222222,
              "#7201a8"
             ],
             [
              0.3333333333333333,
              "#9c179e"
             ],
             [
              0.4444444444444444,
              "#bd3786"
             ],
             [
              0.5555555555555556,
              "#d8576b"
             ],
             [
              0.6666666666666666,
              "#ed7953"
             ],
             [
              0.7777777777777778,
              "#fb9f3a"
             ],
             [
              0.8888888888888888,
              "#fdca26"
             ],
             [
              1,
              "#f0f921"
             ]
            ],
            "type": "histogram2dcontour"
           }
          ],
          "mesh3d": [
           {
            "colorbar": {
             "outlinewidth": 0,
             "ticks": ""
            },
            "type": "mesh3d"
           }
          ],
          "parcoords": [
           {
            "line": {
             "colorbar": {
              "outlinewidth": 0,
              "ticks": ""
             }
            },
            "type": "parcoords"
           }
          ],
          "pie": [
           {
            "automargin": true,
            "type": "pie"
           }
          ],
          "scatter": [
           {
            "fillpattern": {
             "fillmode": "overlay",
             "size": 10,
             "solidity": 0.2
            },
            "type": "scatter"
           }
          ],
          "scatter3d": [
           {
            "line": {
             "colorbar": {
              "outlinewidth": 0,
              "ticks": ""
             }
            },
            "marker": {
             "colorbar": {
              "outlinewidth": 0,
              "ticks": ""
             }
            },
            "type": "scatter3d"
           }
          ],
          "scattercarpet": [
           {
            "marker": {
             "colorbar": {
              "outlinewidth": 0,
              "ticks": ""
             }
            },
            "type": "scattercarpet"
           }
          ],
          "scattergeo": [
           {
            "marker": {
             "colorbar": {
              "outlinewidth": 0,
              "ticks": ""
             }
            },
            "type": "scattergeo"
           }
          ],
          "scattergl": [
           {
            "marker": {
             "colorbar": {
              "outlinewidth": 0,
              "ticks": ""
             }
            },
            "type": "scattergl"
           }
          ],
          "scattermap": [
           {
            "marker": {
             "colorbar": {
              "outlinewidth": 0,
              "ticks": ""
             }
            },
            "type": "scattermap"
           }
          ],
          "scattermapbox": [
           {
            "marker": {
             "colorbar": {
              "outlinewidth": 0,
              "ticks": ""
             }
            },
            "type": "scattermapbox"
           }
          ],
          "scatterpolar": [
           {
            "marker": {
             "colorbar": {
              "outlinewidth": 0,
              "ticks": ""
             }
            },
            "type": "scatterpolar"
           }
          ],
          "scatterpolargl": [
           {
            "marker": {
             "colorbar": {
              "outlinewidth": 0,
              "ticks": ""
             }
            },
            "type": "scatterpolargl"
           }
          ],
          "scatterternary": [
           {
            "marker": {
             "colorbar": {
              "outlinewidth": 0,
              "ticks": ""
             }
            },
            "type": "scatterternary"
           }
          ],
          "surface": [
           {
            "colorbar": {
             "outlinewidth": 0,
             "ticks": ""
            },
            "colorscale": [
             [
              0,
              "#0d0887"
             ],
             [
              0.1111111111111111,
              "#46039f"
             ],
             [
              0.2222222222222222,
              "#7201a8"
             ],
             [
              0.3333333333333333,
              "#9c179e"
             ],
             [
              0.4444444444444444,
              "#bd3786"
             ],
             [
              0.5555555555555556,
              "#d8576b"
             ],
             [
              0.6666666666666666,
              "#ed7953"
             ],
             [
              0.7777777777777778,
              "#fb9f3a"
             ],
             [
              0.8888888888888888,
              "#fdca26"
             ],
             [
              1,
              "#f0f921"
             ]
            ],
            "type": "surface"
           }
          ],
          "table": [
           {
            "cells": {
             "fill": {
              "color": "#EBF0F8"
             },
             "line": {
              "color": "white"
             }
            },
            "header": {
             "fill": {
              "color": "#C8D4E3"
             },
             "line": {
              "color": "white"
             }
            },
            "type": "table"
           }
          ]
         },
         "layout": {
          "annotationdefaults": {
           "arrowcolor": "#2a3f5f",
           "arrowhead": 0,
           "arrowwidth": 1
          },
          "autotypenumbers": "strict",
          "coloraxis": {
           "colorbar": {
            "outlinewidth": 0,
            "ticks": ""
           }
          },
          "colorscale": {
           "diverging": [
            [
             0,
             "#8e0152"
            ],
            [
             0.1,
             "#c51b7d"
            ],
            [
             0.2,
             "#de77ae"
            ],
            [
             0.3,
             "#f1b6da"
            ],
            [
             0.4,
             "#fde0ef"
            ],
            [
             0.5,
             "#f7f7f7"
            ],
            [
             0.6,
             "#e6f5d0"
            ],
            [
             0.7,
             "#b8e186"
            ],
            [
             0.8,
             "#7fbc41"
            ],
            [
             0.9,
             "#4d9221"
            ],
            [
             1,
             "#276419"
            ]
           ],
           "sequential": [
            [
             0,
             "#0d0887"
            ],
            [
             0.1111111111111111,
             "#46039f"
            ],
            [
             0.2222222222222222,
             "#7201a8"
            ],
            [
             0.3333333333333333,
             "#9c179e"
            ],
            [
             0.4444444444444444,
             "#bd3786"
            ],
            [
             0.5555555555555556,
             "#d8576b"
            ],
            [
             0.6666666666666666,
             "#ed7953"
            ],
            [
             0.7777777777777778,
             "#fb9f3a"
            ],
            [
             0.8888888888888888,
             "#fdca26"
            ],
            [
             1,
             "#f0f921"
            ]
           ],
           "sequentialminus": [
            [
             0,
             "#0d0887"
            ],
            [
             0.1111111111111111,
             "#46039f"
            ],
            [
             0.2222222222222222,
             "#7201a8"
            ],
            [
             0.3333333333333333,
             "#9c179e"
            ],
            [
             0.4444444444444444,
             "#bd3786"
            ],
            [
             0.5555555555555556,
             "#d8576b"
            ],
            [
             0.6666666666666666,
             "#ed7953"
            ],
            [
             0.7777777777777778,
             "#fb9f3a"
            ],
            [
             0.8888888888888888,
             "#fdca26"
            ],
            [
             1,
             "#f0f921"
            ]
           ]
          },
          "colorway": [
           "#636efa",
           "#EF553B",
           "#00cc96",
           "#ab63fa",
           "#FFA15A",
           "#19d3f3",
           "#FF6692",
           "#B6E880",
           "#FF97FF",
           "#FECB52"
          ],
          "font": {
           "color": "#2a3f5f"
          },
          "geo": {
           "bgcolor": "white",
           "lakecolor": "white",
           "landcolor": "#E5ECF6",
           "showlakes": true,
           "showland": true,
           "subunitcolor": "white"
          },
          "hoverlabel": {
           "align": "left"
          },
          "hovermode": "closest",
          "mapbox": {
           "style": "light"
          },
          "paper_bgcolor": "white",
          "plot_bgcolor": "#E5ECF6",
          "polar": {
           "angularaxis": {
            "gridcolor": "white",
            "linecolor": "white",
            "ticks": ""
           },
           "bgcolor": "#E5ECF6",
           "radialaxis": {
            "gridcolor": "white",
            "linecolor": "white",
            "ticks": ""
           }
          },
          "scene": {
           "xaxis": {
            "backgroundcolor": "#E5ECF6",
            "gridcolor": "white",
            "gridwidth": 2,
            "linecolor": "white",
            "showbackground": true,
            "ticks": "",
            "zerolinecolor": "white"
           },
           "yaxis": {
            "backgroundcolor": "#E5ECF6",
            "gridcolor": "white",
            "gridwidth": 2,
            "linecolor": "white",
            "showbackground": true,
            "ticks": "",
            "zerolinecolor": "white"
           },
           "zaxis": {
            "backgroundcolor": "#E5ECF6",
            "gridcolor": "white",
            "gridwidth": 2,
            "linecolor": "white",
            "showbackground": true,
            "ticks": "",
            "zerolinecolor": "white"
           }
          },
          "shapedefaults": {
           "line": {
            "color": "#2a3f5f"
           }
          },
          "ternary": {
           "aaxis": {
            "gridcolor": "white",
            "linecolor": "white",
            "ticks": ""
           },
           "baxis": {
            "gridcolor": "white",
            "linecolor": "white",
            "ticks": ""
           },
           "bgcolor": "#E5ECF6",
           "caxis": {
            "gridcolor": "white",
            "linecolor": "white",
            "ticks": ""
           }
          },
          "title": {
           "x": 0.05
          },
          "xaxis": {
           "automargin": true,
           "gridcolor": "white",
           "linecolor": "white",
           "ticks": "",
           "title": {
            "standoff": 15
           },
           "zerolinecolor": "white",
           "zerolinewidth": 2
          },
          "yaxis": {
           "automargin": true,
           "gridcolor": "white",
           "linecolor": "white",
           "ticks": "",
           "title": {
            "standoff": 15
           },
           "zerolinecolor": "white",
           "zerolinewidth": 2
          }
         }
        },
        "title": {
         "text": "Interaktive Spearman-ρ Karte: Import vs. Militär"
        }
       }
      }
     },
     "metadata": {},
     "output_type": "display_data"
    }
   ],
   "source": [
    "df_corr_import = create_world_map('results/import_correlations.csv', 'Import')"
   ]
  },
  {
   "cell_type": "markdown",
   "id": "293e9e3e",
   "metadata": {},
   "source": [
    "#### Auf der Weltkarte gibt es einige grau gefärbte Länder, dies sind Staaten für die keine Korrelation berechnet werden konnte. Man kann erkennen, dass es zwischen den Importdaten und den Militärausgaben vieler Länder eine hohe Korrelation gibt."
   ]
  },
  {
   "cell_type": "code",
   "execution_count": 45,
   "id": "d5f58d93",
   "metadata": {},
   "outputs": [
    {
     "name": "stdout",
     "output_type": "stream",
     "text": [
      "Nepal Signifikanz und Korrelation\n",
      "0.0\n",
      "0.992\n",
      "China Signifikanz und Korrelation\n",
      "0.0\n",
      "0.992\n",
      "Singapore Signifikanz und Korrelation\n",
      "0.0\n",
      "0.991\n"
     ]
    }
   ],
   "source": [
    "nepal = df_corr_import.loc[df_corr_import[\"Country Name\"] == \"Nepal\"]\n",
    "print(\"Nepal Signifikanz und Korrelation\")\n",
    "print(nepal['p-Spearman'].iloc[0])\n",
    "print(nepal['Spearman ρ'].iloc[0])\n",
    "\n",
    "china = df_corr_import.loc[df_corr_import[\"Country Name\"] == \"China\"]\n",
    "print(\"China Signifikanz und Korrelation\")\n",
    "print(china['p-Spearman'].iloc[0])\n",
    "print(china['Spearman ρ'].iloc[0])\n",
    "\n",
    "singapore = df_corr_import.loc[df_corr_import[\"Country Name\"] == \"Singapore\"]\n",
    "print(\"Singapore Signifikanz und Korrelation\")\n",
    "print(singapore['p-Spearman'].iloc[0])\n",
    "print(singapore['Spearman ρ'].iloc[0])"
   ]
  },
  {
   "cell_type": "markdown",
   "id": "8813dd7b",
   "metadata": {},
   "source": [
    "#### Für Nepal, China und Singapore z.B. gibt es eine sehr hohe Signifikanz. Diese Länder weisen eine nahezu perfekte positive Korrelation auf."
   ]
  },
  {
   "cell_type": "code",
   "execution_count": 46,
   "id": "793382a9",
   "metadata": {},
   "outputs": [
    {
     "name": "stdout",
     "output_type": "stream",
     "text": [
      "Zimbabwe Signifikanz und Korrelation\n",
      "0.988\n",
      "0.002\n",
      "Guyana Signifikanz und Korrelation\n",
      "0.539\n",
      "-0.117\n",
      "Lybien Signifikanz und Korrelation\n",
      "0.334\n",
      "0.268\n"
     ]
    }
   ],
   "source": [
    "zimbabwe = df_corr_import.loc[df_corr_import[\"Country Name\"] == \"Zimbabwe\"]\n",
    "print(\"Zimbabwe Signifikanz und Korrelation\")\n",
    "print(zimbabwe['p-Spearman'].iloc[0])\n",
    "print(zimbabwe['Spearman ρ'].iloc[0])\n",
    "\n",
    "guyana = df_corr_import.loc[df_corr_import[\"Country Name\"] == \"Guyana\"]\n",
    "print(\"Guyana Signifikanz und Korrelation\")\n",
    "print(guyana['p-Spearman'].iloc[0])\n",
    "print(guyana['Spearman ρ'].iloc[0])\n",
    "\n",
    "libya = df_corr_import.loc[df_corr_import[\"Country Name\"] == \"Libya\"]\n",
    "print(\"Lybien Signifikanz und Korrelation\")\n",
    "print(libya['p-Spearman'].iloc[0])\n",
    "print(libya['Spearman ρ'].iloc[0])"
   ]
  },
  {
   "cell_type": "markdown",
   "id": "fdfe8c30",
   "metadata": {},
   "source": [
    "#### Es gibt auch einige wenige Beispiele, wo dies nicht der Fall ist z.B. Zimbabwe hat kein bisschen Signifikanz und überhaupt keine Korrelation. Guyana weißt auch keine Signifikanz und hat eine leichte negative Korrelation. Auch für Lybien ist dies der Fall hier sind keine Signifikanz vorzuweisen und nur eine leichte Korrelation von 0.268."
   ]
  },
  {
   "cell_type": "code",
   "execution_count": 47,
   "id": "112dcca7",
   "metadata": {},
   "outputs": [
    {
     "name": "stdout",
     "output_type": "stream",
     "text": [
      "0.02718987341772152\n",
      "0.822632911392405\n"
     ]
    }
   ],
   "source": [
    "print(df_corr_import['p-Spearman'].mean())\n",
    "print(df_corr_import['Spearman ρ'].mean())"
   ]
  },
  {
   "cell_type": "markdown",
   "id": "f0c8ba04",
   "metadata": {},
   "source": [
    "#### Insgesamt kann man aber anhand der durchschnitlichen Signifikanz der Länder, die deutlich unter 5% ist, kann man sehen, dass die Hypothese \"H1: Korreliert das Militärbudget eines Landes mit den Importdaten des Landes?\" signifikant ist. Und durch die durchschnittliche Korrelation von fast 0.82 ein starker Zusammenhang zwischen dem Import und den Militärausgaben eines Landes festgestellt werden kann."
   ]
  },
  {
   "cell_type": "markdown",
   "id": "66383ef0",
   "metadata": {},
   "source": [
    "# Spearman R Korrelation Export-Militärausgaben\n",
    "#### H2: Korreliert das Militärbudget eines Landes mit den Exportdaten des Landes?"
   ]
  },
  {
   "cell_type": "code",
   "execution_count": 48,
   "id": "81341993",
   "metadata": {},
   "outputs": [],
   "source": [
    "df_export = pd.read_csv(\"data/exports.csv\", sep=',', skiprows=4)\n",
    "df_export = df_export.drop(columns=[\"Indicator Name\", \"Indicator Code\", \"2024\", \"Unnamed: 69\"])\n",
    "df_export = clean_df(df_export)"
   ]
  },
  {
   "cell_type": "code",
   "execution_count": 49,
   "id": "fe802e46",
   "metadata": {},
   "outputs": [],
   "source": [
    "df_military = pd.read_csv(\"data/military_expenditure.csv\", sep=',', skiprows=4)\n",
    "df_military = df_military.drop(columns=[\"Indicator Name\", \"Indicator Code\", \"2024\", \"Unnamed: 69\"])\n",
    "df_military = clean_df(df_military)"
   ]
  },
  {
   "cell_type": "code",
   "execution_count": 50,
   "id": "9aa50b5b",
   "metadata": {},
   "outputs": [],
   "source": [
    "df_export, df_military = filter_for_same_columns(df_export, df_military)"
   ]
  },
  {
   "cell_type": "code",
   "execution_count": 51,
   "id": "570e4faa",
   "metadata": {},
   "outputs": [
    {
     "name": "stdout",
     "output_type": "stream",
     "text": [
      "               Country Name  n Jahre  Spearman ρ  p-Spearman\n",
      "0                 Singapore       54       0.992       0.000\n",
      "1                     China       35       0.991       0.000\n",
      "2                 Australia       64       0.991       0.000\n",
      "3                Bangladesh       51       0.991       0.000\n",
      "4                    Mexico       64       0.991       0.000\n",
      "..                      ...      ...         ...         ...\n",
      "152                  Guyana       30      -0.160       0.398\n",
      "153             South Sudan        8      -0.262       0.531\n",
      "154                 Lao PDR       22      -0.412       0.057\n",
      "155  Bosnia and Herzegovina       22      -0.486       0.022\n",
      "156                 Eritrea       11      -0.755       0.007\n",
      "\n",
      "[157 rows x 4 columns]\n"
     ]
    }
   ],
   "source": [
    "df_country_corr = calc_spearman(df_export, df_military)\n",
    "print(df_country_corr)\n",
    "df_country_corr.to_csv(\"results/export_correlations.csv\", index=False)"
   ]
  },
  {
   "cell_type": "code",
   "execution_count": 52,
   "id": "9f75e781",
   "metadata": {},
   "outputs": [
    {
     "data": {
      "application/vnd.plotly.v1+json": {
       "config": {
        "plotlyServerURL": "https://plot.ly"
       },
       "data": [
        {
         "coloraxis": "coloraxis",
         "geo": "geo",
         "hovertemplate": "<b>%{hovertext}</b><br><br>iso_a3=%{location}<br>Spearman ρ=%{z}<extra></extra>",
         "hovertext": [
          "Singapore",
          "China",
          "Australia",
          "Bangladesh",
          "Mexico",
          "Luxembourg",
          "India",
          "Poland",
          "Morocco",
          "Pakistan",
          "Estonia",
          "Ecuador",
          "Colombia",
          "Israel",
          "Nepal",
          "Denmark",
          "Afghanistan",
          "Sri Lanka",
          "Mali",
          "Burkina Faso",
          "Greece",
          "France",
          "United Arab Emirates",
          "Austria",
          "Malaysia",
          "Qatar",
          "Norway",
          "New Zealand",
          "Brazil",
          "Malta",
          "Benin",
          "Canada",
          "Thailand",
          "Armenia",
          "Oman",
          "United States",
          "Netherlands",
          "Philippines",
          "Sweden",
          "Azerbaijan",
          "Portugal",
          "Tunisia",
          "Tanzania",
          "Finland",
          "Italy",
          "Gabon",
          "Bolivia",
          "Chile",
          "Moldova",
          "Belize",
          "United Kingdom",
          "Spain",
          "Japan",
          "Bahrain",
          "Lithuania",
          "Honduras",
          "Ireland",
          "Togo",
          "Mauritius",
          "Dominican Republic",
          "Botswana",
          "Peru",
          "Romania",
          "Germany",
          "Belarus",
          "Switzerland",
          "Cameroon",
          "Sudan",
          "Algeria",
          "Latvia",
          "Saudi Arabia",
          "Kenya",
          "Kyrgyz Republic",
          "Belgium",
          "Fiji",
          "Uruguay",
          "Albania",
          "Uganda",
          "Guinea",
          "Russian Federation",
          "Viet Nam",
          "Slovak Republic",
          "Jamaica",
          "Mozambique",
          "Paraguay",
          "Mongolia",
          "Somalia",
          "Cabo Verde",
          "Hungary",
          "Senegal",
          "Jordan",
          "Ukraine",
          "Czechia",
          "Madagascar",
          "Guatemala",
          "Iraq",
          "Kazakhstan",
          "Zambia",
          "Bulgaria",
          "Lebanon",
          "Niger",
          "Mauritania",
          "Cambodia",
          "Indonesia",
          "Slovenia",
          "Brunei Darussalam",
          "El Salvador",
          "Timor-Leste",
          "Ethiopia",
          "South Africa",
          "Namibia",
          "Angola",
          "Central African Republic",
          "Serbia",
          "Chad",
          "Burundi",
          "Lesotho",
          "Guinea-Bissau",
          "Sierra Leone",
          "Nicaragua",
          "Tajikistan",
          "Haiti",
          "Argentina",
          "Kuwait",
          "Georgia",
          "Ghana",
          "Rwanda",
          "Cyprus",
          "Syrian Arab Republic",
          "Montenegro",
          "Uzbekistan",
          "Seychelles",
          "Cuba",
          "Papua New Guinea",
          "North Macedonia",
          "Equatorial Guinea",
          "Panama",
          "Croatia",
          "Zimbabwe",
          "Libya",
          "Turkmenistan",
          "Guyana",
          "South Sudan",
          "Bosnia and Herzegovina",
          "Eritrea"
         ],
         "locations": [
          "SGP",
          "CHN",
          "AUS",
          "BGD",
          "MEX",
          "LUX",
          "IND",
          "POL",
          "MAR",
          "PAK",
          "EST",
          "ECU",
          "COL",
          "ISR",
          "NPL",
          "DNK",
          "AFG",
          "LKA",
          "MLI",
          "BFA",
          "GRC",
          "FRA",
          "ARE",
          "AUT",
          "MYS",
          "QAT",
          "NOR",
          "NZL",
          "BRA",
          "MLT",
          "BEN",
          "CAN",
          "THA",
          "ARM",
          "OMN",
          "USA",
          "NLD",
          "PHL",
          "SWE",
          "AZE",
          "PRT",
          "TUN",
          "TZA",
          "FIN",
          "ITA",
          "GAB",
          "BOL",
          "CHL",
          "MDA",
          "BLZ",
          "GBR",
          "ESP",
          "JPN",
          "BHR",
          "LTU",
          "HND",
          "IRL",
          "TGO",
          "MUS",
          "DOM",
          "BWA",
          "PER",
          "ROU",
          "DEU",
          "BLR",
          "CHE",
          "CMR",
          "SDN",
          "DZA",
          "LVA",
          "SAU",
          "KEN",
          "KGZ",
          "BEL",
          "FJI",
          "URY",
          "ALB",
          "UGA",
          "GIN",
          "RUS",
          "VNM",
          "SVK",
          "JAM",
          "MOZ",
          "PRY",
          "MNG",
          "SOM",
          "CPV",
          "HUN",
          "SEN",
          "JOR",
          "UKR",
          "CZE",
          "MDG",
          "GTM",
          "IRQ",
          "KAZ",
          "ZMB",
          "BGR",
          "LBN",
          "NER",
          "MRT",
          "KHM",
          "IDN",
          "SVN",
          "BRN",
          "SLV",
          "TLS",
          "ETH",
          "ZAF",
          "NAM",
          "AGO",
          "CAF",
          "SRB",
          "TCD",
          "BDI",
          "LSO",
          "GNB",
          "SLE",
          "NIC",
          "TJK",
          "HTI",
          "ARG",
          "KWT",
          "GEO",
          "GHA",
          "RWA",
          "CYP",
          "SYR",
          "MNE",
          "UZB",
          "SYC",
          "CUB",
          "PNG",
          "MKD",
          "GNQ",
          "PAN",
          "HRV",
          "ZWE",
          "LBY",
          "TKM",
          "GUY",
          "SSD",
          "BIH",
          "ERI"
         ],
         "name": "",
         "type": "choropleth",
         "z": {
          "bdata": "WDm0yHa+7z+DwMqhRbbvP4PAyqFFtu8/g8DKoUW27z+DwMqhRbbvP9nO91Pjpe8/2c73U+Ol7z+F61G4HoXvP7ByaJHtfO8/BoGVQ4ts7z8GgZVDi2zvPzEIrBxaZO8/XI/C9Shc7z+HFtnO91PvP7Kd76fGS+8/3SQGgZVD7z8IrBxaZDvvP4lBYOXQIu8/iUFg5dAi7z/fT42XbhLvPzVeukkMAu8/NV66SQwC7z81XrpJDALvP4ts5/up8e4/4XoUrkfh7j8MAiuHFtnuPwwCK4cW2e4/DAIrhxbZ7j8MAiuHFtnuPzm0yHa+n+4/ZDvfT42X7j9kO99PjZfuP2Q730+Nl+4/j8L1KFyP7j+6SQwCK4fuPzvfT42Xbu4/O99PjZdu7j9mZmZmZmbuP2ZmZmZmZu4/ke18PzVe7j+R7Xw/NV7uP5HtfD81Xu4/ke18PzVe7j+R7Xw/NV7uP7x0kxgEVu4/vHSTGARW7j/n+6nx0k3uP+f7qfHSTe4/PQrXo3A97j89CtejcD3uP5MYBFYOLe4/kxgEVg4t7j++nxov3STuP+kmMQisHO4/wcqhRbbz7T8X2c73U+PtP23n+6nx0u0/bef7qfHS7T+YbhKDwMrtP8UgsHJoke0/8KfGSzeJ7T8bL90kBoHtP8dLN4lBYO0/8tJNYhBY7T8dWmQ730/tP0jhehSuR+0/SOF6FK5H7T/0/dR46SbtP3WTGARWDu0/IbByaJHt7D8hsHJoke3sP3e+nxov3ew/+FPjpZvE7D8lBoGVQ4vsP1CNl24Sg+w/UI2XbhKD7D/8qfHSTWLsP6jGSzeJQew//tR46SYx7D8pXI/C9SjsP6rx0k1iEOw/AAAAAAAA7D+BlUOLbOfrPwIrhxbZzus/WDm0yHa+6z/ZzvdT46XrP9v5fmq8dOs/BoGVQ4ts6z/dJAaBlUPrPwisHFpkO+s/MzMzMzMz6z9eukkMAivrP7TIdr6fGus/CtejcD0K6z+LbOf7qfHqPwwCK4cW2eo/N4lBYOXQ6j+Nl24Sg8DqP5HtfD81Xuo/PzVeukkM6j8X2c73U+PpP23n+6nx0uk/RIts5/up6T+amZmZmZnpP/YoXI/C9eg/IbByaJHt6D+iRbbz/dToP83MzMzMzOg/zczMzMzM6D8nMQisHFroP1K4HoXrUeg/f2q8dJMY6D9aZDvfT43nP4lBYOXQIuc/tMh2vp8a5z83iUFg5dDmP2Q730+Nl+Y/5dAi2/l+5j/n+6nx0k3mP0SLbOf7qeU/bxKDwMqh5T/FILByaJHlP8/3U+Olm+Q/LbKd76fG4z8K16NwPQrjPzeJQWDl0OI/N4lBYOXQ4j8Sg8DKoUXiPxfZzvdT4+E/QmDl0CLb4T/0/dR46SbhPyUGgZVDi+A/AAAAAAAA4D+4HoXrUbjeP8l2vp8aL90/KVyPwvUo3D+oxks3iUHYPylcj8L1KLw/g8DKoUW2sz/8qfHSTWJwv+f7qfHSTcK/exSuR+F6xL/4U+Olm8TQv7TIdr6fGt+/KVyPwvUo6L8=",
          "dtype": "f8"
         }
        }
       ],
       "layout": {
        "coloraxis": {
         "colorbar": {
          "title": {
           "text": "Spearman ρ"
          }
         },
         "colorscale": [
          [
           0,
           "rgb(255,247,236)"
          ],
          [
           0.125,
           "rgb(254,232,200)"
          ],
          [
           0.25,
           "rgb(253,212,158)"
          ],
          [
           0.375,
           "rgb(253,187,132)"
          ],
          [
           0.5,
           "rgb(252,141,89)"
          ],
          [
           0.625,
           "rgb(239,101,72)"
          ],
          [
           0.75,
           "rgb(215,48,31)"
          ],
          [
           0.875,
           "rgb(179,0,0)"
          ],
          [
           1,
           "rgb(127,0,0)"
          ]
         ]
        },
        "geo": {
         "center": {},
         "domain": {
          "x": [
           0,
           1
          ],
          "y": [
           0,
           1
          ]
         },
         "fitbounds": "locations",
         "projection": {
          "type": "natural earth"
         },
         "showcoastlines": true,
         "showland": true
        },
        "legend": {
         "tracegroupgap": 0
        },
        "margin": {
         "b": 0,
         "l": 0,
         "r": 0,
         "t": 40
        },
        "template": {
         "data": {
          "bar": [
           {
            "error_x": {
             "color": "#2a3f5f"
            },
            "error_y": {
             "color": "#2a3f5f"
            },
            "marker": {
             "line": {
              "color": "#E5ECF6",
              "width": 0.5
             },
             "pattern": {
              "fillmode": "overlay",
              "size": 10,
              "solidity": 0.2
             }
            },
            "type": "bar"
           }
          ],
          "barpolar": [
           {
            "marker": {
             "line": {
              "color": "#E5ECF6",
              "width": 0.5
             },
             "pattern": {
              "fillmode": "overlay",
              "size": 10,
              "solidity": 0.2
             }
            },
            "type": "barpolar"
           }
          ],
          "carpet": [
           {
            "aaxis": {
             "endlinecolor": "#2a3f5f",
             "gridcolor": "white",
             "linecolor": "white",
             "minorgridcolor": "white",
             "startlinecolor": "#2a3f5f"
            },
            "baxis": {
             "endlinecolor": "#2a3f5f",
             "gridcolor": "white",
             "linecolor": "white",
             "minorgridcolor": "white",
             "startlinecolor": "#2a3f5f"
            },
            "type": "carpet"
           }
          ],
          "choropleth": [
           {
            "colorbar": {
             "outlinewidth": 0,
             "ticks": ""
            },
            "type": "choropleth"
           }
          ],
          "contour": [
           {
            "colorbar": {
             "outlinewidth": 0,
             "ticks": ""
            },
            "colorscale": [
             [
              0,
              "#0d0887"
             ],
             [
              0.1111111111111111,
              "#46039f"
             ],
             [
              0.2222222222222222,
              "#7201a8"
             ],
             [
              0.3333333333333333,
              "#9c179e"
             ],
             [
              0.4444444444444444,
              "#bd3786"
             ],
             [
              0.5555555555555556,
              "#d8576b"
             ],
             [
              0.6666666666666666,
              "#ed7953"
             ],
             [
              0.7777777777777778,
              "#fb9f3a"
             ],
             [
              0.8888888888888888,
              "#fdca26"
             ],
             [
              1,
              "#f0f921"
             ]
            ],
            "type": "contour"
           }
          ],
          "contourcarpet": [
           {
            "colorbar": {
             "outlinewidth": 0,
             "ticks": ""
            },
            "type": "contourcarpet"
           }
          ],
          "heatmap": [
           {
            "colorbar": {
             "outlinewidth": 0,
             "ticks": ""
            },
            "colorscale": [
             [
              0,
              "#0d0887"
             ],
             [
              0.1111111111111111,
              "#46039f"
             ],
             [
              0.2222222222222222,
              "#7201a8"
             ],
             [
              0.3333333333333333,
              "#9c179e"
             ],
             [
              0.4444444444444444,
              "#bd3786"
             ],
             [
              0.5555555555555556,
              "#d8576b"
             ],
             [
              0.6666666666666666,
              "#ed7953"
             ],
             [
              0.7777777777777778,
              "#fb9f3a"
             ],
             [
              0.8888888888888888,
              "#fdca26"
             ],
             [
              1,
              "#f0f921"
             ]
            ],
            "type": "heatmap"
           }
          ],
          "histogram": [
           {
            "marker": {
             "pattern": {
              "fillmode": "overlay",
              "size": 10,
              "solidity": 0.2
             }
            },
            "type": "histogram"
           }
          ],
          "histogram2d": [
           {
            "colorbar": {
             "outlinewidth": 0,
             "ticks": ""
            },
            "colorscale": [
             [
              0,
              "#0d0887"
             ],
             [
              0.1111111111111111,
              "#46039f"
             ],
             [
              0.2222222222222222,
              "#7201a8"
             ],
             [
              0.3333333333333333,
              "#9c179e"
             ],
             [
              0.4444444444444444,
              "#bd3786"
             ],
             [
              0.5555555555555556,
              "#d8576b"
             ],
             [
              0.6666666666666666,
              "#ed7953"
             ],
             [
              0.7777777777777778,
              "#fb9f3a"
             ],
             [
              0.8888888888888888,
              "#fdca26"
             ],
             [
              1,
              "#f0f921"
             ]
            ],
            "type": "histogram2d"
           }
          ],
          "histogram2dcontour": [
           {
            "colorbar": {
             "outlinewidth": 0,
             "ticks": ""
            },
            "colorscale": [
             [
              0,
              "#0d0887"
             ],
             [
              0.1111111111111111,
              "#46039f"
             ],
             [
              0.2222222222222222,
              "#7201a8"
             ],
             [
              0.3333333333333333,
              "#9c179e"
             ],
             [
              0.4444444444444444,
              "#bd3786"
             ],
             [
              0.5555555555555556,
              "#d8576b"
             ],
             [
              0.6666666666666666,
              "#ed7953"
             ],
             [
              0.7777777777777778,
              "#fb9f3a"
             ],
             [
              0.8888888888888888,
              "#fdca26"
             ],
             [
              1,
              "#f0f921"
             ]
            ],
            "type": "histogram2dcontour"
           }
          ],
          "mesh3d": [
           {
            "colorbar": {
             "outlinewidth": 0,
             "ticks": ""
            },
            "type": "mesh3d"
           }
          ],
          "parcoords": [
           {
            "line": {
             "colorbar": {
              "outlinewidth": 0,
              "ticks": ""
             }
            },
            "type": "parcoords"
           }
          ],
          "pie": [
           {
            "automargin": true,
            "type": "pie"
           }
          ],
          "scatter": [
           {
            "fillpattern": {
             "fillmode": "overlay",
             "size": 10,
             "solidity": 0.2
            },
            "type": "scatter"
           }
          ],
          "scatter3d": [
           {
            "line": {
             "colorbar": {
              "outlinewidth": 0,
              "ticks": ""
             }
            },
            "marker": {
             "colorbar": {
              "outlinewidth": 0,
              "ticks": ""
             }
            },
            "type": "scatter3d"
           }
          ],
          "scattercarpet": [
           {
            "marker": {
             "colorbar": {
              "outlinewidth": 0,
              "ticks": ""
             }
            },
            "type": "scattercarpet"
           }
          ],
          "scattergeo": [
           {
            "marker": {
             "colorbar": {
              "outlinewidth": 0,
              "ticks": ""
             }
            },
            "type": "scattergeo"
           }
          ],
          "scattergl": [
           {
            "marker": {
             "colorbar": {
              "outlinewidth": 0,
              "ticks": ""
             }
            },
            "type": "scattergl"
           }
          ],
          "scattermap": [
           {
            "marker": {
             "colorbar": {
              "outlinewidth": 0,
              "ticks": ""
             }
            },
            "type": "scattermap"
           }
          ],
          "scattermapbox": [
           {
            "marker": {
             "colorbar": {
              "outlinewidth": 0,
              "ticks": ""
             }
            },
            "type": "scattermapbox"
           }
          ],
          "scatterpolar": [
           {
            "marker": {
             "colorbar": {
              "outlinewidth": 0,
              "ticks": ""
             }
            },
            "type": "scatterpolar"
           }
          ],
          "scatterpolargl": [
           {
            "marker": {
             "colorbar": {
              "outlinewidth": 0,
              "ticks": ""
             }
            },
            "type": "scatterpolargl"
           }
          ],
          "scatterternary": [
           {
            "marker": {
             "colorbar": {
              "outlinewidth": 0,
              "ticks": ""
             }
            },
            "type": "scatterternary"
           }
          ],
          "surface": [
           {
            "colorbar": {
             "outlinewidth": 0,
             "ticks": ""
            },
            "colorscale": [
             [
              0,
              "#0d0887"
             ],
             [
              0.1111111111111111,
              "#46039f"
             ],
             [
              0.2222222222222222,
              "#7201a8"
             ],
             [
              0.3333333333333333,
              "#9c179e"
             ],
             [
              0.4444444444444444,
              "#bd3786"
             ],
             [
              0.5555555555555556,
              "#d8576b"
             ],
             [
              0.6666666666666666,
              "#ed7953"
             ],
             [
              0.7777777777777778,
              "#fb9f3a"
             ],
             [
              0.8888888888888888,
              "#fdca26"
             ],
             [
              1,
              "#f0f921"
             ]
            ],
            "type": "surface"
           }
          ],
          "table": [
           {
            "cells": {
             "fill": {
              "color": "#EBF0F8"
             },
             "line": {
              "color": "white"
             }
            },
            "header": {
             "fill": {
              "color": "#C8D4E3"
             },
             "line": {
              "color": "white"
             }
            },
            "type": "table"
           }
          ]
         },
         "layout": {
          "annotationdefaults": {
           "arrowcolor": "#2a3f5f",
           "arrowhead": 0,
           "arrowwidth": 1
          },
          "autotypenumbers": "strict",
          "coloraxis": {
           "colorbar": {
            "outlinewidth": 0,
            "ticks": ""
           }
          },
          "colorscale": {
           "diverging": [
            [
             0,
             "#8e0152"
            ],
            [
             0.1,
             "#c51b7d"
            ],
            [
             0.2,
             "#de77ae"
            ],
            [
             0.3,
             "#f1b6da"
            ],
            [
             0.4,
             "#fde0ef"
            ],
            [
             0.5,
             "#f7f7f7"
            ],
            [
             0.6,
             "#e6f5d0"
            ],
            [
             0.7,
             "#b8e186"
            ],
            [
             0.8,
             "#7fbc41"
            ],
            [
             0.9,
             "#4d9221"
            ],
            [
             1,
             "#276419"
            ]
           ],
           "sequential": [
            [
             0,
             "#0d0887"
            ],
            [
             0.1111111111111111,
             "#46039f"
            ],
            [
             0.2222222222222222,
             "#7201a8"
            ],
            [
             0.3333333333333333,
             "#9c179e"
            ],
            [
             0.4444444444444444,
             "#bd3786"
            ],
            [
             0.5555555555555556,
             "#d8576b"
            ],
            [
             0.6666666666666666,
             "#ed7953"
            ],
            [
             0.7777777777777778,
             "#fb9f3a"
            ],
            [
             0.8888888888888888,
             "#fdca26"
            ],
            [
             1,
             "#f0f921"
            ]
           ],
           "sequentialminus": [
            [
             0,
             "#0d0887"
            ],
            [
             0.1111111111111111,
             "#46039f"
            ],
            [
             0.2222222222222222,
             "#7201a8"
            ],
            [
             0.3333333333333333,
             "#9c179e"
            ],
            [
             0.4444444444444444,
             "#bd3786"
            ],
            [
             0.5555555555555556,
             "#d8576b"
            ],
            [
             0.6666666666666666,
             "#ed7953"
            ],
            [
             0.7777777777777778,
             "#fb9f3a"
            ],
            [
             0.8888888888888888,
             "#fdca26"
            ],
            [
             1,
             "#f0f921"
            ]
           ]
          },
          "colorway": [
           "#636efa",
           "#EF553B",
           "#00cc96",
           "#ab63fa",
           "#FFA15A",
           "#19d3f3",
           "#FF6692",
           "#B6E880",
           "#FF97FF",
           "#FECB52"
          ],
          "font": {
           "color": "#2a3f5f"
          },
          "geo": {
           "bgcolor": "white",
           "lakecolor": "white",
           "landcolor": "#E5ECF6",
           "showlakes": true,
           "showland": true,
           "subunitcolor": "white"
          },
          "hoverlabel": {
           "align": "left"
          },
          "hovermode": "closest",
          "mapbox": {
           "style": "light"
          },
          "paper_bgcolor": "white",
          "plot_bgcolor": "#E5ECF6",
          "polar": {
           "angularaxis": {
            "gridcolor": "white",
            "linecolor": "white",
            "ticks": ""
           },
           "bgcolor": "#E5ECF6",
           "radialaxis": {
            "gridcolor": "white",
            "linecolor": "white",
            "ticks": ""
           }
          },
          "scene": {
           "xaxis": {
            "backgroundcolor": "#E5ECF6",
            "gridcolor": "white",
            "gridwidth": 2,
            "linecolor": "white",
            "showbackground": true,
            "ticks": "",
            "zerolinecolor": "white"
           },
           "yaxis": {
            "backgroundcolor": "#E5ECF6",
            "gridcolor": "white",
            "gridwidth": 2,
            "linecolor": "white",
            "showbackground": true,
            "ticks": "",
            "zerolinecolor": "white"
           },
           "zaxis": {
            "backgroundcolor": "#E5ECF6",
            "gridcolor": "white",
            "gridwidth": 2,
            "linecolor": "white",
            "showbackground": true,
            "ticks": "",
            "zerolinecolor": "white"
           }
          },
          "shapedefaults": {
           "line": {
            "color": "#2a3f5f"
           }
          },
          "ternary": {
           "aaxis": {
            "gridcolor": "white",
            "linecolor": "white",
            "ticks": ""
           },
           "baxis": {
            "gridcolor": "white",
            "linecolor": "white",
            "ticks": ""
           },
           "bgcolor": "#E5ECF6",
           "caxis": {
            "gridcolor": "white",
            "linecolor": "white",
            "ticks": ""
           }
          },
          "title": {
           "x": 0.05
          },
          "xaxis": {
           "automargin": true,
           "gridcolor": "white",
           "linecolor": "white",
           "ticks": "",
           "title": {
            "standoff": 15
           },
           "zerolinecolor": "white",
           "zerolinewidth": 2
          },
          "yaxis": {
           "automargin": true,
           "gridcolor": "white",
           "linecolor": "white",
           "ticks": "",
           "title": {
            "standoff": 15
           },
           "zerolinecolor": "white",
           "zerolinewidth": 2
          }
         }
        },
        "title": {
         "text": "Interaktive Spearman-ρ Karte: Export vs. Militär"
        }
       }
      }
     },
     "metadata": {},
     "output_type": "display_data"
    }
   ],
   "source": [
    "df_corr_export = create_world_map('results/export_correlations.csv', 'Export')"
   ]
  },
  {
   "cell_type": "markdown",
   "id": "880b6188",
   "metadata": {},
   "source": [
    "#### Auf der Weltkarte gibt es einige grau gefärbte Länder, dies sind Staaten für die keine Korrelation berechnet werden konnte. Man kann erkennen, dass es zwischen dem Export und den Militärausgaben vieler Länder eine hohe Korrelation gibt."
   ]
  },
  {
   "cell_type": "code",
   "execution_count": 53,
   "id": "fa1cd2ae",
   "metadata": {},
   "outputs": [
    {
     "name": "stdout",
     "output_type": "stream",
     "text": [
      "Australien Signifikanz und Korrelation\n",
      "0.0\n",
      "0.991\n",
      "Mexiko Signifikanz und Korrelation\n",
      "0.0\n",
      "0.991\n",
      "Polen Signifikanz und Korrelation\n",
      "0.0\n",
      "0.985\n"
     ]
    }
   ],
   "source": [
    "australia = df_corr_export.loc[df_corr_export[\"Country Name\"] == \"Australia\"]\n",
    "print(\"Australien Signifikanz und Korrelation\")\n",
    "print(australia['p-Spearman'].iloc[0])\n",
    "print(australia['Spearman ρ'].iloc[0])\n",
    "\n",
    "mexico = df_corr_export.loc[df_corr_export[\"Country Name\"] == \"Mexico\"]\n",
    "print(\"Mexiko Signifikanz und Korrelation\")\n",
    "print(mexico['p-Spearman'].iloc[0])\n",
    "print(mexico['Spearman ρ'].iloc[0])\n",
    "\n",
    "poland = df_corr_export.loc[df_corr_export[\"Country Name\"] == \"Poland\"]\n",
    "print(\"Polen Signifikanz und Korrelation\")\n",
    "print(poland['p-Spearman'].iloc[0])\n",
    "print(poland['Spearman ρ'].iloc[0])"
   ]
  },
  {
   "cell_type": "markdown",
   "id": "7aea0c9c",
   "metadata": {},
   "source": [
    "#### Besonders hohe Korrelation haben hier z.B. Australien, Mexiko und Polen mit Werten um die 0.99. Zudem weißen sie eine hohe Signifikanz auf."
   ]
  },
  {
   "cell_type": "code",
   "execution_count": 54,
   "id": "d65ac4c1",
   "metadata": {},
   "outputs": [
    {
     "name": "stdout",
     "output_type": "stream",
     "text": [
      "Kroatien Signifikanz und Korrelation\n",
      "0.571\n",
      "0.11\n",
      "Turkmenistan Signifikanz und Korrelation\n",
      "0.787\n",
      "-0.143\n",
      "Süd Sudan Signifikanz und Korrelation\n",
      "0.531\n",
      "-0.262\n"
     ]
    }
   ],
   "source": [
    "croatia = df_corr_export.loc[df_corr_export[\"Country Name\"] == \"Croatia\"]\n",
    "print(\"Kroatien Signifikanz und Korrelation\")\n",
    "print(croatia['p-Spearman'].iloc[0])\n",
    "print(croatia['Spearman ρ'].iloc[0])\n",
    "\n",
    "turkmenistan = df_corr_export.loc[df_corr_export[\"Country Name\"] == \"Turkmenistan\"]\n",
    "print(\"Turkmenistan Signifikanz und Korrelation\")\n",
    "print(turkmenistan['p-Spearman'].iloc[0])\n",
    "print(turkmenistan['Spearman ρ'].iloc[0])\n",
    "\n",
    "southsudan = df_corr_export.loc[df_corr_export[\"Country Name\"] == \"South Sudan\"]\n",
    "print(\"Süd Sudan Signifikanz und Korrelation\")\n",
    "print(southsudan['p-Spearman'].iloc[0])\n",
    "print(southsudan['Spearman ρ'].iloc[0])"
   ]
  },
  {
   "cell_type": "markdown",
   "id": "3f7ab299",
   "metadata": {},
   "source": [
    "#### Es gibt aber auch ein paar Ausnahmen z.B. Kroatien weißt keine Signifikanz auf und hat auch nur eine nicht nennenswerte Korrelation von 0.11. Genauso Turkmenistan mit einer negativen Korrelation von -0.143. Ebenso gibt es beim Süd Sudan keine Signifikanz."
   ]
  },
  {
   "cell_type": "code",
   "execution_count": 55,
   "id": "4f1837a4",
   "metadata": {},
   "outputs": [
    {
     "name": "stdout",
     "output_type": "stream",
     "text": [
      "0.02942675159235669\n",
      "0.7925668789808916\n"
     ]
    }
   ],
   "source": [
    "print(df_corr_export['p-Spearman'].mean())\n",
    "print(df_corr_export['Spearman ρ'].mean())"
   ]
  },
  {
   "cell_type": "markdown",
   "id": "37ab40e7",
   "metadata": {},
   "source": [
    "#### An der durchschnitlichen Signifikanz der Länder, die deutlich unter 5% ist, kann aber man sehen, dass die Hypothese \"H2: Korreliert das Militärbudget eines Landes mit den Exportdaten des Landes?\" in den meisten Fällen signifikant ist. Und durch die durchschnittliche Korrelation von fast 0.8 ein starker Zusammenhang zwischen dem Export und dem Militär eines Landes festgestellt werden kann."
   ]
  },
  {
   "cell_type": "markdown",
   "id": "a6c4c28b",
   "metadata": {},
   "source": [
    "# Spearman R Korrelation BIP - Militärausgaben\n",
    "#### In diesem Schritt möchten wir prüfen, ob es einen Zusammenhang zwischen dem BIP eines Landes und seinen Militärausgaben gibt. H3: Korreliert das Militärbudget eines Landes mit dem Bruttoinlandsprodukt des Landes?"
   ]
  },
  {
   "cell_type": "code",
   "execution_count": 56,
   "id": "f876034a",
   "metadata": {},
   "outputs": [],
   "source": [
    "df_military = pd.read_csv(\"data/military_expenditure.csv\", sep=',', skiprows=4)\n",
    "df_military = df_military.drop(columns=[\"Indicator Name\", \"Indicator Code\", \"2024\", \"Unnamed: 69\"])\n",
    "df_military = clean_df(df_military)"
   ]
  },
  {
   "cell_type": "code",
   "execution_count": 57,
   "id": "b6741e9d",
   "metadata": {},
   "outputs": [],
   "source": [
    "df_gdp = pd.read_csv(\"data/gdp.csv\", sep=',', skiprows=4)\n",
    "df_gdp = df_gdp.drop(columns=[\"Indicator Name\", \"Indicator Code\", \"2024\", \"Unnamed: 69\"])\n",
    "df_gdp = clean_df(df_gdp)"
   ]
  },
  {
   "cell_type": "markdown",
   "id": "de3e187f",
   "metadata": {},
   "source": [
    "#### Wir nehmen wieder Länder raus die nur in einem Datensatz vorkommen."
   ]
  },
  {
   "cell_type": "code",
   "execution_count": 58,
   "id": "2db6c4dd",
   "metadata": {},
   "outputs": [],
   "source": [
    "df_gdp, df_military = filter_for_same_columns(df_gdp, df_military)\n"
   ]
  },
  {
   "cell_type": "markdown",
   "id": "3a3d1d91",
   "metadata": {},
   "source": [
    "#### Jetzt berechnen wir die Korrelation zwsichen dem BIP und den Militörausgaben der einzelnen Länder"
   ]
  },
  {
   "cell_type": "code",
   "execution_count": 59,
   "id": "86535811",
   "metadata": {},
   "outputs": [
    {
     "name": "stdout",
     "output_type": "stream",
     "text": [
      "               Country Name  n Jahre  Spearman ρ  p-Spearman\n",
      "0                Uzbekistan       10       1.000       0.000\n",
      "1               Korea, Rep.       64       0.997       0.000\n",
      "2                   Estonia       31       0.996       0.000\n",
      "3                     India       64       0.995       0.000\n",
      "4                     China       35       0.995       0.000\n",
      "..                      ...      ...         ...         ...\n",
      "160                 Croatia       32       0.339       0.057\n",
      "161            Turkmenistan        6       0.143       0.787\n",
      "162             South Sudan        8      -0.167       0.693\n",
      "163  Bosnia and Herzegovina       22      -0.203       0.366\n",
      "164                 Lao PDR       22      -0.309       0.162\n",
      "\n",
      "[165 rows x 4 columns]\n"
     ]
    }
   ],
   "source": [
    "df_country_corr = calc_spearman(df_gdp, df_military)\n",
    "print(df_country_corr)\n",
    "df_country_corr.to_csv(\"results/gdp_correlations.csv\", index=False)"
   ]
  },
  {
   "cell_type": "markdown",
   "id": "993f0642",
   "metadata": {},
   "source": [
    "#### Jetzt erstellen wir wieder eine interaktive Weltkarte, zur Veranschaulichung des Zusammenhangs von BIP und Militärausgaben"
   ]
  },
  {
   "cell_type": "code",
   "execution_count": 60,
   "id": "c126eb16",
   "metadata": {},
   "outputs": [
    {
     "data": {
      "application/vnd.plotly.v1+json": {
       "config": {
        "plotlyServerURL": "https://plot.ly"
       },
       "data": [
        {
         "coloraxis": "coloraxis",
         "geo": "geo",
         "hovertemplate": "<b>%{hovertext}</b><br><br>iso_a3=%{location}<br>Spearman ρ=%{z}<extra></extra>",
         "hovertext": [
          "Uzbekistan",
          "Estonia",
          "India",
          "China",
          "Singapore",
          "Nepal",
          "Mexico",
          "Denmark",
          "Brazil",
          "Australia",
          "Poland",
          "Spain",
          "Luxembourg",
          "Bangladesh",
          "Austria",
          "Morocco",
          "Pakistan",
          "Israel",
          "Philippines",
          "Greece",
          "France",
          "Colombia",
          "Portugal",
          "Italy",
          "Togo",
          "Ecuador",
          "Netherlands",
          "Norway",
          "Kyrgyz Republic",
          "Mali",
          "New Zealand",
          "Finland",
          "Azerbaijan",
          "Belize",
          "Bahrain",
          "Cameroon",
          "Japan",
          "Burkina Faso",
          "Thailand",
          "Armenia",
          "United Kingdom",
          "United States",
          "Niger",
          "Sri Lanka",
          "United Arab Emirates",
          "Mauritius",
          "Germany",
          "Eswatini",
          "Sweden",
          "Botswana",
          "Benin",
          "Ireland",
          "Bolivia",
          "Fiji",
          "Lithuania",
          "Switzerland",
          "Malta",
          "Canada",
          "Tunisia",
          "Malaysia",
          "Chile",
          "Jordan",
          "Honduras",
          "Oman",
          "Viet Nam",
          "Gabon",
          "Saudi Arabia",
          "Lesotho",
          "Latvia",
          "Algeria",
          "Belarus",
          "Belgium",
          "Iraq",
          "Moldova",
          "Trinidad and Tobago",
          "Dominican Republic",
          "Uruguay",
          "Peru",
          "Sudan",
          "Russian Federation",
          "Jamaica",
          "Kenya",
          "Senegal",
          "Czechia",
          "Tajikistan",
          "Albania",
          "Slovak Republic",
          "Central African Republic",
          "Madagascar",
          "Libya",
          "Mongolia",
          "Hungary",
          "Romania",
          "Ukraine",
          "Cabo Verde",
          "Uganda",
          "Zambia",
          "Slovenia",
          "Guatemala",
          "Serbia",
          "Paraguay",
          "Haiti",
          "Kazakhstan",
          "Sierra Leone",
          "El Salvador",
          "Mozambique",
          "Myanmar",
          "Cambodia",
          "Tanzania",
          "Bulgaria",
          "Lebanon",
          "Indonesia",
          "Namibia",
          "Brunei Darussalam",
          "Burundi",
          "Rwanda",
          "Papua New Guinea",
          "Ethiopia",
          "South Africa",
          "Mauritania",
          "Guyana",
          "Argentina",
          "Timor-Leste",
          "Chad",
          "Somalia",
          "Montenegro",
          "Angola",
          "Malawi",
          "Kuwait",
          "Nicaragua",
          "Guinea-Bissau",
          "Guinea",
          "Ghana",
          "Equatorial Guinea",
          "Syrian Arab Republic",
          "Zimbabwe",
          "Georgia",
          "Eritrea",
          "Cyprus",
          "Nigeria",
          "Cuba",
          "Seychelles",
          "Qatar",
          "Panama",
          "North Macedonia",
          "Djibouti",
          "Afghanistan",
          "Liberia",
          "Croatia",
          "Turkmenistan",
          "South Sudan",
          "Bosnia and Herzegovina"
         ],
         "locations": [
          "UZB",
          "EST",
          "IND",
          "CHN",
          "SGP",
          "NPL",
          "MEX",
          "DNK",
          "BRA",
          "AUS",
          "POL",
          "ESP",
          "LUX",
          "BGD",
          "AUT",
          "MAR",
          "PAK",
          "ISR",
          "PHL",
          "GRC",
          "FRA",
          "COL",
          "PRT",
          "ITA",
          "TGO",
          "ECU",
          "NLD",
          "NOR",
          "KGZ",
          "MLI",
          "NZL",
          "FIN",
          "AZE",
          "BLZ",
          "BHR",
          "CMR",
          "JPN",
          "BFA",
          "THA",
          "ARM",
          "GBR",
          "USA",
          "NER",
          "LKA",
          "ARE",
          "MUS",
          "DEU",
          "SWZ",
          "SWE",
          "BWA",
          "BEN",
          "IRL",
          "BOL",
          "FJI",
          "LTU",
          "CHE",
          "MLT",
          "CAN",
          "TUN",
          "MYS",
          "CHL",
          "JOR",
          "HND",
          "OMN",
          "VNM",
          "GAB",
          "SAU",
          "LSO",
          "LVA",
          "DZA",
          "BLR",
          "BEL",
          "IRQ",
          "MDA",
          "TTO",
          "DOM",
          "URY",
          "PER",
          "SDN",
          "RUS",
          "JAM",
          "KEN",
          "SEN",
          "CZE",
          "TJK",
          "ALB",
          "SVK",
          "CAF",
          "MDG",
          "LBY",
          "MNG",
          "HUN",
          "ROU",
          "UKR",
          "CPV",
          "UGA",
          "ZMB",
          "SVN",
          "GTM",
          "SRB",
          "PRY",
          "HTI",
          "KAZ",
          "SLE",
          "SLV",
          "MOZ",
          "MMR",
          "KHM",
          "TZA",
          "BGR",
          "LBN",
          "IDN",
          "NAM",
          "BRN",
          "BDI",
          "RWA",
          "PNG",
          "ETH",
          "ZAF",
          "MRT",
          "GUY",
          "ARG",
          "TLS",
          "TCD",
          "SOM",
          "MNE",
          "AGO",
          "MWI",
          "KWT",
          "NIC",
          "GNB",
          "GIN",
          "GHA",
          "GNQ",
          "SYR",
          "ZWE",
          "GEO",
          "ERI",
          "CYP",
          "NGA",
          "CUB",
          "SYC",
          "QAT",
          "PAN",
          "MKD",
          "DJI",
          "AFG",
          "LBR",
          "HRV",
          "TKM",
          "SSD",
          "BIH"
         ],
         "name": "",
         "type": "choropleth",
         "z": {
          "bdata": "AAAAAAAA8D+sHFpkO9/vP9ejcD0K1+8/16NwPQrX7z/Xo3A9CtfvPwIrhxbZzu8/LbKd76fG7z9YObTIdr7vP4PAyqFFtu8/g8DKoUW27z+DwMqhRbbvP65H4XoUru8/rkfhehSu7z+uR+F6FK7vP65H4XoUru8/2c73U+Ol7z/ZzvdT46XvP9nO91Pjpe8/BFYOLbKd7z8EVg4tsp3vPwRWDi2yne8/L90kBoGV7z8v3SQGgZXvP1pkO99Pje8/hetRuB6F7z+F61G4HoXvP7ByaJHtfO8/sHJoke187z/b+X5qvHTvP9v5fmq8dO8/BoGVQ4ts7z8xCKwcWmTvP1yPwvUoXO8/XI/C9Shc7z+yne+nxkvvP7Kd76fGS+8/3SQGgZVD7z8IrBxaZDvvPzMzMzMzM+8/MzMzMzMz7z8zMzMzMzPvP4lBYOXQIu8/iUFg5dAi7z+0yHa+nxrvP99PjZduEu8/NV66SQwC7z9g5dAi2/nuP7bz/dR46e4/tvP91Hjp7j+28/3UeOnuP+F6FK5H4e4/DAIrhxbZ7j83iUFg5dDuPzeJQWDl0O4/YhBYObTI7j+Nl24Sg8DuP42XbhKDwO4/jZduEoPA7j+4HoXrUbjuP7gehetRuO4/uB6F61G47j+4HoXrUbjuP+Olm8QgsO4/ObTIdr6f7j+PwvUoXI/uP7pJDAIrh+4/5dAi2/l+7j8QWDm0yHbuPxBYObTIdu4/vHSTGARW7j+8dJMYBFbuPz0K16NwPe4/PQrXo3A97j9oke18PzXuP2iR7Xw/Ne4/vp8aL90k7j9qvHSTGATuP5ZDi2zn++0/F9nO91Pj7T9CYOXQItvtP8P1KFyPwu0/GQRWDi2y7T9Ei2zn+6ntP/Cnxks3ie0/Gy/dJAaB7T/y0k1iEFjtP57vp8ZLN+0/H4XrUbge7T9KDAIrhxbtP8uhRbbz/ew/y6FFtvP97D93vp8aL93sP6JFtvP91Ow/+FPjpZvE7D8j2/l+arzsP8/3U+Olm+w/JQaBlUOL7D97FK5H4XrsP/yp8dJNYuw/JzEIrBxa7D8AAAAAAADsPyuHFtnO9+s/rBxaZDvf6z+sHFpkO9/rP65H4XoUrus/L90kBoGV6z+F61G4HoXrP7ByaJHtfOs/sHJoke186z8GgZVDi2zrPzEIrBxaZOs/CKwcWmQ76z8IrBxaZDvrP7bz/dR46eo/uB6F61G46j9mZmZmZmbqPz0K16NwPeo/GQRWDi2y6T9Ei2zn+6npP0oMAiuHFuk/TmIQWDm06D9QjZduEoPoP9Ei2/l+aug/qMZLN4lB6D/VeOkmMQjoP9V46SYxCOg/AiuHFtnO5z8EVg4tsp3nP2Dl0CLb+eY/ObTIdr6f5j+PwvUoXI/mP2ZmZmZmZuY/6SYxCKwc5j/ufD81XrrlP8UgsHJokeU/9P3UeOkm5T/4U+Olm8TkP6RwPQrXo+Q//tR46SYx5D9YObTIdr7jPxKDwMqhReI/lkOLbOf74T9OYhBYObTgP9v5fmq8dNs/2/l+arx02z/8qfHSTWLYP2q8dJMYBNY/wcqhRbbz1T8ZBFYOLbLVP+f7qfHSTcI/x0s3iUFgxb+WQ4ts5/vJvw==",
          "dtype": "f8"
         }
        }
       ],
       "layout": {
        "coloraxis": {
         "colorbar": {
          "title": {
           "text": "Spearman ρ"
          }
         },
         "colorscale": [
          [
           0,
           "rgb(255,247,236)"
          ],
          [
           0.125,
           "rgb(254,232,200)"
          ],
          [
           0.25,
           "rgb(253,212,158)"
          ],
          [
           0.375,
           "rgb(253,187,132)"
          ],
          [
           0.5,
           "rgb(252,141,89)"
          ],
          [
           0.625,
           "rgb(239,101,72)"
          ],
          [
           0.75,
           "rgb(215,48,31)"
          ],
          [
           0.875,
           "rgb(179,0,0)"
          ],
          [
           1,
           "rgb(127,0,0)"
          ]
         ]
        },
        "geo": {
         "center": {},
         "domain": {
          "x": [
           0,
           1
          ],
          "y": [
           0,
           1
          ]
         },
         "fitbounds": "locations",
         "projection": {
          "type": "natural earth"
         },
         "showcoastlines": true,
         "showland": true
        },
        "legend": {
         "tracegroupgap": 0
        },
        "margin": {
         "b": 0,
         "l": 0,
         "r": 0,
         "t": 40
        },
        "template": {
         "data": {
          "bar": [
           {
            "error_x": {
             "color": "#2a3f5f"
            },
            "error_y": {
             "color": "#2a3f5f"
            },
            "marker": {
             "line": {
              "color": "#E5ECF6",
              "width": 0.5
             },
             "pattern": {
              "fillmode": "overlay",
              "size": 10,
              "solidity": 0.2
             }
            },
            "type": "bar"
           }
          ],
          "barpolar": [
           {
            "marker": {
             "line": {
              "color": "#E5ECF6",
              "width": 0.5
             },
             "pattern": {
              "fillmode": "overlay",
              "size": 10,
              "solidity": 0.2
             }
            },
            "type": "barpolar"
           }
          ],
          "carpet": [
           {
            "aaxis": {
             "endlinecolor": "#2a3f5f",
             "gridcolor": "white",
             "linecolor": "white",
             "minorgridcolor": "white",
             "startlinecolor": "#2a3f5f"
            },
            "baxis": {
             "endlinecolor": "#2a3f5f",
             "gridcolor": "white",
             "linecolor": "white",
             "minorgridcolor": "white",
             "startlinecolor": "#2a3f5f"
            },
            "type": "carpet"
           }
          ],
          "choropleth": [
           {
            "colorbar": {
             "outlinewidth": 0,
             "ticks": ""
            },
            "type": "choropleth"
           }
          ],
          "contour": [
           {
            "colorbar": {
             "outlinewidth": 0,
             "ticks": ""
            },
            "colorscale": [
             [
              0,
              "#0d0887"
             ],
             [
              0.1111111111111111,
              "#46039f"
             ],
             [
              0.2222222222222222,
              "#7201a8"
             ],
             [
              0.3333333333333333,
              "#9c179e"
             ],
             [
              0.4444444444444444,
              "#bd3786"
             ],
             [
              0.5555555555555556,
              "#d8576b"
             ],
             [
              0.6666666666666666,
              "#ed7953"
             ],
             [
              0.7777777777777778,
              "#fb9f3a"
             ],
             [
              0.8888888888888888,
              "#fdca26"
             ],
             [
              1,
              "#f0f921"
             ]
            ],
            "type": "contour"
           }
          ],
          "contourcarpet": [
           {
            "colorbar": {
             "outlinewidth": 0,
             "ticks": ""
            },
            "type": "contourcarpet"
           }
          ],
          "heatmap": [
           {
            "colorbar": {
             "outlinewidth": 0,
             "ticks": ""
            },
            "colorscale": [
             [
              0,
              "#0d0887"
             ],
             [
              0.1111111111111111,
              "#46039f"
             ],
             [
              0.2222222222222222,
              "#7201a8"
             ],
             [
              0.3333333333333333,
              "#9c179e"
             ],
             [
              0.4444444444444444,
              "#bd3786"
             ],
             [
              0.5555555555555556,
              "#d8576b"
             ],
             [
              0.6666666666666666,
              "#ed7953"
             ],
             [
              0.7777777777777778,
              "#fb9f3a"
             ],
             [
              0.8888888888888888,
              "#fdca26"
             ],
             [
              1,
              "#f0f921"
             ]
            ],
            "type": "heatmap"
           }
          ],
          "histogram": [
           {
            "marker": {
             "pattern": {
              "fillmode": "overlay",
              "size": 10,
              "solidity": 0.2
             }
            },
            "type": "histogram"
           }
          ],
          "histogram2d": [
           {
            "colorbar": {
             "outlinewidth": 0,
             "ticks": ""
            },
            "colorscale": [
             [
              0,
              "#0d0887"
             ],
             [
              0.1111111111111111,
              "#46039f"
             ],
             [
              0.2222222222222222,
              "#7201a8"
             ],
             [
              0.3333333333333333,
              "#9c179e"
             ],
             [
              0.4444444444444444,
              "#bd3786"
             ],
             [
              0.5555555555555556,
              "#d8576b"
             ],
             [
              0.6666666666666666,
              "#ed7953"
             ],
             [
              0.7777777777777778,
              "#fb9f3a"
             ],
             [
              0.8888888888888888,
              "#fdca26"
             ],
             [
              1,
              "#f0f921"
             ]
            ],
            "type": "histogram2d"
           }
          ],
          "histogram2dcontour": [
           {
            "colorbar": {
             "outlinewidth": 0,
             "ticks": ""
            },
            "colorscale": [
             [
              0,
              "#0d0887"
             ],
             [
              0.1111111111111111,
              "#46039f"
             ],
             [
              0.2222222222222222,
              "#7201a8"
             ],
             [
              0.3333333333333333,
              "#9c179e"
             ],
             [
              0.4444444444444444,
              "#bd3786"
             ],
             [
              0.5555555555555556,
              "#d8576b"
             ],
             [
              0.6666666666666666,
              "#ed7953"
             ],
             [
              0.7777777777777778,
              "#fb9f3a"
             ],
             [
              0.8888888888888888,
              "#fdca26"
             ],
             [
              1,
              "#f0f921"
             ]
            ],
            "type": "histogram2dcontour"
           }
          ],
          "mesh3d": [
           {
            "colorbar": {
             "outlinewidth": 0,
             "ticks": ""
            },
            "type": "mesh3d"
           }
          ],
          "parcoords": [
           {
            "line": {
             "colorbar": {
              "outlinewidth": 0,
              "ticks": ""
             }
            },
            "type": "parcoords"
           }
          ],
          "pie": [
           {
            "automargin": true,
            "type": "pie"
           }
          ],
          "scatter": [
           {
            "fillpattern": {
             "fillmode": "overlay",
             "size": 10,
             "solidity": 0.2
            },
            "type": "scatter"
           }
          ],
          "scatter3d": [
           {
            "line": {
             "colorbar": {
              "outlinewidth": 0,
              "ticks": ""
             }
            },
            "marker": {
             "colorbar": {
              "outlinewidth": 0,
              "ticks": ""
             }
            },
            "type": "scatter3d"
           }
          ],
          "scattercarpet": [
           {
            "marker": {
             "colorbar": {
              "outlinewidth": 0,
              "ticks": ""
             }
            },
            "type": "scattercarpet"
           }
          ],
          "scattergeo": [
           {
            "marker": {
             "colorbar": {
              "outlinewidth": 0,
              "ticks": ""
             }
            },
            "type": "scattergeo"
           }
          ],
          "scattergl": [
           {
            "marker": {
             "colorbar": {
              "outlinewidth": 0,
              "ticks": ""
             }
            },
            "type": "scattergl"
           }
          ],
          "scattermap": [
           {
            "marker": {
             "colorbar": {
              "outlinewidth": 0,
              "ticks": ""
             }
            },
            "type": "scattermap"
           }
          ],
          "scattermapbox": [
           {
            "marker": {
             "colorbar": {
              "outlinewidth": 0,
              "ticks": ""
             }
            },
            "type": "scattermapbox"
           }
          ],
          "scatterpolar": [
           {
            "marker": {
             "colorbar": {
              "outlinewidth": 0,
              "ticks": ""
             }
            },
            "type": "scatterpolar"
           }
          ],
          "scatterpolargl": [
           {
            "marker": {
             "colorbar": {
              "outlinewidth": 0,
              "ticks": ""
             }
            },
            "type": "scatterpolargl"
           }
          ],
          "scatterternary": [
           {
            "marker": {
             "colorbar": {
              "outlinewidth": 0,
              "ticks": ""
             }
            },
            "type": "scatterternary"
           }
          ],
          "surface": [
           {
            "colorbar": {
             "outlinewidth": 0,
             "ticks": ""
            },
            "colorscale": [
             [
              0,
              "#0d0887"
             ],
             [
              0.1111111111111111,
              "#46039f"
             ],
             [
              0.2222222222222222,
              "#7201a8"
             ],
             [
              0.3333333333333333,
              "#9c179e"
             ],
             [
              0.4444444444444444,
              "#bd3786"
             ],
             [
              0.5555555555555556,
              "#d8576b"
             ],
             [
              0.6666666666666666,
              "#ed7953"
             ],
             [
              0.7777777777777778,
              "#fb9f3a"
             ],
             [
              0.8888888888888888,
              "#fdca26"
             ],
             [
              1,
              "#f0f921"
             ]
            ],
            "type": "surface"
           }
          ],
          "table": [
           {
            "cells": {
             "fill": {
              "color": "#EBF0F8"
             },
             "line": {
              "color": "white"
             }
            },
            "header": {
             "fill": {
              "color": "#C8D4E3"
             },
             "line": {
              "color": "white"
             }
            },
            "type": "table"
           }
          ]
         },
         "layout": {
          "annotationdefaults": {
           "arrowcolor": "#2a3f5f",
           "arrowhead": 0,
           "arrowwidth": 1
          },
          "autotypenumbers": "strict",
          "coloraxis": {
           "colorbar": {
            "outlinewidth": 0,
            "ticks": ""
           }
          },
          "colorscale": {
           "diverging": [
            [
             0,
             "#8e0152"
            ],
            [
             0.1,
             "#c51b7d"
            ],
            [
             0.2,
             "#de77ae"
            ],
            [
             0.3,
             "#f1b6da"
            ],
            [
             0.4,
             "#fde0ef"
            ],
            [
             0.5,
             "#f7f7f7"
            ],
            [
             0.6,
             "#e6f5d0"
            ],
            [
             0.7,
             "#b8e186"
            ],
            [
             0.8,
             "#7fbc41"
            ],
            [
             0.9,
             "#4d9221"
            ],
            [
             1,
             "#276419"
            ]
           ],
           "sequential": [
            [
             0,
             "#0d0887"
            ],
            [
             0.1111111111111111,
             "#46039f"
            ],
            [
             0.2222222222222222,
             "#7201a8"
            ],
            [
             0.3333333333333333,
             "#9c179e"
            ],
            [
             0.4444444444444444,
             "#bd3786"
            ],
            [
             0.5555555555555556,
             "#d8576b"
            ],
            [
             0.6666666666666666,
             "#ed7953"
            ],
            [
             0.7777777777777778,
             "#fb9f3a"
            ],
            [
             0.8888888888888888,
             "#fdca26"
            ],
            [
             1,
             "#f0f921"
            ]
           ],
           "sequentialminus": [
            [
             0,
             "#0d0887"
            ],
            [
             0.1111111111111111,
             "#46039f"
            ],
            [
             0.2222222222222222,
             "#7201a8"
            ],
            [
             0.3333333333333333,
             "#9c179e"
            ],
            [
             0.4444444444444444,
             "#bd3786"
            ],
            [
             0.5555555555555556,
             "#d8576b"
            ],
            [
             0.6666666666666666,
             "#ed7953"
            ],
            [
             0.7777777777777778,
             "#fb9f3a"
            ],
            [
             0.8888888888888888,
             "#fdca26"
            ],
            [
             1,
             "#f0f921"
            ]
           ]
          },
          "colorway": [
           "#636efa",
           "#EF553B",
           "#00cc96",
           "#ab63fa",
           "#FFA15A",
           "#19d3f3",
           "#FF6692",
           "#B6E880",
           "#FF97FF",
           "#FECB52"
          ],
          "font": {
           "color": "#2a3f5f"
          },
          "geo": {
           "bgcolor": "white",
           "lakecolor": "white",
           "landcolor": "#E5ECF6",
           "showlakes": true,
           "showland": true,
           "subunitcolor": "white"
          },
          "hoverlabel": {
           "align": "left"
          },
          "hovermode": "closest",
          "mapbox": {
           "style": "light"
          },
          "paper_bgcolor": "white",
          "plot_bgcolor": "#E5ECF6",
          "polar": {
           "angularaxis": {
            "gridcolor": "white",
            "linecolor": "white",
            "ticks": ""
           },
           "bgcolor": "#E5ECF6",
           "radialaxis": {
            "gridcolor": "white",
            "linecolor": "white",
            "ticks": ""
           }
          },
          "scene": {
           "xaxis": {
            "backgroundcolor": "#E5ECF6",
            "gridcolor": "white",
            "gridwidth": 2,
            "linecolor": "white",
            "showbackground": true,
            "ticks": "",
            "zerolinecolor": "white"
           },
           "yaxis": {
            "backgroundcolor": "#E5ECF6",
            "gridcolor": "white",
            "gridwidth": 2,
            "linecolor": "white",
            "showbackground": true,
            "ticks": "",
            "zerolinecolor": "white"
           },
           "zaxis": {
            "backgroundcolor": "#E5ECF6",
            "gridcolor": "white",
            "gridwidth": 2,
            "linecolor": "white",
            "showbackground": true,
            "ticks": "",
            "zerolinecolor": "white"
           }
          },
          "shapedefaults": {
           "line": {
            "color": "#2a3f5f"
           }
          },
          "ternary": {
           "aaxis": {
            "gridcolor": "white",
            "linecolor": "white",
            "ticks": ""
           },
           "baxis": {
            "gridcolor": "white",
            "linecolor": "white",
            "ticks": ""
           },
           "bgcolor": "#E5ECF6",
           "caxis": {
            "gridcolor": "white",
            "linecolor": "white",
            "ticks": ""
           }
          },
          "title": {
           "x": 0.05
          },
          "xaxis": {
           "automargin": true,
           "gridcolor": "white",
           "linecolor": "white",
           "ticks": "",
           "title": {
            "standoff": 15
           },
           "zerolinecolor": "white",
           "zerolinewidth": 2
          },
          "yaxis": {
           "automargin": true,
           "gridcolor": "white",
           "linecolor": "white",
           "ticks": "",
           "title": {
            "standoff": 15
           },
           "zerolinecolor": "white",
           "zerolinewidth": 2
          }
         }
        },
        "title": {
         "text": "Interaktive Spearman-ρ Karte: BIP vs. Militär"
        }
       }
      }
     },
     "metadata": {},
     "output_type": "display_data"
    }
   ],
   "source": [
    "df_corr_gdp =create_world_map('results/gdp_correlations.csv', 'BIP')"
   ]
  },
  {
   "cell_type": "markdown",
   "id": "58feaf48",
   "metadata": {},
   "source": [
    "#### Auch beim BIP gibt es einige Länder die rausfallen wegen unzureichender Daten. Trotzdem lässte sich auf der Weltkarte erkennen, dass es auch zwischen BIP und Militärausgaben einen hohen Zusammenhang gibt."
   ]
  },
  {
   "cell_type": "code",
   "execution_count": 61,
   "id": "c56cb95c",
   "metadata": {},
   "outputs": [
    {
     "name": "stdout",
     "output_type": "stream",
     "text": [
      "Estland Signifikanz und Korrelation\n",
      "p:  0.0\n",
      "ρ (rho):  0.996\n",
      "Indien Signifikanz und Korrelation\n",
      "p:  0.0\n",
      "ρ (rho):  0.995\n",
      "Brasilien Signifikanz und Korrelation\n",
      "p:  0.0\n",
      "ρ (rho):  0.991\n"
     ]
    }
   ],
   "source": [
    "estonia = df_corr_gdp.loc[df_corr_gdp[\"Country Name\"] == \"Estonia\"]\n",
    "print(\"Estland Signifikanz und Korrelation\")\n",
    "print(\"p: \", estonia['p-Spearman'].iloc[0])\n",
    "print(\"ρ (rho): \", estonia['Spearman ρ'].iloc[0])\n",
    "\n",
    "india = df_corr_gdp.loc[df_corr_gdp[\"Country Name\"] == \"India\"]\n",
    "print(\"Indien Signifikanz und Korrelation\")\n",
    "print(\"p: \", india['p-Spearman'].iloc[0])\n",
    "print(\"ρ (rho): \", india['Spearman ρ'].iloc[0])\n",
    "\n",
    "brazil = df_corr_gdp.loc[df_corr_gdp[\"Country Name\"] == \"Brazil\"]\n",
    "print(\"Brasilien Signifikanz und Korrelation\")\n",
    "print(\"p: \", brazil['p-Spearman'].iloc[0])\n",
    "print(\"ρ (rho): \", brazil['Spearman ρ'].iloc[0])\n"
   ]
  },
  {
   "cell_type": "markdown",
   "id": "e8fc570f",
   "metadata": {},
   "source": [
    "#### Beispiele mit hoher Signifikanz sind hier Estland, Indien und Brasilien, diese Länder weisen alle einen hohen Zusammenhang zwischen dem ihrem BIP und Militärausgaben auf."
   ]
  },
  {
   "cell_type": "code",
   "execution_count": 62,
   "id": "81d5ffdc",
   "metadata": {},
   "outputs": [
    {
     "name": "stdout",
     "output_type": "stream",
     "text": [
      "Panama Signifikanz und Korrelation\n",
      "p:  0.144\n",
      "ρ (rho):  0.429\n",
      "Bosnien Signifikanz und Korrelation\n",
      "p:  0.366\n",
      "ρ (rho):  -0.203\n",
      "Turkmenistan Signifikanz und Korrelation\n",
      "p:  0.787\n",
      "ρ (rho):  0.143\n"
     ]
    }
   ],
   "source": [
    "panama = df_corr_gdp.loc[df_corr_gdp[\"Country Name\"] == \"Panama\"]\n",
    "print(\"Panama Signifikanz und Korrelation\")\n",
    "print(\"p: \", panama['p-Spearman'].iloc[0])\n",
    "print(\"ρ (rho): \", panama['Spearman ρ'].iloc[0])\n",
    "\n",
    "bosnia = df_corr_gdp.loc[df_corr_gdp[\"Country Name\"] == \"Bosnia and Herzegovina\"]\n",
    "print(\"Bosnien Signifikanz und Korrelation\")\n",
    "print(\"p: \", bosnia['p-Spearman'].iloc[0])\n",
    "print(\"ρ (rho): \", bosnia['Spearman ρ'].iloc[0])\n",
    "\n",
    "turkmenistan = df_corr_gdp.loc[df_corr_gdp[\"Country Name\"] == \"Turkmenistan\"]\n",
    "print(\"Turkmenistan Signifikanz und Korrelation\")\n",
    "print(\"p: \", turkmenistan['p-Spearman'].iloc[0])\n",
    "print(\"ρ (rho): \", turkmenistan['Spearman ρ'].iloc[0])"
   ]
  },
  {
   "cell_type": "markdown",
   "id": "d173b19b",
   "metadata": {},
   "source": [
    "#### Es gibt einige wenige Beispiele mit keiner vorzuweisender Siginfikanz, darunter Panama, Bosnien und wieder Turkmenistan. Panama hat eine nicht allzu hohe Korrelation mit 0.429, bei Bosnien ist nur eine geringe negative Korrelation von -0.2 festzustellen. Und bei Turkmenistan sind es nur 0.143."
   ]
  },
  {
   "cell_type": "code",
   "execution_count": 63,
   "id": "9c4da121",
   "metadata": {},
   "outputs": [
    {
     "name": "stdout",
     "output_type": "stream",
     "text": [
      "0.015490909090909092\n",
      "0.855812121212121\n"
     ]
    }
   ],
   "source": [
    "print(df_corr_gdp['p-Spearman'].mean())\n",
    "print(df_corr_gdp['Spearman ρ'].mean())"
   ]
  },
  {
   "cell_type": "markdown",
   "id": "ccebc95e",
   "metadata": {},
   "source": [
    "#### Dennoch erkennt man an der durchschnitlichen Signifikanz der Länder, die deutlich sogar unter 2% liegt, kann man sehen, dass die Hypothese \"H3: Korreliert das Militärbudget eines Landes mit dem Bruttoinlandsprodukt des Landes?\" für die meisten Länder des Datensatzes signifikant ist. Und durch die durchschnittliche Korrelation von über 0.85 gibt es sogar einen noch stärkeren Zusammenhang wie beim Export zwischen dem BIP und dem Militär eines Landes."
   ]
  }
 ],
 "metadata": {
  "kernelspec": {
   "display_name": "venv",
   "language": "python",
   "name": "python3"
  },
  "language_info": {
   "codemirror_mode": {
    "name": "ipython",
    "version": 3
   },
   "file_extension": ".py",
   "mimetype": "text/x-python",
   "name": "python",
   "nbconvert_exporter": "python",
   "pygments_lexer": "ipython3",
   "version": "3.13.2"
  }
 },
 "nbformat": 4,
 "nbformat_minor": 5
}
